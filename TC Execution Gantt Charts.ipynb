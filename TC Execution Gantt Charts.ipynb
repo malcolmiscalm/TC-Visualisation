{
 "cells": [
  {
   "cell_type": "markdown",
   "id": "3bcb79c7-74ba-4384-af4d-9bf375b9dfbb",
   "metadata": {},
   "source": [
    "## Introduction"
   ]
  },
  {
   "cell_type": "markdown",
   "id": "59d80b95-0e81-4740-9ee5-2227085849d2",
   "metadata": {},
   "source": [
    "Importing helper functions"
   ]
  },
  {
   "cell_type": "code",
   "execution_count": 1,
   "id": "0cb80b8c-ed24-4e6f-86f8-30a86ebb7860",
   "metadata": {},
   "outputs": [],
   "source": [
    "import numpy as np\n",
    "import pandas as pd\n",
    "import matplotlib.pyplot as plt\n",
    "pd.set_option('display.max_colwidth', None)\n",
    "pd.set_option('display.max_rows', 200)\n",
    "pd.set_option('display.max_columns', None)\n",
    "\n",
    "\n",
    "import re\n",
    "import sys\n",
    "import os\n",
    "import datetime as dt\n",
    "import time\n",
    "\n",
    "# Get the current working directory\n",
    "current_directory = os.getcwd()\n",
    "\n",
    "# Specify the relative path to helper functions folder\n",
    "relative_path_to_helper_folder = r\"C:\\Users\\10041594B\\Documents\\Python_Scripts\"\n",
    "\n",
    "# Path to data\n",
    "helper_functions_folder = os.path.normpath(os.path.join(current_directory, relative_path_to_helper_folder))\n",
    "\n",
    "# Append it to sys.path so Python knows where to import from\n",
    "sys.path.append(helper_functions_folder)"
   ]
  },
  {
   "cell_type": "markdown",
   "id": "9b71ece6-44f5-40a2-a323-4ecdbd5480a9",
   "metadata": {},
   "source": [
    "[Read emails from outlook](https://stackoverflow.com/questions/5077625/reading-e-mails-from-outlook-with-python-through-mapi)"
   ]
  },
  {
   "cell_type": "code",
   "execution_count": 2,
   "id": "867e974b-d4c9-4e8d-bbd2-a5825ca460d1",
   "metadata": {},
   "outputs": [],
   "source": [
    "import win32com.client\n",
    "outlook = win32com.client.Dispatch('Outlook.Application')"
   ]
  },
  {
   "cell_type": "code",
   "execution_count": 3,
   "id": "5b3afac1-1a2e-43c6-ab73-d6525eedb089",
   "metadata": {},
   "outputs": [
    {
     "name": "stdout",
     "output_type": "stream",
     "text": [
      "malcolm.ron-pereira@ambankgroup.com\n",
      "malcolm.ron-pereira@ambankgroup.com\n"
     ]
    }
   ],
   "source": [
    "mapi = outlook.GetNamespace(\"MAPI\")\n",
    "for account in mapi.Accounts:\n",
    "    print(account.DeliveryStore.DisplayName)\n",
    "    print(account)"
   ]
  },
  {
   "cell_type": "markdown",
   "id": "f243f2bb-5c08-4a11-9877-f97f180d036a",
   "metadata": {},
   "source": [
    "```python\n",
    "inbox = mapi.GetDefaultFolder(6) # Full inbox\n",
    "messages = inbox.Items\n",
    "len(messages)\n",
    "# Restrict the email I want to analyze - this takes a few seconds\n",
    "# Using list comprehension\n",
    "restrict_messages = [message for message in messages if (re.search(pattern=r'.*GCIF Final Release.*', string=message.Subject))\n",
    "                     and (message.SenderEmailAddress == r'leong.tongshenq@kewmann.com')] # \n",
    "print(len(restrict_messages))\n",
    "```"
   ]
  },
  {
   "cell_type": "markdown",
   "id": "5e671ef2-1e52-4d44-98d5-14fa6339732f",
   "metadata": {},
   "source": [
    "We use to be able to run the above to retrieve the desired emails from Inbox, however, we can only load so many emails at a time.\n",
    "> Now that our Inbox has grown, we will try to put the desired emails form `leong.tongshenq@kewmann.com` into a new Folder."
   ]
  },
  {
   "cell_type": "markdown",
   "id": "ba071fc4-cbc1-4fde-9c3b-2af1ad93df90",
   "metadata": {},
   "source": [
    "The first step was creating a subfolder of Inbox folder, namely Archive for Automation, and moving the emails to there <br>"
   ]
  },
  {
   "cell_type": "code",
   "execution_count": 4,
   "id": "47fa8623-9a43-4190-bfcb-a42c2ff586ed",
   "metadata": {},
   "outputs": [
    {
     "name": "stdout",
     "output_type": "stream",
     "text": [
      "RE: GCIF Final Release - SIT Execution Status Report (10-May-2024) \n",
      "RE: GCIF Final Release - SIT Execution Status Report (09-May-2024) \n",
      "RE: GCIF Final Release - SIT Execution Status Report (08-May-2024) \n",
      "RE: GCIF Final Release - SIT Execution Status Report (07-May-2024) \n",
      "RE: GCIF Final Release - SIT Execution Status Report (06-May-2024) \n",
      "RE: GCIF Final Release - SIT Execution Status Report (05-May-2024) \n",
      "RE: GCIF Final Release - SIT Execution Status Report (02-May-2024) \n",
      "RE: GCIF Final Release - SIT Execution Status Report (30-Apr-2024) \n",
      "RE: GCIF Final Release - SIT Execution Status Report (26-Apr-2024)\n",
      "RE: GCIF Final Release - SIT Execution Status Report (29-Apr-2024)\n",
      "RE: GCIF Final Release - SIT Execution Status Report (25-Apr-2024)\n",
      "RE: GCIF Final Release - SIT Execution Status Report (24-Apr-2024)\n",
      "RE: GCIF Final Release - SIT Execution Status Report (23-Apr-2024)\n",
      "RE: GCIF Final Release - SIT Execution Status Report (22-Apr-2024)\n",
      "RE: GCIF Final Release - SIT Execution Status Report (19-Apr-2024)\n",
      "RE: GCIF Final Release - SIT Execution Status Report (18-Apr-2024)\n",
      "RE: GCIF Final Release - SIT Execution Status Report (17-Apr-2024)\n",
      "RE: GCIF Final Release - SIT Execution Status Report (15-Apr-2024)\n",
      "RE: GCIF Final Release - SIT Execution Status Report (12-Apr-2024)\n",
      "RE: GCIF Final Release - SIT Execution Status Report (09-Apr-2024)\n",
      "RE: GCIF Final Release - SIT Execution Status Report (06-Apr-2024)\n",
      "RE: GCIF Final Release - SIT Execution Status Report (05-Apr-2024)\n",
      "RE: GCIF Final Release - SIT Execution Status Report (04-Apr-2024)\n",
      "RE: GCIF Final Release - SIT Execution Status Report (03-Apr-2024)\n",
      "GCIF Final Release - SIT Execution Status Report (02-Apr-2024)\n"
     ]
    }
   ],
   "source": [
    "outlook = win32com.client.Dispatch(\"Outlook.Application\")\n",
    "mapi = outlook.GetNamespace(\"MAPI\")\n",
    "\n",
    "# Access the Folder Items\n",
    "messages = mapi.Folders['Archive for Automation'].Folders['Emails'].Items\n",
    "for message in messages:\n",
    "    print(message.Subject)"
   ]
  },
  {
   "cell_type": "code",
   "execution_count": 5,
   "id": "85c0f8ca-3c8d-4713-9e91-5da75d31c3e7",
   "metadata": {},
   "outputs": [
    {
     "data": {
      "text/plain": [
       "win32com.client.CDispatch"
      ]
     },
     "execution_count": 5,
     "metadata": {},
     "output_type": "execute_result"
    }
   ],
   "source": [
    "type(mapi.Folders['Archive for Automation'].Folders['Emails'])"
   ]
  },
  {
   "cell_type": "code",
   "execution_count": 6,
   "id": "2266b7af-4f4b-433b-a5af-4c76678e07fe",
   "metadata": {
    "scrolled": true
   },
   "outputs": [
    {
     "data": {
      "text/plain": [
       "25"
      ]
     },
     "execution_count": 6,
     "metadata": {},
     "output_type": "execute_result"
    }
   ],
   "source": [
    "len(messages)"
   ]
  },
  {
   "cell_type": "code",
   "execution_count": 7,
   "id": "c994c80b-664c-4877-bf61-9a49a4823ade",
   "metadata": {},
   "outputs": [
    {
     "name": "stdout",
     "output_type": "stream",
     "text": [
      "25\n"
     ]
    }
   ],
   "source": [
    "# Restrict/Filter the email I want to analyze using the same list comprehension logic, for demonstration purposes, no change\n",
    "# Using list comprehension\n",
    "restrict_messages = [message for message in messages if (re.search(pattern=r'.*GCIF Final Release.*', string=message.Subject))\n",
    "                     and (message.SenderEmailAddress == r'leong.tongshenq@kewmann.com')] # \n",
    "print(len(restrict_messages))"
   ]
  },
  {
   "cell_type": "markdown",
   "id": "e0e4334e-0a9c-4032-844f-3502ee622a28",
   "metadata": {},
   "source": [
    "Unable to utilise the .Restrict() method due to lack of 'filtering power'. Using list comprehension instead.\n",
    "\n",
    "```python\n",
    "chain_restrict_messages = messages.Restrict(\"[SenderEmailAddress] = 'leong.tongshenq@kewmann.com'\")\n",
    "chain_restrict_messages = messages.Restrict(\"[Subject] = 'GCIF Final Release'\")\n",
    "print(len(chain_restrict_messages))\n",
    "```"
   ]
  },
  {
   "cell_type": "code",
   "execution_count": 8,
   "id": "65eaf999-eef0-4d32-9bfa-59b2cdf11c83",
   "metadata": {
    "scrolled": true
   },
   "outputs": [
    {
     "data": {
      "text/plain": [
       "[('RE: GCIF Final Release - SIT Execution Status Report (10-May-2024) ',\n",
       "  '10-May-2024'),\n",
       " ('RE: GCIF Final Release - SIT Execution Status Report (09-May-2024) ',\n",
       "  '09-May-2024'),\n",
       " ('RE: GCIF Final Release - SIT Execution Status Report (08-May-2024) ',\n",
       "  '08-May-2024'),\n",
       " ('RE: GCIF Final Release - SIT Execution Status Report (07-May-2024) ',\n",
       "  '07-May-2024'),\n",
       " ('RE: GCIF Final Release - SIT Execution Status Report (06-May-2024) ',\n",
       "  '06-May-2024'),\n",
       " ('RE: GCIF Final Release - SIT Execution Status Report (05-May-2024) ',\n",
       "  '05-May-2024'),\n",
       " ('RE: GCIF Final Release - SIT Execution Status Report (02-May-2024) ',\n",
       "  '02-May-2024'),\n",
       " ('RE: GCIF Final Release - SIT Execution Status Report (30-Apr-2024) ',\n",
       "  '30-Apr-2024'),\n",
       " ('RE: GCIF Final Release - SIT Execution Status Report (26-Apr-2024)',\n",
       "  '26-Apr-2024'),\n",
       " ('RE: GCIF Final Release - SIT Execution Status Report (29-Apr-2024)',\n",
       "  '29-Apr-2024'),\n",
       " ('RE: GCIF Final Release - SIT Execution Status Report (25-Apr-2024)',\n",
       "  '25-Apr-2024'),\n",
       " ('RE: GCIF Final Release - SIT Execution Status Report (24-Apr-2024)',\n",
       "  '24-Apr-2024'),\n",
       " ('RE: GCIF Final Release - SIT Execution Status Report (23-Apr-2024)',\n",
       "  '23-Apr-2024'),\n",
       " ('RE: GCIF Final Release - SIT Execution Status Report (22-Apr-2024)',\n",
       "  '22-Apr-2024'),\n",
       " ('RE: GCIF Final Release - SIT Execution Status Report (19-Apr-2024)',\n",
       "  '19-Apr-2024'),\n",
       " ('RE: GCIF Final Release - SIT Execution Status Report (18-Apr-2024)',\n",
       "  '18-Apr-2024'),\n",
       " ('RE: GCIF Final Release - SIT Execution Status Report (17-Apr-2024)',\n",
       "  '17-Apr-2024'),\n",
       " ('RE: GCIF Final Release - SIT Execution Status Report (15-Apr-2024)',\n",
       "  '15-Apr-2024'),\n",
       " ('RE: GCIF Final Release - SIT Execution Status Report (12-Apr-2024)',\n",
       "  '12-Apr-2024'),\n",
       " ('RE: GCIF Final Release - SIT Execution Status Report (09-Apr-2024)',\n",
       "  '09-Apr-2024'),\n",
       " ('RE: GCIF Final Release - SIT Execution Status Report (06-Apr-2024)',\n",
       "  '06-Apr-2024'),\n",
       " ('RE: GCIF Final Release - SIT Execution Status Report (05-Apr-2024)',\n",
       "  '05-Apr-2024'),\n",
       " ('RE: GCIF Final Release - SIT Execution Status Report (04-Apr-2024)',\n",
       "  '04-Apr-2024'),\n",
       " ('RE: GCIF Final Release - SIT Execution Status Report (03-Apr-2024)',\n",
       "  '03-Apr-2024'),\n",
       " ('GCIF Final Release - SIT Execution Status Report (02-Apr-2024)',\n",
       "  '02-Apr-2024')]"
      ]
     },
     "execution_count": 8,
     "metadata": {},
     "output_type": "execute_result"
    }
   ],
   "source": [
    "extract_date_from_subject = [(message.Subject,\\\n",
    "                             re.search(pattern=r'\\((.*)\\)\\s*$', string=message.Subject).group(1)\n",
    "                             )\\\n",
    "                             for message in restrict_messages]\n",
    "extract_date_from_subject"
   ]
  },
  {
   "cell_type": "markdown",
   "id": "f9042ec4-b784-434a-af88-109a288fcfda",
   "metadata": {},
   "source": [
    "Let's check if there are any duplicates, again for the sake of argument."
   ]
  },
  {
   "cell_type": "code",
   "execution_count": 9,
   "id": "58876937-cd19-4992-be08-32e29808461b",
   "metadata": {},
   "outputs": [
    {
     "data": {
      "text/plain": [
       "[]"
      ]
     },
     "execution_count": 9,
     "metadata": {},
     "output_type": "execute_result"
    }
   ],
   "source": [
    "titles = []\n",
    "for title, date in extract_date_from_subject:\n",
    "    titles.append(title)\n",
    "from collections import Counter\n",
    "duplicates = [item for item, count in Counter(titles).items() if count > 1]\n",
    "duplicates"
   ]
  },
  {
   "cell_type": "markdown",
   "id": "77d2906a-9c3e-4eb0-9336-c4ab2097aab8",
   "metadata": {},
   "source": [
    "Old note\n",
    ">These duplicates are due to tongshenq replying to some query, so while these emails do technically have the tables we need, they are redundant and will be dealt with accordingly.\n",
    "\n",
    "New Note\n",
    "> We have filtered the emails manually in Outlook, so there should be no replies/forwards to the daily reports by TongShenq."
   ]
  },
  {
   "cell_type": "code",
   "execution_count": 10,
   "id": "d5b58eb0-2ba0-46e9-8f6d-161abf45baca",
   "metadata": {},
   "outputs": [
    {
     "name": "stdout",
     "output_type": "stream",
     "text": [
      " <class 'pywintypes.datetime'>\n",
      "2024-04-05 01:54:13.875000+00:00 is of type <class 'pandas._libs.tslibs.timestamps.Timestamp'>\n"
     ]
    },
    {
     "data": {
      "text/plain": [
       "datetime.datetime(2024, 4, 5, 1, 54, 13, 875000, tzinfo=tzutc())"
      ]
     },
     "execution_count": 10,
     "metadata": {},
     "output_type": "execute_result"
    }
   ],
   "source": [
    "## Example of converting a pywintypes.datetime to a string or normal datatime\n",
    "import random\n",
    "# Select a random message from the list\n",
    "message = random.choice(restrict_messages)\n",
    "print(f\" {type(message.ReceivedTime)}\")\n",
    "# This function can take a str, or datetime-like-type, if so 'unit' parameter can take a vestigial value\n",
    "timestamp = pd.Timestamp(message.ReceivedTime, unit = 'Anything can be written here') \n",
    "print(f\"{timestamp} is of type {type(timestamp)}\")\n",
    "# Alternatively \n",
    "import dateutil.parser\n",
    "# dateutil works like strptime - parse string to time\n",
    "dateutil.parser.parse(str(timestamp))"
   ]
  },
  {
   "cell_type": "code",
   "execution_count": 11,
   "id": "4a35b441-664e-4a7c-a52a-f95aa8518196",
   "metadata": {
    "scrolled": true
   },
   "outputs": [
    {
     "name": "stdout",
     "output_type": "stream",
     "text": [
      "RE: GCIF Final Release - SIT Execution Status Report (03-Apr-2024)||2024-04-04 09:26:52.765000+00:00||leong.tongshenq@kewmann.com||CAUTION: This email originated from outside of AmBank. Do not click links or open attachments unless you recognize the sender and know the content is safe.\n",
      "\n",
      "\n",
      "Dear All, \n",
      "\n",
      "Below is the status update as of 03-April-2024: \n",
      "\n",
      "Track\n",
      "\n",
      "Start Date\n",
      "\n",
      "End Date\n",
      "\n",
      "Plan Completion (%)\n",
      "\n",
      "Actual Completion (%)\n",
      "\n",
      "Passed Rate\n",
      "\n",
      "Failed Rate\n",
      "\n",
      "Remark\n",
      "\n",
      "DataLake\n",
      "\n",
      "01-Apr-2024\n",
      "\n",
      "19-Apr-2024\n",
      "\n",
      "35.48%\n",
      "\n",
      "35.48%\n",
      "\n",
      "100%\n",
      "\n",
      "0%\n",
      "\n",
      "Started\n",
      "\n",
      "DataQuality\n",
      "\n",
      "03-Apr-2024\n",
      "\n",
      "19-Apr-2024\n",
      "\n",
      "13.70%\n",
      "\n",
      "13.70%\n",
      "\n",
      "100%\n",
      "\n",
      "0%\n",
      "\n",
      "Started\n",
      "\n",
      "DataSecurity\n",
      "\n",
      "05-Apr-2024\n",
      "\n",
      "30-Apr-2024\n",
      "\n",
      "-\n",
      "\n",
      "-\n",
      "\n",
      "-\n",
      "\n",
      "-\n",
      "\n",
      "MetadataManagement\n",
      "\n",
      "05-Apr-2024\n",
      "\n",
      "30-Apr-2024\n",
      "\n",
      "-\n",
      "\n",
      "-\n",
      "\n",
      "-\n",
      "\n",
      "-\n",
      "\n",
      "GCIF + CDL\n",
      "\n",
      "08-Apr-2024\n",
      "\n",
      "03-May-2024\n",
      "\n",
      "-\n",
      "\n",
      "-\n",
      "\n",
      "-\n",
      "\n",
      "-\n",
      "\n",
      "GCIF Dashboard \n",
      "\n",
      "15-Apr-2024\n",
      "\n",
      "10-May-2024\n",
      "\n",
      "-\n",
      "\n",
      "-\n",
      "\n",
      "-\n",
      "\n",
      "-\n",
      "\n",
      "\n",
      "\n",
      "Apr-2024\n",
      "\n",
      "May-2024\n",
      "\n",
      "Track\n",
      "\n",
      "1\n",
      "\n",
      "2\n",
      "\n",
      "3\n",
      "\n",
      "4\n",
      "\n",
      "5\n",
      "\n",
      "6\n",
      "\n",
      "7\n",
      "\n",
      "8\n",
      "\n",
      "9\n",
      "\n",
      "10\n",
      "\n",
      "11\n",
      "\n",
      "12\n",
      "\n",
      "13\n",
      "\n",
      "14\n",
      "\n",
      "15\n",
      "\n",
      "16\n",
      "\n",
      "17\n",
      "\n",
      "18\n",
      "\n",
      "19\n",
      "\n",
      "20\n",
      "\n",
      "21\n",
      "\n",
      "22\n",
      "\n",
      "23\n",
      "\n",
      "24\n",
      "\n",
      "25\n",
      "\n",
      "26\n",
      "\n",
      "27\n",
      "\n",
      "28\n",
      "\n",
      "29\n",
      "\n",
      "30\n",
      "\n",
      "1\n",
      "\n",
      "2\n",
      "\n",
      "3\n",
      "\n",
      "4\n",
      "\n",
      "5\n",
      "\n",
      "6\n",
      "\n",
      "7\n",
      "\n",
      "8\n",
      "\n",
      "9\n",
      "\n",
      "10\n",
      "\n",
      "DL\n",
      "\n",
      "15\n",
      "\n",
      "20\n",
      "\n",
      "20\n",
      "\n",
      "20\n",
      "\n",
      "20\n",
      "\n",
      "20\n",
      "\n",
      "5\n",
      "\n",
      "5\n",
      "\n",
      "15\n",
      "\n",
      "15\n",
      "\n",
      "DQ\n",
      "\n",
      "10\n",
      "\n",
      "15\n",
      "\n",
      "15\n",
      "\n",
      "15\n",
      "\n",
      "5\n",
      "\n",
      "5\n",
      "\n",
      "5\n",
      "\n",
      "3\n",
      "\n",
      "DS\n",
      "\n",
      "MM\n",
      "\n",
      "GCIF + CDL\n",
      "\n",
      "Dashboard\n",
      "\n",
      "Tracks\n",
      "\n",
      "Total TC\n",
      "\n",
      "Total Executed\n",
      "\n",
      "Balance / Catch Up\n",
      "\n",
      "Total Executed - Passed\n",
      "\n",
      "Total Executed - Failed\n",
      "\n",
      "Total Defects\n",
      "\n",
      "Blocked by Defect\n",
      "\n",
      "Backlog (catchup)\n",
      "\n",
      "Yet to execute\n",
      "\n",
      "NA\n",
      "\n",
      "DL\n",
      "\n",
      "155\n",
      "\n",
      "55\n",
      "\n",
      "100\n",
      "\n",
      "55\n",
      "\n",
      "0\n",
      "\n",
      "0\n",
      "\n",
      "0\n",
      "\n",
      "0\n",
      "\n",
      "100\n",
      "\n",
      "0\n",
      "\n",
      "DQ\n",
      "\n",
      "73\n",
      "\n",
      "10\n",
      "\n",
      "63\n",
      "\n",
      "10\n",
      "\n",
      "0\n",
      "\n",
      "0\n",
      "\n",
      "0\n",
      "\n",
      "0\n",
      "\n",
      "63\n",
      "\n",
      "0\n",
      "\n",
      "DS\n",
      "\n",
      "72\n",
      "\n",
      "-\n",
      "\n",
      "-\n",
      "\n",
      "-\n",
      "\n",
      "-\n",
      "\n",
      "-\n",
      "\n",
      "-\n",
      "\n",
      "-\n",
      "\n",
      "-\n",
      "\n",
      "-\n",
      "\n",
      "MM \n",
      "\n",
      "18\n",
      "\n",
      "-\n",
      "\n",
      "-\n",
      "\n",
      "-\n",
      "\n",
      "-\n",
      "\n",
      "-\n",
      "\n",
      "-\n",
      "\n",
      "-\n",
      "\n",
      "-\n",
      "\n",
      "-\n",
      "\n",
      "GCIF\n",
      "\n",
      "-\n",
      "\n",
      "-\n",
      "\n",
      "-\n",
      "\n",
      "-\n",
      "\n",
      "-\n",
      "\n",
      "-\n",
      "\n",
      "-\n",
      "\n",
      "-\n",
      "\n",
      "-\n",
      "\n",
      "-\n",
      "\n",
      "GCIF Dashboard + CDL\n",
      "\n",
      "-\n",
      "\n",
      "-\n",
      "\n",
      "-\n",
      "\n",
      "-\n",
      "\n",
      "-\n",
      "\n",
      "-\n",
      "\n",
      "-\n",
      "\n",
      "-\n",
      "\n",
      "-\n",
      "\n",
      "-\n",
      "\n",
      "Total\n",
      "\n",
      "0\n",
      "\n",
      "0\n",
      "\n",
      "0\n",
      "\n",
      "0\n",
      "\n",
      "0\n",
      "\n",
      "0\n",
      "\n",
      "0\n",
      "\n",
      "0\n",
      "\n",
      "0\n",
      "\n",
      "0\n",
      "\n",
      "Issue to Highlight:\n",
      "\n",
      "No\n",
      "\n",
      "Issue \n",
      "\n",
      "Impact\n",
      "\n",
      "Severity\n",
      "\n",
      "1\n",
      "\n",
      "CV ID having issue to upload test case into ALM. \n",
      "\n",
      "*\tSeeking help from AmBank side to check the tester ID access right. \n",
      "\n",
      "3-Apr: AmBank will assign a person to help grant necessary access to CV ID. \n",
      "\n",
      "It may cause delay for AmBank to review the test result. \n",
      "\n",
      "Medium \n",
      "\n",
      "Accumulated\n",
      "\n",
      "Daily Execution\n",
      "\n",
      "Track\n",
      "\n",
      "Total TC\n",
      "\n",
      "Total Plan Execution\n",
      "\n",
      "Total Passed\n",
      "\n",
      "Total Failed\n",
      "\n",
      "Total Not Executed\n",
      "\n",
      "Plan Execution\n",
      "\n",
      "Executed\n",
      "\n",
      "Passed\n",
      "\n",
      "Failed\n",
      "\n",
      "DL\n",
      "\n",
      "155\n",
      "\n",
      "35\n",
      "\n",
      "35\n",
      "\n",
      "0\n",
      "\n",
      "120\n",
      "\n",
      "20\n",
      "\n",
      "20\n",
      "\n",
      "20\n",
      "\n",
      "0\n",
      "\n",
      "DQ\n",
      "\n",
      "73\n",
      "\n",
      "10\n",
      "\n",
      "10\n",
      "\n",
      "0\n",
      "\n",
      "63\n",
      "\n",
      "10\n",
      "\n",
      "10\n",
      "\n",
      "10\n",
      "\n",
      "0\n",
      "\n",
      "DS\n",
      "\n",
      "72\n",
      "\n",
      "-\n",
      "\n",
      "-\n",
      "\n",
      "-\n",
      "\n",
      "-\n",
      "\n",
      "-\n",
      "\n",
      "-\n",
      "\n",
      "-\n",
      "\n",
      "-\n",
      "\n",
      "MM\n",
      "\n",
      "18\n",
      "\n",
      "-\n",
      "\n",
      "-\n",
      "\n",
      "-\n",
      "\n",
      "-\n",
      "\n",
      "-\n",
      "\n",
      "-\n",
      "\n",
      "-\n",
      "\n",
      "-\n",
      "\n",
      "GCIF + CDL\n",
      "\n",
      "-\n",
      "\n",
      "-\n",
      "\n",
      "-\n",
      "\n",
      "-\n",
      "\n",
      "-\n",
      "\n",
      "-\n",
      "\n",
      "-\n",
      "\n",
      "-\n",
      "\n",
      "-\n",
      "\n",
      "GCIF Dashboard \n",
      "\n",
      "-\n",
      "\n",
      "-\n",
      "\n",
      "-\n",
      "\n",
      "-\n",
      "\n",
      "-\n",
      "\n",
      "-\n",
      "\n",
      "-\n",
      "\n",
      "-\n",
      "\n",
      "-\n",
      "\n",
      "Passed TC: \n",
      "\n",
      "DL \n",
      "\n",
      "1.\tDL036\n",
      "2.\tDL037\n",
      "3.\tDL038\n",
      "4.\tDL039\n",
      "5.\tDL040\n",
      "6.\tDL041\n",
      "7.\tDL042\n",
      "8.\tDL043\n",
      "9.\tDL044\n",
      "10.\tDL045\n",
      "\n",
      "11.\tDL046\n",
      "12.\tDL047\n",
      "13.\tDL048\n",
      "14.\tDL049\n",
      "15.\tDL050\n",
      "16.\tDL051\n",
      "17.\tDL052\n",
      "18.\tDL053\n",
      "19.\tDL054\n",
      "20.\tDL055\n",
      "\n",
      "\t\t\t\n",
      "DQ\n",
      "\n",
      "1.\tDQ001\n",
      "2.\tDQ002\n",
      "3.\tDQ003\n",
      "4.\tDQ004\n",
      "5.\tDQ005\n",
      "6.\tDQ006\n",
      "7.\tDQ007\n",
      "8.\tDQ008\n",
      "9.\tDQ009\n",
      "10.\tDQ010\n",
      "\n",
      "\t\t\t\t\t\t\t\n",
      "\n",
      "Failed TC: \n",
      "\n",
      "NA\n",
      "\n",
      "Defect Status: \n",
      "\n",
      "Defect Aging\n",
      "\n",
      "Defect Status\n",
      "\n",
      "Severity\n",
      "\n",
      "Raised Today\n",
      "\n",
      "1-2 Days\n",
      "\n",
      "3-5 Days\n",
      "\n",
      ">1 week\n",
      "\n",
      "Total\n",
      "\n",
      "Severity\n",
      "\n",
      "Open\n",
      "\n",
      "In Progress\n",
      "\n",
      "Reopen\n",
      "\n",
      "Fixed\n",
      "\n",
      "1 – Critical\n",
      "\n",
      "-\n",
      "\n",
      "-\n",
      "\n",
      "-\n",
      "\n",
      "-\n",
      "\n",
      "-\n",
      "\n",
      "1 – Critical\n",
      "\n",
      "-\n",
      "\n",
      "-\n",
      "\n",
      "-\n",
      "\n",
      "-\n",
      "\n",
      "2 - High\n",
      "\n",
      "-\n",
      "\n",
      "-\n",
      "\n",
      "-\n",
      "\n",
      "-\n",
      "\n",
      "-\n",
      "\n",
      "2 - High\n",
      "\n",
      "-\n",
      "\n",
      "-\n",
      "\n",
      "-\n",
      "\n",
      "-\n",
      "\n",
      "3 – Medium\n",
      "\n",
      "-\n",
      "\n",
      "-\n",
      "\n",
      "-\n",
      "\n",
      "-\n",
      "\n",
      "-\n",
      "\n",
      "3 – Medium\n",
      "\n",
      "-\n",
      "\n",
      "-\n",
      "\n",
      "-\n",
      "\n",
      "-\n",
      "\n",
      "4 – Low\n",
      "\n",
      "-\n",
      "\n",
      "-\n",
      "\n",
      "-\n",
      "\n",
      "-\n",
      "\n",
      "-\n",
      "\n",
      "4 – Low\n",
      "\n",
      "-\n",
      "\n",
      "-\n",
      "\n",
      "-\n",
      "\n",
      "-\n",
      "\n",
      "Total\n",
      "\n",
      "-\n",
      "\n",
      "-\n",
      "\n",
      "-\n",
      "\n",
      "-\n",
      "\n",
      "-\n",
      "\n",
      "Total\n",
      "\n",
      "-\n",
      "\n",
      "-\n",
      "\n",
      "-\n",
      "\n",
      "-\n",
      "\n",
      "Defect list: \n",
      "\n",
      "Track\n",
      "\n",
      "Date Raise\n",
      "\n",
      "Severity\n",
      "\n",
      "Defect Description\n",
      "\n",
      "Status\n",
      "\n",
      "-\n",
      "\n",
      "-\n",
      "\n",
      "-\n",
      "\n",
      "-\n",
      "\n",
      "-\n",
      "\n",
      "Thank You. \n",
      "\n",
      "Regards, \n",
      "\n",
      "Leong Tong Shenq \n",
      "\n",
      "From: leong.tongshenq@kewmann.com \n",
      "Sent: Tuesday, April 2, 2024 11:42 PM\n",
      "To: mas-ayu.zakaria@ambankgroup.com; 'Ahmad Hadi Bin Mohammad Fauzi' ; 'Omshanth Murthy' ; 'NGOO CHUN SIN' ; 'Arunn Prabhu Jyothi Arumugam' ; 'Muthukannan Velan' ; 'Lohith Hanekere Bheemaiah' ; 'Muhammad Nadzmi Bin Mohamed Nizam' ; 'Yong Yoke Har, Jasmine' ; 'Nurina Auni Binti Ismail' ; 'Nabila Natasha Binti Othman' ; 'Poovan Paramsothy' ; 'Lim Eng Kit' ; 'Choo Hwee Ping' ; 'Raju Kalapala' ; 'Noorazian Bin Mohamed Yusoff' ; malcolm.ron-pereira@ambankgroup.com\n",
      "Cc: 'Edwyn Ng' ; 'Hilman Hashim' ; 'Ili Najihah Mamat Khalid' ; 'Lee Man Kit' ; 'Liaw Yi Xian' ; 'Nur Atikah Mohd Hanif' ; 'Syarifah Ainul Izzah' ; 'Benjamin Bong' ; 'Wong Lee Fun' ; 'Nicky Chua Wai Kit' ; 'Chong Jun Xian' ; 'Ong Sze Seong' ; eric.law@kewmann.com; 'Giridhar Melanta' ; 'Yoke Ling Kew' ; 'Nicholas Tee Chen Yong' ; 'Chan Jin Hao' ; ml.teoh@quandatics.com; haziq@quandatics.com; amirun@quandatics.com; my.tan@quandatics.com; 'Lim Cheng Hong' \n",
      "Subject: GCIF Final Release - SIT Execution Status Report (02-Apr-2024)\n",
      "\n",
      "Dear All, \n",
      "\n",
      "Below is the status update as of 02-April-2024: \n",
      "\n",
      "Track\n",
      "\n",
      "Start Date\n",
      "\n",
      "End Date\n",
      "\n",
      "Plan Completion (%)\n",
      "\n",
      "Actual Completion (%)\n",
      "\n",
      "Passed Rate\n",
      "\n",
      "Failed Rate\n",
      "\n",
      "Remark\n",
      "\n",
      "DataLake\n",
      "\n",
      "01-Apr-2024\n",
      "\n",
      "19-Apr-2024\n",
      "\n",
      "22.58%\n",
      "\n",
      "22.58%\n",
      "\n",
      "100%\n",
      "\n",
      "0%\n",
      "\n",
      "Started\n",
      "\n",
      "DataQuality\n",
      "\n",
      "01-Apr-2024\n",
      "\n",
      "19-Apr-2024\n",
      "\n",
      "-\n",
      "\n",
      "-\n",
      "\n",
      "-\n",
      "\n",
      "-\n",
      "\n",
      "DataSecurity\n",
      "\n",
      "05-Apr-2024\n",
      "\n",
      "30-Apr-2024\n",
      "\n",
      "-\n",
      "\n",
      "-\n",
      "\n",
      "-\n",
      "\n",
      "-\n",
      "\n",
      "MetadataManagement\n",
      "\n",
      "05-Apr-2024\n",
      "\n",
      "30-Apr-2024\n",
      "\n",
      "-\n",
      "\n",
      "-\n",
      "\n",
      "-\n",
      "\n",
      "-\n",
      "\n",
      "GCIF + CDL\n",
      "\n",
      "08-Apr-2024\n",
      "\n",
      "03-May-2024\n",
      "\n",
      "-\n",
      "\n",
      "-\n",
      "\n",
      "-\n",
      "\n",
      "-\n",
      "\n",
      "GCIF Dashboard \n",
      "\n",
      "15-Apr-2024\n",
      "\n",
      "10-May-2024\n",
      "\n",
      "-\n",
      "\n",
      "-\n",
      "\n",
      "-\n",
      "\n",
      "-\n",
      "\n",
      "\n",
      "\n",
      "Apr-2024\n",
      "\n",
      "May-2024\n",
      "\n",
      "Track\n",
      "\n",
      "1\n",
      "\n",
      "2\n",
      "\n",
      "3\n",
      "\n",
      "4\n",
      "\n",
      "5\n",
      "\n",
      "6\n",
      "\n",
      "7\n",
      "\n",
      "8\n",
      "\n",
      "9\n",
      "\n",
      "10\n",
      "\n",
      "11\n",
      "\n",
      "12\n",
      "\n",
      "13\n",
      "\n",
      "14\n",
      "\n",
      "15\n",
      "\n",
      "16\n",
      "\n",
      "17\n",
      "\n",
      "18\n",
      "\n",
      "19\n",
      "\n",
      "20\n",
      "\n",
      "21\n",
      "\n",
      "22\n",
      "\n",
      "23\n",
      "\n",
      "24\n",
      "\n",
      "25\n",
      "\n",
      "26\n",
      "\n",
      "27\n",
      "\n",
      "28\n",
      "\n",
      "29\n",
      "\n",
      "30\n",
      "\n",
      "1\n",
      "\n",
      "2\n",
      "\n",
      "3\n",
      "\n",
      "4\n",
      "\n",
      "5\n",
      "\n",
      "6\n",
      "\n",
      "7\n",
      "\n",
      "8\n",
      "\n",
      "9\n",
      "\n",
      "10\n",
      "\n",
      "DL\n",
      "\n",
      "15\n",
      "\n",
      "20\n",
      "\n",
      "20\n",
      "\n",
      "20\n",
      "\n",
      "20\n",
      "\n",
      "20\n",
      "\n",
      "5\n",
      "\n",
      "5\n",
      "\n",
      "15\n",
      "\n",
      "15\n",
      "\n",
      "DQ\n",
      "\n",
      "10\n",
      "\n",
      "15\n",
      "\n",
      "15\n",
      "\n",
      "15\n",
      "\n",
      "5\n",
      "\n",
      "5\n",
      "\n",
      "5\n",
      "\n",
      "3\n",
      "\n",
      "DS\n",
      "\n",
      "MM\n",
      "\n",
      "GCIF + CDL\n",
      "\n",
      "Dashboard\n",
      "\n",
      "Tracks\n",
      "\n",
      "Total TC\n",
      "\n",
      "Total Executed\n",
      "\n",
      "Balance / Catch Up\n",
      "\n",
      "Total Executed - Passed\n",
      "\n",
      "Total Executed - Failed\n",
      "\n",
      "Total Defects\n",
      "\n",
      "Blocked by Defect\n",
      "\n",
      "Backlog (catchup)\n",
      "\n",
      "Yet to execute\n",
      "\n",
      "NA\n",
      "\n",
      "DL\n",
      "\n",
      "155\n",
      "\n",
      "35\n",
      "\n",
      "120\n",
      "\n",
      "35\n",
      "\n",
      "0\n",
      "\n",
      "0\n",
      "\n",
      "0\n",
      "\n",
      "0\n",
      "\n",
      "120\n",
      "\n",
      "0\n",
      "\n",
      "DQ\n",
      "\n",
      "73\n",
      "\n",
      "-\n",
      "\n",
      "-\n",
      "\n",
      "-\n",
      "\n",
      "-\n",
      "\n",
      "-\n",
      "\n",
      "-\n",
      "\n",
      "-\n",
      "\n",
      "-\n",
      "\n",
      "-\n",
      "\n",
      "DS\n",
      "\n",
      "72\n",
      "\n",
      "-\n",
      "\n",
      "-\n",
      "\n",
      "-\n",
      "\n",
      "-\n",
      "\n",
      "-\n",
      "\n",
      "-\n",
      "\n",
      "-\n",
      "\n",
      "-\n",
      "\n",
      "-\n",
      "\n",
      "MM \n",
      "\n",
      "18\n",
      "\n",
      "-\n",
      "\n",
      "-\n",
      "\n",
      "-\n",
      "\n",
      "-\n",
      "\n",
      "-\n",
      "\n",
      "-\n",
      "\n",
      "-\n",
      "\n",
      "-\n",
      "\n",
      "-\n",
      "\n",
      "GCIF\n",
      "\n",
      "-\n",
      "\n",
      "-\n",
      "\n",
      "-\n",
      "\n",
      "-\n",
      "\n",
      "-\n",
      "\n",
      "-\n",
      "\n",
      "-\n",
      "\n",
      "-\n",
      "\n",
      "-\n",
      "\n",
      "-\n",
      "\n",
      "GCIF Dashboard + CDL\n",
      "\n",
      "-\n",
      "\n",
      "-\n",
      "\n",
      "-\n",
      "\n",
      "-\n",
      "\n",
      "-\n",
      "\n",
      "-\n",
      "\n",
      "-\n",
      "\n",
      "-\n",
      "\n",
      "-\n",
      "\n",
      "-\n",
      "\n",
      "Total\n",
      "\n",
      "0\n",
      "\n",
      "0\n",
      "\n",
      "0\n",
      "\n",
      "0\n",
      "\n",
      "0\n",
      "\n",
      "0\n",
      "\n",
      "0\n",
      "\n",
      "0\n",
      "\n",
      "0\n",
      "\n",
      "0\n",
      "\n",
      "Issue to Highlight:\n",
      "\n",
      "No\n",
      "\n",
      "Issue \n",
      "\n",
      "Impact\n",
      "\n",
      "Severity\n",
      "\n",
      "1\n",
      "\n",
      "CV ID having issue to upload test case into ALM. \n",
      "\n",
      "*\tSeeking help from AmBank side to check the tester ID access right. \n",
      "\n",
      "It may cause delay for AmBank to review the test result. \n",
      "\n",
      "Medium \n",
      "\n",
      "Accumulated\n",
      "\n",
      "Daily Execution\n",
      "\n",
      "Track\n",
      "\n",
      "Total TC\n",
      "\n",
      "Total Plan Execution\n",
      "\n",
      "Total Passed\n",
      "\n",
      "Total Failed\n",
      "\n",
      "Total Not Executed\n",
      "\n",
      "Plan Execution\n",
      "\n",
      "Executed\n",
      "\n",
      "Passed\n",
      "\n",
      "Failed\n",
      "\n",
      "DL\n",
      "\n",
      "155\n",
      "\n",
      "35\n",
      "\n",
      "35\n",
      "\n",
      "0\n",
      "\n",
      "120\n",
      "\n",
      "20\n",
      "\n",
      "20\n",
      "\n",
      "20\n",
      "\n",
      "0\n",
      "\n",
      "DQ\n",
      "\n",
      "73\n",
      "\n",
      "-\n",
      "\n",
      "-\n",
      "\n",
      "-\n",
      "\n",
      "-\n",
      "\n",
      "-\n",
      "\n",
      "-\n",
      "\n",
      "-\n",
      "\n",
      "-\n",
      "\n",
      "DS\n",
      "\n",
      "72\n",
      "\n",
      "-\n",
      "\n",
      "-\n",
      "\n",
      "-\n",
      "\n",
      "-\n",
      "\n",
      "-\n",
      "\n",
      "-\n",
      "\n",
      "-\n",
      "\n",
      "-\n",
      "\n",
      "MM\n",
      "\n",
      "18\n",
      "\n",
      "-\n",
      "\n",
      "-\n",
      "\n",
      "-\n",
      "\n",
      "-\n",
      "\n",
      "-\n",
      "\n",
      "-\n",
      "\n",
      "-\n",
      "\n",
      "-\n",
      "\n",
      "GCIF + CDL\n",
      "\n",
      "-\n",
      "\n",
      "-\n",
      "\n",
      "-\n",
      "\n",
      "-\n",
      "\n",
      "-\n",
      "\n",
      "-\n",
      "\n",
      "-\n",
      "\n",
      "-\n",
      "\n",
      "-\n",
      "\n",
      "GCIF Dashboard \n",
      "\n",
      "-\n",
      "\n",
      "-\n",
      "\n",
      "-\n",
      "\n",
      "-\n",
      "\n",
      "-\n",
      "\n",
      "-\n",
      "\n",
      "-\n",
      "\n",
      "-\n",
      "\n",
      "-\n",
      "\n",
      "Passed TC: \n",
      "\n",
      "DL (total test case in this list included Monday 01-Apr)\n",
      "\n",
      "1.\tDL001\n",
      "2.\tDL002\n",
      "3.\tDL003\n",
      "4.\tDL004\n",
      "5.\tDL005\n",
      "6.\tDL006\n",
      "7.\tDL007\n",
      "8.\tDL008\n",
      "9.\tDL009\n",
      "10.\tDL010\n",
      "\n",
      "11.\tDL011\n",
      "12.\tDL012\n",
      "13.\tDL013\n",
      "14.\tDL014\n",
      "15.\tDL015\n",
      "16.\tDL016\n",
      "17.\tDL017\n",
      "18.\tDL018\n",
      "19.\tDL019\n",
      "20.\tDL020\n",
      "\n",
      "21.\tDL021\n",
      "22.\tDL022\n",
      "23.\tDL023\n",
      "24.\tDL024\n",
      "25.\tDL025\n",
      "26.\tDL026\n",
      "27.\tDL027\n",
      "28.\tDL028\n",
      "29.\tDL029\n",
      "30.\tDL030\n",
      "\n",
      "31.\tDL031\n",
      "32.\tDL032\n",
      "33.\tDL033\n",
      "34.\tDL034\n",
      "35.\tDL035\n",
      "\n",
      "-\n",
      "\n",
      "\t\t\t\t\t\t\t\n",
      "\n",
      "Failed TC: \n",
      "\n",
      "NA\n",
      "\n",
      "Defect Status: \n",
      "\n",
      "Defect Aging\n",
      "\n",
      "Defect Status\n",
      "\n",
      "Severity\n",
      "\n",
      "Raised Today\n",
      "\n",
      "1-2 Days\n",
      "\n",
      "3-5 Days\n",
      "\n",
      ">1 week\n",
      "\n",
      "Total\n",
      "\n",
      "Severity\n",
      "\n",
      "Open\n",
      "\n",
      "In Progress\n",
      "\n",
      "Reopen\n",
      "\n",
      "Fixed\n",
      "\n",
      "1 – Critical\n",
      "\n",
      "-\n",
      "\n",
      "-\n",
      "\n",
      "-\n",
      "\n",
      "-\n",
      "\n",
      "-\n",
      "\n",
      "1 – Critical\n",
      "\n",
      "-\n",
      "\n",
      "-\n",
      "\n",
      "-\n",
      "\n",
      "-\n",
      "\n",
      "2 - High\n",
      "\n",
      "-\n",
      "\n",
      "-\n",
      "\n",
      "-\n",
      "\n",
      "-\n",
      "\n",
      "-\n",
      "\n",
      "2 - High\n",
      "\n",
      "-\n",
      "\n",
      "-\n",
      "\n",
      "-\n",
      "\n",
      "-\n",
      "\n",
      "3 – Medium\n",
      "\n",
      "-\n",
      "\n",
      "-\n",
      "\n",
      "-\n",
      "\n",
      "-\n",
      "\n",
      "-\n",
      "\n",
      "3 – Medium\n",
      "\n",
      "-\n",
      "\n",
      "-\n",
      "\n",
      "-\n",
      "\n",
      "-\n",
      "\n",
      "4 – Low\n",
      "\n",
      "-\n",
      "\n",
      "-\n",
      "\n",
      "-\n",
      "\n",
      "-\n",
      "\n",
      "-\n",
      "\n",
      "4 – Low\n",
      "\n",
      "-\n",
      "\n",
      "-\n",
      "\n",
      "-\n",
      "\n",
      "-\n",
      "\n",
      "Total\n",
      "\n",
      "-\n",
      "\n",
      "-\n",
      "\n",
      "-\n",
      "\n",
      "-\n",
      "\n",
      "-\n",
      "\n",
      "Total\n",
      "\n",
      "-\n",
      "\n",
      "-\n",
      "\n",
      "-\n",
      "\n",
      "-\n",
      "\n",
      "Defect list: \n",
      "\n",
      "Track\n",
      "\n",
      "Date Raise\n",
      "\n",
      "Severity\n",
      "\n",
      "Defect Description\n",
      "\n",
      "Status\n",
      "\n",
      "-\n",
      "\n",
      "-\n",
      "\n",
      "-\n",
      "\n",
      "-\n",
      "\n",
      "-\n",
      "\n",
      "Thank You. \n",
      "\n",
      "Regards, \n",
      "\n",
      "Leong Tong Shenq \n",
      "\n",
      "GCIF Final Release - SIT Execution Status Report (02-Apr-2024)||2024-04-02 23:41:59.382000+00:00||leong.tongshenq@kewmann.com||CAUTION: This email originated from outside of AmBank. Do not click links or open attachments unless you recognize the sender and know the content is safe.\n",
      "\n",
      "\n",
      "Dear All, \n",
      "\n",
      "Below is the status update as of 02-April-2024: \n",
      "\n",
      "Track\n",
      "\n",
      "Start Date\n",
      "\n",
      "End Date\n",
      "\n",
      "Plan Completion (%)\n",
      "\n",
      "Actual Completion (%)\n",
      "\n",
      "Passed Rate\n",
      "\n",
      "Failed Rate\n",
      "\n",
      "Remark\n",
      "\n",
      "DataLake\n",
      "\n",
      "01-Apr-2024\n",
      "\n",
      "19-Apr-2024\n",
      "\n",
      "22.58%\n",
      "\n",
      "22.58%\n",
      "\n",
      "100%\n",
      "\n",
      "0%\n",
      "\n",
      "Started\n",
      "\n",
      "DataQuality\n",
      "\n",
      "01-Apr-2024\n",
      "\n",
      "19-Apr-2024\n",
      "\n",
      "-\n",
      "\n",
      "-\n",
      "\n",
      "-\n",
      "\n",
      "-\n",
      "\n",
      "DataSecurity\n",
      "\n",
      "05-Apr-2024\n",
      "\n",
      "30-Apr-2024\n",
      "\n",
      "-\n",
      "\n",
      "-\n",
      "\n",
      "-\n",
      "\n",
      "-\n",
      "\n",
      "MetadataManagement\n",
      "\n",
      "05-Apr-2024\n",
      "\n",
      "30-Apr-2024\n",
      "\n",
      "-\n",
      "\n",
      "-\n",
      "\n",
      "-\n",
      "\n",
      "-\n",
      "\n",
      "GCIF + CDL\n",
      "\n",
      "08-Apr-2024\n",
      "\n",
      "03-May-2024\n",
      "\n",
      "-\n",
      "\n",
      "-\n",
      "\n",
      "-\n",
      "\n",
      "-\n",
      "\n",
      "GCIF Dashboard \n",
      "\n",
      "15-Apr-2024\n",
      "\n",
      "10-May-2024\n",
      "\n",
      "-\n",
      "\n",
      "-\n",
      "\n",
      "-\n",
      "\n",
      "-\n",
      "\n",
      "\n",
      "\n",
      "Apr-2024\n",
      "\n",
      "May-2024\n",
      "\n",
      "Track\n",
      "\n",
      "1\n",
      "\n",
      "2\n",
      "\n",
      "3\n",
      "\n",
      "4\n",
      "\n",
      "5\n",
      "\n",
      "6\n",
      "\n",
      "7\n",
      "\n",
      "8\n",
      "\n",
      "9\n",
      "\n",
      "10\n",
      "\n",
      "11\n",
      "\n",
      "12\n",
      "\n",
      "13\n",
      "\n",
      "14\n",
      "\n",
      "15\n",
      "\n",
      "16\n",
      "\n",
      "17\n",
      "\n",
      "18\n",
      "\n",
      "19\n",
      "\n",
      "20\n",
      "\n",
      "21\n",
      "\n",
      "22\n",
      "\n",
      "23\n",
      "\n",
      "24\n",
      "\n",
      "25\n",
      "\n",
      "26\n",
      "\n",
      "27\n",
      "\n",
      "28\n",
      "\n",
      "29\n",
      "\n",
      "30\n",
      "\n",
      "1\n",
      "\n",
      "2\n",
      "\n",
      "3\n",
      "\n",
      "4\n",
      "\n",
      "5\n",
      "\n",
      "6\n",
      "\n",
      "7\n",
      "\n",
      "8\n",
      "\n",
      "9\n",
      "\n",
      "10\n",
      "\n",
      "DL\n",
      "\n",
      "15\n",
      "\n",
      "20\n",
      "\n",
      "20\n",
      "\n",
      "20\n",
      "\n",
      "20\n",
      "\n",
      "20\n",
      "\n",
      "5\n",
      "\n",
      "5\n",
      "\n",
      "15\n",
      "\n",
      "15\n",
      "\n",
      "DQ\n",
      "\n",
      "10\n",
      "\n",
      "15\n",
      "\n",
      "15\n",
      "\n",
      "15\n",
      "\n",
      "5\n",
      "\n",
      "5\n",
      "\n",
      "5\n",
      "\n",
      "3\n",
      "\n",
      "DS\n",
      "\n",
      "MM\n",
      "\n",
      "GCIF + CDL\n",
      "\n",
      "Dashboard\n",
      "\n",
      "Tracks\n",
      "\n",
      "Total TC\n",
      "\n",
      "Total Executed\n",
      "\n",
      "Balance / Catch Up\n",
      "\n",
      "Total Executed - Passed\n",
      "\n",
      "Total Executed - Failed\n",
      "\n",
      "Total Defects\n",
      "\n",
      "Blocked by Defect\n",
      "\n",
      "Backlog (catchup)\n",
      "\n",
      "Yet to execute\n",
      "\n",
      "NA\n",
      "\n",
      "DL\n",
      "\n",
      "155\n",
      "\n",
      "35\n",
      "\n",
      "120\n",
      "\n",
      "35\n",
      "\n",
      "0\n",
      "\n",
      "0\n",
      "\n",
      "0\n",
      "\n",
      "0\n",
      "\n",
      "120\n",
      "\n",
      "0\n",
      "\n",
      "DQ\n",
      "\n",
      "73\n",
      "\n",
      "-\n",
      "\n",
      "-\n",
      "\n",
      "-\n",
      "\n",
      "-\n",
      "\n",
      "-\n",
      "\n",
      "-\n",
      "\n",
      "-\n",
      "\n",
      "-\n",
      "\n",
      "-\n",
      "\n",
      "DS\n",
      "\n",
      "72\n",
      "\n",
      "-\n",
      "\n",
      "-\n",
      "\n",
      "-\n",
      "\n",
      "-\n",
      "\n",
      "-\n",
      "\n",
      "-\n",
      "\n",
      "-\n",
      "\n",
      "-\n",
      "\n",
      "-\n",
      "\n",
      "MM \n",
      "\n",
      "18\n",
      "\n",
      "-\n",
      "\n",
      "-\n",
      "\n",
      "-\n",
      "\n",
      "-\n",
      "\n",
      "-\n",
      "\n",
      "-\n",
      "\n",
      "-\n",
      "\n",
      "-\n",
      "\n",
      "-\n",
      "\n",
      "GCIF\n",
      "\n",
      "-\n",
      "\n",
      "-\n",
      "\n",
      "-\n",
      "\n",
      "-\n",
      "\n",
      "-\n",
      "\n",
      "-\n",
      "\n",
      "-\n",
      "\n",
      "-\n",
      "\n",
      "-\n",
      "\n",
      "-\n",
      "\n",
      "GCIF Dashboard + CDL\n",
      "\n",
      "-\n",
      "\n",
      "-\n",
      "\n",
      "-\n",
      "\n",
      "-\n",
      "\n",
      "-\n",
      "\n",
      "-\n",
      "\n",
      "-\n",
      "\n",
      "-\n",
      "\n",
      "-\n",
      "\n",
      "-\n",
      "\n",
      "Total\n",
      "\n",
      "0\n",
      "\n",
      "0\n",
      "\n",
      "0\n",
      "\n",
      "0\n",
      "\n",
      "0\n",
      "\n",
      "0\n",
      "\n",
      "0\n",
      "\n",
      "0\n",
      "\n",
      "0\n",
      "\n",
      "0\n",
      "\n",
      "Issue to Highlight:\n",
      "\n",
      "No\n",
      "\n",
      "Issue \n",
      "\n",
      "Impact\n",
      "\n",
      "Severity\n",
      "\n",
      "1\n",
      "\n",
      "CV ID having issue to upload test case into ALM. \n",
      "\n",
      "*\tSeeking help from AmBank side to check the tester ID access right. \n",
      "\n",
      "It may cause delay for AmBank to review the test result. \n",
      "\n",
      "Medium \n",
      "\n",
      "Accumulated\n",
      "\n",
      "Daily Execution\n",
      "\n",
      "Track\n",
      "\n",
      "Total TC\n",
      "\n",
      "Total Plan Execution\n",
      "\n",
      "Total Passed\n",
      "\n",
      "Total Failed\n",
      "\n",
      "Total Not Executed\n",
      "\n",
      "Plan Execution\n",
      "\n",
      "Executed\n",
      "\n",
      "Passed\n",
      "\n",
      "Failed\n",
      "\n",
      "DL\n",
      "\n",
      "155\n",
      "\n",
      "35\n",
      "\n",
      "35\n",
      "\n",
      "0\n",
      "\n",
      "120\n",
      "\n",
      "20\n",
      "\n",
      "20\n",
      "\n",
      "20\n",
      "\n",
      "0\n",
      "\n",
      "DQ\n",
      "\n",
      "73\n",
      "\n",
      "-\n",
      "\n",
      "-\n",
      "\n",
      "-\n",
      "\n",
      "-\n",
      "\n",
      "-\n",
      "\n",
      "-\n",
      "\n",
      "-\n",
      "\n",
      "-\n",
      "\n",
      "DS\n",
      "\n",
      "72\n",
      "\n",
      "-\n",
      "\n",
      "-\n",
      "\n",
      "-\n",
      "\n",
      "-\n",
      "\n",
      "-\n",
      "\n",
      "-\n",
      "\n",
      "-\n",
      "\n",
      "-\n",
      "\n",
      "MM\n",
      "\n",
      "18\n",
      "\n",
      "-\n",
      "\n",
      "-\n",
      "\n",
      "-\n",
      "\n",
      "-\n",
      "\n",
      "-\n",
      "\n",
      "-\n",
      "\n",
      "-\n",
      "\n",
      "-\n",
      "\n",
      "GCIF + CDL\n",
      "\n",
      "-\n",
      "\n",
      "-\n",
      "\n",
      "-\n",
      "\n",
      "-\n",
      "\n",
      "-\n",
      "\n",
      "-\n",
      "\n",
      "-\n",
      "\n",
      "-\n",
      "\n",
      "-\n",
      "\n",
      "GCIF Dashboard \n",
      "\n",
      "-\n",
      "\n",
      "-\n",
      "\n",
      "-\n",
      "\n",
      "-\n",
      "\n",
      "-\n",
      "\n",
      "-\n",
      "\n",
      "-\n",
      "\n",
      "-\n",
      "\n",
      "-\n",
      "\n",
      "Passed TC: \n",
      "\n",
      "DL (total test case in this list included Monday 01-Apr)\n",
      "\n",
      "1.\tDL001\n",
      "2.\tDL002\n",
      "3.\tDL003\n",
      "4.\tDL004\n",
      "5.\tDL005\n",
      "6.\tDL006\n",
      "7.\tDL007\n",
      "8.\tDL008\n",
      "9.\tDL009\n",
      "10.\tDL010\n",
      "\n",
      "11.\tDL011\n",
      "12.\tDL012\n",
      "13.\tDL013\n",
      "14.\tDL014\n",
      "15.\tDL015\n",
      "16.\tDL016\n",
      "17.\tDL017\n",
      "18.\tDL018\n",
      "19.\tDL019\n",
      "20.\tDL020\n",
      "\n",
      "21.\tDL021\n",
      "22.\tDL022\n",
      "23.\tDL023\n",
      "24.\tDL024\n",
      "25.\tDL025\n",
      "26.\tDL026\n",
      "27.\tDL027\n",
      "28.\tDL028\n",
      "29.\tDL029\n",
      "30.\tDL030\n",
      "\n",
      "31.\tDL031\n",
      "32.\tDL032\n",
      "33.\tDL033\n",
      "34.\tDL034\n",
      "35.\tDL035\n",
      "\n",
      "-\n",
      "\n",
      "\t\t\t\t\t\t\t\n",
      "\n",
      "Failed TC: \n",
      "\n",
      "NA\n",
      "\n",
      "Defect Status: \n",
      "\n",
      "Defect Aging\n",
      "\n",
      "Defect Status\n",
      "\n",
      "Severity\n",
      "\n",
      "Raised Today\n",
      "\n",
      "1-2 Days\n",
      "\n",
      "3-5 Days\n",
      "\n",
      ">1 week\n",
      "\n",
      "Total\n",
      "\n",
      "Severity\n",
      "\n",
      "Open\n",
      "\n",
      "In Progress\n",
      "\n",
      "Reopen\n",
      "\n",
      "Fixed\n",
      "\n",
      "1 – Critical\n",
      "\n",
      "-\n",
      "\n",
      "-\n",
      "\n",
      "-\n",
      "\n",
      "-\n",
      "\n",
      "-\n",
      "\n",
      "1 – Critical\n",
      "\n",
      "-\n",
      "\n",
      "-\n",
      "\n",
      "-\n",
      "\n",
      "-\n",
      "\n",
      "2 - High\n",
      "\n",
      "-\n",
      "\n",
      "-\n",
      "\n",
      "-\n",
      "\n",
      "-\n",
      "\n",
      "-\n",
      "\n",
      "2 - High\n",
      "\n",
      "-\n",
      "\n",
      "-\n",
      "\n",
      "-\n",
      "\n",
      "-\n",
      "\n",
      "3 – Medium\n",
      "\n",
      "-\n",
      "\n",
      "-\n",
      "\n",
      "-\n",
      "\n",
      "-\n",
      "\n",
      "-\n",
      "\n",
      "3 – Medium\n",
      "\n",
      "-\n",
      "\n",
      "-\n",
      "\n",
      "-\n",
      "\n",
      "-\n",
      "\n",
      "4 – Low\n",
      "\n",
      "-\n",
      "\n",
      "-\n",
      "\n",
      "-\n",
      "\n",
      "-\n",
      "\n",
      "-\n",
      "\n",
      "4 – Low\n",
      "\n",
      "-\n",
      "\n",
      "-\n",
      "\n",
      "-\n",
      "\n",
      "-\n",
      "\n",
      "Total\n",
      "\n",
      "-\n",
      "\n",
      "-\n",
      "\n",
      "-\n",
      "\n",
      "-\n",
      "\n",
      "-\n",
      "\n",
      "Total\n",
      "\n",
      "-\n",
      "\n",
      "-\n",
      "\n",
      "-\n",
      "\n",
      "-\n",
      "\n",
      "Defect list: \n",
      "\n",
      "Track\n",
      "\n",
      "Date Raise\n",
      "\n",
      "Severity\n",
      "\n",
      "Defect Description\n",
      "\n",
      "Status\n",
      "\n",
      "-\n",
      "\n",
      "-\n",
      "\n",
      "-\n",
      "\n",
      "-\n",
      "\n",
      "-\n",
      "\n",
      "Thank You. \n",
      "\n",
      "Regards, \n",
      "\n",
      "Leong Tong Shenq \n",
      "\n"
     ]
    }
   ],
   "source": [
    "for message in list(messages)[-2:]:\n",
    "    print(message.Subject, message.ReceivedTime, message.SenderEmailAddress, message.Body, sep='||')"
   ]
  },
  {
   "cell_type": "markdown",
   "id": "df9cee0f-f6fa-4654-815e-3498562ad8fb",
   "metadata": {},
   "source": [
    "Let's preview the first soup objects"
   ]
  },
  {
   "cell_type": "code",
   "execution_count": 12,
   "id": "e7496e4d-1e35-491a-99e9-fc634ceb101e",
   "metadata": {
    "scrolled": true
   },
   "outputs": [
    {
     "name": "stdout",
     "output_type": "stream",
     "text": [
      "<table border=\"0\" cellpadding=\"0\" cellspacing=\"0\" class=\"MsoNormalTable\" style=\"border-collapse:collapse\">\n",
      " <tbody>\n",
      "  <tr>\n",
      "   <td style=\"width:116.85pt;border:solid windowtext 1.0pt;background:#E9FED6;padding:0in 5.4pt 0in 5.4pt\" valign=\"top\" width=\"156\">\n",
      "    <p align=\"center\" style=\"margin:0in;text-align:center\">\n",
      "     <b>\n",
      "      <span style=\"font-size:10.0pt;color:#4472C4\">\n",
      "       Track\n",
      "      </span>\n",
      "     </b>\n",
      "     <span style=\"font-size:10.0pt\">\n",
      "      <o:p>\n",
      "      </o:p>\n",
      "     </span>\n",
      "    </p>\n",
      "   </td>\n",
      "   <td style=\"width:116.85pt;border:solid windowtext 1.0pt;border-left:none;background:#DEEAF6;padding:0in 5.4pt 0in 5.4pt\" valign=\"top\" width=\"156\">\n",
      "    <p align=\"center\" style=\"margin:0in;text-align:center\">\n",
      "     <b>\n",
      "      <span style=\"font-size:10.0pt;color:#4472C4\">\n",
      "       Start Date\n",
      "      </span>\n",
      "     </b>\n",
      "     <span style=\"font-size:10.0pt\">\n",
      "      <o:p>\n",
      "      </o:p>\n",
      "     </span>\n",
      "    </p>\n",
      "   </td>\n",
      "   <td style=\"width:84.85pt;border:solid windowtext 1.0pt;border-left:none;background:#DEEAF6;padding:0in 0in 0in 0in\" valign=\"top\" width=\"113\">\n",
      "    <p align=\"center\" style=\"margin:0in;text-align:center\">\n",
      "     <b>\n",
      "      <span style=\"font-size:10.0pt;color:#4472C4\">\n",
      "       End Date\n",
      "      </span>\n",
      "     </b>\n",
      "     <span style=\"font-size:10.0pt\">\n",
      "      <o:p>\n",
      "      </o:p>\n",
      "     </span>\n",
      "    </p>\n",
      "   </td>\n",
      "   <td style=\"width:84.85pt;border:solid windowtext 1.0pt;border-left:none;background:#A8D08D;padding:0in 5.4pt 0in 5.4pt\" valign=\"top\" width=\"113\">\n",
      "    <p align=\"center\" style=\"margin:0in;text-align:center\">\n",
      "     <b>\n",
      "      <span style=\"font-size:10.0pt;color:#4472C4\">\n",
      "       Plan Completion (%)\n",
      "      </span>\n",
      "     </b>\n",
      "     <span style=\"font-size:10.0pt\">\n",
      "      <o:p>\n",
      "      </o:p>\n",
      "     </span>\n",
      "    </p>\n",
      "   </td>\n",
      "   <td style=\"width:85.05pt;border:solid windowtext 1.0pt;border-left:none;background:#A8D08D;padding:0in 5.4pt 0in 5.4pt\" valign=\"top\" width=\"113\">\n",
      "    <p align=\"center\" style=\"margin:0in;text-align:center\">\n",
      "     <b>\n",
      "      <span style=\"font-size:10.0pt;color:#4472C4\">\n",
      "       Actual Completion (%)\n",
      "      </span>\n",
      "     </b>\n",
      "     <span style=\"font-size:10.0pt\">\n",
      "      <o:p>\n",
      "      </o:p>\n",
      "     </span>\n",
      "    </p>\n",
      "   </td>\n",
      "   <td style=\"width:85.05pt;border:solid windowtext 1.0pt;border-left:none;background:#F7CAAC;padding:0in 0in 0in 0in\" valign=\"top\" width=\"113\">\n",
      "    <p align=\"center\" style=\"margin:0in;text-align:center\">\n",
      "     <b>\n",
      "      <span style=\"font-size:10.0pt;color:#4472C4\">\n",
      "       Passed Rate\n",
      "      </span>\n",
      "     </b>\n",
      "     <span style=\"font-size:10.0pt\">\n",
      "      <o:p>\n",
      "      </o:p>\n",
      "     </span>\n",
      "    </p>\n",
      "   </td>\n",
      "   <td style=\"width:85.05pt;border:solid windowtext 1.0pt;border-left:none;background:#F7CAAC;padding:0in 0in 0in 0in\" valign=\"top\" width=\"113\">\n",
      "    <p align=\"center\" style=\"margin:0in;text-align:center\">\n",
      "     <b>\n",
      "      <span style=\"font-size:10.0pt;color:#4472C4\">\n",
      "       Failed Rate\n",
      "      </span>\n",
      "     </b>\n",
      "     <span style=\"font-size:10.0pt\">\n",
      "      <o:p>\n",
      "      </o:p>\n",
      "     </span>\n",
      "    </p>\n",
      "   </td>\n",
      "   <td style=\"width:2.6in;border:solid windowtext 1.0pt;border-left:none;background:#D0CECE;padding:0in 0in 0in 0in\" valign=\"top\" width=\"250\">\n",
      "    <p align=\"center\" style=\"margin:0in;text-align:center\">\n",
      "     <b>\n",
      "      <span style=\"font-size:10.0pt;color:#4472C4\">\n",
      "       Remark\n",
      "      </span>\n",
      "     </b>\n",
      "     <span style=\"font-size:10.0pt\">\n",
      "      <o:p>\n",
      "      </o:p>\n",
      "     </span>\n",
      "    </p>\n",
      "   </td>\n",
      "  </tr>\n",
      "  <tr style=\"height:17.0pt\">\n",
      "   <td style=\"width:116.85pt;border:solid windowtext 1.0pt;border-top:none;background:#E9FED6;padding:0in 5.4pt 0in 5.4pt;height:17.0pt\" valign=\"top\" width=\"156\">\n",
      "    <p align=\"center\" style=\"margin:0in;text-align:center\">\n",
      "     <span style=\"font-size:10.0pt;color:#4472C4\">\n",
      "      DataLake\n",
      "     </span>\n",
      "     <span style=\"font-size:10.0pt\">\n",
      "      <o:p>\n",
      "      </o:p>\n",
      "     </span>\n",
      "    </p>\n",
      "   </td>\n",
      "   <td style=\"width:116.85pt;border-top:none;border-left:none;border-bottom:solid windowtext 1.0pt;border-right:solid windowtext 1.0pt;padding:0in 5.4pt 0in 5.4pt;height:17.0pt\" valign=\"top\" width=\"156\">\n",
      "    <p align=\"center\" style=\"margin:0in;text-align:center\">\n",
      "     <span style=\"font-size:10.0pt;color:#4472C4\">\n",
      "      01-Apr-2024\n",
      "     </span>\n",
      "     <span style=\"font-size:10.0pt\">\n",
      "      <o:p>\n",
      "      </o:p>\n",
      "     </span>\n",
      "    </p>\n",
      "   </td>\n",
      "   <td style=\"width:84.85pt;border-top:none;border-left:none;border-bottom:solid windowtext 1.0pt;border-right:solid windowtext 1.0pt;padding:0in 0in 0in 0in;height:17.0pt\" valign=\"top\" width=\"113\">\n",
      "    <p align=\"center\" style=\"margin:0in;text-align:center\">\n",
      "     <span style=\"font-size:10.0pt;color:#4472C4\">\n",
      "      19-Apr-2024\n",
      "     </span>\n",
      "     <span style=\"font-size:10.0pt\">\n",
      "      <o:p>\n",
      "      </o:p>\n",
      "     </span>\n",
      "    </p>\n",
      "   </td>\n",
      "   <td style=\"width:84.85pt;border-top:none;border-left:none;border-bottom:solid windowtext 1.0pt;border-right:solid windowtext 1.0pt;padding:0in 5.4pt 0in 5.4pt;height:17.0pt\" valign=\"top\" width=\"113\">\n",
      "    <p align=\"center\" style=\"margin:0in;text-align:center\">\n",
      "     <span style=\"font-size:10.0pt;color:#4472C4\">\n",
      "      100%\n",
      "     </span>\n",
      "     <span style=\"font-size:10.0pt\">\n",
      "      <o:p>\n",
      "      </o:p>\n",
      "     </span>\n",
      "    </p>\n",
      "   </td>\n",
      "   <td style=\"width:85.05pt;border-top:none;border-left:none;border-bottom:solid windowtext 1.0pt;border-right:solid windowtext 1.0pt;padding:0in 5.4pt 0in 5.4pt;height:17.0pt\" valign=\"top\" width=\"113\">\n",
      "    <p align=\"center\" style=\"margin:0in;text-align:center\">\n",
      "     <span style=\"font-size:10.0pt;color:#4472C4\">\n",
      "      100%\n",
      "     </span>\n",
      "     <span style=\"font-size:10.0pt\">\n",
      "      <o:p>\n",
      "      </o:p>\n",
      "     </span>\n",
      "    </p>\n",
      "   </td>\n",
      "   <td style=\"width:85.05pt;border-top:none;border-left:none;border-bottom:solid windowtext 1.0pt;border-right:solid windowtext 1.0pt;padding:0in 0in 0in 0in;height:17.0pt\" valign=\"top\" width=\"113\">\n",
      "    <p align=\"center\" style=\"margin:0in;text-align:center\">\n",
      "     <span style=\"font-size:10.0pt;color:#4472C4\">\n",
      "      100%\n",
      "     </span>\n",
      "     <span style=\"font-size:10.0pt\">\n",
      "      <o:p>\n",
      "      </o:p>\n",
      "     </span>\n",
      "    </p>\n",
      "   </td>\n",
      "   <td style=\"width:85.05pt;border-top:none;border-left:none;border-bottom:solid windowtext 1.0pt;border-right:solid windowtext 1.0pt;padding:0in 0in 0in 0in;height:17.0pt\" valign=\"top\" width=\"113\">\n",
      "    <p align=\"center\" style=\"margin:0in;text-align:center\">\n",
      "     <span style=\"font-size:10.0pt;color:#4472C4\">\n",
      "      0%\n",
      "     </span>\n",
      "     <span style=\"font-size:10.0pt\">\n",
      "      <o:p>\n",
      "      </o:p>\n",
      "     </span>\n",
      "    </p>\n",
      "   </td>\n",
      "   <td style=\"width:2.6in;border-top:none;border-left:none;border-bottom:solid windowtext 1.0pt;border-right:solid windowtext 1.0pt;padding:0in 0in 0in 0in;height:17.0pt\" valign=\"top\" width=\"250\">\n",
      "    <p align=\"center\" style=\"margin:0in;text-align:center\">\n",
      "     <span style=\"font-size:10.0pt;color:#4472C4\">\n",
      "      Completed. Pending Sign-Off\n",
      "     </span>\n",
      "     <span style=\"font-size:10.0pt\">\n",
      "      <o:p>\n",
      "      </o:p>\n",
      "     </span>\n",
      "    </p>\n",
      "   </td>\n",
      "  </tr>\n",
      "  <tr style=\"height:17.0pt\">\n",
      "   <td style=\"width:116.85pt;border:solid windowtext 1.0pt;border-top:none;background:#E9FED6;padding:0in 5.4pt 0in 5.4pt;height:17.0pt\" valign=\"top\" width=\"156\">\n",
      "    <p align=\"center\" style=\"margin:0in;text-align:center\">\n",
      "     <span style=\"font-size:10.0pt;color:#4472C4\">\n",
      "      DataQuality\n",
      "     </span>\n",
      "     <span style=\"font-size:10.0pt\">\n",
      "      <o:p>\n",
      "      </o:p>\n",
      "     </span>\n",
      "    </p>\n",
      "   </td>\n",
      "   <td style=\"width:116.85pt;border-top:none;border-left:none;border-bottom:solid windowtext 1.0pt;border-right:solid windowtext 1.0pt;padding:0in 5.4pt 0in 5.4pt;height:17.0pt\" valign=\"top\" width=\"156\">\n",
      "    <p align=\"center\" style=\"margin:0in;text-align:center\">\n",
      "     <span style=\"font-size:10.0pt;color:#4472C4\">\n",
      "      03-Apr-2024\n",
      "     </span>\n",
      "     <span style=\"font-size:10.0pt\">\n",
      "      <o:p>\n",
      "      </o:p>\n",
      "     </span>\n",
      "    </p>\n",
      "   </td>\n",
      "   <td style=\"width:84.85pt;border-top:none;border-left:none;border-bottom:solid windowtext 1.0pt;border-right:solid windowtext 1.0pt;padding:0in 0in 0in 0in;height:17.0pt\" valign=\"top\" width=\"113\">\n",
      "    <p align=\"center\" style=\"margin:0in;text-align:center\">\n",
      "     <span style=\"font-size:10.0pt;color:#4472C4\">\n",
      "      19-Apr-2024\n",
      "     </span>\n",
      "     <span style=\"font-size:10.0pt\">\n",
      "      <o:p>\n",
      "      </o:p>\n",
      "     </span>\n",
      "    </p>\n",
      "   </td>\n",
      "   <td style=\"width:84.85pt;border-top:none;border-left:none;border-bottom:solid windowtext 1.0pt;border-right:solid windowtext 1.0pt;padding:0in 5.4pt 0in 5.4pt;height:17.0pt\" valign=\"top\" width=\"113\">\n",
      "    <p align=\"center\" style=\"margin:0in;text-align:center\">\n",
      "     <span style=\"font-size:10.0pt;color:#4472C4\">\n",
      "      100%\n",
      "     </span>\n",
      "     <span style=\"font-size:10.0pt\">\n",
      "      <o:p>\n",
      "      </o:p>\n",
      "     </span>\n",
      "    </p>\n",
      "   </td>\n",
      "   <td style=\"width:85.05pt;border-top:none;border-left:none;border-bottom:solid windowtext 1.0pt;border-right:solid windowtext 1.0pt;padding:0in 5.4pt 0in 5.4pt;height:17.0pt\" valign=\"top\" width=\"113\">\n",
      "    <p align=\"center\" style=\"margin:0in;text-align:center\">\n",
      "     <span style=\"font-size:10.0pt;color:#4472C4\">\n",
      "      100%\n",
      "     </span>\n",
      "     <span style=\"font-size:10.0pt\">\n",
      "      <o:p>\n",
      "      </o:p>\n",
      "     </span>\n",
      "    </p>\n",
      "   </td>\n",
      "   <td style=\"width:85.05pt;border-top:none;border-left:none;border-bottom:solid windowtext 1.0pt;border-right:solid windowtext 1.0pt;padding:0in 0in 0in 0in;height:17.0pt\" valign=\"top\" width=\"113\">\n",
      "    <p align=\"center\" style=\"margin:0in;text-align:center\">\n",
      "     <span style=\"font-size:10.0pt;color:#4472C4\">\n",
      "      100%\n",
      "     </span>\n",
      "     <span style=\"font-size:10.0pt\">\n",
      "      <o:p>\n",
      "      </o:p>\n",
      "     </span>\n",
      "    </p>\n",
      "   </td>\n",
      "   <td style=\"width:85.05pt;border-top:none;border-left:none;border-bottom:solid windowtext 1.0pt;border-right:solid windowtext 1.0pt;padding:0in 0in 0in 0in;height:17.0pt\" valign=\"top\" width=\"113\">\n",
      "    <p align=\"center\" style=\"margin:0in;text-align:center\">\n",
      "     <span style=\"font-size:10.0pt;color:#4472C4\">\n",
      "      0%\n",
      "     </span>\n",
      "     <span style=\"font-size:10.0pt\">\n",
      "      <o:p>\n",
      "      </o:p>\n",
      "     </span>\n",
      "    </p>\n",
      "   </td>\n",
      "   <td style=\"width:2.6in;border-top:none;border-left:none;border-bottom:solid windowtext 1.0pt;border-right:solid windowtext 1.0pt;padding:0in 0in 0in 0in;height:17.0pt\" valign=\"top\" width=\"250\">\n",
      "    <p align=\"center\" style=\"margin:0in;text-align:center\">\n",
      "     <span style=\"font-size:10.0pt;color:#4472C4\">\n",
      "      Completed. Pending Sign-Off\n",
      "     </span>\n",
      "     <span style=\"font-size:10.0pt\">\n",
      "      <o:p>\n",
      "      </o:p>\n",
      "     </span>\n",
      "    </p>\n",
      "   </td>\n",
      "  </tr>\n",
      "  <tr style=\"height:17.0pt\">\n",
      "   <td style=\"width:116.85pt;border:solid windowtext 1.0pt;border-top:none;background:#E9FED6;padding:0in 5.4pt 0in 5.4pt;height:17.0pt\" valign=\"top\" width=\"156\">\n",
      "    <p align=\"center\" style=\"margin:0in;text-align:center\">\n",
      "     <span style=\"font-size:10.0pt;color:#4472C4\">\n",
      "      DataSecurity\n",
      "     </span>\n",
      "     <span style=\"font-size:10.0pt\">\n",
      "      <o:p>\n",
      "      </o:p>\n",
      "     </span>\n",
      "    </p>\n",
      "   </td>\n",
      "   <td style=\"width:116.85pt;border-top:none;border-left:none;border-bottom:solid windowtext 1.0pt;border-right:solid windowtext 1.0pt;padding:0in 5.4pt 0in 5.4pt;height:17.0pt\" valign=\"top\" width=\"156\">\n",
      "    <p align=\"center\" style=\"margin:0in;text-align:center\">\n",
      "     <span style=\"font-size:10.0pt;color:#4472C4\">\n",
      "      05-Apr-2024\n",
      "     </span>\n",
      "     <span style=\"font-size:10.0pt\">\n",
      "      <o:p>\n",
      "      </o:p>\n",
      "     </span>\n",
      "    </p>\n",
      "   </td>\n",
      "   <td style=\"width:84.85pt;border-top:none;border-left:none;border-bottom:solid windowtext 1.0pt;border-right:solid windowtext 1.0pt;padding:0in 0in 0in 0in;height:17.0pt\" valign=\"top\" width=\"113\">\n",
      "    <p align=\"center\" style=\"margin:0in;text-align:center\">\n",
      "     <span style=\"font-size:10.0pt;color:#4472C4\">\n",
      "      03-May-2024\n",
      "     </span>\n",
      "     <span style=\"font-size:10.0pt\">\n",
      "      <o:p>\n",
      "      </o:p>\n",
      "     </span>\n",
      "    </p>\n",
      "   </td>\n",
      "   <td style=\"width:84.85pt;border-top:none;border-left:none;border-bottom:solid windowtext 1.0pt;border-right:solid windowtext 1.0pt;padding:0in 5.4pt 0in 5.4pt;height:17.0pt\" valign=\"top\" width=\"113\">\n",
      "    <p align=\"center\" style=\"margin:0in;text-align:center\">\n",
      "     <span style=\"font-size:10.0pt;color:#4472C4\">\n",
      "      100%\n",
      "     </span>\n",
      "     <span style=\"font-size:10.0pt\">\n",
      "      <o:p>\n",
      "      </o:p>\n",
      "     </span>\n",
      "    </p>\n",
      "   </td>\n",
      "   <td style=\"width:85.05pt;border-top:none;border-left:none;border-bottom:solid windowtext 1.0pt;border-right:solid windowtext 1.0pt;padding:0in 5.4pt 0in 5.4pt;height:17.0pt\" valign=\"top\" width=\"113\">\n",
      "    <p align=\"center\" style=\"margin:0in;text-align:center\">\n",
      "     <span style=\"font-size:10.0pt;color:#4472C4\">\n",
      "      100%\n",
      "     </span>\n",
      "     <span style=\"font-size:10.0pt\">\n",
      "      <o:p>\n",
      "      </o:p>\n",
      "     </span>\n",
      "    </p>\n",
      "   </td>\n",
      "   <td style=\"width:85.05pt;border-top:none;border-left:none;border-bottom:solid windowtext 1.0pt;border-right:solid windowtext 1.0pt;padding:0in 0in 0in 0in;height:17.0pt\" valign=\"top\" width=\"113\">\n",
      "    <p align=\"center\" style=\"margin:0in;text-align:center\">\n",
      "     <span style=\"font-size:10.0pt;color:#4472C4\">\n",
      "      100%\n",
      "      <o:p>\n",
      "      </o:p>\n",
      "     </span>\n",
      "    </p>\n",
      "   </td>\n",
      "   <td style=\"width:85.05pt;border-top:none;border-left:none;border-bottom:solid windowtext 1.0pt;border-right:solid windowtext 1.0pt;padding:0in 0in 0in 0in;height:17.0pt\" valign=\"top\" width=\"113\">\n",
      "    <p align=\"center\" style=\"margin:0in;text-align:center\">\n",
      "     <span style=\"font-size:10.0pt;color:#4472C4\">\n",
      "      0%\n",
      "      <o:p>\n",
      "      </o:p>\n",
      "     </span>\n",
      "    </p>\n",
      "   </td>\n",
      "   <td style=\"width:2.6in;border-top:none;border-left:none;border-bottom:solid windowtext 1.0pt;border-right:solid windowtext 1.0pt;padding:0in 0in 0in 0in;height:17.0pt\" valign=\"top\" width=\"250\">\n",
      "    <p align=\"center\" style=\"margin:0in;text-align:center\">\n",
      "     <span style=\"font-size:10.0pt;color:#4472C4\">\n",
      "      Completed. Pending Sign-Off\n",
      "     </span>\n",
      "     <span style=\"font-size:10.0pt\">\n",
      "      <o:p>\n",
      "      </o:p>\n",
      "     </span>\n",
      "    </p>\n",
      "   </td>\n",
      "  </tr>\n",
      "  <tr style=\"height:17.0pt\">\n",
      "   <td style=\"width:116.85pt;border:solid windowtext 1.0pt;border-top:none;background:#E9FED6;padding:0in 5.4pt 0in 5.4pt;height:17.0pt\" valign=\"top\" width=\"156\">\n",
      "    <p align=\"center\" style=\"margin:0in;text-align:center\">\n",
      "     <span style=\"font-size:10.0pt;color:#4472C4\">\n",
      "      MetadataManagement\n",
      "     </span>\n",
      "     <span style=\"font-size:10.0pt\">\n",
      "      <o:p>\n",
      "      </o:p>\n",
      "     </span>\n",
      "    </p>\n",
      "   </td>\n",
      "   <td style=\"width:116.85pt;border-top:none;border-left:none;border-bottom:solid windowtext 1.0pt;border-right:solid windowtext 1.0pt;padding:0in 5.4pt 0in 5.4pt;height:17.0pt\" valign=\"top\" width=\"156\">\n",
      "    <p align=\"center\" style=\"margin:0in;text-align:center\">\n",
      "     <span style=\"font-size:10.0pt;color:#4472C4\">\n",
      "      05-Apr-2024\n",
      "     </span>\n",
      "     <span style=\"font-size:10.0pt\">\n",
      "      <o:p>\n",
      "      </o:p>\n",
      "     </span>\n",
      "    </p>\n",
      "   </td>\n",
      "   <td style=\"width:84.85pt;border-top:none;border-left:none;border-bottom:solid windowtext 1.0pt;border-right:solid windowtext 1.0pt;padding:0in 0in 0in 0in;height:17.0pt\" valign=\"top\" width=\"113\">\n",
      "    <p align=\"center\" style=\"margin:0in;text-align:center\">\n",
      "     <span style=\"font-size:10.0pt;color:#4472C4\">\n",
      "      30-Apr-2024\n",
      "     </span>\n",
      "     <span style=\"font-size:10.0pt\">\n",
      "      <o:p>\n",
      "      </o:p>\n",
      "     </span>\n",
      "    </p>\n",
      "   </td>\n",
      "   <td style=\"width:84.85pt;border-top:none;border-left:none;border-bottom:solid windowtext 1.0pt;border-right:solid windowtext 1.0pt;padding:0in 5.4pt 0in 5.4pt;height:17.0pt\" valign=\"top\" width=\"113\">\n",
      "    <p align=\"center\" style=\"margin:0in;text-align:center\">\n",
      "     <span style=\"font-size:10.0pt;color:#4472C4\">\n",
      "      100%\n",
      "     </span>\n",
      "     <span style=\"font-size:10.0pt\">\n",
      "      <o:p>\n",
      "      </o:p>\n",
      "     </span>\n",
      "    </p>\n",
      "   </td>\n",
      "   <td style=\"width:85.05pt;border-top:none;border-left:none;border-bottom:solid windowtext 1.0pt;border-right:solid windowtext 1.0pt;padding:0in 5.4pt 0in 5.4pt;height:17.0pt\" valign=\"top\" width=\"113\">\n",
      "    <p align=\"center\" style=\"margin:0in;text-align:center\">\n",
      "     <span style=\"font-size:10.0pt;color:#4472C4\">\n",
      "      100%\n",
      "     </span>\n",
      "     <span style=\"font-size:10.0pt\">\n",
      "      <o:p>\n",
      "      </o:p>\n",
      "     </span>\n",
      "    </p>\n",
      "   </td>\n",
      "   <td style=\"width:85.05pt;border-top:none;border-left:none;border-bottom:solid windowtext 1.0pt;border-right:solid windowtext 1.0pt;padding:0in 0in 0in 0in;height:17.0pt\" valign=\"top\" width=\"113\">\n",
      "    <p align=\"center\" style=\"margin:0in;text-align:center\">\n",
      "     <span style=\"font-size:10.0pt;color:#4472C4\">\n",
      "      100%\n",
      "      <o:p>\n",
      "      </o:p>\n",
      "     </span>\n",
      "    </p>\n",
      "   </td>\n",
      "   <td style=\"width:85.05pt;border-top:none;border-left:none;border-bottom:solid windowtext 1.0pt;border-right:solid windowtext 1.0pt;padding:0in 0in 0in 0in;height:17.0pt\" valign=\"top\" width=\"113\">\n",
      "    <p align=\"center\" style=\"margin:0in;text-align:center\">\n",
      "     <span style=\"font-size:10.0pt;color:#4472C4\">\n",
      "      0%\n",
      "      <o:p>\n",
      "      </o:p>\n",
      "     </span>\n",
      "    </p>\n",
      "   </td>\n",
      "   <td style=\"width:2.6in;border-top:none;border-left:none;border-bottom:solid windowtext 1.0pt;border-right:solid windowtext 1.0pt;padding:0in 0in 0in 0in;height:17.0pt\" valign=\"top\" width=\"250\">\n",
      "    <p align=\"center\" style=\"margin:0in;text-align:center\">\n",
      "     <span style=\"font-size:10.0pt;color:#4472C4\">\n",
      "      Completed. Pending Sign-Off\n",
      "     </span>\n",
      "     <span style=\"font-size:10.0pt\">\n",
      "      <o:p>\n",
      "      </o:p>\n",
      "     </span>\n",
      "    </p>\n",
      "   </td>\n",
      "  </tr>\n",
      "  <tr style=\"height:17.0pt\">\n",
      "   <td style=\"width:116.85pt;border:solid windowtext 1.0pt;border-top:none;background:#E9FED6;padding:0in 5.4pt 0in 5.4pt;height:17.0pt\" valign=\"top\" width=\"156\">\n",
      "    <p align=\"center\" style=\"margin:0in;text-align:center\">\n",
      "     <span style=\"font-size:10.0pt;color:#4472C4\">\n",
      "      GCIF\n",
      "     </span>\n",
      "     <span style=\"font-size:10.0pt\">\n",
      "      <o:p>\n",
      "      </o:p>\n",
      "     </span>\n",
      "    </p>\n",
      "   </td>\n",
      "   <td style=\"width:116.85pt;border-top:none;border-left:none;border-bottom:solid windowtext 1.0pt;border-right:solid windowtext 1.0pt;padding:0in 5.4pt 0in 5.4pt;height:17.0pt\" valign=\"top\" width=\"156\">\n",
      "    <p align=\"center\" style=\"margin:0in;text-align:center\">\n",
      "     <span style=\"font-size:10.0pt;color:#4472C4\">\n",
      "      08-Apr-2024\n",
      "     </span>\n",
      "     <span style=\"font-size:10.0pt\">\n",
      "      <o:p>\n",
      "      </o:p>\n",
      "     </span>\n",
      "    </p>\n",
      "   </td>\n",
      "   <td style=\"width:84.85pt;border-top:none;border-left:none;border-bottom:solid windowtext 1.0pt;border-right:solid windowtext 1.0pt;padding:0in 0in 0in 0in;height:17.0pt\" valign=\"top\" width=\"113\">\n",
      "    <p align=\"center\" style=\"margin:0in;text-align:center\">\n",
      "     <span style=\"font-size:10.0pt;color:#4472C4\">\n",
      "      06-May-2024\n",
      "     </span>\n",
      "     <span style=\"font-size:10.0pt\">\n",
      "      <o:p>\n",
      "      </o:p>\n",
      "     </span>\n",
      "    </p>\n",
      "   </td>\n",
      "   <td style=\"width:84.85pt;border-top:none;border-left:none;border-bottom:solid windowtext 1.0pt;border-right:solid windowtext 1.0pt;padding:0in 5.4pt 0in 5.4pt;height:17.0pt\" valign=\"top\" width=\"113\">\n",
      "    <p align=\"center\" style=\"margin:0in;text-align:center\">\n",
      "     <span style=\"font-size:10.0pt;color:#4472C4\">\n",
      "      100%\n",
      "     </span>\n",
      "     <span style=\"font-size:10.0pt\">\n",
      "      <o:p>\n",
      "      </o:p>\n",
      "     </span>\n",
      "    </p>\n",
      "   </td>\n",
      "   <td style=\"width:85.05pt;border-top:none;border-left:none;border-bottom:solid windowtext 1.0pt;border-right:solid windowtext 1.0pt;padding:0in 5.4pt 0in 5.4pt;height:17.0pt\" valign=\"top\" width=\"113\">\n",
      "    <p align=\"center\" style=\"margin:0in;text-align:center\">\n",
      "     <span style=\"font-size:10.0pt;color:#4472C4\">\n",
      "      100%\n",
      "     </span>\n",
      "     <span style=\"font-size:10.0pt\">\n",
      "      <o:p>\n",
      "      </o:p>\n",
      "     </span>\n",
      "    </p>\n",
      "   </td>\n",
      "   <td style=\"width:85.05pt;border-top:none;border-left:none;border-bottom:solid windowtext 1.0pt;border-right:solid windowtext 1.0pt;padding:0in 0in 0in 0in;height:17.0pt\" valign=\"top\" width=\"113\">\n",
      "    <p align=\"center\" style=\"margin:0in;text-align:center\">\n",
      "     <span style=\"font-size:10.0pt;color:#4472C4\">\n",
      "      100%\n",
      "      <o:p>\n",
      "      </o:p>\n",
      "     </span>\n",
      "    </p>\n",
      "   </td>\n",
      "   <td style=\"width:85.05pt;border-top:none;border-left:none;border-bottom:solid windowtext 1.0pt;border-right:solid windowtext 1.0pt;padding:0in 0in 0in 0in;height:17.0pt\" valign=\"top\" width=\"113\">\n",
      "    <p align=\"center\" style=\"margin:0in;text-align:center\">\n",
      "     <span style=\"font-size:10.0pt;color:#4472C4\">\n",
      "      0%\n",
      "      <o:p>\n",
      "      </o:p>\n",
      "     </span>\n",
      "    </p>\n",
      "   </td>\n",
      "   <td style=\"width:2.6in;border-top:none;border-left:none;border-bottom:solid windowtext 1.0pt;border-right:solid windowtext 1.0pt;padding:0in 0in 0in 0in;height:17.0pt\" valign=\"top\" width=\"250\">\n",
      "    <p align=\"center\" style=\"margin:0in;text-align:center\">\n",
      "     <span style=\"font-size:10.0pt;color:#4472C4\">\n",
      "      Completed. Pending Sign-Off\n",
      "     </span>\n",
      "     <span style=\"font-size:10.0pt\">\n",
      "      <o:p>\n",
      "      </o:p>\n",
      "     </span>\n",
      "    </p>\n",
      "   </td>\n",
      "  </tr>\n",
      "  <tr style=\"height:17.0pt\">\n",
      "   <td style=\"width:116.85pt;border:solid windowtext 1.0pt;border-top:none;background:#E9FED6;padding:0in 5.4pt 0in 5.4pt;height:17.0pt\" valign=\"top\" width=\"156\">\n",
      "    <p align=\"center\" style=\"margin:0in;text-align:center\">\n",
      "     <span style=\"font-size:10.0pt;color:#4472C4\">\n",
      "      CDL\n",
      "      <o:p>\n",
      "      </o:p>\n",
      "     </span>\n",
      "    </p>\n",
      "   </td>\n",
      "   <td style=\"width:116.85pt;border-top:none;border-left:none;border-bottom:solid windowtext 1.0pt;border-right:solid windowtext 1.0pt;padding:0in 5.4pt 0in 5.4pt;height:17.0pt\" valign=\"top\" width=\"156\">\n",
      "    <p align=\"center\" style=\"margin:0in;text-align:center\">\n",
      "     <span style=\"font-size:10.0pt;color:#4472C4\">\n",
      "      07-May-2024\n",
      "      <o:p>\n",
      "      </o:p>\n",
      "     </span>\n",
      "    </p>\n",
      "   </td>\n",
      "   <td style=\"width:84.85pt;border-top:none;border-left:none;border-bottom:solid windowtext 1.0pt;border-right:solid windowtext 1.0pt;padding:0in 0in 0in 0in;height:17.0pt\" valign=\"top\" width=\"113\">\n",
      "    <p align=\"center\" style=\"margin:0in;text-align:center\">\n",
      "     <span style=\"font-size:10.0pt;color:#4472C4\">\n",
      "      08-May-2024\n",
      "      <o:p>\n",
      "      </o:p>\n",
      "     </span>\n",
      "    </p>\n",
      "   </td>\n",
      "   <td style=\"width:84.85pt;border-top:none;border-left:none;border-bottom:solid windowtext 1.0pt;border-right:solid windowtext 1.0pt;padding:0in 5.4pt 0in 5.4pt;height:17.0pt\" valign=\"top\" width=\"113\">\n",
      "    <p align=\"center\" style=\"margin:0in;text-align:center\">\n",
      "     <span style=\"font-size:10.0pt;color:#4472C4\">\n",
      "      100%\n",
      "      <o:p>\n",
      "      </o:p>\n",
      "     </span>\n",
      "    </p>\n",
      "   </td>\n",
      "   <td style=\"width:85.05pt;border-top:none;border-left:none;border-bottom:solid windowtext 1.0pt;border-right:solid windowtext 1.0pt;padding:0in 5.4pt 0in 5.4pt;height:17.0pt\" valign=\"top\" width=\"113\">\n",
      "    <p align=\"center\" style=\"margin:0in;text-align:center\">\n",
      "     <span style=\"font-size:10.0pt;color:#4472C4\">\n",
      "      100%\n",
      "      <o:p>\n",
      "      </o:p>\n",
      "     </span>\n",
      "    </p>\n",
      "   </td>\n",
      "   <td style=\"width:85.05pt;border-top:none;border-left:none;border-bottom:solid windowtext 1.0pt;border-right:solid windowtext 1.0pt;padding:0in 0in 0in 0in;height:17.0pt\" valign=\"top\" width=\"113\">\n",
      "    <p align=\"center\" style=\"margin:0in;text-align:center\">\n",
      "     <span style=\"font-size:10.0pt;color:#4472C4\">\n",
      "      100%\n",
      "      <o:p>\n",
      "      </o:p>\n",
      "     </span>\n",
      "    </p>\n",
      "   </td>\n",
      "   <td style=\"width:85.05pt;border-top:none;border-left:none;border-bottom:solid windowtext 1.0pt;border-right:solid windowtext 1.0pt;padding:0in 0in 0in 0in;height:17.0pt\" valign=\"top\" width=\"113\">\n",
      "    <p align=\"center\" style=\"margin:0in;text-align:center\">\n",
      "     <span style=\"font-size:10.0pt;color:#4472C4\">\n",
      "      0%\n",
      "      <o:p>\n",
      "      </o:p>\n",
      "     </span>\n",
      "    </p>\n",
      "   </td>\n",
      "   <td style=\"width:2.6in;border-top:none;border-left:none;border-bottom:solid windowtext 1.0pt;border-right:solid windowtext 1.0pt;padding:0in 0in 0in 0in;height:17.0pt\" valign=\"top\" width=\"250\">\n",
      "    <p align=\"center\" style=\"margin:0in;text-align:center\">\n",
      "     <span style=\"font-size:10.0pt;color:#4472C4\">\n",
      "      Completed. Pending Sign-Off\n",
      "      <o:p>\n",
      "      </o:p>\n",
      "     </span>\n",
      "    </p>\n",
      "   </td>\n",
      "  </tr>\n",
      "  <tr style=\"height:17.0pt\">\n",
      "   <td style=\"width:116.85pt;border:solid windowtext 1.0pt;border-top:none;background:#E9FED6;padding:0in 5.4pt 0in 5.4pt;height:17.0pt\" valign=\"top\" width=\"156\">\n",
      "    <p align=\"center\" style=\"margin:0in;text-align:center\">\n",
      "     <span style=\"font-size:10.0pt;color:#4472C4\">\n",
      "      GCIF Dashboard\n",
      "     </span>\n",
      "     <span style=\"font-size:10.0pt\">\n",
      "      <o:p>\n",
      "      </o:p>\n",
      "     </span>\n",
      "    </p>\n",
      "   </td>\n",
      "   <td style=\"width:116.85pt;border-top:none;border-left:none;border-bottom:solid windowtext 1.0pt;border-right:solid windowtext 1.0pt;padding:0in 5.4pt 0in 5.4pt;height:17.0pt\" valign=\"top\" width=\"156\">\n",
      "    <p align=\"center\" style=\"margin:0in;text-align:center\">\n",
      "     <span style=\"font-size:10.0pt;color:#4472C4\">\n",
      "      15-Apr-2024\n",
      "     </span>\n",
      "     <span style=\"font-size:10.0pt\">\n",
      "      <o:p>\n",
      "      </o:p>\n",
      "     </span>\n",
      "    </p>\n",
      "   </td>\n",
      "   <td style=\"width:84.85pt;border-top:none;border-left:none;border-bottom:solid windowtext 1.0pt;border-right:solid windowtext 1.0pt;padding:0in 0in 0in 0in;height:17.0pt\" valign=\"top\" width=\"113\">\n",
      "    <p align=\"center\" style=\"margin:0in;text-align:center\">\n",
      "     <span style=\"font-size:10.0pt;color:#4472C4\">\n",
      "      10-May-2024\n",
      "     </span>\n",
      "     <span style=\"font-size:10.0pt\">\n",
      "      <o:p>\n",
      "      </o:p>\n",
      "     </span>\n",
      "    </p>\n",
      "   </td>\n",
      "   <td style=\"width:84.85pt;border-top:none;border-left:none;border-bottom:solid windowtext 1.0pt;border-right:solid windowtext 1.0pt;padding:0in 5.4pt 0in 5.4pt;height:17.0pt\" valign=\"top\" width=\"113\">\n",
      "    <p align=\"center\" style=\"margin:0in;text-align:center\">\n",
      "     <span style=\"font-size:10.0pt;color:#4472C4\">\n",
      "      100%\n",
      "     </span>\n",
      "     <span style=\"font-size:10.0pt\">\n",
      "      <o:p>\n",
      "      </o:p>\n",
      "     </span>\n",
      "    </p>\n",
      "   </td>\n",
      "   <td style=\"width:85.05pt;border-top:none;border-left:none;border-bottom:solid windowtext 1.0pt;border-right:solid windowtext 1.0pt;padding:0in 5.4pt 0in 5.4pt;height:17.0pt\" valign=\"top\" width=\"113\">\n",
      "    <p align=\"center\" style=\"margin:0in;text-align:center\">\n",
      "     <span style=\"font-size:10.0pt;color:#4472C4\">\n",
      "      100%\n",
      "     </span>\n",
      "     <span style=\"font-size:10.0pt\">\n",
      "      <o:p>\n",
      "      </o:p>\n",
      "     </span>\n",
      "    </p>\n",
      "   </td>\n",
      "   <td style=\"width:85.05pt;border-top:none;border-left:none;border-bottom:solid windowtext 1.0pt;border-right:solid windowtext 1.0pt;padding:0in 0in 0in 0in;height:17.0pt\" valign=\"top\" width=\"113\">\n",
      "    <p align=\"center\" style=\"margin:0in;text-align:center\">\n",
      "     <span style=\"font-size:10.0pt;color:#4472C4\">\n",
      "      100%\n",
      "      <o:p>\n",
      "      </o:p>\n",
      "     </span>\n",
      "    </p>\n",
      "   </td>\n",
      "   <td style=\"width:85.05pt;border-top:none;border-left:none;border-bottom:solid windowtext 1.0pt;border-right:solid windowtext 1.0pt;padding:0in 0in 0in 0in;height:17.0pt\" valign=\"top\" width=\"113\">\n",
      "    <p align=\"center\" style=\"margin:0in;text-align:center\">\n",
      "     <span style=\"font-size:10.0pt;color:#4472C4\">\n",
      "      0%\n",
      "      <o:p>\n",
      "      </o:p>\n",
      "     </span>\n",
      "    </p>\n",
      "   </td>\n",
      "   <td style=\"width:2.6in;border-top:none;border-left:none;border-bottom:solid windowtext 1.0pt;border-right:solid windowtext 1.0pt;padding:0in 0in 0in 0in;height:17.0pt\" valign=\"top\" width=\"250\">\n",
      "    <p align=\"center\" style=\"margin:0in;text-align:center\">\n",
      "     <span style=\"font-size:10.0pt;color:#4472C4\">\n",
      "      Started\n",
      "     </span>\n",
      "     <span style=\"font-size:10.0pt\">\n",
      "      <o:p>\n",
      "      </o:p>\n",
      "     </span>\n",
      "    </p>\n",
      "   </td>\n",
      "  </tr>\n",
      " </tbody>\n",
      "</table>\n",
      "\n"
     ]
    }
   ],
   "source": [
    "\n",
    "from bs4 import BeautifulSoup\n",
    "count = 0\n",
    "for message in list(restrict_messages):\n",
    "    html = message.HTMLbody # Convert win32com.client.CDispatch to str\n",
    "    soup = BeautifulSoup(html) # Convert the mail content from string to soup object\n",
    "    all_tables = soup.find_all(name='table', attrs={'class':'MsoNormalTable'})\n",
    "    print(all_tables[0].prettify())\n",
    "    count += 1\n",
    "    if count == 1:\n",
    "        break"
   ]
  },
  {
   "cell_type": "code",
   "execution_count": 13,
   "id": "278fc41d-8f3e-4950-a199-373b3a0405ae",
   "metadata": {},
   "outputs": [],
   "source": [
    "# Using pickle"
   ]
  },
  {
   "cell_type": "code",
   "execution_count": 14,
   "id": "4c1f1952-2f95-4491-a693-3dd3f9ea672d",
   "metadata": {},
   "outputs": [
    {
     "name": "stdout",
     "output_type": "stream",
     "text": [
      "CPU times: total: 20 s\n",
      "Wall time: 45.4 s\n"
     ]
    }
   ],
   "source": [
    "%%time\n",
    "# Writing the file - pickling\n",
    "big_list = []\n",
    "for message in restrict_messages:\n",
    "    html = message.HTMLbody\n",
    "    soup = BeautifulSoup(html)\n",
    "    big_list.append(soup)\n",
    "    \n",
    "import pickle\n",
    "with open('outfile.pkl', 'wb') as fp:\n",
    "    pickle.dump(big_list, fp)"
   ]
  },
  {
   "cell_type": "code",
   "execution_count": 15,
   "id": "20a78344-6715-409b-9de2-96d61f00b933",
   "metadata": {},
   "outputs": [
    {
     "name": "stdout",
     "output_type": "stream",
     "text": [
      "CPU times: total: 4.91 s\n",
      "Wall time: 8.06 s\n"
     ]
    }
   ],
   "source": [
    "%%time\n",
    "# Writing to txt\n",
    "with open('outfile.txt', 'w') as f:\n",
    "    for line in big_list:\n",
    "        f.write(f\"{line}\\n\")"
   ]
  },
  {
   "cell_type": "code",
   "execution_count": 16,
   "id": "683c962a-cd16-448c-91dd-ea35a8ce5e88",
   "metadata": {},
   "outputs": [
    {
     "name": "stdout",
     "output_type": "stream",
     "text": [
      "CPU times: total: 37.3 s\n",
      "Wall time: 54.3 s\n"
     ]
    }
   ],
   "source": [
    "%%time\n",
    "# Serialise data - takes one minute\n",
    "import yaml\n",
    "serialized_data = yaml.dump(big_list)"
   ]
  },
  {
   "cell_type": "code",
   "execution_count": 17,
   "id": "a00ea4ce-0bb6-42cc-ba18-20a0b9324d4c",
   "metadata": {},
   "outputs": [
    {
     "name": "stdout",
     "output_type": "stream",
     "text": [
      "CPU times: total: 438 ms\n",
      "Wall time: 710 ms\n"
     ]
    }
   ],
   "source": [
    "%%time\n",
    "import gzip\n",
    "with gzip.open(\"outfile.gz\", \"wb\") as f:\n",
    "    f.write(serialized_data.encode('utf-8')) # Encode to bytes if not already"
   ]
  },
  {
   "cell_type": "code",
   "execution_count": 18,
   "id": "dcb67f9d-0738-454e-9970-a21094288e70",
   "metadata": {},
   "outputs": [
    {
     "name": "stdout",
     "output_type": "stream",
     "text": [
      "CPU times: total: 1.88 s\n",
      "Wall time: 2.77 s\n"
     ]
    }
   ],
   "source": [
    "%%time\n",
    "import lzma\n",
    "with lzma.open(\"outfile.xz\", \"wb\") as f:\n",
    "    f.write(serialized_data.encode('utf-8'))"
   ]
  },
  {
   "cell_type": "markdown",
   "id": "8854a294-7624-41a0-a3d2-4a924dbaed3c",
   "metadata": {},
   "source": [
    "## Reading the pickle file\n",
    "> "
   ]
  },
  {
   "cell_type": "code",
   "execution_count": 19,
   "id": "61a1815a-5606-4bf9-b87e-60f68c72f7f2",
   "metadata": {},
   "outputs": [
    {
     "name": "stdout",
     "output_type": "stream",
     "text": [
      "CPU times: total: 17.5 s\n",
      "Wall time: 25.6 s\n"
     ]
    }
   ],
   "source": [
    "%%time\n",
    "# Takes a while to read the pickle\n",
    "import pickle\n",
    "# Reading the file - unpickling\n",
    "with open ('outfile.pkl', 'rb') as fp:\n",
    "    itemlist = pickle.load(fp)"
   ]
  },
  {
   "cell_type": "code",
   "execution_count": 20,
   "id": "6dba6e25-2de4-45bd-a576-6332a44953c1",
   "metadata": {},
   "outputs": [
    {
     "data": {
      "text/plain": [
       "bs4.BeautifulSoup"
      ]
     },
     "execution_count": 20,
     "metadata": {},
     "output_type": "execute_result"
    }
   ],
   "source": [
    "message = itemlist[0]\n",
    "type(message)"
   ]
  },
  {
   "cell_type": "code",
   "execution_count": 21,
   "id": "8895f2b8-38be-4a6e-bb74-d62e167a7bd9",
   "metadata": {},
   "outputs": [
    {
     "data": {
      "text/plain": [
       "win32com.client.CDispatch"
      ]
     },
     "execution_count": 21,
     "metadata": {},
     "output_type": "execute_result"
    }
   ],
   "source": [
    "message_email = restrict_messages[0]\n",
    "type(message_email)"
   ]
  },
  {
   "cell_type": "markdown",
   "id": "48a48e28-715d-41f9-8d89-4d78c699bc03",
   "metadata": {},
   "source": [
    "The best check is to look for the following 'special' phrasing in the paragraph tags, \n",
    "> Below is the status update as of "
   ]
  },
  {
   "cell_type": "code",
   "execution_count": 22,
   "id": "38956da9-3abc-4b8b-b14e-d4552a15f5be",
   "metadata": {},
   "outputs": [
    {
     "name": "stdout",
     "output_type": "stream",
     "text": [
      "Using itemlist\n",
      "possible_date_str : 10-May-2024 with type : <class 'str'>\n",
      "backtostring 10-May-2024 with type : <class 'str'>\n"
     ]
    }
   ],
   "source": [
    "import dateutil.parser\n",
    "from dateutil.parser import ParserError\n",
    "from bs4 import BeautifulSoup\n",
    "import re\n",
    "# Define variable restrict_messages or itemlist\n",
    "message = itemlist[0] # or itemlist[0] # list(restrict_messages)[2]\n",
    "try: # Will fail for itme list\n",
    "    my_html_str = message.HTMLbody # Convert win32com.client.CDispatch to str\n",
    "    my_soup = BeautifulSoup(my_html_str, \"html.parser\") # Convert the mail content from string to soup object\n",
    "except (AttributeError, TypeError): # In the event of using itemslist\n",
    "    print('Using itemlist')\n",
    "    message_str = str(message) # Each item in itemlist is actually a bs4.BeautifulSoup object! So converting to string...\n",
    "    # ... and then back to soup\n",
    "    my_soup = BeautifulSoup(message_str, \"html.parser\") # Convert the mail content from string to soup object\n",
    "    pass\n",
    "\n",
    "special_phrase = lambda x: re.compile(r'Below is the status update as of').search(x)\n",
    "# Validate the soup - ensuring we are dealing with html-like content, these email are usually attachments tongshenq has replied to.\n",
    "if my_soup.find(name='html').get('xmlns') == None:\n",
    "    print('Not valid soup')\n",
    "    pass\n",
    "else:\n",
    "    # Getting all the tables\n",
    "    my_tables_html = my_soup.find_all(name='table', attrs={'class':'MsoNormalTable'})\n",
    "    # IF a genuine report email is found, then the first-bolded text is a datestring, and the 'special' phrasing is found within the first few ptags\n",
    "    ## Get the date by retrieving the first bolded text\n",
    "    possible_date_str = my_soup.find_all(name='b')[0].text\n",
    "    ## Get the special phrasing within the first few lines\n",
    "    p_text_li = [td.text for td in my_soup.find_all('p') if td.text != str()] # return a list, i.e [text1, text2, text3, ...]\n",
    "    special_list = list(filter(special_phrase, p_text_li[:10]))\n",
    "    print(f'possible_date_str : {possible_date_str} with type : {type(possible_date_str)}')\n",
    "    try:\n",
    "        date_name = dateutil.parser.parse(possible_date_str) # like an automatic strptime()\n",
    "    except ParserError:\n",
    "        print('Conversational email, not a real status report')\n",
    "    if special_list:\n",
    "        backtostring = date_name.strftime(\"%d-%B-%Y\")\n",
    "        print(f'backtostring {backtostring} with type : {type(backtostring)}')\n",
    "    else:\n",
    "        print('Skipping this redundant email')"
   ]
  },
  {
   "cell_type": "code",
   "execution_count": 23,
   "id": "dc43bbd6-19ef-4c62-85af-0ed52c8c1a56",
   "metadata": {},
   "outputs": [
    {
     "name": "stdout",
     "output_type": "stream",
     "text": [
      "Converted date successfully 2025-07-24 00:00:00 as datatype <class 'datetime.datetime'>\n"
     ]
    }
   ],
   "source": [
    "# Quick example\n",
    "import dateutil.parser\n",
    "import datetime as dt\n",
    "datestring = '24rd July 2025'\n",
    "try:\n",
    "    yourdate = dateutil.parser.parse(datestring)\n",
    "    print(f'Converted date successfully {yourdate} as datatype {type(yourdate)}')\n",
    "except ParserError:\n",
    "    print('Error mate')"
   ]
  },
  {
   "cell_type": "code",
   "execution_count": 24,
   "id": "43799a4c-c348-4b5e-aea3-b242e8d7697c",
   "metadata": {},
   "outputs": [
    {
     "name": "stdout",
     "output_type": "stream",
     "text": [
      "From: \n",
      "<class 'str'>\n"
     ]
    },
    {
     "data": {
      "text/plain": [
       "False"
      ]
     },
     "execution_count": 24,
     "metadata": {},
     "output_type": "execute_result"
    }
   ],
   "source": [
    "# Just some code doodles\n",
    "yourdate = 'From: '\n",
    "print(yourdate)\n",
    "print(type(yourdate))\n",
    "isinstance(yourdate, dt.datetime)"
   ]
  },
  {
   "cell_type": "code",
   "execution_count": 25,
   "id": "8f17da37-e6c9-45b8-bcaf-99a80f065f68",
   "metadata": {},
   "outputs": [
    {
     "name": "stdout",
     "output_type": "stream",
     "text": [
      "The old headers are ['Track', 'Start Date', 'End Date', 'Plan Completion (%)', 'Actual Completion (%)', 'Passed Rate', 'Failed Rate', 'Remark']\n",
      "The new headers are ['Track', 'Start Date', 'End Date', 'Plan Completion (%)', 'Actual Completion (%)', 'Passed Rate', 'Failed Rate', 'Remark']\n"
     ]
    }
   ],
   "source": [
    "column_headers = []\n",
    "for i in my_tables_html[0].find_all(name=\"tr\")[0]:\n",
    "    each_header = i.text\n",
    "    column_headers.append(each_header)\n",
    "print(\"The old headers are\", column_headers)\n",
    "# column_headers = list(filter(lambda el: el != '\\n', column_headers))\n",
    "column_headers = [i.strip() for i in column_headers if i != '\\n']\n",
    "print(\"The new headers are\", column_headers)"
   ]
  },
  {
   "cell_type": "code",
   "execution_count": 26,
   "id": "e5e767e6-0664-455d-8bb6-a0827eb639d3",
   "metadata": {},
   "outputs": [],
   "source": [
    "list_of_dictionaries = []\n",
    "for meat_ in my_tables_html[4].find_all('tr')[1:]:  # Exclude the header\n",
    "    row_data = meat_.find_all('td') # Within each <tr> tag, return a list, i.e [<td>text1</td>, <td>text2</td>, <td>text3</td>, ... ]\n",
    "    row_list = [td.text for td in row_data] # return a list, i.e [text1, text2, text3, ...]\n",
    "    # Convert the two lists into a dictionary\n",
    "    main_dict_ = {column_headers[i] : row_list[i] for i in range(len(column_headers))}\n",
    "    # Append dictionary to list of dicts\n",
    "    list_of_dictionaries.append(main_dict_)"
   ]
  },
  {
   "cell_type": "code",
   "execution_count": 27,
   "id": "bb336c4c-deb7-4410-a7d7-adf65c1e98a7",
   "metadata": {
    "scrolled": true
   },
   "outputs": [],
   "source": [
    "import pandas as pd\n",
    "import numpy as np\n",
    "ex = pd.DataFrame(list_of_dictionaries)\n",
    "ex.replace({r'^\\s*-\\s*$':np.nan, '[%\\n\\r]':''}, regex=True, inplace=True)"
   ]
  },
  {
   "cell_type": "code",
   "execution_count": 28,
   "id": "4597a0d0-6e02-4aa5-b7e2-f9e160a9272e",
   "metadata": {},
   "outputs": [
    {
     "name": "stdout",
     "output_type": "stream",
     "text": [
      "Imported as a module\n",
      "Dataframe shape has 2 rows and 8 columns \n",
      "\n"
     ]
    },
    {
     "data": {
      "text/html": [
       "<div>\n",
       "<style scoped>\n",
       "    .dataframe tbody tr th:only-of-type {\n",
       "        vertical-align: middle;\n",
       "    }\n",
       "\n",
       "    .dataframe tbody tr th {\n",
       "        vertical-align: top;\n",
       "    }\n",
       "\n",
       "    .dataframe thead th {\n",
       "        text-align: right;\n",
       "    }\n",
       "</style>\n",
       "<table border=\"1\" class=\"dataframe\">\n",
       "  <thead>\n",
       "    <tr style=\"text-align: right;\">\n",
       "      <th></th>\n",
       "      <th>Column Name</th>\n",
       "      <th>Datatype</th>\n",
       "      <th>Number of Nulls</th>\n",
       "      <th>Percentage Null</th>\n",
       "      <th>Worst Row</th>\n",
       "    </tr>\n",
       "  </thead>\n",
       "  <tbody>\n",
       "    <tr>\n",
       "      <th>0</th>\n",
       "      <td>Track</td>\n",
       "      <td>object</td>\n",
       "      <td>0</td>\n",
       "      <td>0.0</td>\n",
       "      <td>Track</td>\n",
       "    </tr>\n",
       "    <tr>\n",
       "      <th>1</th>\n",
       "      <td>Start Date</td>\n",
       "      <td>object</td>\n",
       "      <td>0</td>\n",
       "      <td>0.0</td>\n",
       "      <td>Total TC</td>\n",
       "    </tr>\n",
       "    <tr>\n",
       "      <th>2</th>\n",
       "      <td>End Date</td>\n",
       "      <td>object</td>\n",
       "      <td>0</td>\n",
       "      <td>0.0</td>\n",
       "      <td>Total Plan Execution</td>\n",
       "    </tr>\n",
       "    <tr>\n",
       "      <th>3</th>\n",
       "      <td>Plan Completion (%)</td>\n",
       "      <td>object</td>\n",
       "      <td>0</td>\n",
       "      <td>0.0</td>\n",
       "      <td>Total Passed</td>\n",
       "    </tr>\n",
       "    <tr>\n",
       "      <th>4</th>\n",
       "      <td>Actual Completion (%)</td>\n",
       "      <td>object</td>\n",
       "      <td>0</td>\n",
       "      <td>0.0</td>\n",
       "      <td>Total Failed</td>\n",
       "    </tr>\n",
       "    <tr>\n",
       "      <th>5</th>\n",
       "      <td>Passed Rate</td>\n",
       "      <td>object</td>\n",
       "      <td>0</td>\n",
       "      <td>0.0</td>\n",
       "      <td>Total Not Executed</td>\n",
       "    </tr>\n",
       "    <tr>\n",
       "      <th>6</th>\n",
       "      <td>Failed Rate</td>\n",
       "      <td>object</td>\n",
       "      <td>0</td>\n",
       "      <td>0.0</td>\n",
       "      <td>Plan Execution</td>\n",
       "    </tr>\n",
       "    <tr>\n",
       "      <th>7</th>\n",
       "      <td>Remark</td>\n",
       "      <td>object</td>\n",
       "      <td>0</td>\n",
       "      <td>0.0</td>\n",
       "      <td>Executed</td>\n",
       "    </tr>\n",
       "  </tbody>\n",
       "</table>\n",
       "</div>"
      ],
      "text/plain": [
       "             Column Name Datatype  Number of Nulls  Percentage Null  \\\n",
       "0                  Track   object                0              0.0   \n",
       "1             Start Date   object                0              0.0   \n",
       "2               End Date   object                0              0.0   \n",
       "3    Plan Completion (%)   object                0              0.0   \n",
       "4  Actual Completion (%)   object                0              0.0   \n",
       "5            Passed Rate   object                0              0.0   \n",
       "6            Failed Rate   object                0              0.0   \n",
       "7                 Remark   object                0              0.0   \n",
       "\n",
       "              Worst Row  \n",
       "0                 Track  \n",
       "1              Total TC  \n",
       "2  Total Plan Execution  \n",
       "3          Total Passed  \n",
       "4          Total Failed  \n",
       "5    Total Not Executed  \n",
       "6        Plan Execution  \n",
       "7              Executed  "
      ]
     },
     "execution_count": 28,
     "metadata": {},
     "output_type": "execute_result"
    }
   ],
   "source": [
    "from analyse_dtypesANDnulls import analyse_dtypesANDnulls\n",
    "analyse_dtypesANDnulls(ex, sample_row='worst')"
   ]
  },
  {
   "cell_type": "code",
   "execution_count": 29,
   "id": "814f3f6f-5902-474e-a99d-db71416bdac7",
   "metadata": {},
   "outputs": [
    {
     "data": {
      "text/html": [
       "<div>\n",
       "<style scoped>\n",
       "    .dataframe tbody tr th:only-of-type {\n",
       "        vertical-align: middle;\n",
       "    }\n",
       "\n",
       "    .dataframe tbody tr th {\n",
       "        vertical-align: top;\n",
       "    }\n",
       "\n",
       "    .dataframe thead th {\n",
       "        text-align: right;\n",
       "    }\n",
       "</style>\n",
       "<table border=\"1\" class=\"dataframe\">\n",
       "  <thead>\n",
       "    <tr style=\"text-align: right;\">\n",
       "      <th></th>\n",
       "      <th>Track</th>\n",
       "      <th>Start Date</th>\n",
       "      <th>End Date</th>\n",
       "      <th>Plan Completion (%)</th>\n",
       "      <th>Actual Completion (%)</th>\n",
       "      <th>Passed Rate</th>\n",
       "      <th>Failed Rate</th>\n",
       "      <th>Remark</th>\n",
       "    </tr>\n",
       "  </thead>\n",
       "  <tbody>\n",
       "    <tr>\n",
       "      <th>0</th>\n",
       "      <td>Track</td>\n",
       "      <td>Total TC</td>\n",
       "      <td>Total Plan Execution</td>\n",
       "      <td>Total Passed</td>\n",
       "      <td>Total Failed</td>\n",
       "      <td>Total Not Executed</td>\n",
       "      <td>Plan Execution</td>\n",
       "      <td>Executed</td>\n",
       "    </tr>\n",
       "    <tr>\n",
       "      <th>1</th>\n",
       "      <td>GCIF Dashboard</td>\n",
       "      <td>203</td>\n",
       "      <td>203</td>\n",
       "      <td>203</td>\n",
       "      <td>0</td>\n",
       "      <td>0</td>\n",
       "      <td>37</td>\n",
       "      <td>37</td>\n",
       "    </tr>\n",
       "  </tbody>\n",
       "</table>\n",
       "</div>"
      ],
      "text/plain": [
       "            Track Start Date              End Date Plan Completion (%)  \\\n",
       "0           Track   Total TC  Total Plan Execution        Total Passed   \n",
       "1  GCIF Dashboard        203                   203                 203   \n",
       "\n",
       "  Actual Completion (%)         Passed Rate     Failed Rate    Remark  \n",
       "0          Total Failed  Total Not Executed  Plan Execution  Executed  \n",
       "1                     0                   0              37        37  "
      ]
     },
     "metadata": {},
     "output_type": "display_data"
    }
   ],
   "source": [
    "display(ex)"
   ]
  },
  {
   "cell_type": "markdown",
   "id": "4d29f85e-5cfd-4f0c-99e0-d389ac1078b2",
   "metadata": {
    "scrolled": true
   },
   "source": [
    "```python\n",
    "## Full script\n",
    "import win32com.client\n",
    "import pandas as pd\n",
    "import numpy as np\n",
    "import dateutil.parser\n",
    "from dateutil.parser import ParserError\n",
    "from bs4 import BeautifulSoup\n",
    "\n",
    "outlook = win32com.client.Dispatch('Outlook.Application')\n",
    "mapi = outlook.GetNamespace(\"MAPI\")\n",
    "inbox = mapi.GetDefaultFolder(6)\n",
    "messages = inbox.Items\n",
    "# Restrict the emails I want to analyze\n",
    "restrict_messages = [message for message in list(messages) if (re.search(pattern='GCIF Final Release', string=message.Subject)) and \\\n",
    "                     (message.SenderEmailAddress == 'leong.tongshenq@kewmann.com')]\n",
    "\n",
    "special_phrase = lambda x: re.compile(r'Below is the status update as of').search(x)\n",
    "count = 0\n",
    "dfs= {}\n",
    "for e_message in list(restrict_messages):\n",
    "    # Convert the mail content from string to soup object\n",
    "    e_html = e_message.HTMLbody\n",
    "    e_soup = BeautifulSoup(e_html)\n",
    "    # Validate the soup \n",
    "    if e_soup.find(name='html').get('xmlns') == None:\n",
    "        print('Not valid soup')\n",
    "        print(count)\n",
    "        pass\n",
    "    else:\n",
    "        # Getting all the tables\n",
    "        my_tables_html = e_soup.find_all(name='table', attrs={'class':'MsoNormalTable'})\n",
    "        # IF a genuine report email is found, then the first-bolded text is a datestring, and the 'special' phrasing is found within the first few ptags\n",
    "        ## Get the date by retrieving the first bolded text\n",
    "        possible_date_str = e_soup.find_all(name='b')[0].text\n",
    "        ## Get the special phrasing within the first few lines\n",
    "        p_text_li = [td.text for td in e_soup.find_all('p') if td.text != str()] # return a list, i.e [text1, text2, text3, ...]\n",
    "        special_list = list(filter(special_phrase, p_text_li[:10]))\n",
    "        print(f'possible_date_str : {possible_date_str}')\n",
    "        try:\n",
    "            date_name = dateutil.parser.parse(possible_date_str) # like an automatic strptime()\n",
    "        except ParserError:\n",
    "            print('Conversational email, not a real status report')\n",
    "            pass\n",
    "        if special_list:\n",
    "            date_str = date_name.strftime(\"%d-%B-%Y\")\n",
    "            # The first table in each email will be the progress table\n",
    "            e_prog_table = my_tables_html[0]\n",
    "            ## Parse HTML to pandas\n",
    "            column_headers = []\n",
    "            for i in e_prog_table.find_all(name=\"tr\")[0]:\n",
    "                each_header = i.text\n",
    "                column_headers.append(each_header)\n",
    "                # print(\"The old headers are\", column_headers)\n",
    "            column_headers = [i.strip() for i in column_headers if i != '\\n']\n",
    "            print(f'The dataframe will be named {date_str}')\n",
    "            print(\"The new headers are\", column_headers)\n",
    "            list_of_dictionaries = []\n",
    "            for meat_ in e_prog_table.find_all('tr')[1:]:  # Exclude the header\n",
    "                row_data = meat_.find_all('td') # Within each <tr> tag, return a list, i.e [<td>text1</td>, <td>text2</td>, <td>text3</td>, ... ]\n",
    "                row_list = [td.text for td in row_data] # return a list, i.e [text1, text2, text3, ...]\n",
    "                # Convert the two lists into a dictionary\n",
    "                main_dict_ = {column_headers[i] : row_list[i] for i in range(len(column_headers))}\n",
    "                # Append dictionary to list of dicts\n",
    "                list_of_dictionaries.append(main_dict_)\n",
    "                ex = pd.DataFrame(list_of_dictionaries)\n",
    "                ex.replace({r'\\s-\\s':np.NaN, '[%\\n\\r]':''}, regex=True, inplace=True)\n",
    "                # Append dataframe to dfs\n",
    "                dfs[date_name] = ex\n",
    "            count += 1\n",
    "        else:\n",
    "            print('Skipping this redundant email \\n')\n",
    "```"
   ]
  },
  {
   "cell_type": "code",
   "execution_count": 30,
   "id": "7dd5574b-b947-42a3-b59b-8b9a958a4882",
   "metadata": {},
   "outputs": [],
   "source": [
    "# Define some functions \n",
    "def HTML_table_to_df(html_table, header_index=0):\n",
    "    \"\"\"\n",
    "    Takes a html table and specify which row_index is the colum_header. Usually this will be 0.\n",
    "    \"\"\"\n",
    "    column_headers = []\n",
    "    for i in html_table.find_all(name='tr')[header_index]:\n",
    "        header = i.text\n",
    "        column_headers.append(header)\n",
    "    column_headers = [i.strip() for i in column_headers if i != '\\n']\n",
    "    list_of_dictionaries = []\n",
    "    for meat_ in html_table.find_all('tr')[header_index+1:]:  # Exclude the header\n",
    "        row_data = meat_.find_all('td') # Within each <tr> tag, return a list, i.e [<td>text1</td>, <td>text2</td>, <td>text3</td>, ... ]\n",
    "        row_list = [td.text for td in row_data] # return a list, i.e [text1, text2, text3, ...]\n",
    "        # Convert the two lists into a dictionary\n",
    "        main_dict_ = {column_headers[i] : row_list[i] for i in range(len(column_headers))}\n",
    "        # Append dictionary to list of dicts\n",
    "        list_of_dictionaries.append(main_dict_)\n",
    "        ex = pd.DataFrame(list_of_dictionaries) # \n",
    "        ex.replace({r'^\\s*-\\s*$':np.nan, '[%\\n\\r]':''}, regex=True, inplace=True)\n",
    "    return ex\n",
    "\n",
    "def change_datatype(df_suffix, column, change_to, date_format='%d-%b-%Y'):\n",
    "    \"\"\"\n",
    "    Specify a column in the dataframe and also specify the change_to.\n",
    "    \"\"\"\n",
    "    \n",
    "    e_df = dfs[f\"{date_str}_{df_suffix}\"]\n",
    "    if change_to == 'datetime':\n",
    "        e_df[column] = pd.to_datetime(e_df[column], format=date_format) \n",
    "        print(f'Diagnose {column} in {df_suffix} into datatype : {change_to}')\n",
    "    elif change_to == 'float':\n",
    "        e_df[column] = e_df[column].astype(float)\n",
    "        print(f'Diagnose {column} in {df_suffix} into datatype : {change_to}')\n",
    "    # return dfs[f\"{date_name}_progress\"][column]"
   ]
  },
  {
   "cell_type": "markdown",
   "id": "eed20e68-3d40-48aa-9754-1783bfa6d784",
   "metadata": {},
   "source": [
    "## Adding the html function"
   ]
  },
  {
   "cell_type": "markdown",
   "id": "9b7b2663-c58a-4e82-937f-fca89b720946",
   "metadata": {},
   "source": [
    "## Solved\n",
    "1.) Solving the table matching with `ambi_table` <br>\n",
    "2.) Converting to the right datatypes"
   ]
  },
  {
   "cell_type": "code",
   "execution_count": 31,
   "id": "350b0508-2209-4ad7-b614-c68a2ba72255",
   "metadata": {
    "scrolled": true
   },
   "outputs": [
    {
     "name": "stdout",
     "output_type": "stream",
     "text": [
      "DONE PROCESSING EMAILS\n",
      "\n",
      "possible_date_str : 10-May-2024\n",
      "The ambi-headers are ['Track', 'Start Date', 'End Date', 'Plan Completion (%)', 'Actual Completion (%)', 'Passed Rate', 'Failed Rate', 'Remark']\n",
      "THE DATAFRAME WILL BE NAMED 10-May-2024_Progress\n"
     ]
    },
    {
     "data": {
      "text/html": [
       "<div>\n",
       "<style scoped>\n",
       "    .dataframe tbody tr th:only-of-type {\n",
       "        vertical-align: middle;\n",
       "    }\n",
       "\n",
       "    .dataframe tbody tr th {\n",
       "        vertical-align: top;\n",
       "    }\n",
       "\n",
       "    .dataframe thead th {\n",
       "        text-align: right;\n",
       "    }\n",
       "</style>\n",
       "<table border=\"1\" class=\"dataframe\">\n",
       "  <thead>\n",
       "    <tr style=\"text-align: right;\">\n",
       "      <th></th>\n",
       "      <th>Track</th>\n",
       "      <th>Start Date</th>\n",
       "      <th>End Date</th>\n",
       "      <th>Plan Completion (%)</th>\n",
       "      <th>Actual Completion (%)</th>\n",
       "      <th>Passed Rate</th>\n",
       "      <th>Failed Rate</th>\n",
       "      <th>Remark</th>\n",
       "    </tr>\n",
       "  </thead>\n",
       "  <tbody>\n",
       "    <tr>\n",
       "      <th>0</th>\n",
       "      <td>DataLake</td>\n",
       "      <td>01-Apr-2024</td>\n",
       "      <td>19-Apr-2024</td>\n",
       "      <td>100</td>\n",
       "      <td>100</td>\n",
       "      <td>100</td>\n",
       "      <td>0</td>\n",
       "      <td>Completed. Pending Sign-Off</td>\n",
       "    </tr>\n",
       "  </tbody>\n",
       "</table>\n",
       "</div>"
      ],
      "text/plain": [
       "      Track   Start Date     End Date Plan Completion (%)  \\\n",
       "0  DataLake  01-Apr-2024  19-Apr-2024                 100   \n",
       "\n",
       "  Actual Completion (%) Passed Rate Failed Rate                       Remark  \n",
       "0                   100         100           0  Completed. Pending Sign-Off  "
      ]
     },
     "metadata": {},
     "output_type": "display_data"
    },
    {
     "name": "stdout",
     "output_type": "stream",
     "text": [
      "The ambi-headers are ['', 'Apr-2024', 'May-2024']\n",
      "The ambi-headers are ['Tracks', 'Total TC', 'Total Executed', 'Balance / Catch Up', 'Total Executed - Passed', 'Total Executed - Failed', 'Total Defects', 'Blocked by Defect', 'Backlog (catchup)', 'Yet to execute', 'NA']\n",
      "THE DATAFRAME WILL BE NAMED 10-May-2024_TC_breakdown\n",
      "The ambi-headers are ['No', 'Issue', 'Impact', 'PIC', 'Severity', 'Status']\n",
      "The ambi-headers are ['', '', 'Accumulated', 'Daily Execution']\n",
      "THE DATAFRAME WILL BE NAMED 10-May-2024_Daily\n",
      "Diagnose Start Date in Progress into datatype : datetime\n",
      "Diagnose End Date in Progress into datatype : datetime\n",
      "Diagnose Actual Completion (%) in Progress into datatype : float\n",
      "Diagnose Plan Completion (%) in Progress into datatype : float\n",
      "Diagnose Passed Rate in Progress into datatype : float\n",
      "Diagnose Failed Rate in Progress into datatype : float\n",
      "Diagnose Total TC in TC_breakdown into datatype : float\n",
      "Diagnose Total Executed in TC_breakdown into datatype : float\n",
      "Diagnose Balance / Catch Up in TC_breakdown into datatype : float\n",
      "Diagnose Total Executed - Passed in TC_breakdown into datatype : float\n",
      "Diagnose Total Executed - Failed in TC_breakdown into datatype : float\n",
      "Diagnose Total Defects in TC_breakdown into datatype : float\n",
      "Diagnose Blocked by Defect in TC_breakdown into datatype : float\n",
      "Diagnose Backlog (catchup) in TC_breakdown into datatype : float\n",
      "Diagnose Yet to execute in TC_breakdown into datatype : float\n",
      "Diagnose NA in TC_breakdown into datatype : float\n",
      "Diagnose Total TC in Daily into datatype : float\n",
      "Diagnose Total Plan Execution in Daily into datatype : float\n",
      "Diagnose Total Passed in Daily into datatype : float\n",
      "Diagnose Total Failed in Daily into datatype : float\n",
      "Diagnose Total Not Executed in Daily into datatype : float\n",
      "Diagnose Plan Execution in Daily into datatype : float\n",
      "Diagnose Executed in Daily into datatype : float\n",
      "Diagnose Passed in Daily into datatype : float\n",
      "Diagnose Failed in Daily into datatype : float\n",
      "\n",
      "possible_date_str : 09-May-2024\n",
      "The ambi-headers are ['Track', 'Start Date', 'End Date', 'Plan Completion (%)', 'Actual Completion (%)', 'Passed Rate', 'Failed Rate', 'Remark']\n",
      "THE DATAFRAME WILL BE NAMED 09-May-2024_Progress\n"
     ]
    },
    {
     "data": {
      "text/html": [
       "<div>\n",
       "<style scoped>\n",
       "    .dataframe tbody tr th:only-of-type {\n",
       "        vertical-align: middle;\n",
       "    }\n",
       "\n",
       "    .dataframe tbody tr th {\n",
       "        vertical-align: top;\n",
       "    }\n",
       "\n",
       "    .dataframe thead th {\n",
       "        text-align: right;\n",
       "    }\n",
       "</style>\n",
       "<table border=\"1\" class=\"dataframe\">\n",
       "  <thead>\n",
       "    <tr style=\"text-align: right;\">\n",
       "      <th></th>\n",
       "      <th>Track</th>\n",
       "      <th>Start Date</th>\n",
       "      <th>End Date</th>\n",
       "      <th>Plan Completion (%)</th>\n",
       "      <th>Actual Completion (%)</th>\n",
       "      <th>Passed Rate</th>\n",
       "      <th>Failed Rate</th>\n",
       "      <th>Remark</th>\n",
       "    </tr>\n",
       "  </thead>\n",
       "  <tbody>\n",
       "    <tr>\n",
       "      <th>0</th>\n",
       "      <td>DataLake</td>\n",
       "      <td>01-Apr-2024</td>\n",
       "      <td>19-Apr-2024</td>\n",
       "      <td>100</td>\n",
       "      <td>100</td>\n",
       "      <td>100</td>\n",
       "      <td>0</td>\n",
       "      <td>Completed. Pending Sign-Off</td>\n",
       "    </tr>\n",
       "  </tbody>\n",
       "</table>\n",
       "</div>"
      ],
      "text/plain": [
       "      Track   Start Date     End Date Plan Completion (%)  \\\n",
       "0  DataLake  01-Apr-2024  19-Apr-2024                 100   \n",
       "\n",
       "  Actual Completion (%) Passed Rate Failed Rate                       Remark  \n",
       "0                   100         100           0  Completed. Pending Sign-Off  "
      ]
     },
     "metadata": {},
     "output_type": "display_data"
    },
    {
     "name": "stdout",
     "output_type": "stream",
     "text": [
      "The ambi-headers are ['', 'Apr-2024', 'May-2024']\n",
      "The ambi-headers are ['Tracks', 'Total TC', 'Total Executed', 'Balance / Catch Up', 'Total Executed - Passed', 'Total Executed - Failed', 'Total Defects', 'Blocked by Defect', 'Backlog (catchup)', 'Yet to execute', 'NA']\n",
      "THE DATAFRAME WILL BE NAMED 09-May-2024_TC_breakdown\n",
      "The ambi-headers are ['No', 'Issue', 'Impact', 'PIC', 'Severity', 'Status']\n",
      "The ambi-headers are ['', '', 'Accumulated', 'Daily Execution']\n",
      "THE DATAFRAME WILL BE NAMED 09-May-2024_Daily\n",
      "Diagnose Start Date in Progress into datatype : datetime\n",
      "Diagnose End Date in Progress into datatype : datetime\n",
      "Diagnose Actual Completion (%) in Progress into datatype : float\n",
      "Diagnose Plan Completion (%) in Progress into datatype : float\n",
      "Diagnose Passed Rate in Progress into datatype : float\n",
      "Diagnose Failed Rate in Progress into datatype : float\n",
      "Diagnose Total TC in TC_breakdown into datatype : float\n",
      "Diagnose Total Executed in TC_breakdown into datatype : float\n",
      "Diagnose Balance / Catch Up in TC_breakdown into datatype : float\n",
      "Diagnose Total Executed - Passed in TC_breakdown into datatype : float\n",
      "Diagnose Total Executed - Failed in TC_breakdown into datatype : float\n",
      "Diagnose Total Defects in TC_breakdown into datatype : float\n",
      "Diagnose Blocked by Defect in TC_breakdown into datatype : float\n",
      "Diagnose Backlog (catchup) in TC_breakdown into datatype : float\n",
      "Diagnose Yet to execute in TC_breakdown into datatype : float\n",
      "Diagnose NA in TC_breakdown into datatype : float\n",
      "Diagnose Total TC in Daily into datatype : float\n",
      "Diagnose Total Plan Execution in Daily into datatype : float\n",
      "Diagnose Total Passed in Daily into datatype : float\n",
      "Diagnose Total Failed in Daily into datatype : float\n",
      "Diagnose Total Not Executed in Daily into datatype : float\n",
      "Diagnose Plan Execution in Daily into datatype : float\n",
      "Diagnose Executed in Daily into datatype : float\n",
      "Diagnose Passed in Daily into datatype : float\n",
      "Diagnose Failed in Daily into datatype : float\n"
     ]
    },
    {
     "name": "stderr",
     "output_type": "stream",
     "text": [
      "C:\\Users\\10041594B\\AppData\\Local\\Temp\\ipykernel_14464\\1180551316.py:20: FutureWarning: Downcasting behavior in `replace` is deprecated and will be removed in a future version. To retain the old behavior, explicitly call `result.infer_objects(copy=False)`. To opt-in to the future behavior, set `pd.set_option('future.no_silent_downcasting', True)`\n",
      "  ex.replace({r'^\\s*-\\s*$':np.nan, '[%\\n\\r]':''}, regex=True, inplace=True)\n"
     ]
    },
    {
     "name": "stdout",
     "output_type": "stream",
     "text": [
      "\n",
      "possible_date_str : 08-May-2024\n",
      "The ambi-headers are ['Track', 'Start Date', 'End Date', 'Plan Completion (%)', 'Actual Completion (%)', 'Passed Rate', 'Failed Rate', 'Remark']\n",
      "THE DATAFRAME WILL BE NAMED 08-May-2024_Progress\n"
     ]
    },
    {
     "data": {
      "text/html": [
       "<div>\n",
       "<style scoped>\n",
       "    .dataframe tbody tr th:only-of-type {\n",
       "        vertical-align: middle;\n",
       "    }\n",
       "\n",
       "    .dataframe tbody tr th {\n",
       "        vertical-align: top;\n",
       "    }\n",
       "\n",
       "    .dataframe thead th {\n",
       "        text-align: right;\n",
       "    }\n",
       "</style>\n",
       "<table border=\"1\" class=\"dataframe\">\n",
       "  <thead>\n",
       "    <tr style=\"text-align: right;\">\n",
       "      <th></th>\n",
       "      <th>Track</th>\n",
       "      <th>Start Date</th>\n",
       "      <th>End Date</th>\n",
       "      <th>Plan Completion (%)</th>\n",
       "      <th>Actual Completion (%)</th>\n",
       "      <th>Passed Rate</th>\n",
       "      <th>Failed Rate</th>\n",
       "      <th>Remark</th>\n",
       "    </tr>\n",
       "  </thead>\n",
       "  <tbody>\n",
       "    <tr>\n",
       "      <th>0</th>\n",
       "      <td>DataLake</td>\n",
       "      <td>01-Apr-2024</td>\n",
       "      <td>19-Apr-2024</td>\n",
       "      <td>100</td>\n",
       "      <td>100</td>\n",
       "      <td>100</td>\n",
       "      <td>0</td>\n",
       "      <td>Completed. Pending Sign-Off</td>\n",
       "    </tr>\n",
       "  </tbody>\n",
       "</table>\n",
       "</div>"
      ],
      "text/plain": [
       "      Track   Start Date     End Date Plan Completion (%)  \\\n",
       "0  DataLake  01-Apr-2024  19-Apr-2024                 100   \n",
       "\n",
       "  Actual Completion (%) Passed Rate Failed Rate                       Remark  \n",
       "0                   100         100           0  Completed. Pending Sign-Off  "
      ]
     },
     "metadata": {},
     "output_type": "display_data"
    },
    {
     "name": "stdout",
     "output_type": "stream",
     "text": [
      "The ambi-headers are ['', 'Apr-2024', 'May-2024']\n",
      "The ambi-headers are ['Tracks', 'Total TC', 'Total Executed', 'Balance / Catch Up', 'Total Executed - Passed', 'Total Executed - Failed', 'Total Defects', 'Blocked by Defect', 'Backlog (catchup)', 'Yet to execute', 'NA']\n",
      "THE DATAFRAME WILL BE NAMED 08-May-2024_TC_breakdown\n",
      "The ambi-headers are ['No', 'Issue', 'Impact', 'PIC', 'Severity', 'Status']\n",
      "The ambi-headers are ['', '', 'Accumulated', 'Daily Execution']\n",
      "THE DATAFRAME WILL BE NAMED 08-May-2024_Daily\n",
      "Diagnose Start Date in Progress into datatype : datetime\n",
      "Diagnose End Date in Progress into datatype : datetime\n",
      "Diagnose Actual Completion (%) in Progress into datatype : float\n",
      "Diagnose Plan Completion (%) in Progress into datatype : float\n",
      "Diagnose Passed Rate in Progress into datatype : float\n",
      "Diagnose Failed Rate in Progress into datatype : float\n",
      "Diagnose Total TC in TC_breakdown into datatype : float\n",
      "Diagnose Total Executed in TC_breakdown into datatype : float\n",
      "Diagnose Balance / Catch Up in TC_breakdown into datatype : float\n",
      "Diagnose Total Executed - Passed in TC_breakdown into datatype : float\n",
      "Diagnose Total Executed - Failed in TC_breakdown into datatype : float\n",
      "Diagnose Total Defects in TC_breakdown into datatype : float\n",
      "Diagnose Blocked by Defect in TC_breakdown into datatype : float\n",
      "Diagnose Backlog (catchup) in TC_breakdown into datatype : float\n",
      "Diagnose Yet to execute in TC_breakdown into datatype : float\n",
      "Diagnose NA in TC_breakdown into datatype : float\n",
      "Diagnose Total TC in Daily into datatype : float\n",
      "Diagnose Total Plan Execution in Daily into datatype : float\n",
      "Diagnose Total Passed in Daily into datatype : float\n",
      "Diagnose Total Failed in Daily into datatype : float\n",
      "Diagnose Total Not Executed in Daily into datatype : float\n",
      "Diagnose Plan Execution in Daily into datatype : float\n",
      "Diagnose Executed in Daily into datatype : float\n",
      "Diagnose Passed in Daily into datatype : float\n",
      "Diagnose Failed in Daily into datatype : float\n"
     ]
    },
    {
     "name": "stderr",
     "output_type": "stream",
     "text": [
      "C:\\Users\\10041594B\\AppData\\Local\\Temp\\ipykernel_14464\\1180551316.py:20: FutureWarning: Downcasting behavior in `replace` is deprecated and will be removed in a future version. To retain the old behavior, explicitly call `result.infer_objects(copy=False)`. To opt-in to the future behavior, set `pd.set_option('future.no_silent_downcasting', True)`\n",
      "  ex.replace({r'^\\s*-\\s*$':np.nan, '[%\\n\\r]':''}, regex=True, inplace=True)\n"
     ]
    },
    {
     "name": "stdout",
     "output_type": "stream",
     "text": [
      "\n",
      "possible_date_str : 07-May-2024\n",
      "The ambi-headers are ['Track', 'Start Date', 'End Date', 'Plan Completion (%)', 'Actual Completion (%)', 'Passed Rate', 'Failed Rate', 'Remark']\n",
      "THE DATAFRAME WILL BE NAMED 07-May-2024_Progress\n"
     ]
    },
    {
     "data": {
      "text/html": [
       "<div>\n",
       "<style scoped>\n",
       "    .dataframe tbody tr th:only-of-type {\n",
       "        vertical-align: middle;\n",
       "    }\n",
       "\n",
       "    .dataframe tbody tr th {\n",
       "        vertical-align: top;\n",
       "    }\n",
       "\n",
       "    .dataframe thead th {\n",
       "        text-align: right;\n",
       "    }\n",
       "</style>\n",
       "<table border=\"1\" class=\"dataframe\">\n",
       "  <thead>\n",
       "    <tr style=\"text-align: right;\">\n",
       "      <th></th>\n",
       "      <th>Track</th>\n",
       "      <th>Start Date</th>\n",
       "      <th>End Date</th>\n",
       "      <th>Plan Completion (%)</th>\n",
       "      <th>Actual Completion (%)</th>\n",
       "      <th>Passed Rate</th>\n",
       "      <th>Failed Rate</th>\n",
       "      <th>Remark</th>\n",
       "    </tr>\n",
       "  </thead>\n",
       "  <tbody>\n",
       "    <tr>\n",
       "      <th>0</th>\n",
       "      <td>DataLake</td>\n",
       "      <td>01-Apr-2024</td>\n",
       "      <td>19-Apr-2024</td>\n",
       "      <td>100</td>\n",
       "      <td>100</td>\n",
       "      <td>100</td>\n",
       "      <td>0</td>\n",
       "      <td>Completed. Pending Sign-Off</td>\n",
       "    </tr>\n",
       "  </tbody>\n",
       "</table>\n",
       "</div>"
      ],
      "text/plain": [
       "      Track   Start Date     End Date Plan Completion (%)  \\\n",
       "0  DataLake  01-Apr-2024  19-Apr-2024                 100   \n",
       "\n",
       "  Actual Completion (%) Passed Rate Failed Rate                       Remark  \n",
       "0                   100         100           0  Completed. Pending Sign-Off  "
      ]
     },
     "metadata": {},
     "output_type": "display_data"
    },
    {
     "name": "stdout",
     "output_type": "stream",
     "text": [
      "The ambi-headers are ['', 'Apr-2024', 'May-2024']\n",
      "The ambi-headers are ['Tracks', 'Total TC', 'Total Executed', 'Balance / Catch Up', 'Total Executed - Passed', 'Total Executed - Failed', 'Total Defects', 'Blocked by Defect', 'Backlog (catchup)', 'Yet to execute', 'NA']\n",
      "THE DATAFRAME WILL BE NAMED 07-May-2024_TC_breakdown\n",
      "The ambi-headers are ['No', 'Issue', 'Impact', 'PIC', 'Severity', 'Status']\n",
      "The ambi-headers are ['', '', 'Accumulated', 'Daily Execution']\n",
      "THE DATAFRAME WILL BE NAMED 07-May-2024_Daily\n",
      "Diagnose Start Date in Progress into datatype : datetime\n",
      "Diagnose End Date in Progress into datatype : datetime\n",
      "Diagnose Actual Completion (%) in Progress into datatype : float\n",
      "Diagnose Plan Completion (%) in Progress into datatype : float\n",
      "Diagnose Passed Rate in Progress into datatype : float\n",
      "Diagnose Failed Rate in Progress into datatype : float\n",
      "Diagnose Total TC in TC_breakdown into datatype : float\n",
      "Diagnose Total Executed in TC_breakdown into datatype : float\n",
      "Diagnose Balance / Catch Up in TC_breakdown into datatype : float\n",
      "Diagnose Total Executed - Passed in TC_breakdown into datatype : float\n",
      "Diagnose Total Executed - Failed in TC_breakdown into datatype : float\n",
      "Diagnose Total Defects in TC_breakdown into datatype : float\n",
      "Diagnose Blocked by Defect in TC_breakdown into datatype : float\n",
      "Diagnose Backlog (catchup) in TC_breakdown into datatype : float\n",
      "Diagnose Yet to execute in TC_breakdown into datatype : float\n",
      "Diagnose NA in TC_breakdown into datatype : float\n",
      "Diagnose Total TC in Daily into datatype : float\n",
      "Diagnose Total Plan Execution in Daily into datatype : float\n",
      "Diagnose Total Passed in Daily into datatype : float\n",
      "Diagnose Total Failed in Daily into datatype : float\n",
      "Diagnose Total Not Executed in Daily into datatype : float\n",
      "Diagnose Plan Execution in Daily into datatype : float\n",
      "Diagnose Executed in Daily into datatype : float\n",
      "Diagnose Passed in Daily into datatype : float\n",
      "Diagnose Failed in Daily into datatype : float\n"
     ]
    },
    {
     "name": "stderr",
     "output_type": "stream",
     "text": [
      "C:\\Users\\10041594B\\AppData\\Local\\Temp\\ipykernel_14464\\1180551316.py:20: FutureWarning: Downcasting behavior in `replace` is deprecated and will be removed in a future version. To retain the old behavior, explicitly call `result.infer_objects(copy=False)`. To opt-in to the future behavior, set `pd.set_option('future.no_silent_downcasting', True)`\n",
      "  ex.replace({r'^\\s*-\\s*$':np.nan, '[%\\n\\r]':''}, regex=True, inplace=True)\n"
     ]
    },
    {
     "name": "stdout",
     "output_type": "stream",
     "text": [
      "\n",
      "possible_date_str : 06-May-2024\n",
      "The ambi-headers are ['Track', 'Start Date', 'End Date', 'Plan Completion (%)', 'Actual Completion (%)', 'Passed Rate', 'Failed Rate', 'Remark']\n",
      "THE DATAFRAME WILL BE NAMED 06-May-2024_Progress\n"
     ]
    },
    {
     "data": {
      "text/html": [
       "<div>\n",
       "<style scoped>\n",
       "    .dataframe tbody tr th:only-of-type {\n",
       "        vertical-align: middle;\n",
       "    }\n",
       "\n",
       "    .dataframe tbody tr th {\n",
       "        vertical-align: top;\n",
       "    }\n",
       "\n",
       "    .dataframe thead th {\n",
       "        text-align: right;\n",
       "    }\n",
       "</style>\n",
       "<table border=\"1\" class=\"dataframe\">\n",
       "  <thead>\n",
       "    <tr style=\"text-align: right;\">\n",
       "      <th></th>\n",
       "      <th>Track</th>\n",
       "      <th>Start Date</th>\n",
       "      <th>End Date</th>\n",
       "      <th>Plan Completion (%)</th>\n",
       "      <th>Actual Completion (%)</th>\n",
       "      <th>Passed Rate</th>\n",
       "      <th>Failed Rate</th>\n",
       "      <th>Remark</th>\n",
       "    </tr>\n",
       "  </thead>\n",
       "  <tbody>\n",
       "    <tr>\n",
       "      <th>0</th>\n",
       "      <td>DataLake</td>\n",
       "      <td>01-Apr-2024</td>\n",
       "      <td>19-Apr-2024</td>\n",
       "      <td>100</td>\n",
       "      <td>100</td>\n",
       "      <td>100</td>\n",
       "      <td>0</td>\n",
       "      <td>Completed. Pending Sign-Off</td>\n",
       "    </tr>\n",
       "  </tbody>\n",
       "</table>\n",
       "</div>"
      ],
      "text/plain": [
       "      Track   Start Date     End Date Plan Completion (%)  \\\n",
       "0  DataLake  01-Apr-2024  19-Apr-2024                 100   \n",
       "\n",
       "  Actual Completion (%) Passed Rate Failed Rate                       Remark  \n",
       "0                   100         100           0  Completed. Pending Sign-Off  "
      ]
     },
     "metadata": {},
     "output_type": "display_data"
    },
    {
     "name": "stdout",
     "output_type": "stream",
     "text": [
      "The ambi-headers are ['', 'Apr-2024', 'May-2024']\n",
      "The ambi-headers are ['Tracks', 'Total TC', 'Total Executed', 'Balance / Catch Up', 'Total Executed - Passed', 'Total Executed - Failed', 'Total Defects', 'Blocked by Defect', 'Backlog (catchup)', 'Yet to execute', 'NA']\n",
      "THE DATAFRAME WILL BE NAMED 06-May-2024_TC_breakdown\n",
      "The ambi-headers are ['No', 'Issue', 'Impact', 'PIC', 'Severity', 'Status']\n",
      "The ambi-headers are ['', '', 'Accumulated', 'Daily Execution']\n",
      "THE DATAFRAME WILL BE NAMED 06-May-2024_Daily\n",
      "Diagnose Start Date in Progress into datatype : datetime\n",
      "Diagnose End Date in Progress into datatype : datetime\n",
      "Diagnose Actual Completion (%) in Progress into datatype : float\n",
      "Diagnose Plan Completion (%) in Progress into datatype : float\n",
      "Diagnose Passed Rate in Progress into datatype : float\n",
      "Diagnose Failed Rate in Progress into datatype : float\n",
      "Diagnose Total TC in TC_breakdown into datatype : float\n",
      "Diagnose Total Executed in TC_breakdown into datatype : float\n",
      "Diagnose Balance / Catch Up in TC_breakdown into datatype : float\n",
      "Diagnose Total Executed - Passed in TC_breakdown into datatype : float\n",
      "Diagnose Total Executed - Failed in TC_breakdown into datatype : float\n",
      "Diagnose Total Defects in TC_breakdown into datatype : float\n",
      "Diagnose Blocked by Defect in TC_breakdown into datatype : float\n",
      "Diagnose Backlog (catchup) in TC_breakdown into datatype : float\n",
      "Diagnose Yet to execute in TC_breakdown into datatype : float\n",
      "Diagnose NA in TC_breakdown into datatype : float\n",
      "Diagnose Total TC in Daily into datatype : float\n",
      "Diagnose Total Plan Execution in Daily into datatype : float\n",
      "Diagnose Total Passed in Daily into datatype : float\n",
      "Diagnose Total Failed in Daily into datatype : float\n",
      "Diagnose Total Not Executed in Daily into datatype : float\n",
      "Diagnose Plan Execution in Daily into datatype : float\n",
      "Diagnose Executed in Daily into datatype : float\n",
      "Diagnose Passed in Daily into datatype : float\n",
      "Diagnose Failed in Daily into datatype : float\n"
     ]
    },
    {
     "name": "stderr",
     "output_type": "stream",
     "text": [
      "C:\\Users\\10041594B\\AppData\\Local\\Temp\\ipykernel_14464\\1180551316.py:20: FutureWarning: Downcasting behavior in `replace` is deprecated and will be removed in a future version. To retain the old behavior, explicitly call `result.infer_objects(copy=False)`. To opt-in to the future behavior, set `pd.set_option('future.no_silent_downcasting', True)`\n",
      "  ex.replace({r'^\\s*-\\s*$':np.nan, '[%\\n\\r]':''}, regex=True, inplace=True)\n"
     ]
    },
    {
     "name": "stdout",
     "output_type": "stream",
     "text": [
      "\n",
      "possible_date_str : 05-May-2024\n",
      "The ambi-headers are ['Track', 'Start Date', 'End Date', 'Plan Completion (%)', 'Actual Completion (%)', 'Passed Rate', 'Failed Rate', 'Remark']\n",
      "THE DATAFRAME WILL BE NAMED 05-May-2024_Progress\n"
     ]
    },
    {
     "data": {
      "text/html": [
       "<div>\n",
       "<style scoped>\n",
       "    .dataframe tbody tr th:only-of-type {\n",
       "        vertical-align: middle;\n",
       "    }\n",
       "\n",
       "    .dataframe tbody tr th {\n",
       "        vertical-align: top;\n",
       "    }\n",
       "\n",
       "    .dataframe thead th {\n",
       "        text-align: right;\n",
       "    }\n",
       "</style>\n",
       "<table border=\"1\" class=\"dataframe\">\n",
       "  <thead>\n",
       "    <tr style=\"text-align: right;\">\n",
       "      <th></th>\n",
       "      <th>Track</th>\n",
       "      <th>Start Date</th>\n",
       "      <th>End Date</th>\n",
       "      <th>Plan Completion (%)</th>\n",
       "      <th>Actual Completion (%)</th>\n",
       "      <th>Passed Rate</th>\n",
       "      <th>Failed Rate</th>\n",
       "      <th>Remark</th>\n",
       "    </tr>\n",
       "  </thead>\n",
       "  <tbody>\n",
       "    <tr>\n",
       "      <th>0</th>\n",
       "      <td>DataLake</td>\n",
       "      <td>01-Apr-2024</td>\n",
       "      <td>19-Apr-2024</td>\n",
       "      <td>100</td>\n",
       "      <td>100</td>\n",
       "      <td>100</td>\n",
       "      <td>0</td>\n",
       "      <td>Completed. Pending Sign-Off</td>\n",
       "    </tr>\n",
       "  </tbody>\n",
       "</table>\n",
       "</div>"
      ],
      "text/plain": [
       "      Track   Start Date     End Date Plan Completion (%)  \\\n",
       "0  DataLake  01-Apr-2024  19-Apr-2024                 100   \n",
       "\n",
       "  Actual Completion (%) Passed Rate Failed Rate                       Remark  \n",
       "0                   100         100           0  Completed. Pending Sign-Off  "
      ]
     },
     "metadata": {},
     "output_type": "display_data"
    },
    {
     "name": "stdout",
     "output_type": "stream",
     "text": [
      "The ambi-headers are ['', 'Apr-2024', 'May-2024']\n",
      "The ambi-headers are ['Tracks', 'Total TC', 'Total Executed', 'Balance / Catch Up', 'Total Executed - Passed', 'Total Executed - Failed', 'Total Defects', 'Blocked by Defect', 'Backlog (catchup)', 'Yet to execute', 'NA']\n",
      "THE DATAFRAME WILL BE NAMED 05-May-2024_TC_breakdown\n",
      "The ambi-headers are ['No', 'Issue', 'Impact', 'PIC', 'Severity', 'Status']\n",
      "The ambi-headers are ['', '', 'Accumulated', 'Daily Execution']\n",
      "THE DATAFRAME WILL BE NAMED 05-May-2024_Daily\n",
      "Diagnose Start Date in Progress into datatype : datetime\n",
      "Diagnose End Date in Progress into datatype : datetime\n",
      "Diagnose Actual Completion (%) in Progress into datatype : float\n",
      "Diagnose Plan Completion (%) in Progress into datatype : float\n",
      "Diagnose Passed Rate in Progress into datatype : float\n",
      "Diagnose Failed Rate in Progress into datatype : float\n",
      "Diagnose Total TC in TC_breakdown into datatype : float\n",
      "Diagnose Total Executed in TC_breakdown into datatype : float\n",
      "Diagnose Balance / Catch Up in TC_breakdown into datatype : float\n",
      "Diagnose Total Executed - Passed in TC_breakdown into datatype : float\n",
      "Diagnose Total Executed - Failed in TC_breakdown into datatype : float\n",
      "Diagnose Total Defects in TC_breakdown into datatype : float\n",
      "Diagnose Blocked by Defect in TC_breakdown into datatype : float\n",
      "Diagnose Backlog (catchup) in TC_breakdown into datatype : float\n",
      "Diagnose Yet to execute in TC_breakdown into datatype : float\n",
      "Diagnose NA in TC_breakdown into datatype : float\n",
      "Diagnose Total TC in Daily into datatype : float\n",
      "Diagnose Total Plan Execution in Daily into datatype : float\n",
      "Diagnose Total Passed in Daily into datatype : float\n",
      "Diagnose Total Failed in Daily into datatype : float\n",
      "Diagnose Total Not Executed in Daily into datatype : float\n",
      "Diagnose Plan Execution in Daily into datatype : float\n",
      "Diagnose Executed in Daily into datatype : float\n",
      "Diagnose Passed in Daily into datatype : float\n",
      "Diagnose Failed in Daily into datatype : float\n",
      "\n",
      "possible_date_str : 02-May-2024\n",
      "The ambi-headers are ['Track', 'Start Date', 'End Date', 'Plan Completion (%)', 'Actual Completion (%)', 'Passed Rate', 'Failed Rate', 'Remark']\n",
      "THE DATAFRAME WILL BE NAMED 02-May-2024_Progress\n"
     ]
    },
    {
     "data": {
      "text/html": [
       "<div>\n",
       "<style scoped>\n",
       "    .dataframe tbody tr th:only-of-type {\n",
       "        vertical-align: middle;\n",
       "    }\n",
       "\n",
       "    .dataframe tbody tr th {\n",
       "        vertical-align: top;\n",
       "    }\n",
       "\n",
       "    .dataframe thead th {\n",
       "        text-align: right;\n",
       "    }\n",
       "</style>\n",
       "<table border=\"1\" class=\"dataframe\">\n",
       "  <thead>\n",
       "    <tr style=\"text-align: right;\">\n",
       "      <th></th>\n",
       "      <th>Track</th>\n",
       "      <th>Start Date</th>\n",
       "      <th>End Date</th>\n",
       "      <th>Plan Completion (%)</th>\n",
       "      <th>Actual Completion (%)</th>\n",
       "      <th>Passed Rate</th>\n",
       "      <th>Failed Rate</th>\n",
       "      <th>Remark</th>\n",
       "    </tr>\n",
       "  </thead>\n",
       "  <tbody>\n",
       "    <tr>\n",
       "      <th>0</th>\n",
       "      <td>DataLake</td>\n",
       "      <td>01-Apr-2024</td>\n",
       "      <td>19-Apr-2024</td>\n",
       "      <td>100</td>\n",
       "      <td>100</td>\n",
       "      <td>100</td>\n",
       "      <td>0</td>\n",
       "      <td>Completed. Pending Sign-Off</td>\n",
       "    </tr>\n",
       "  </tbody>\n",
       "</table>\n",
       "</div>"
      ],
      "text/plain": [
       "      Track   Start Date     End Date Plan Completion (%)  \\\n",
       "0  DataLake  01-Apr-2024  19-Apr-2024                 100   \n",
       "\n",
       "  Actual Completion (%) Passed Rate Failed Rate                       Remark  \n",
       "0                   100         100           0  Completed. Pending Sign-Off  "
      ]
     },
     "metadata": {},
     "output_type": "display_data"
    },
    {
     "name": "stdout",
     "output_type": "stream",
     "text": [
      "The ambi-headers are ['', 'Apr-2024', 'May-2024']\n",
      "The ambi-headers are ['Tracks', 'Total TC', 'Total Executed', 'Balance / Catch Up', 'Total Executed - Passed', 'Total Executed - Failed', 'Total Defects', 'Blocked by Defect', 'Backlog (catchup)', 'Yet to execute', 'NA']\n",
      "THE DATAFRAME WILL BE NAMED 02-May-2024_TC_breakdown\n",
      "The ambi-headers are ['No', 'Issue', 'Impact', 'PIC', 'Severity', 'Status']\n",
      "The ambi-headers are ['', '', 'Accumulated', 'Daily Execution']\n",
      "THE DATAFRAME WILL BE NAMED 02-May-2024_Daily\n",
      "Diagnose Start Date in Progress into datatype : datetime\n",
      "Diagnose End Date in Progress into datatype : datetime\n",
      "Diagnose Actual Completion (%) in Progress into datatype : float\n",
      "Diagnose Plan Completion (%) in Progress into datatype : float\n",
      "Diagnose Passed Rate in Progress into datatype : float\n",
      "Diagnose Failed Rate in Progress into datatype : float\n",
      "Diagnose Total TC in TC_breakdown into datatype : float\n",
      "Diagnose Total Executed in TC_breakdown into datatype : float\n",
      "Diagnose Balance / Catch Up in TC_breakdown into datatype : float\n",
      "Diagnose Total Executed - Passed in TC_breakdown into datatype : float\n",
      "Diagnose Total Executed - Failed in TC_breakdown into datatype : float\n",
      "Diagnose Total Defects in TC_breakdown into datatype : float\n",
      "Diagnose Blocked by Defect in TC_breakdown into datatype : float\n",
      "Diagnose Backlog (catchup) in TC_breakdown into datatype : float\n",
      "Diagnose Yet to execute in TC_breakdown into datatype : float\n",
      "Diagnose NA in TC_breakdown into datatype : float\n",
      "Diagnose Total TC in Daily into datatype : float\n",
      "Diagnose Total Plan Execution in Daily into datatype : float\n",
      "Diagnose Total Passed in Daily into datatype : float\n",
      "Diagnose Total Failed in Daily into datatype : float\n",
      "Diagnose Total Not Executed in Daily into datatype : float\n",
      "Diagnose Plan Execution in Daily into datatype : float\n",
      "Diagnose Executed in Daily into datatype : float\n",
      "Diagnose Passed in Daily into datatype : float\n",
      "Diagnose Failed in Daily into datatype : float\n"
     ]
    },
    {
     "name": "stderr",
     "output_type": "stream",
     "text": [
      "C:\\Users\\10041594B\\AppData\\Local\\Temp\\ipykernel_14464\\1180551316.py:20: FutureWarning: Downcasting behavior in `replace` is deprecated and will be removed in a future version. To retain the old behavior, explicitly call `result.infer_objects(copy=False)`. To opt-in to the future behavior, set `pd.set_option('future.no_silent_downcasting', True)`\n",
      "  ex.replace({r'^\\s*-\\s*$':np.nan, '[%\\n\\r]':''}, regex=True, inplace=True)\n"
     ]
    },
    {
     "name": "stdout",
     "output_type": "stream",
     "text": [
      "\n",
      "possible_date_str : 30-April-2024\n",
      "The ambi-headers are ['Track', 'Start Date', 'End Date', 'Plan Completion (%)', 'Actual Completion (%)', 'Passed Rate', 'Failed Rate', 'Remark']\n",
      "THE DATAFRAME WILL BE NAMED 30-April-2024_Progress\n"
     ]
    },
    {
     "data": {
      "text/html": [
       "<div>\n",
       "<style scoped>\n",
       "    .dataframe tbody tr th:only-of-type {\n",
       "        vertical-align: middle;\n",
       "    }\n",
       "\n",
       "    .dataframe tbody tr th {\n",
       "        vertical-align: top;\n",
       "    }\n",
       "\n",
       "    .dataframe thead th {\n",
       "        text-align: right;\n",
       "    }\n",
       "</style>\n",
       "<table border=\"1\" class=\"dataframe\">\n",
       "  <thead>\n",
       "    <tr style=\"text-align: right;\">\n",
       "      <th></th>\n",
       "      <th>Track</th>\n",
       "      <th>Start Date</th>\n",
       "      <th>End Date</th>\n",
       "      <th>Plan Completion (%)</th>\n",
       "      <th>Actual Completion (%)</th>\n",
       "      <th>Passed Rate</th>\n",
       "      <th>Failed Rate</th>\n",
       "      <th>Remark</th>\n",
       "    </tr>\n",
       "  </thead>\n",
       "  <tbody>\n",
       "    <tr>\n",
       "      <th>0</th>\n",
       "      <td>DataLake</td>\n",
       "      <td>01-Apr-2024</td>\n",
       "      <td>19-Apr-2024</td>\n",
       "      <td>100</td>\n",
       "      <td>100</td>\n",
       "      <td>100</td>\n",
       "      <td>0</td>\n",
       "      <td>Completed. Pending Sign-Off</td>\n",
       "    </tr>\n",
       "  </tbody>\n",
       "</table>\n",
       "</div>"
      ],
      "text/plain": [
       "      Track   Start Date     End Date Plan Completion (%)  \\\n",
       "0  DataLake  01-Apr-2024  19-Apr-2024                 100   \n",
       "\n",
       "  Actual Completion (%) Passed Rate Failed Rate                       Remark  \n",
       "0                   100         100           0  Completed. Pending Sign-Off  "
      ]
     },
     "metadata": {},
     "output_type": "display_data"
    },
    {
     "name": "stdout",
     "output_type": "stream",
     "text": [
      "The ambi-headers are ['', 'Apr-2024', 'May-2024']\n",
      "The ambi-headers are ['Tracks', 'Total TC', 'Total Executed', 'Balance / Catch Up', 'Total Executed - Passed', 'Total Executed - Failed', 'Total Defects', 'Blocked by Defect', 'Backlog (catchup)', 'Yet to execute', 'NA']\n",
      "THE DATAFRAME WILL BE NAMED 30-April-2024_TC_breakdown\n",
      "The ambi-headers are ['No', 'Issue', 'Impact', 'PIC', 'Severity', 'Status']\n",
      "The ambi-headers are ['', '', 'Accumulated', 'Daily Execution']\n",
      "THE DATAFRAME WILL BE NAMED 30-April-2024_Daily\n",
      "Diagnose Start Date in Progress into datatype : datetime\n",
      "Diagnose End Date in Progress into datatype : datetime\n",
      "Diagnose Actual Completion (%) in Progress into datatype : float\n",
      "Diagnose Plan Completion (%) in Progress into datatype : float\n",
      "Diagnose Passed Rate in Progress into datatype : float\n",
      "Diagnose Failed Rate in Progress into datatype : float\n",
      "Diagnose Total TC in TC_breakdown into datatype : float\n",
      "Diagnose Total Executed in TC_breakdown into datatype : float\n",
      "Diagnose Balance / Catch Up in TC_breakdown into datatype : float\n",
      "Diagnose Total Executed - Passed in TC_breakdown into datatype : float\n",
      "Diagnose Total Executed - Failed in TC_breakdown into datatype : float\n",
      "Diagnose Total Defects in TC_breakdown into datatype : float\n",
      "Diagnose Blocked by Defect in TC_breakdown into datatype : float\n",
      "Diagnose Backlog (catchup) in TC_breakdown into datatype : float\n",
      "Diagnose Yet to execute in TC_breakdown into datatype : float\n",
      "Diagnose NA in TC_breakdown into datatype : float\n",
      "Diagnose Total TC in Daily into datatype : float\n",
      "Diagnose Total Plan Execution in Daily into datatype : float\n",
      "Diagnose Total Passed in Daily into datatype : float\n",
      "Diagnose Total Failed in Daily into datatype : float\n",
      "Diagnose Total Not Executed in Daily into datatype : float\n",
      "Diagnose Plan Execution in Daily into datatype : float\n",
      "Diagnose Executed in Daily into datatype : float\n",
      "Diagnose Passed in Daily into datatype : float\n",
      "Diagnose Failed in Daily into datatype : float\n"
     ]
    },
    {
     "name": "stderr",
     "output_type": "stream",
     "text": [
      "C:\\Users\\10041594B\\AppData\\Local\\Temp\\ipykernel_14464\\1180551316.py:20: FutureWarning: Downcasting behavior in `replace` is deprecated and will be removed in a future version. To retain the old behavior, explicitly call `result.infer_objects(copy=False)`. To opt-in to the future behavior, set `pd.set_option('future.no_silent_downcasting', True)`\n",
      "  ex.replace({r'^\\s*-\\s*$':np.nan, '[%\\n\\r]':''}, regex=True, inplace=True)\n"
     ]
    },
    {
     "name": "stdout",
     "output_type": "stream",
     "text": [
      "\n",
      "possible_date_str : 29-April-2024\n",
      "The ambi-headers are ['Track', 'Start Date', 'End Date', 'Plan Completion (%)', 'Actual Completion (%)', 'Passed Rate', 'Failed Rate', 'Remark']\n",
      "THE DATAFRAME WILL BE NAMED 29-April-2024_Progress\n"
     ]
    },
    {
     "data": {
      "text/html": [
       "<div>\n",
       "<style scoped>\n",
       "    .dataframe tbody tr th:only-of-type {\n",
       "        vertical-align: middle;\n",
       "    }\n",
       "\n",
       "    .dataframe tbody tr th {\n",
       "        vertical-align: top;\n",
       "    }\n",
       "\n",
       "    .dataframe thead th {\n",
       "        text-align: right;\n",
       "    }\n",
       "</style>\n",
       "<table border=\"1\" class=\"dataframe\">\n",
       "  <thead>\n",
       "    <tr style=\"text-align: right;\">\n",
       "      <th></th>\n",
       "      <th>Track</th>\n",
       "      <th>Start Date</th>\n",
       "      <th>End Date</th>\n",
       "      <th>Plan Completion (%)</th>\n",
       "      <th>Actual Completion (%)</th>\n",
       "      <th>Passed Rate</th>\n",
       "      <th>Failed Rate</th>\n",
       "      <th>Remark</th>\n",
       "    </tr>\n",
       "  </thead>\n",
       "  <tbody>\n",
       "    <tr>\n",
       "      <th>0</th>\n",
       "      <td>DataLake</td>\n",
       "      <td>01-Apr-2024</td>\n",
       "      <td>19-Apr-2024</td>\n",
       "      <td>100</td>\n",
       "      <td>100</td>\n",
       "      <td>100</td>\n",
       "      <td>0</td>\n",
       "      <td>Completed. Pending Sign-Off</td>\n",
       "    </tr>\n",
       "  </tbody>\n",
       "</table>\n",
       "</div>"
      ],
      "text/plain": [
       "      Track   Start Date     End Date Plan Completion (%)  \\\n",
       "0  DataLake  01-Apr-2024  19-Apr-2024                 100   \n",
       "\n",
       "  Actual Completion (%) Passed Rate Failed Rate                       Remark  \n",
       "0                   100         100           0  Completed. Pending Sign-Off  "
      ]
     },
     "metadata": {},
     "output_type": "display_data"
    },
    {
     "name": "stdout",
     "output_type": "stream",
     "text": [
      "The ambi-headers are ['', 'Apr-2024', 'May-2024']\n",
      "The ambi-headers are ['Tracks', 'Total TC', 'Total Executed', 'Balance / Catch Up', 'Total Executed - Passed', 'Total Executed - Failed', 'Total Defects', 'Blocked by Defect', 'Backlog (catchup)', 'Yet to execute', 'NA']\n",
      "THE DATAFRAME WILL BE NAMED 29-April-2024_TC_breakdown\n",
      "The ambi-headers are ['No', 'Issue', 'Impact', 'PIC', 'Severity', 'Status']\n",
      "The ambi-headers are ['', '', 'Accumulated', 'Daily Execution']\n",
      "THE DATAFRAME WILL BE NAMED 29-April-2024_Daily\n",
      "Diagnose Start Date in Progress into datatype : datetime\n",
      "Diagnose End Date in Progress into datatype : datetime\n",
      "Diagnose Actual Completion (%) in Progress into datatype : float\n",
      "Diagnose Plan Completion (%) in Progress into datatype : float\n",
      "Diagnose Passed Rate in Progress into datatype : float\n",
      "Diagnose Failed Rate in Progress into datatype : float\n",
      "Diagnose Total TC in TC_breakdown into datatype : float\n",
      "Diagnose Total Executed in TC_breakdown into datatype : float\n",
      "Diagnose Balance / Catch Up in TC_breakdown into datatype : float\n",
      "Diagnose Total Executed - Passed in TC_breakdown into datatype : float\n",
      "Diagnose Total Executed - Failed in TC_breakdown into datatype : float\n",
      "Diagnose Total Defects in TC_breakdown into datatype : float\n",
      "Diagnose Blocked by Defect in TC_breakdown into datatype : float\n",
      "Diagnose Backlog (catchup) in TC_breakdown into datatype : float\n",
      "Diagnose Yet to execute in TC_breakdown into datatype : float\n",
      "Diagnose NA in TC_breakdown into datatype : float\n",
      "Diagnose Total TC in Daily into datatype : float\n",
      "Diagnose Total Plan Execution in Daily into datatype : float\n",
      "Diagnose Total Passed in Daily into datatype : float\n",
      "Diagnose Total Failed in Daily into datatype : float\n",
      "Diagnose Total Not Executed in Daily into datatype : float\n",
      "Diagnose Plan Execution in Daily into datatype : float\n",
      "Diagnose Executed in Daily into datatype : float\n",
      "Diagnose Passed in Daily into datatype : float\n",
      "Diagnose Failed in Daily into datatype : float\n",
      "Not valid soup\n"
     ]
    },
    {
     "name": "stderr",
     "output_type": "stream",
     "text": [
      "C:\\Users\\10041594B\\AppData\\Local\\Temp\\ipykernel_14464\\1180551316.py:20: FutureWarning: Downcasting behavior in `replace` is deprecated and will be removed in a future version. To retain the old behavior, explicitly call `result.infer_objects(copy=False)`. To opt-in to the future behavior, set `pd.set_option('future.no_silent_downcasting', True)`\n",
      "  ex.replace({r'^\\s*-\\s*$':np.nan, '[%\\n\\r]':''}, regex=True, inplace=True)\n"
     ]
    },
    {
     "name": "stdout",
     "output_type": "stream",
     "text": [
      "\n",
      "possible_date_str : 25-April-2024\n",
      "The ambi-headers are ['Track', 'Start Date', 'End Date', 'Plan Completion (%)', 'Actual Completion (%)', 'Passed Rate', 'Failed Rate', 'Remark']\n",
      "THE DATAFRAME WILL BE NAMED 25-April-2024_Progress\n"
     ]
    },
    {
     "data": {
      "text/html": [
       "<div>\n",
       "<style scoped>\n",
       "    .dataframe tbody tr th:only-of-type {\n",
       "        vertical-align: middle;\n",
       "    }\n",
       "\n",
       "    .dataframe tbody tr th {\n",
       "        vertical-align: top;\n",
       "    }\n",
       "\n",
       "    .dataframe thead th {\n",
       "        text-align: right;\n",
       "    }\n",
       "</style>\n",
       "<table border=\"1\" class=\"dataframe\">\n",
       "  <thead>\n",
       "    <tr style=\"text-align: right;\">\n",
       "      <th></th>\n",
       "      <th>Track</th>\n",
       "      <th>Start Date</th>\n",
       "      <th>End Date</th>\n",
       "      <th>Plan Completion (%)</th>\n",
       "      <th>Actual Completion (%)</th>\n",
       "      <th>Passed Rate</th>\n",
       "      <th>Failed Rate</th>\n",
       "      <th>Remark</th>\n",
       "    </tr>\n",
       "  </thead>\n",
       "  <tbody>\n",
       "    <tr>\n",
       "      <th>0</th>\n",
       "      <td>DataLake</td>\n",
       "      <td>01-Apr-2024</td>\n",
       "      <td>19-Apr-2024</td>\n",
       "      <td>100</td>\n",
       "      <td>100</td>\n",
       "      <td>100</td>\n",
       "      <td>0</td>\n",
       "      <td>Started</td>\n",
       "    </tr>\n",
       "  </tbody>\n",
       "</table>\n",
       "</div>"
      ],
      "text/plain": [
       "      Track   Start Date     End Date Plan Completion (%)  \\\n",
       "0  DataLake  01-Apr-2024  19-Apr-2024                 100   \n",
       "\n",
       "  Actual Completion (%) Passed Rate Failed Rate   Remark  \n",
       "0                   100         100           0  Started  "
      ]
     },
     "metadata": {},
     "output_type": "display_data"
    },
    {
     "name": "stdout",
     "output_type": "stream",
     "text": [
      "The ambi-headers are ['', 'Apr-2024', 'May-2024']\n",
      "The ambi-headers are ['Tracks', 'Total TC', 'Total Executed', 'Balance / Catch Up', 'Total Executed - Passed', 'Total Executed - Failed', 'Total Defects', 'Blocked by Defect', 'Backlog (catchup)', 'Yet to execute', 'NA']\n",
      "THE DATAFRAME WILL BE NAMED 25-April-2024_TC_breakdown\n",
      "The ambi-headers are ['No', 'Issue', 'Impact', 'PIC', 'Severity', 'Status']\n",
      "The ambi-headers are ['', '', 'Accumulated', 'Daily Execution']\n",
      "THE DATAFRAME WILL BE NAMED 25-April-2024_Daily\n",
      "Diagnose Start Date in Progress into datatype : datetime\n",
      "Diagnose End Date in Progress into datatype : datetime\n",
      "Diagnose Actual Completion (%) in Progress into datatype : float\n",
      "Diagnose Plan Completion (%) in Progress into datatype : float\n",
      "Diagnose Passed Rate in Progress into datatype : float\n",
      "Diagnose Failed Rate in Progress into datatype : float\n",
      "Diagnose Total TC in TC_breakdown into datatype : float\n",
      "Diagnose Total Executed in TC_breakdown into datatype : float\n",
      "Diagnose Balance / Catch Up in TC_breakdown into datatype : float\n",
      "Diagnose Total Executed - Passed in TC_breakdown into datatype : float\n",
      "Diagnose Total Executed - Failed in TC_breakdown into datatype : float\n",
      "Diagnose Total Defects in TC_breakdown into datatype : float\n",
      "Diagnose Blocked by Defect in TC_breakdown into datatype : float\n",
      "Diagnose Backlog (catchup) in TC_breakdown into datatype : float\n",
      "Diagnose Yet to execute in TC_breakdown into datatype : float\n",
      "Diagnose NA in TC_breakdown into datatype : float\n",
      "Diagnose Total TC in Daily into datatype : float\n",
      "Diagnose Total Plan Execution in Daily into datatype : float\n",
      "Diagnose Total Passed in Daily into datatype : float\n",
      "Diagnose Total Failed in Daily into datatype : float\n",
      "Diagnose Total Not Executed in Daily into datatype : float\n",
      "Diagnose Plan Execution in Daily into datatype : float\n",
      "Diagnose Executed in Daily into datatype : float\n",
      "Diagnose Passed in Daily into datatype : float\n",
      "Diagnose Failed in Daily into datatype : float\n",
      "\n",
      "possible_date_str : 24-April-2024\n",
      "The ambi-headers are ['Track', 'Start Date', 'End Date', 'Plan Completion (%)', 'Actual Completion (%)', 'Passed Rate', 'Failed Rate', 'Remark']\n",
      "THE DATAFRAME WILL BE NAMED 24-April-2024_Progress\n"
     ]
    },
    {
     "data": {
      "text/html": [
       "<div>\n",
       "<style scoped>\n",
       "    .dataframe tbody tr th:only-of-type {\n",
       "        vertical-align: middle;\n",
       "    }\n",
       "\n",
       "    .dataframe tbody tr th {\n",
       "        vertical-align: top;\n",
       "    }\n",
       "\n",
       "    .dataframe thead th {\n",
       "        text-align: right;\n",
       "    }\n",
       "</style>\n",
       "<table border=\"1\" class=\"dataframe\">\n",
       "  <thead>\n",
       "    <tr style=\"text-align: right;\">\n",
       "      <th></th>\n",
       "      <th>Track</th>\n",
       "      <th>Start Date</th>\n",
       "      <th>End Date</th>\n",
       "      <th>Plan Completion (%)</th>\n",
       "      <th>Actual Completion (%)</th>\n",
       "      <th>Passed Rate</th>\n",
       "      <th>Failed Rate</th>\n",
       "      <th>Remark</th>\n",
       "    </tr>\n",
       "  </thead>\n",
       "  <tbody>\n",
       "    <tr>\n",
       "      <th>0</th>\n",
       "      <td>DataLake</td>\n",
       "      <td>01-Apr-2024</td>\n",
       "      <td>19-Apr-2024</td>\n",
       "      <td>99.35</td>\n",
       "      <td>99.35</td>\n",
       "      <td>100</td>\n",
       "      <td>0</td>\n",
       "      <td>Started</td>\n",
       "    </tr>\n",
       "  </tbody>\n",
       "</table>\n",
       "</div>"
      ],
      "text/plain": [
       "      Track   Start Date     End Date Plan Completion (%)  \\\n",
       "0  DataLake  01-Apr-2024  19-Apr-2024               99.35   \n",
       "\n",
       "  Actual Completion (%) Passed Rate Failed Rate   Remark  \n",
       "0                 99.35         100           0  Started  "
      ]
     },
     "metadata": {},
     "output_type": "display_data"
    },
    {
     "name": "stdout",
     "output_type": "stream",
     "text": [
      "The ambi-headers are ['', 'Apr-2024', 'May-2024']\n",
      "The ambi-headers are ['Tracks', 'Total TC', 'Total Executed', 'Balance / Catch Up', 'Total Executed - Passed', 'Total Executed - Failed', 'Total Defects', 'Blocked by Defect', 'Backlog (catchup)', 'Yet to execute', 'NA']\n",
      "THE DATAFRAME WILL BE NAMED 24-April-2024_TC_breakdown\n",
      "The ambi-headers are ['No', 'Issue', 'Impact', 'PIC', 'Severity', 'Status']\n",
      "The ambi-headers are ['', '', 'Accumulated', 'Daily Execution']\n",
      "THE DATAFRAME WILL BE NAMED 24-April-2024_Daily\n",
      "Diagnose Start Date in Progress into datatype : datetime\n",
      "Diagnose End Date in Progress into datatype : datetime\n",
      "Diagnose Actual Completion (%) in Progress into datatype : float\n",
      "Diagnose Plan Completion (%) in Progress into datatype : float\n",
      "Diagnose Passed Rate in Progress into datatype : float\n",
      "Diagnose Failed Rate in Progress into datatype : float\n",
      "Diagnose Total TC in TC_breakdown into datatype : float\n",
      "Diagnose Total Executed in TC_breakdown into datatype : float\n",
      "Diagnose Balance / Catch Up in TC_breakdown into datatype : float\n",
      "Diagnose Total Executed - Passed in TC_breakdown into datatype : float\n",
      "Diagnose Total Executed - Failed in TC_breakdown into datatype : float\n",
      "Diagnose Total Defects in TC_breakdown into datatype : float\n",
      "Diagnose Blocked by Defect in TC_breakdown into datatype : float\n",
      "Diagnose Backlog (catchup) in TC_breakdown into datatype : float\n",
      "Diagnose Yet to execute in TC_breakdown into datatype : float\n",
      "Diagnose NA in TC_breakdown into datatype : float\n",
      "Diagnose Total TC in Daily into datatype : float\n",
      "Diagnose Total Plan Execution in Daily into datatype : float\n",
      "Diagnose Total Passed in Daily into datatype : float\n",
      "Diagnose Total Failed in Daily into datatype : float\n",
      "Diagnose Total Not Executed in Daily into datatype : float\n",
      "Diagnose Plan Execution in Daily into datatype : float\n",
      "Diagnose Executed in Daily into datatype : float\n",
      "Diagnose Passed in Daily into datatype : float\n",
      "Diagnose Failed in Daily into datatype : float\n",
      "\n",
      "possible_date_str : 23-April-2024\n",
      "The ambi-headers are ['Track', 'Start Date', 'End Date', 'Plan Completion (%)', 'Actual Completion (%)', 'Passed Rate', 'Failed Rate', 'Remark']\n",
      "THE DATAFRAME WILL BE NAMED 23-April-2024_Progress\n"
     ]
    },
    {
     "data": {
      "text/html": [
       "<div>\n",
       "<style scoped>\n",
       "    .dataframe tbody tr th:only-of-type {\n",
       "        vertical-align: middle;\n",
       "    }\n",
       "\n",
       "    .dataframe tbody tr th {\n",
       "        vertical-align: top;\n",
       "    }\n",
       "\n",
       "    .dataframe thead th {\n",
       "        text-align: right;\n",
       "    }\n",
       "</style>\n",
       "<table border=\"1\" class=\"dataframe\">\n",
       "  <thead>\n",
       "    <tr style=\"text-align: right;\">\n",
       "      <th></th>\n",
       "      <th>Track</th>\n",
       "      <th>Start Date</th>\n",
       "      <th>End Date</th>\n",
       "      <th>Plan Completion (%)</th>\n",
       "      <th>Actual Completion (%)</th>\n",
       "      <th>Passed Rate</th>\n",
       "      <th>Failed Rate</th>\n",
       "      <th>Remark</th>\n",
       "    </tr>\n",
       "  </thead>\n",
       "  <tbody>\n",
       "    <tr>\n",
       "      <th>0</th>\n",
       "      <td>DataLake</td>\n",
       "      <td>01-Apr-2024</td>\n",
       "      <td>19-Apr-2024</td>\n",
       "      <td>99.35</td>\n",
       "      <td>99.35</td>\n",
       "      <td>100</td>\n",
       "      <td>0</td>\n",
       "      <td>Started (test case DL125 for MHPS only can proceed after 24-Apr)</td>\n",
       "    </tr>\n",
       "  </tbody>\n",
       "</table>\n",
       "</div>"
      ],
      "text/plain": [
       "      Track   Start Date     End Date Plan Completion (%)  \\\n",
       "0  DataLake  01-Apr-2024  19-Apr-2024               99.35   \n",
       "\n",
       "  Actual Completion (%) Passed Rate Failed Rate  \\\n",
       "0                 99.35         100           0   \n",
       "\n",
       "                                                             Remark  \n",
       "0  Started (test case DL125 for MHPS only can proceed after 24-Apr)  "
      ]
     },
     "metadata": {},
     "output_type": "display_data"
    },
    {
     "name": "stdout",
     "output_type": "stream",
     "text": [
      "The ambi-headers are ['', 'Apr-2024', 'May-2024']\n",
      "The ambi-headers are ['Tracks', 'Total TC', 'Total Executed', 'Balance / Catch Up', 'Total Executed - Passed', 'Total Executed - Failed', 'Total Defects', 'Blocked by Defect', 'Backlog (catchup)', 'Yet to execute', 'NA']\n",
      "THE DATAFRAME WILL BE NAMED 23-April-2024_TC_breakdown\n",
      "The ambi-headers are ['No', 'Issue', 'Impact', 'PIC', 'Severity', 'Status']\n",
      "The ambi-headers are ['', '', 'Accumulated', 'Daily Execution']\n",
      "THE DATAFRAME WILL BE NAMED 23-April-2024_Daily\n",
      "Diagnose Start Date in Progress into datatype : datetime\n",
      "Diagnose End Date in Progress into datatype : datetime\n",
      "Diagnose Actual Completion (%) in Progress into datatype : float\n",
      "Diagnose Plan Completion (%) in Progress into datatype : float\n",
      "Diagnose Passed Rate in Progress into datatype : float\n",
      "Diagnose Failed Rate in Progress into datatype : float\n",
      "Diagnose Total TC in TC_breakdown into datatype : float\n",
      "Diagnose Total Executed in TC_breakdown into datatype : float\n",
      "Diagnose Balance / Catch Up in TC_breakdown into datatype : float\n",
      "Diagnose Total Executed - Passed in TC_breakdown into datatype : float\n",
      "Diagnose Total Executed - Failed in TC_breakdown into datatype : float\n",
      "Diagnose Total Defects in TC_breakdown into datatype : float\n",
      "Diagnose Blocked by Defect in TC_breakdown into datatype : float\n",
      "Diagnose Backlog (catchup) in TC_breakdown into datatype : float\n",
      "Diagnose Yet to execute in TC_breakdown into datatype : float\n",
      "Diagnose NA in TC_breakdown into datatype : float\n",
      "Diagnose Total TC in Daily into datatype : float\n",
      "Diagnose Total Plan Execution in Daily into datatype : float\n",
      "Diagnose Total Passed in Daily into datatype : float\n",
      "Diagnose Total Failed in Daily into datatype : float\n",
      "Diagnose Total Not Executed in Daily into datatype : float\n",
      "Diagnose Plan Execution in Daily into datatype : float\n",
      "Diagnose Executed in Daily into datatype : float\n",
      "Diagnose Passed in Daily into datatype : float\n",
      "Diagnose Failed in Daily into datatype : float\n",
      "\n",
      "possible_date_str : 22-April-2024\n",
      "The ambi-headers are ['Track', 'Start Date', 'End Date', 'Plan Completion (%)', 'Actual Completion (%)', 'Passed Rate', 'Failed Rate', 'Remark']\n",
      "THE DATAFRAME WILL BE NAMED 22-April-2024_Progress\n"
     ]
    },
    {
     "data": {
      "text/html": [
       "<div>\n",
       "<style scoped>\n",
       "    .dataframe tbody tr th:only-of-type {\n",
       "        vertical-align: middle;\n",
       "    }\n",
       "\n",
       "    .dataframe tbody tr th {\n",
       "        vertical-align: top;\n",
       "    }\n",
       "\n",
       "    .dataframe thead th {\n",
       "        text-align: right;\n",
       "    }\n",
       "</style>\n",
       "<table border=\"1\" class=\"dataframe\">\n",
       "  <thead>\n",
       "    <tr style=\"text-align: right;\">\n",
       "      <th></th>\n",
       "      <th>Track</th>\n",
       "      <th>Start Date</th>\n",
       "      <th>End Date</th>\n",
       "      <th>Plan Completion (%)</th>\n",
       "      <th>Actual Completion (%)</th>\n",
       "      <th>Passed Rate</th>\n",
       "      <th>Failed Rate</th>\n",
       "      <th>Remark</th>\n",
       "    </tr>\n",
       "  </thead>\n",
       "  <tbody>\n",
       "    <tr>\n",
       "      <th>0</th>\n",
       "      <td>DataLake</td>\n",
       "      <td>01-Apr-2024</td>\n",
       "      <td>19-Apr-2024</td>\n",
       "      <td>99.35</td>\n",
       "      <td>99.35</td>\n",
       "      <td>100</td>\n",
       "      <td>0</td>\n",
       "      <td>Started (test case DL125 for MHPS only can proceed after 24-Apr)</td>\n",
       "    </tr>\n",
       "  </tbody>\n",
       "</table>\n",
       "</div>"
      ],
      "text/plain": [
       "      Track   Start Date     End Date Plan Completion (%)  \\\n",
       "0  DataLake  01-Apr-2024  19-Apr-2024               99.35   \n",
       "\n",
       "  Actual Completion (%) Passed Rate Failed Rate  \\\n",
       "0                 99.35         100           0   \n",
       "\n",
       "                                                             Remark  \n",
       "0  Started (test case DL125 for MHPS only can proceed after 24-Apr)  "
      ]
     },
     "metadata": {},
     "output_type": "display_data"
    },
    {
     "name": "stdout",
     "output_type": "stream",
     "text": [
      "The ambi-headers are ['', 'Apr-2024', 'May-2024']\n",
      "The ambi-headers are ['Tracks', 'Total TC', 'Total Executed', 'Balance / Catch Up', 'Total Executed - Passed', 'Total Executed - Failed', 'Total Defects', 'Blocked by Defect', 'Backlog (catchup)', 'Yet to execute', 'NA']\n",
      "THE DATAFRAME WILL BE NAMED 22-April-2024_TC_breakdown\n",
      "The ambi-headers are ['No', 'Issue', 'Impact', 'PIC', 'Severity', 'Status']\n",
      "The ambi-headers are ['', '', 'Accumulated', 'Daily Execution']\n",
      "THE DATAFRAME WILL BE NAMED 22-April-2024_Daily\n",
      "Diagnose Start Date in Progress into datatype : datetime\n",
      "Diagnose End Date in Progress into datatype : datetime\n",
      "Diagnose Actual Completion (%) in Progress into datatype : float\n",
      "Diagnose Plan Completion (%) in Progress into datatype : float\n",
      "Diagnose Passed Rate in Progress into datatype : float\n",
      "Diagnose Failed Rate in Progress into datatype : float\n",
      "Diagnose Total TC in TC_breakdown into datatype : float\n",
      "Diagnose Total Executed in TC_breakdown into datatype : float\n",
      "Diagnose Balance / Catch Up in TC_breakdown into datatype : float\n",
      "Diagnose Total Executed - Passed in TC_breakdown into datatype : float\n",
      "Diagnose Total Executed - Failed in TC_breakdown into datatype : float\n",
      "Diagnose Total Defects in TC_breakdown into datatype : float\n",
      "Diagnose Blocked by Defect in TC_breakdown into datatype : float\n",
      "Diagnose Backlog (catchup) in TC_breakdown into datatype : float\n",
      "Diagnose Yet to execute in TC_breakdown into datatype : float\n",
      "Diagnose NA in TC_breakdown into datatype : float\n",
      "Diagnose Total TC in Daily into datatype : float\n",
      "Diagnose Total Plan Execution in Daily into datatype : float\n",
      "Diagnose Total Passed in Daily into datatype : float\n",
      "Diagnose Total Failed in Daily into datatype : float\n",
      "Diagnose Total Not Executed in Daily into datatype : float\n",
      "Diagnose Plan Execution in Daily into datatype : float\n",
      "Diagnose Executed in Daily into datatype : float\n",
      "Diagnose Passed in Daily into datatype : float\n",
      "Diagnose Failed in Daily into datatype : float\n",
      "\n",
      "possible_date_str : From:\n",
      "Conversational email, not a real status report\n",
      "\n",
      "possible_date_str : 18-April-2024\n",
      "The ambi-headers are ['Track', 'Start Date', 'End Date', 'Plan Completion (%)', 'Actual Completion (%)', 'Passed Rate', 'Failed Rate', 'Remark']\n",
      "THE DATAFRAME WILL BE NAMED 18-April-2024_Progress\n"
     ]
    },
    {
     "data": {
      "text/html": [
       "<div>\n",
       "<style scoped>\n",
       "    .dataframe tbody tr th:only-of-type {\n",
       "        vertical-align: middle;\n",
       "    }\n",
       "\n",
       "    .dataframe tbody tr th {\n",
       "        vertical-align: top;\n",
       "    }\n",
       "\n",
       "    .dataframe thead th {\n",
       "        text-align: right;\n",
       "    }\n",
       "</style>\n",
       "<table border=\"1\" class=\"dataframe\">\n",
       "  <thead>\n",
       "    <tr style=\"text-align: right;\">\n",
       "      <th></th>\n",
       "      <th>Track</th>\n",
       "      <th>Start Date</th>\n",
       "      <th>End Date</th>\n",
       "      <th>Plan Completion (%)</th>\n",
       "      <th>Actual Completion (%)</th>\n",
       "      <th>Passed Rate</th>\n",
       "      <th>Failed Rate</th>\n",
       "      <th>Remark</th>\n",
       "    </tr>\n",
       "  </thead>\n",
       "  <tbody>\n",
       "    <tr>\n",
       "      <th>0</th>\n",
       "      <td>DataLake</td>\n",
       "      <td>01-Apr-2024</td>\n",
       "      <td>19-Apr-2024</td>\n",
       "      <td>99.35</td>\n",
       "      <td>99.35</td>\n",
       "      <td>100</td>\n",
       "      <td>0</td>\n",
       "      <td>Started (test case DL125 for MHPS only can proceed after 24-Apr)</td>\n",
       "    </tr>\n",
       "  </tbody>\n",
       "</table>\n",
       "</div>"
      ],
      "text/plain": [
       "      Track   Start Date     End Date Plan Completion (%)  \\\n",
       "0  DataLake  01-Apr-2024  19-Apr-2024               99.35   \n",
       "\n",
       "  Actual Completion (%) Passed Rate Failed Rate  \\\n",
       "0                 99.35         100           0   \n",
       "\n",
       "                                                             Remark  \n",
       "0  Started (test case DL125 for MHPS only can proceed after 24-Apr)  "
      ]
     },
     "metadata": {},
     "output_type": "display_data"
    },
    {
     "name": "stdout",
     "output_type": "stream",
     "text": [
      "The ambi-headers are ['', 'Apr-2024', 'May-2024']\n",
      "The ambi-headers are ['Tracks', 'Total TC', 'Total Executed', 'Balance / Catch Up', 'Total Executed - Passed', 'Total Executed - Failed', 'Total Defects', 'Blocked by Defect', 'Backlog (catchup)', 'Yet to execute', 'NA']\n",
      "THE DATAFRAME WILL BE NAMED 18-April-2024_TC_breakdown\n",
      "The ambi-headers are ['No', 'Issue', 'Impact', 'PIC', 'Severity', 'Status']\n",
      "The ambi-headers are ['', '', 'Accumulated', 'Daily Execution']\n",
      "THE DATAFRAME WILL BE NAMED 18-April-2024_Daily\n",
      "Diagnose Start Date in Progress into datatype : datetime\n",
      "Diagnose End Date in Progress into datatype : datetime\n",
      "Diagnose Actual Completion (%) in Progress into datatype : float\n",
      "Diagnose Plan Completion (%) in Progress into datatype : float\n",
      "Diagnose Passed Rate in Progress into datatype : float\n",
      "Diagnose Failed Rate in Progress into datatype : float\n",
      "Diagnose Total TC in TC_breakdown into datatype : float\n",
      "Diagnose Total Executed in TC_breakdown into datatype : float\n",
      "Diagnose Balance / Catch Up in TC_breakdown into datatype : float\n",
      "Diagnose Total Executed - Passed in TC_breakdown into datatype : float\n",
      "Diagnose Total Executed - Failed in TC_breakdown into datatype : float\n",
      "Diagnose Total Defects in TC_breakdown into datatype : float\n",
      "Diagnose Blocked by Defect in TC_breakdown into datatype : float\n",
      "Diagnose Backlog (catchup) in TC_breakdown into datatype : float\n",
      "Diagnose Yet to execute in TC_breakdown into datatype : float\n",
      "Diagnose NA in TC_breakdown into datatype : float\n",
      "Diagnose Total TC in Daily into datatype : float\n",
      "Diagnose Total Plan Execution in Daily into datatype : float\n",
      "Diagnose Total Passed in Daily into datatype : float\n",
      "Diagnose Total Failed in Daily into datatype : float\n",
      "Diagnose Total Not Executed in Daily into datatype : float\n",
      "Diagnose Plan Execution in Daily into datatype : float\n",
      "Diagnose Executed in Daily into datatype : float\n",
      "Diagnose Passed in Daily into datatype : float\n",
      "Diagnose Failed in Daily into datatype : float\n",
      "\n",
      "possible_date_str : From:\n",
      "Conversational email, not a real status report\n",
      "\n",
      "possible_date_str : 15-April-2024\n",
      "The ambi-headers are ['Track', 'Start Date', 'End Date', 'Plan Completion (%)', 'Actual Completion (%)', 'Passed Rate', 'Failed Rate', 'Remark']\n",
      "THE DATAFRAME WILL BE NAMED 15-April-2024_Progress\n"
     ]
    },
    {
     "data": {
      "text/html": [
       "<div>\n",
       "<style scoped>\n",
       "    .dataframe tbody tr th:only-of-type {\n",
       "        vertical-align: middle;\n",
       "    }\n",
       "\n",
       "    .dataframe tbody tr th {\n",
       "        vertical-align: top;\n",
       "    }\n",
       "\n",
       "    .dataframe thead th {\n",
       "        text-align: right;\n",
       "    }\n",
       "</style>\n",
       "<table border=\"1\" class=\"dataframe\">\n",
       "  <thead>\n",
       "    <tr style=\"text-align: right;\">\n",
       "      <th></th>\n",
       "      <th>Track</th>\n",
       "      <th>Start Date</th>\n",
       "      <th>End Date</th>\n",
       "      <th>Plan Completion (%)</th>\n",
       "      <th>Actual Completion (%)</th>\n",
       "      <th>Passed Rate</th>\n",
       "      <th>Failed Rate</th>\n",
       "      <th>Remark</th>\n",
       "    </tr>\n",
       "  </thead>\n",
       "  <tbody>\n",
       "    <tr>\n",
       "      <th>0</th>\n",
       "      <td>DataLake</td>\n",
       "      <td>01-Apr-2024</td>\n",
       "      <td>19-Apr-2024</td>\n",
       "      <td>90.32</td>\n",
       "      <td>90.32</td>\n",
       "      <td>100</td>\n",
       "      <td>0</td>\n",
       "      <td>Started</td>\n",
       "    </tr>\n",
       "  </tbody>\n",
       "</table>\n",
       "</div>"
      ],
      "text/plain": [
       "      Track   Start Date     End Date Plan Completion (%)  \\\n",
       "0  DataLake  01-Apr-2024  19-Apr-2024               90.32   \n",
       "\n",
       "  Actual Completion (%) Passed Rate Failed Rate   Remark  \n",
       "0                 90.32         100           0  Started  "
      ]
     },
     "metadata": {},
     "output_type": "display_data"
    },
    {
     "name": "stdout",
     "output_type": "stream",
     "text": [
      "The ambi-headers are ['', 'Apr-2024', 'May-2024']\n",
      "The ambi-headers are ['Tracks', 'Total TC', 'Total Executed', 'Balance / Catch Up', 'Total Executed - Passed', 'Total Executed - Failed', 'Total Defects', 'Blocked by Defect', 'Backlog (catchup)', 'Yet to execute', 'NA']\n",
      "THE DATAFRAME WILL BE NAMED 15-April-2024_TC_breakdown\n",
      "The ambi-headers are ['No', 'Issue', 'Impact', 'Severity', 'Status']\n",
      "The ambi-headers are ['', '', 'Accumulated', 'Daily Execution']\n",
      "THE DATAFRAME WILL BE NAMED 15-April-2024_Daily\n",
      "Diagnose Start Date in Progress into datatype : datetime\n",
      "Diagnose End Date in Progress into datatype : datetime\n",
      "Diagnose Actual Completion (%) in Progress into datatype : float\n",
      "Diagnose Plan Completion (%) in Progress into datatype : float\n",
      "Diagnose Passed Rate in Progress into datatype : float\n",
      "Diagnose Failed Rate in Progress into datatype : float\n",
      "Diagnose Total TC in TC_breakdown into datatype : float\n",
      "Diagnose Total Executed in TC_breakdown into datatype : float\n",
      "Diagnose Balance / Catch Up in TC_breakdown into datatype : float\n",
      "Diagnose Total Executed - Passed in TC_breakdown into datatype : float\n",
      "Diagnose Total Executed - Failed in TC_breakdown into datatype : float\n",
      "Diagnose Total Defects in TC_breakdown into datatype : float\n",
      "Diagnose Blocked by Defect in TC_breakdown into datatype : float\n",
      "Diagnose Backlog (catchup) in TC_breakdown into datatype : float\n",
      "Diagnose Yet to execute in TC_breakdown into datatype : float\n",
      "Diagnose NA in TC_breakdown into datatype : float\n",
      "Diagnose Total TC in Daily into datatype : float\n",
      "Diagnose Total Plan Execution in Daily into datatype : float\n",
      "Diagnose Total Passed in Daily into datatype : float\n",
      "Diagnose Total Failed in Daily into datatype : float\n",
      "Diagnose Total Not Executed in Daily into datatype : float\n",
      "Diagnose Plan Execution in Daily into datatype : float\n",
      "Diagnose Executed in Daily into datatype : float\n",
      "Diagnose Passed in Daily into datatype : float\n",
      "Diagnose Failed in Daily into datatype : float\n",
      "\n",
      "possible_date_str : 12-April-2024\n",
      "The ambi-headers are ['Track', 'Start Date', 'End Date', 'Plan Completion (%)', 'Actual Completion (%)', 'Passed Rate', 'Failed Rate', 'Remark']\n",
      "THE DATAFRAME WILL BE NAMED 12-April-2024_Progress\n"
     ]
    },
    {
     "data": {
      "text/html": [
       "<div>\n",
       "<style scoped>\n",
       "    .dataframe tbody tr th:only-of-type {\n",
       "        vertical-align: middle;\n",
       "    }\n",
       "\n",
       "    .dataframe tbody tr th {\n",
       "        vertical-align: top;\n",
       "    }\n",
       "\n",
       "    .dataframe thead th {\n",
       "        text-align: right;\n",
       "    }\n",
       "</style>\n",
       "<table border=\"1\" class=\"dataframe\">\n",
       "  <thead>\n",
       "    <tr style=\"text-align: right;\">\n",
       "      <th></th>\n",
       "      <th>Track</th>\n",
       "      <th>Start Date</th>\n",
       "      <th>End Date</th>\n",
       "      <th>Plan Completion (%)</th>\n",
       "      <th>Actual Completion (%)</th>\n",
       "      <th>Passed Rate</th>\n",
       "      <th>Failed Rate</th>\n",
       "      <th>Remark</th>\n",
       "    </tr>\n",
       "  </thead>\n",
       "  <tbody>\n",
       "    <tr>\n",
       "      <th>0</th>\n",
       "      <td>DataLake</td>\n",
       "      <td>01-Apr-2024</td>\n",
       "      <td>19-Apr-2024</td>\n",
       "      <td>80.65</td>\n",
       "      <td>80.65</td>\n",
       "      <td>100</td>\n",
       "      <td>0</td>\n",
       "      <td>Started</td>\n",
       "    </tr>\n",
       "  </tbody>\n",
       "</table>\n",
       "</div>"
      ],
      "text/plain": [
       "      Track   Start Date     End Date Plan Completion (%)  \\\n",
       "0  DataLake  01-Apr-2024  19-Apr-2024               80.65   \n",
       "\n",
       "  Actual Completion (%) Passed Rate Failed Rate   Remark  \n",
       "0                 80.65         100           0  Started  "
      ]
     },
     "metadata": {},
     "output_type": "display_data"
    },
    {
     "name": "stdout",
     "output_type": "stream",
     "text": [
      "The ambi-headers are ['', 'Apr-2024', 'May-2024']\n",
      "The ambi-headers are ['Tracks', 'Total TC', 'Total Executed', 'Balance / Catch Up', 'Total Executed - Passed', 'Total Executed - Failed', 'Total Defects', 'Blocked by Defect', 'Backlog (catchup)', 'Yet to execute', 'NA']\n",
      "THE DATAFRAME WILL BE NAMED 12-April-2024_TC_breakdown\n",
      "The ambi-headers are ['No', 'Issue', 'Impact', 'Severity']\n",
      "The ambi-headers are ['', '', 'Accumulated', 'Daily Execution']\n",
      "THE DATAFRAME WILL BE NAMED 12-April-2024_Daily\n",
      "Diagnose Start Date in Progress into datatype : datetime\n",
      "Diagnose End Date in Progress into datatype : datetime\n",
      "Diagnose Actual Completion (%) in Progress into datatype : float\n",
      "Diagnose Plan Completion (%) in Progress into datatype : float\n",
      "Diagnose Passed Rate in Progress into datatype : float\n",
      "Diagnose Failed Rate in Progress into datatype : float\n",
      "Diagnose Total TC in TC_breakdown into datatype : float\n",
      "Diagnose Total Executed in TC_breakdown into datatype : float\n",
      "Diagnose Balance / Catch Up in TC_breakdown into datatype : float\n",
      "Diagnose Total Executed - Passed in TC_breakdown into datatype : float\n",
      "Diagnose Total Executed - Failed in TC_breakdown into datatype : float\n",
      "Diagnose Total Defects in TC_breakdown into datatype : float\n",
      "Diagnose Blocked by Defect in TC_breakdown into datatype : float\n",
      "Diagnose Backlog (catchup) in TC_breakdown into datatype : float\n",
      "Diagnose Yet to execute in TC_breakdown into datatype : float\n",
      "Diagnose NA in TC_breakdown into datatype : float\n",
      "Diagnose Total TC in Daily into datatype : float\n",
      "Diagnose Total Plan Execution in Daily into datatype : float\n",
      "Diagnose Total Passed in Daily into datatype : float\n",
      "Diagnose Total Failed in Daily into datatype : float\n",
      "Diagnose Total Not Executed in Daily into datatype : float\n",
      "Diagnose Plan Execution in Daily into datatype : float\n",
      "Diagnose Executed in Daily into datatype : float\n",
      "Diagnose Passed in Daily into datatype : float\n",
      "Diagnose Failed in Daily into datatype : float\n",
      "\n",
      "possible_date_str : 09-April-2024\n",
      "The ambi-headers are ['Track', 'Start Date', 'End Date', 'Plan Completion (%)', 'Actual Completion (%)', 'Passed Rate', 'Failed Rate', 'Remark']\n",
      "THE DATAFRAME WILL BE NAMED 09-April-2024_Progress\n"
     ]
    },
    {
     "data": {
      "text/html": [
       "<div>\n",
       "<style scoped>\n",
       "    .dataframe tbody tr th:only-of-type {\n",
       "        vertical-align: middle;\n",
       "    }\n",
       "\n",
       "    .dataframe tbody tr th {\n",
       "        vertical-align: top;\n",
       "    }\n",
       "\n",
       "    .dataframe thead th {\n",
       "        text-align: right;\n",
       "    }\n",
       "</style>\n",
       "<table border=\"1\" class=\"dataframe\">\n",
       "  <thead>\n",
       "    <tr style=\"text-align: right;\">\n",
       "      <th></th>\n",
       "      <th>Track</th>\n",
       "      <th>Start Date</th>\n",
       "      <th>End Date</th>\n",
       "      <th>Plan Completion (%)</th>\n",
       "      <th>Actual Completion (%)</th>\n",
       "      <th>Passed Rate</th>\n",
       "      <th>Failed Rate</th>\n",
       "      <th>Remark</th>\n",
       "    </tr>\n",
       "  </thead>\n",
       "  <tbody>\n",
       "    <tr>\n",
       "      <th>0</th>\n",
       "      <td>DataLake</td>\n",
       "      <td>01-Apr-2024</td>\n",
       "      <td>19-Apr-2024</td>\n",
       "      <td>77.42</td>\n",
       "      <td>77.42</td>\n",
       "      <td>100</td>\n",
       "      <td>0</td>\n",
       "      <td>Started</td>\n",
       "    </tr>\n",
       "  </tbody>\n",
       "</table>\n",
       "</div>"
      ],
      "text/plain": [
       "      Track   Start Date     End Date Plan Completion (%)  \\\n",
       "0  DataLake  01-Apr-2024  19-Apr-2024               77.42   \n",
       "\n",
       "  Actual Completion (%) Passed Rate Failed Rate   Remark  \n",
       "0                 77.42         100           0  Started  "
      ]
     },
     "metadata": {},
     "output_type": "display_data"
    },
    {
     "name": "stdout",
     "output_type": "stream",
     "text": [
      "The ambi-headers are ['', 'Apr-2024', 'May-2024']\n",
      "The ambi-headers are ['Tracks', 'Total TC', 'Total Executed', 'Balance / Catch Up', 'Total Executed - Passed', 'Total Executed - Failed', 'Total Defects', 'Blocked by Defect', 'Backlog (catchup)', 'Yet to execute', 'NA']\n",
      "THE DATAFRAME WILL BE NAMED 09-April-2024_TC_breakdown\n",
      "The ambi-headers are ['No', 'Issue', 'Impact', 'Severity']\n",
      "The ambi-headers are ['', '', 'Accumulated', 'Daily Execution']\n",
      "THE DATAFRAME WILL BE NAMED 09-April-2024_Daily\n",
      "Diagnose Start Date in Progress into datatype : datetime\n",
      "Diagnose End Date in Progress into datatype : datetime\n",
      "Diagnose Actual Completion (%) in Progress into datatype : float\n",
      "Diagnose Plan Completion (%) in Progress into datatype : float\n",
      "Diagnose Passed Rate in Progress into datatype : float\n",
      "Diagnose Failed Rate in Progress into datatype : float\n",
      "Diagnose Total TC in TC_breakdown into datatype : float\n",
      "Diagnose Total Executed in TC_breakdown into datatype : float\n",
      "Diagnose Balance / Catch Up in TC_breakdown into datatype : float\n",
      "Diagnose Total Executed - Passed in TC_breakdown into datatype : float\n",
      "Diagnose Total Executed - Failed in TC_breakdown into datatype : float\n",
      "Diagnose Total Defects in TC_breakdown into datatype : float\n",
      "Diagnose Blocked by Defect in TC_breakdown into datatype : float\n",
      "Diagnose Backlog (catchup) in TC_breakdown into datatype : float\n",
      "Diagnose Yet to execute in TC_breakdown into datatype : float\n",
      "Diagnose NA in TC_breakdown into datatype : float\n",
      "Diagnose Total TC in Daily into datatype : float\n",
      "Diagnose Total Plan Execution in Daily into datatype : float\n",
      "Diagnose Total Passed in Daily into datatype : float\n",
      "Diagnose Total Failed in Daily into datatype : float\n",
      "Diagnose Total Not Executed in Daily into datatype : float\n",
      "Diagnose Plan Execution in Daily into datatype : float\n",
      "Diagnose Executed in Daily into datatype : float\n",
      "Diagnose Passed in Daily into datatype : float\n",
      "Diagnose Failed in Daily into datatype : float\n",
      "\n",
      "possible_date_str : 06-April-2024\n",
      "The ambi-headers are ['Track', 'Start Date', 'End Date', 'Plan Completion (%)', 'Actual Completion (%)', 'Passed Rate', 'Failed Rate', 'Remark']\n",
      "THE DATAFRAME WILL BE NAMED 06-April-2024_Progress\n"
     ]
    },
    {
     "data": {
      "text/html": [
       "<div>\n",
       "<style scoped>\n",
       "    .dataframe tbody tr th:only-of-type {\n",
       "        vertical-align: middle;\n",
       "    }\n",
       "\n",
       "    .dataframe tbody tr th {\n",
       "        vertical-align: top;\n",
       "    }\n",
       "\n",
       "    .dataframe thead th {\n",
       "        text-align: right;\n",
       "    }\n",
       "</style>\n",
       "<table border=\"1\" class=\"dataframe\">\n",
       "  <thead>\n",
       "    <tr style=\"text-align: right;\">\n",
       "      <th></th>\n",
       "      <th>Track</th>\n",
       "      <th>Start Date</th>\n",
       "      <th>End Date</th>\n",
       "      <th>Plan Completion (%)</th>\n",
       "      <th>Actual Completion (%)</th>\n",
       "      <th>Passed Rate</th>\n",
       "      <th>Failed Rate</th>\n",
       "      <th>Remark</th>\n",
       "    </tr>\n",
       "  </thead>\n",
       "  <tbody>\n",
       "    <tr>\n",
       "      <th>0</th>\n",
       "      <td>DataLake</td>\n",
       "      <td>01-Apr-2024</td>\n",
       "      <td>19-Apr-2024</td>\n",
       "      <td>74.19</td>\n",
       "      <td>74.19</td>\n",
       "      <td>100</td>\n",
       "      <td>0</td>\n",
       "      <td>Started</td>\n",
       "    </tr>\n",
       "  </tbody>\n",
       "</table>\n",
       "</div>"
      ],
      "text/plain": [
       "      Track   Start Date     End Date Plan Completion (%)  \\\n",
       "0  DataLake  01-Apr-2024  19-Apr-2024               74.19   \n",
       "\n",
       "  Actual Completion (%) Passed Rate Failed Rate   Remark  \n",
       "0                 74.19         100           0  Started  "
      ]
     },
     "metadata": {},
     "output_type": "display_data"
    },
    {
     "name": "stdout",
     "output_type": "stream",
     "text": [
      "The ambi-headers are ['', 'Apr-2024', 'May-2024']\n",
      "The ambi-headers are ['Tracks', 'Total TC', 'Total Executed', 'Balance / Catch Up', 'Total Executed - Passed', 'Total Executed - Failed', 'Total Defects', 'Blocked by Defect', 'Backlog (catchup)', 'Yet to execute', 'NA']\n",
      "THE DATAFRAME WILL BE NAMED 06-April-2024_TC_breakdown\n",
      "The ambi-headers are ['No', 'Issue', 'Impact', 'Severity']\n",
      "The ambi-headers are ['', '', 'Accumulated', 'Daily Execution']\n",
      "THE DATAFRAME WILL BE NAMED 06-April-2024_Daily\n",
      "Diagnose Start Date in Progress into datatype : datetime\n",
      "Diagnose End Date in Progress into datatype : datetime\n",
      "Diagnose Actual Completion (%) in Progress into datatype : float\n",
      "Diagnose Plan Completion (%) in Progress into datatype : float\n",
      "Diagnose Passed Rate in Progress into datatype : float\n",
      "Diagnose Failed Rate in Progress into datatype : float\n",
      "Diagnose Total TC in TC_breakdown into datatype : float\n",
      "Diagnose Total Executed in TC_breakdown into datatype : float\n",
      "Diagnose Balance / Catch Up in TC_breakdown into datatype : float\n",
      "Diagnose Total Executed - Passed in TC_breakdown into datatype : float\n",
      "Diagnose Total Executed - Failed in TC_breakdown into datatype : float\n",
      "Diagnose Total Defects in TC_breakdown into datatype : float\n",
      "Diagnose Blocked by Defect in TC_breakdown into datatype : float\n",
      "Diagnose Backlog (catchup) in TC_breakdown into datatype : float\n",
      "Diagnose Yet to execute in TC_breakdown into datatype : float\n",
      "Diagnose NA in TC_breakdown into datatype : float\n",
      "Diagnose Total TC in Daily into datatype : float\n",
      "Diagnose Total Plan Execution in Daily into datatype : float\n",
      "Diagnose Total Passed in Daily into datatype : float\n",
      "Diagnose Total Failed in Daily into datatype : float\n",
      "Diagnose Total Not Executed in Daily into datatype : float\n",
      "Diagnose Plan Execution in Daily into datatype : float\n",
      "Diagnose Executed in Daily into datatype : float\n",
      "Diagnose Passed in Daily into datatype : float\n",
      "Diagnose Failed in Daily into datatype : float\n",
      "\n",
      "possible_date_str : 05-April-2024\n",
      "The ambi-headers are ['Track', 'Start Date', 'End Date', 'Plan Completion (%)', 'Actual Completion (%)', 'Passed Rate', 'Failed Rate', 'Remark']\n",
      "THE DATAFRAME WILL BE NAMED 05-April-2024_Progress\n"
     ]
    },
    {
     "data": {
      "text/html": [
       "<div>\n",
       "<style scoped>\n",
       "    .dataframe tbody tr th:only-of-type {\n",
       "        vertical-align: middle;\n",
       "    }\n",
       "\n",
       "    .dataframe tbody tr th {\n",
       "        vertical-align: top;\n",
       "    }\n",
       "\n",
       "    .dataframe thead th {\n",
       "        text-align: right;\n",
       "    }\n",
       "</style>\n",
       "<table border=\"1\" class=\"dataframe\">\n",
       "  <thead>\n",
       "    <tr style=\"text-align: right;\">\n",
       "      <th></th>\n",
       "      <th>Track</th>\n",
       "      <th>Start Date</th>\n",
       "      <th>End Date</th>\n",
       "      <th>Plan Completion (%)</th>\n",
       "      <th>Actual Completion (%)</th>\n",
       "      <th>Passed Rate</th>\n",
       "      <th>Failed Rate</th>\n",
       "      <th>Remark</th>\n",
       "    </tr>\n",
       "  </thead>\n",
       "  <tbody>\n",
       "    <tr>\n",
       "      <th>0</th>\n",
       "      <td>DataLake</td>\n",
       "      <td>01-Apr-2024</td>\n",
       "      <td>19-Apr-2024</td>\n",
       "      <td>61.29</td>\n",
       "      <td>61.29</td>\n",
       "      <td>100</td>\n",
       "      <td>0</td>\n",
       "      <td>Started</td>\n",
       "    </tr>\n",
       "  </tbody>\n",
       "</table>\n",
       "</div>"
      ],
      "text/plain": [
       "      Track   Start Date     End Date Plan Completion (%)  \\\n",
       "0  DataLake  01-Apr-2024  19-Apr-2024               61.29   \n",
       "\n",
       "  Actual Completion (%) Passed Rate Failed Rate   Remark  \n",
       "0                 61.29         100           0  Started  "
      ]
     },
     "metadata": {},
     "output_type": "display_data"
    },
    {
     "name": "stdout",
     "output_type": "stream",
     "text": [
      "The ambi-headers are ['', 'Apr-2024', 'May-2024']\n",
      "The ambi-headers are ['Tracks', 'Total TC', 'Total Executed', 'Balance / Catch Up', 'Total Executed - Passed', 'Total Executed - Failed', 'Total Defects', 'Blocked by Defect', 'Backlog (catchup)', 'Yet to execute', 'NA']\n",
      "THE DATAFRAME WILL BE NAMED 05-April-2024_TC_breakdown\n",
      "The ambi-headers are ['No', 'Issue', 'Impact', 'Severity']\n",
      "The ambi-headers are ['', '', 'Accumulated', 'Daily Execution']\n",
      "THE DATAFRAME WILL BE NAMED 05-April-2024_Daily\n",
      "Diagnose Start Date in Progress into datatype : datetime\n",
      "Diagnose End Date in Progress into datatype : datetime\n",
      "Diagnose Actual Completion (%) in Progress into datatype : float\n",
      "Diagnose Plan Completion (%) in Progress into datatype : float\n",
      "Diagnose Passed Rate in Progress into datatype : float\n",
      "Diagnose Failed Rate in Progress into datatype : float\n",
      "Diagnose Total TC in TC_breakdown into datatype : float\n",
      "Diagnose Total Executed in TC_breakdown into datatype : float\n",
      "Diagnose Balance / Catch Up in TC_breakdown into datatype : float\n",
      "Diagnose Total Executed - Passed in TC_breakdown into datatype : float\n",
      "Diagnose Total Executed - Failed in TC_breakdown into datatype : float\n",
      "Diagnose Total Defects in TC_breakdown into datatype : float\n",
      "Diagnose Blocked by Defect in TC_breakdown into datatype : float\n",
      "Diagnose Backlog (catchup) in TC_breakdown into datatype : float\n",
      "Diagnose Yet to execute in TC_breakdown into datatype : float\n",
      "Diagnose NA in TC_breakdown into datatype : float\n",
      "Diagnose Total TC in Daily into datatype : float\n",
      "Diagnose Total Plan Execution in Daily into datatype : float\n",
      "Diagnose Total Passed in Daily into datatype : float\n",
      "Diagnose Total Failed in Daily into datatype : float\n",
      "Diagnose Total Not Executed in Daily into datatype : float\n",
      "Diagnose Plan Execution in Daily into datatype : float\n",
      "Diagnose Executed in Daily into datatype : float\n",
      "Diagnose Passed in Daily into datatype : float\n",
      "Diagnose Failed in Daily into datatype : float\n",
      "\n",
      "possible_date_str : 04-April-2024\n",
      "The ambi-headers are ['Track', 'Start Date', 'End Date', 'Plan Completion (%)', 'Actual Completion (%)', 'Passed Rate', 'Failed Rate', 'Remark']\n",
      "THE DATAFRAME WILL BE NAMED 04-April-2024_Progress\n"
     ]
    },
    {
     "data": {
      "text/html": [
       "<div>\n",
       "<style scoped>\n",
       "    .dataframe tbody tr th:only-of-type {\n",
       "        vertical-align: middle;\n",
       "    }\n",
       "\n",
       "    .dataframe tbody tr th {\n",
       "        vertical-align: top;\n",
       "    }\n",
       "\n",
       "    .dataframe thead th {\n",
       "        text-align: right;\n",
       "    }\n",
       "</style>\n",
       "<table border=\"1\" class=\"dataframe\">\n",
       "  <thead>\n",
       "    <tr style=\"text-align: right;\">\n",
       "      <th></th>\n",
       "      <th>Track</th>\n",
       "      <th>Start Date</th>\n",
       "      <th>End Date</th>\n",
       "      <th>Plan Completion (%)</th>\n",
       "      <th>Actual Completion (%)</th>\n",
       "      <th>Passed Rate</th>\n",
       "      <th>Failed Rate</th>\n",
       "      <th>Remark</th>\n",
       "    </tr>\n",
       "  </thead>\n",
       "  <tbody>\n",
       "    <tr>\n",
       "      <th>0</th>\n",
       "      <td>DataLake</td>\n",
       "      <td>01-Apr-2024</td>\n",
       "      <td>19-Apr-2024</td>\n",
       "      <td>48.39</td>\n",
       "      <td>48.39</td>\n",
       "      <td>100</td>\n",
       "      <td>0</td>\n",
       "      <td>Started</td>\n",
       "    </tr>\n",
       "  </tbody>\n",
       "</table>\n",
       "</div>"
      ],
      "text/plain": [
       "      Track   Start Date     End Date Plan Completion (%)  \\\n",
       "0  DataLake  01-Apr-2024  19-Apr-2024               48.39   \n",
       "\n",
       "  Actual Completion (%) Passed Rate Failed Rate   Remark  \n",
       "0                 48.39         100           0  Started  "
      ]
     },
     "metadata": {},
     "output_type": "display_data"
    },
    {
     "name": "stdout",
     "output_type": "stream",
     "text": [
      "The ambi-headers are ['', 'Apr-2024', 'May-2024']\n",
      "The ambi-headers are ['Tracks', 'Total TC', 'Total Executed', 'Balance / Catch Up', 'Total Executed - Passed', 'Total Executed - Failed', 'Total Defects', 'Blocked by Defect', 'Backlog (catchup)', 'Yet to execute', 'NA']\n",
      "THE DATAFRAME WILL BE NAMED 04-April-2024_TC_breakdown\n",
      "The ambi-headers are ['No', 'Issue', 'Impact', 'Severity']\n",
      "The ambi-headers are ['', '', 'Accumulated', 'Daily Execution']\n",
      "THE DATAFRAME WILL BE NAMED 04-April-2024_Daily\n",
      "Diagnose Start Date in Progress into datatype : datetime\n",
      "Diagnose End Date in Progress into datatype : datetime\n",
      "Diagnose Actual Completion (%) in Progress into datatype : float\n",
      "Diagnose Plan Completion (%) in Progress into datatype : float\n",
      "Diagnose Passed Rate in Progress into datatype : float\n",
      "Diagnose Failed Rate in Progress into datatype : float\n",
      "Diagnose Total TC in TC_breakdown into datatype : float\n",
      "Diagnose Total Executed in TC_breakdown into datatype : float\n",
      "Diagnose Balance / Catch Up in TC_breakdown into datatype : float\n",
      "Diagnose Total Executed - Passed in TC_breakdown into datatype : float\n",
      "Diagnose Total Executed - Failed in TC_breakdown into datatype : float\n",
      "Diagnose Total Defects in TC_breakdown into datatype : float\n",
      "Diagnose Blocked by Defect in TC_breakdown into datatype : float\n",
      "Diagnose Backlog (catchup) in TC_breakdown into datatype : float\n",
      "Diagnose Yet to execute in TC_breakdown into datatype : float\n",
      "Diagnose NA in TC_breakdown into datatype : float\n",
      "Diagnose Total TC in Daily into datatype : float\n",
      "Diagnose Total Plan Execution in Daily into datatype : float\n",
      "Diagnose Total Passed in Daily into datatype : float\n",
      "Diagnose Total Failed in Daily into datatype : float\n",
      "Diagnose Total Not Executed in Daily into datatype : float\n",
      "Diagnose Plan Execution in Daily into datatype : float\n",
      "Diagnose Executed in Daily into datatype : float\n",
      "Diagnose Passed in Daily into datatype : float\n",
      "Diagnose Failed in Daily into datatype : float\n",
      "\n",
      "possible_date_str : 03-April-2024\n",
      "The ambi-headers are ['Track', 'Start Date', 'End Date', 'Plan Completion (%)', 'Actual Completion (%)', 'Passed Rate', 'Failed Rate', 'Remark']\n",
      "THE DATAFRAME WILL BE NAMED 03-April-2024_Progress\n"
     ]
    },
    {
     "data": {
      "text/html": [
       "<div>\n",
       "<style scoped>\n",
       "    .dataframe tbody tr th:only-of-type {\n",
       "        vertical-align: middle;\n",
       "    }\n",
       "\n",
       "    .dataframe tbody tr th {\n",
       "        vertical-align: top;\n",
       "    }\n",
       "\n",
       "    .dataframe thead th {\n",
       "        text-align: right;\n",
       "    }\n",
       "</style>\n",
       "<table border=\"1\" class=\"dataframe\">\n",
       "  <thead>\n",
       "    <tr style=\"text-align: right;\">\n",
       "      <th></th>\n",
       "      <th>Track</th>\n",
       "      <th>Start Date</th>\n",
       "      <th>End Date</th>\n",
       "      <th>Plan Completion (%)</th>\n",
       "      <th>Actual Completion (%)</th>\n",
       "      <th>Passed Rate</th>\n",
       "      <th>Failed Rate</th>\n",
       "      <th>Remark</th>\n",
       "    </tr>\n",
       "  </thead>\n",
       "  <tbody>\n",
       "    <tr>\n",
       "      <th>0</th>\n",
       "      <td>DataLake</td>\n",
       "      <td>01-Apr-2024</td>\n",
       "      <td>19-Apr-2024</td>\n",
       "      <td>35.48</td>\n",
       "      <td>35.48</td>\n",
       "      <td>100</td>\n",
       "      <td>0</td>\n",
       "      <td>Started</td>\n",
       "    </tr>\n",
       "  </tbody>\n",
       "</table>\n",
       "</div>"
      ],
      "text/plain": [
       "      Track   Start Date     End Date Plan Completion (%)  \\\n",
       "0  DataLake  01-Apr-2024  19-Apr-2024               35.48   \n",
       "\n",
       "  Actual Completion (%) Passed Rate Failed Rate   Remark  \n",
       "0                 35.48         100           0  Started  "
      ]
     },
     "metadata": {},
     "output_type": "display_data"
    },
    {
     "name": "stdout",
     "output_type": "stream",
     "text": [
      "The ambi-headers are ['', 'Apr-2024', 'May-2024']\n",
      "The ambi-headers are ['Tracks', 'Total TC', 'Total Executed', 'Balance / Catch Up', 'Total Executed - Passed', 'Total Executed - Failed', 'Total Defects', 'Blocked by Defect', 'Backlog (catchup)', 'Yet to execute', 'NA']\n",
      "THE DATAFRAME WILL BE NAMED 03-April-2024_TC_breakdown\n",
      "The ambi-headers are ['No', 'Issue', 'Impact', 'Severity']\n",
      "The ambi-headers are ['', '', 'Accumulated', 'Daily Execution']\n",
      "THE DATAFRAME WILL BE NAMED 03-April-2024_Daily\n",
      "Diagnose Start Date in Progress into datatype : datetime\n",
      "Diagnose End Date in Progress into datatype : datetime\n",
      "Diagnose Actual Completion (%) in Progress into datatype : float\n",
      "Diagnose Plan Completion (%) in Progress into datatype : float\n",
      "Diagnose Passed Rate in Progress into datatype : float\n",
      "Diagnose Failed Rate in Progress into datatype : float\n",
      "Diagnose Total TC in TC_breakdown into datatype : float\n",
      "Diagnose Total Executed in TC_breakdown into datatype : float\n",
      "Diagnose Balance / Catch Up in TC_breakdown into datatype : float\n",
      "Diagnose Total Executed - Passed in TC_breakdown into datatype : float\n",
      "Diagnose Total Executed - Failed in TC_breakdown into datatype : float\n",
      "Diagnose Total Defects in TC_breakdown into datatype : float\n",
      "Diagnose Blocked by Defect in TC_breakdown into datatype : float\n",
      "Diagnose Backlog (catchup) in TC_breakdown into datatype : float\n",
      "Diagnose Yet to execute in TC_breakdown into datatype : float\n",
      "Diagnose NA in TC_breakdown into datatype : float\n",
      "Diagnose Total TC in Daily into datatype : float\n",
      "Diagnose Total Plan Execution in Daily into datatype : float\n",
      "Diagnose Total Passed in Daily into datatype : float\n",
      "Diagnose Total Failed in Daily into datatype : float\n",
      "Diagnose Total Not Executed in Daily into datatype : float\n",
      "Diagnose Plan Execution in Daily into datatype : float\n",
      "Diagnose Executed in Daily into datatype : float\n",
      "Diagnose Passed in Daily into datatype : float\n",
      "Diagnose Failed in Daily into datatype : float\n",
      "\n",
      "possible_date_str : 02-April-2024\n",
      "The ambi-headers are ['Track', 'Start Date', 'End Date', 'Plan Completion (%)', 'Actual Completion (%)', 'Passed Rate', 'Failed Rate', 'Remark']\n",
      "THE DATAFRAME WILL BE NAMED 02-April-2024_Progress\n"
     ]
    },
    {
     "data": {
      "text/html": [
       "<div>\n",
       "<style scoped>\n",
       "    .dataframe tbody tr th:only-of-type {\n",
       "        vertical-align: middle;\n",
       "    }\n",
       "\n",
       "    .dataframe tbody tr th {\n",
       "        vertical-align: top;\n",
       "    }\n",
       "\n",
       "    .dataframe thead th {\n",
       "        text-align: right;\n",
       "    }\n",
       "</style>\n",
       "<table border=\"1\" class=\"dataframe\">\n",
       "  <thead>\n",
       "    <tr style=\"text-align: right;\">\n",
       "      <th></th>\n",
       "      <th>Track</th>\n",
       "      <th>Start Date</th>\n",
       "      <th>End Date</th>\n",
       "      <th>Plan Completion (%)</th>\n",
       "      <th>Actual Completion (%)</th>\n",
       "      <th>Passed Rate</th>\n",
       "      <th>Failed Rate</th>\n",
       "      <th>Remark</th>\n",
       "    </tr>\n",
       "  </thead>\n",
       "  <tbody>\n",
       "    <tr>\n",
       "      <th>0</th>\n",
       "      <td>DataLake</td>\n",
       "      <td>01-Apr-2024</td>\n",
       "      <td>19-Apr-2024</td>\n",
       "      <td>22.58</td>\n",
       "      <td>22.58</td>\n",
       "      <td>100</td>\n",
       "      <td>0</td>\n",
       "      <td>Started</td>\n",
       "    </tr>\n",
       "  </tbody>\n",
       "</table>\n",
       "</div>"
      ],
      "text/plain": [
       "      Track   Start Date     End Date Plan Completion (%)  \\\n",
       "0  DataLake  01-Apr-2024  19-Apr-2024               22.58   \n",
       "\n",
       "  Actual Completion (%) Passed Rate Failed Rate   Remark  \n",
       "0                 22.58         100           0  Started  "
      ]
     },
     "metadata": {},
     "output_type": "display_data"
    },
    {
     "name": "stdout",
     "output_type": "stream",
     "text": [
      "The ambi-headers are ['Tracks', 'Total TC', 'Total Executed', 'Balance / Catch Up', 'Total Executed - Passed', 'Total Executed - Failed', 'Total Defects', 'Blocked by Defect', 'Backlog (catchup)', 'Yet to execute', 'NA']\n",
      "THE DATAFRAME WILL BE NAMED 02-April-2024_TC_breakdown\n",
      "The ambi-headers are ['No', 'Issue', 'Impact', 'Severity']\n",
      "The ambi-headers are ['', '', 'Accumulated', 'Daily Execution']\n",
      "THE DATAFRAME WILL BE NAMED 02-April-2024_Daily\n",
      "The ambi-headers are ['DL (total test case in this list included Monday 01-Apr)', 'DL001DL002DL003DL004DL005DL006DL007DL008DL009DL010', 'DL011DL012DL013DL014DL015DL016DL017DL018DL019DL020', 'DL021DL022DL023DL024DL025DL026DL027DL028DL029DL030', 'DL031DL032DL033DL034DL035', '-']\n",
      "Diagnose Start Date in Progress into datatype : datetime\n",
      "Diagnose End Date in Progress into datatype : datetime\n",
      "Diagnose Actual Completion (%) in Progress into datatype : float\n",
      "Diagnose Plan Completion (%) in Progress into datatype : float\n",
      "Diagnose Passed Rate in Progress into datatype : float\n",
      "Diagnose Failed Rate in Progress into datatype : float\n",
      "Diagnose Total TC in TC_breakdown into datatype : float\n",
      "Diagnose Total Executed in TC_breakdown into datatype : float\n",
      "Diagnose Balance / Catch Up in TC_breakdown into datatype : float\n",
      "Diagnose Total Executed - Passed in TC_breakdown into datatype : float\n",
      "Diagnose Total Executed - Failed in TC_breakdown into datatype : float\n",
      "Diagnose Total Defects in TC_breakdown into datatype : float\n",
      "Diagnose Blocked by Defect in TC_breakdown into datatype : float\n",
      "Diagnose Backlog (catchup) in TC_breakdown into datatype : float\n",
      "Diagnose Yet to execute in TC_breakdown into datatype : float\n",
      "Diagnose NA in TC_breakdown into datatype : float\n",
      "Diagnose Total TC in Daily into datatype : float\n",
      "Diagnose Total Plan Execution in Daily into datatype : float\n",
      "Diagnose Total Passed in Daily into datatype : float\n",
      "Diagnose Total Failed in Daily into datatype : float\n",
      "Diagnose Total Not Executed in Daily into datatype : float\n",
      "Diagnose Plan Execution in Daily into datatype : float\n",
      "Diagnose Executed in Daily into datatype : float\n",
      "Diagnose Passed in Daily into datatype : float\n",
      "Diagnose Failed in Daily into datatype : float\n"
     ]
    }
   ],
   "source": [
    "## Full script with function call -- edit\n",
    "import win32com.client\n",
    "import os \n",
    "import re\n",
    "from bs4 import BeautifulSoup\n",
    "import pickle\n",
    "import dateutil.parser\n",
    "from dateutil.parser import ParserError\n",
    "\n",
    "# outlook = win32com.client.Dispatch('Outlook.Application')\n",
    "# mapi = outlook.GetNamespace(\"MAPI\")\n",
    "# inbox = mapi.GetDefaultFolder(6)\n",
    "# messages = inbox.Items\n",
    "\n",
    "# --------------EMAILS START--------------------------\n",
    "outlook = win32com.client.Dispatch(\"Outlook.Application\")\n",
    "mapi = outlook.GetNamespace(\"MAPI\")\n",
    "messages = mapi.Folders['Archive for Automation'].Folders['Emails'].Items\n",
    "# Restrict the emails I want to analyze\n",
    "restrict_messages = [message for message in list(messages) if (re.search(pattern='GCIF Final Release', string=message.Subject)) and \\\n",
    "                     (message.SenderEmailAddress == 'leong.tongshenq@kewmann.com')]\n",
    "special_phrase = lambda x: re.compile(r'Below is the status update as of').search(x)\n",
    "print('DONE PROCESSING EMAILS')\n",
    "# --------------EMAILS END----------------------------\n",
    "\n",
    "#--------------- PICKLE FILE START ------------------------\n",
    "# Reading the file - unpickling\n",
    "with open ('outfile.pkl', 'rb') as fp:\n",
    "    itemlist = pickle.load(fp)\n",
    "#--------------- PICKLE FILE END --------------------------\n",
    "\n",
    "\n",
    "# Edit here\n",
    "is_use_email = True\n",
    "\n",
    "if is_use_email:\n",
    "    my_container = restrict_messages\n",
    "else:\n",
    "    my_container = itemlist\n",
    "\n",
    "count = 0\n",
    "dfs={}\n",
    "\n",
    "for e_message in my_container:\n",
    "    try: # Will fail for itme list\n",
    "        my_html_str = e_message.HTMLbody # Convert win32com.client.CDispatch to str\n",
    "    except (AttributeError, TypeError): # In the event of using itemslist\n",
    "        print('Using itemlist')\n",
    "        my_html_str = str(e_message) # Each item in itemlist is actually a bs4.BeautifulSoup object! So converting to string...\n",
    "        # ... and then back to soup\n",
    "    finally:\n",
    "        e_soup = BeautifulSoup(my_html_str, \"html.parser\") # Convert the mail content from string to soup object\n",
    "        # Validate the soup \n",
    "        if e_soup.find(name='html').get('xmlns') == None:\n",
    "            print('Not valid soup')\n",
    "            pass\n",
    "        else:\n",
    "            # Get all HTML tables in the email \n",
    "            tables_per_email = e_soup.find_all(name='table', attrs={'class':'MsoNormalTable'})\n",
    "            # IF a genuine report email is found, then the first-bolded text is a datestring, \n",
    "            ## Get the date by retrieving the first bolded text\n",
    "            possible_date_str = e_soup.find_all(name='b')[0].text\n",
    "            ## Get the special phrasing within the first few lines of the paragraph tags\n",
    "            p_text_li = [td.text for td in e_soup.find_all('p') if td.text != str()][:10] # return a list, i.e [text1, text2, text3, ...]\n",
    "            special_list = list(filter(special_phrase, p_text_li))\n",
    "            print(f'\\npossible_date_str : {possible_date_str}')\n",
    "            try:\n",
    "                date_name = dateutil.parser.parse(possible_date_str) # like an automatic strptime()\n",
    "            except ParserError:\n",
    "                print('Conversational email, not a real status report')\n",
    "                pass\n",
    "            if special_list:\n",
    "                date_str = date_name.strftime(\"%d-%B-%Y\")    \n",
    "                ## Parse HTML using function\n",
    "                for ambi_table in tables_per_email[:5]: \n",
    "                    column_headers = []\n",
    "                    for i in ambi_table.find_all(name='tr')[0]:\n",
    "                        header = i.text\n",
    "                        column_headers.append(header)\n",
    "                    column_headers = [i.strip() for i in column_headers if i != '\\n']\n",
    "                    print(\"The ambi-headers are\", column_headers)\n",
    "    \n",
    "                    ## Identify and classify the ambitable - IF block\n",
    "                    if all(col in column_headers for col in ['Start Date', 'End Date']):\n",
    "                        progress_table = ambi_table\n",
    "                        progress_df = HTML_table_to_df(html_table=progress_table, header_index=0)\n",
    "                        # Append dataframe to dfs\n",
    "                        dfs[f\"{date_str}_Progress\"] = progress_df\n",
    "                        print(f'THE DATAFRAME WILL BE NAMED {f\"{date_str}_Progress\"}')\n",
    "                        display(progress_df.head(1))\n",
    "    \n",
    "                    elif all(col in column_headers for col in ['Blocked by Defect', 'Total Defects']):\n",
    "                        breakdown_table = ambi_table\n",
    "                        breakdown_df = HTML_table_to_df(html_table=breakdown_table, header_index=0)\n",
    "                        # Append dataframe to dfs\n",
    "                        dfs[f\"{date_str}_TC_breakdown\"] = breakdown_df\n",
    "                        print(f'THE DATAFRAME WILL BE NAMED {f\"{date_str}_TC_breakdown\"}')\n",
    "    \n",
    "                    elif all(col in column_headers for col in ['Accumulated', 'Daily Execution']):\n",
    "                        daily_table = ambi_table\n",
    "                        daily_df = HTML_table_to_df(html_table=daily_table, header_index=1)\n",
    "                        # Append dataframe to dfs\n",
    "                        dfs[f\"{date_str}_Daily\"] = daily_df\n",
    "                        print(f'THE DATAFRAME WILL BE NAMED {f\"{date_str}_Daily\"}')\n",
    "    \n",
    "                    # elif  all(col in column_headers for col in [\"Pending Clarification\", \"Tester Clarified\"]):\n",
    "                    #     review_table = ambi_table\n",
    "                    #     review_df = HTML_table_to_df(html_table=review_table, header_index=0)\n",
    "                    #     dfs[f\"{date_name}_Review\"] = review_df\n",
    "            \n",
    "                # Create a conversion_dict holding the parameter, argument pairs\n",
    "                conversion_dict = {\n",
    "                           1: {'df_suffix':'Progress', 'column':'Start Date', 'change_to':'datetime'},\n",
    "                           2: {'df_suffix':'Progress', 'column':'End Date', 'change_to':'datetime'}, \n",
    "                           3: {'df_suffix':'Progress', 'column':'Actual Completion (%)', 'change_to':'float'},\n",
    "                           4: {'df_suffix':'Progress', 'column':'Plan Completion (%)', 'change_to':'float'},\n",
    "                           5: {'df_suffix':'Progress', 'column':'Passed Rate', 'change_to':'float'},\n",
    "                           6: {'df_suffix':'Progress', 'column':'Failed Rate', 'change_to':'float'}\n",
    "                          }\n",
    "                index = 7\n",
    "            \n",
    "                ## Appending to conversion_dict\n",
    "                for float_column in breakdown_df.columns.tolist()[1:]:\n",
    "                    row_dict = {'df_suffix':'TC_breakdown', 'column':float_column, 'change_to':'float'}\n",
    "                    conversion_dict.update({index:row_dict})\n",
    "                    index += 1\n",
    "            \n",
    "                for float_column in daily_df.columns.tolist()[1:]:\n",
    "                    row_dict = {'df_suffix':'Daily', 'column':float_column, 'change_to':'float'}\n",
    "                    conversion_dict.update({index:row_dict})\n",
    "                    index += 1\n",
    "            \n",
    "                # for float_column in review_df.columns.tolist()[1:]:\n",
    "                #     row_dict = {'df_suffix':'Review', 'column':float_column, 'change_to':'float'}\n",
    "                #     conversion_dict.update({index:row_dict})\n",
    "                #     index += 1\n",
    "                    \n",
    "                # Cast into right data types\n",
    "                for idx, row_dict in conversion_dict.items():\n",
    "                    change_datatype(**row_dict)\n",
    "                    # change_datatype(df_suffix=row_dict['df_suffix'],\\\n",
    "                    #                 column=row_dict['column'],\\\n",
    "                    #                 change_to=row_dict['change_to'])\n",
    "        \n",
    "                # Without change_to function\n",
    "                # dfs[f\"{date_name}_progress\"]['Start Date'] = pd.to_datetime(dfs[f\"{date_name}_progress\"]['Start Date'], format='%d-%B-%Y') \n",
    "                # dfs[f\"{date_name}_progress\"]['End Date'] = pd.to_datetime(dfs[f\"{date_name}_progress\"]['End Date'], format='%d-%B-%Y') \n",
    "                # dfs[f\"{date_name}_progress\"]['Plan Completion (%)'] = dfs[f\"{date_name}_progress\"]['Plan Completion (%)'].astype(float)"
   ]
  },
  {
   "cell_type": "code",
   "execution_count": 32,
   "id": "bee2388b-73f0-40ae-a385-de89679e65f1",
   "metadata": {},
   "outputs": [
    {
     "data": {
      "text/plain": [
       "list"
      ]
     },
     "execution_count": 32,
     "metadata": {},
     "output_type": "execute_result"
    }
   ],
   "source": [
    "type(restrict_messages)"
   ]
  },
  {
   "cell_type": "code",
   "execution_count": 33,
   "id": "74ba8d81-4cec-4ee2-83fc-434dfd81d95b",
   "metadata": {},
   "outputs": [],
   "source": [
    "# Reading the file - unpickling\n",
    "with open ('outfile.pkl', 'rb') as fp:\n",
    "    itemlist = pickle.load(fp)\n",
    "\n",
    "for e_message in itemlist:\n",
    "    message = str(e_message) # Each item in itemlist is actually a bs4.BeautifulSoup object! So converting to string...\n",
    "    # ... and then back to soup\n",
    "    my_soup = BeautifulSoup(message, \"html.parser\") # Convert the mail content from string to soup object"
   ]
  },
  {
   "cell_type": "markdown",
   "id": "f8c9118f-6a3b-4536-a508-22d5c3d39303",
   "metadata": {},
   "source": [
    "Remember to delete the folder Clean_Tables if rerunning the code below again."
   ]
  },
  {
   "cell_type": "code",
   "execution_count": 34,
   "id": "baf7e26d-34e9-4f44-b432-74873bf89cd8",
   "metadata": {},
   "outputs": [
    {
     "name": "stdout",
     "output_type": "stream",
     "text": [
      "File already exists. Skipping writing to output. Delete ./Clean_Tables if you want to write to output.\n"
     ]
    }
   ],
   "source": [
    "# Ready to output\n",
    "tables_dir = './Clean_Tables'\n",
    "try:\n",
    "    os.makedirs(tables_dir, exist_ok=False)\n",
    "    for e_df_name, e_df in dfs.items():\n",
    "\n",
    "        # Create subfolders \n",
    "        sub_folder = re.search(pattern=r'_([\\w]+)$', string=e_df_name).group(1)\n",
    "        os.makedirs(name=f'./{tables_dir}/{sub_folder}', exist_ok=True)\n",
    "    \n",
    "        # Write the in-memory csv to disk\n",
    "        data_output = os.path.normpath(os.path.join(os.getcwd(), tables_dir, sub_folder, f'{e_df_name}.csv'))\n",
    "        e_df.to_csv(data_output, sep=',')\n",
    "except FileExistsError:\n",
    "    print(f'File already exists. Skipping writing to output. Delete {tables_dir} if you want to write to output.')"
   ]
  },
  {
   "cell_type": "markdown",
   "id": "071b7090-38f6-4e1f-92b9-c91d89a2fa6b",
   "metadata": {},
   "source": [
    "In Windows folders, files are always sorted lexicograhically.\n",
    ">If we want to sort by dates, then we have to prefix the each file in the sorted files with th"
   ]
  },
  {
   "cell_type": "code",
   "execution_count": 35,
   "id": "420bf482-e1a4-4e8d-a3f7-06515ab99083",
   "metadata": {},
   "outputs": [
    {
     "data": {
      "text/plain": [
       "'C:\\\\Users\\\\10041594B\\\\Documents\\\\Digital Solutions\\\\Python Folder\\\\TC Visualisation'"
      ]
     },
     "execution_count": 35,
     "metadata": {},
     "output_type": "execute_result"
    }
   ],
   "source": [
    "os.getcwd()"
   ]
  },
  {
   "cell_type": "code",
   "execution_count": 36,
   "id": "fb14ef1c-adf4-453a-8a53-4257d28d3962",
   "metadata": {
    "scrolled": true
   },
   "outputs": [
    {
     "name": "stdout",
     "output_type": "stream",
     "text": [
      "Sorted files by date : \n",
      " ['001_02-April-2024_Daily.csv', '002_03-April-2024_Daily.csv', '003_04-April-2024_Daily.csv', '004_05-April-2024_Daily.csv', '005_06-April-2024_Daily.csv', '006_09-April-2024_Daily.csv', '007_12-April-2024_Daily.csv', '008_15-April-2024_Daily.csv', '009_18-April-2024_Daily.csv', '010_22-April-2024_Daily.csv', '011_23-April-2024_Daily.csv', '012_24-April-2024_Daily.csv', '013_25-April-2024_Daily.csv', '014_29-April-2024_Daily.csv', '015_30-April-2024_Daily.csv', '016_02-May-2024_Daily.csv', '017_05-May-2024_Daily.csv', '018_06-May-2024_Daily.csv', '019_07-May-2024_Daily.csv', '020_08-May-2024_Daily.csv', '021_09-May-2024_Daily.csv', '022_10-May-2024_Daily.csv']\n",
      "Renamed 001_02-April-2024_Daily.csv to 001_001_02-April-2024_Daily.csv in folder \"C:\\Users\\10041594B\\Documents\\Digital Solutions\\Python Folder\\TC Visualisation\\Clean_Tables\\Daily\"\n",
      "Renamed 002_03-April-2024_Daily.csv to 002_002_03-April-2024_Daily.csv in folder \"C:\\Users\\10041594B\\Documents\\Digital Solutions\\Python Folder\\TC Visualisation\\Clean_Tables\\Daily\"\n",
      "Renamed 003_04-April-2024_Daily.csv to 003_003_04-April-2024_Daily.csv in folder \"C:\\Users\\10041594B\\Documents\\Digital Solutions\\Python Folder\\TC Visualisation\\Clean_Tables\\Daily\"\n",
      "Renamed 004_05-April-2024_Daily.csv to 004_004_05-April-2024_Daily.csv in folder \"C:\\Users\\10041594B\\Documents\\Digital Solutions\\Python Folder\\TC Visualisation\\Clean_Tables\\Daily\"\n",
      "Renamed 005_06-April-2024_Daily.csv to 005_005_06-April-2024_Daily.csv in folder \"C:\\Users\\10041594B\\Documents\\Digital Solutions\\Python Folder\\TC Visualisation\\Clean_Tables\\Daily\"\n",
      "Renamed 006_09-April-2024_Daily.csv to 006_006_09-April-2024_Daily.csv in folder \"C:\\Users\\10041594B\\Documents\\Digital Solutions\\Python Folder\\TC Visualisation\\Clean_Tables\\Daily\"\n",
      "Renamed 007_12-April-2024_Daily.csv to 007_007_12-April-2024_Daily.csv in folder \"C:\\Users\\10041594B\\Documents\\Digital Solutions\\Python Folder\\TC Visualisation\\Clean_Tables\\Daily\"\n",
      "Renamed 008_15-April-2024_Daily.csv to 008_008_15-April-2024_Daily.csv in folder \"C:\\Users\\10041594B\\Documents\\Digital Solutions\\Python Folder\\TC Visualisation\\Clean_Tables\\Daily\"\n",
      "Renamed 009_18-April-2024_Daily.csv to 009_009_18-April-2024_Daily.csv in folder \"C:\\Users\\10041594B\\Documents\\Digital Solutions\\Python Folder\\TC Visualisation\\Clean_Tables\\Daily\"\n",
      "Renamed 010_22-April-2024_Daily.csv to 010_010_22-April-2024_Daily.csv in folder \"C:\\Users\\10041594B\\Documents\\Digital Solutions\\Python Folder\\TC Visualisation\\Clean_Tables\\Daily\"\n",
      "Renamed 011_23-April-2024_Daily.csv to 011_011_23-April-2024_Daily.csv in folder \"C:\\Users\\10041594B\\Documents\\Digital Solutions\\Python Folder\\TC Visualisation\\Clean_Tables\\Daily\"\n",
      "Renamed 012_24-April-2024_Daily.csv to 012_012_24-April-2024_Daily.csv in folder \"C:\\Users\\10041594B\\Documents\\Digital Solutions\\Python Folder\\TC Visualisation\\Clean_Tables\\Daily\"\n",
      "Renamed 013_25-April-2024_Daily.csv to 013_013_25-April-2024_Daily.csv in folder \"C:\\Users\\10041594B\\Documents\\Digital Solutions\\Python Folder\\TC Visualisation\\Clean_Tables\\Daily\"\n",
      "Renamed 014_29-April-2024_Daily.csv to 014_014_29-April-2024_Daily.csv in folder \"C:\\Users\\10041594B\\Documents\\Digital Solutions\\Python Folder\\TC Visualisation\\Clean_Tables\\Daily\"\n",
      "Renamed 015_30-April-2024_Daily.csv to 015_015_30-April-2024_Daily.csv in folder \"C:\\Users\\10041594B\\Documents\\Digital Solutions\\Python Folder\\TC Visualisation\\Clean_Tables\\Daily\"\n",
      "Renamed 016_02-May-2024_Daily.csv to 016_016_02-May-2024_Daily.csv in folder \"C:\\Users\\10041594B\\Documents\\Digital Solutions\\Python Folder\\TC Visualisation\\Clean_Tables\\Daily\"\n",
      "Renamed 017_05-May-2024_Daily.csv to 017_017_05-May-2024_Daily.csv in folder \"C:\\Users\\10041594B\\Documents\\Digital Solutions\\Python Folder\\TC Visualisation\\Clean_Tables\\Daily\"\n",
      "Renamed 018_06-May-2024_Daily.csv to 018_018_06-May-2024_Daily.csv in folder \"C:\\Users\\10041594B\\Documents\\Digital Solutions\\Python Folder\\TC Visualisation\\Clean_Tables\\Daily\"\n",
      "Renamed 019_07-May-2024_Daily.csv to 019_019_07-May-2024_Daily.csv in folder \"C:\\Users\\10041594B\\Documents\\Digital Solutions\\Python Folder\\TC Visualisation\\Clean_Tables\\Daily\"\n",
      "Renamed 020_08-May-2024_Daily.csv to 020_020_08-May-2024_Daily.csv in folder \"C:\\Users\\10041594B\\Documents\\Digital Solutions\\Python Folder\\TC Visualisation\\Clean_Tables\\Daily\"\n",
      "Renamed 021_09-May-2024_Daily.csv to 021_021_09-May-2024_Daily.csv in folder \"C:\\Users\\10041594B\\Documents\\Digital Solutions\\Python Folder\\TC Visualisation\\Clean_Tables\\Daily\"\n",
      "Renamed 022_10-May-2024_Daily.csv to 022_022_10-May-2024_Daily.csv in folder \"C:\\Users\\10041594B\\Documents\\Digital Solutions\\Python Folder\\TC Visualisation\\Clean_Tables\\Daily\"\n",
      "Sorted files by date : \n",
      " ['001_02-April-2024_Progress.csv', '002_03-April-2024_Progress.csv', '003_04-April-2024_Progress.csv', '004_05-April-2024_Progress.csv', '005_06-April-2024_Progress.csv', '006_09-April-2024_Progress.csv', '007_12-April-2024_Progress.csv', '008_15-April-2024_Progress.csv', '009_18-April-2024_Progress.csv', '010_22-April-2024_Progress.csv', '011_23-April-2024_Progress.csv', '012_24-April-2024_Progress.csv', '013_25-April-2024_Progress.csv', '014_29-April-2024_Progress.csv', '015_30-April-2024_Progress.csv', '016_02-May-2024_Progress.csv', '017_05-May-2024_Progress.csv', '018_06-May-2024_Progress.csv', '019_07-May-2024_Progress.csv', '020_08-May-2024_Progress.csv', '021_09-May-2024_Progress.csv', '022_10-May-2024_Progress.csv']\n",
      "Renamed 001_02-April-2024_Progress.csv to 001_001_02-April-2024_Progress.csv in folder \"C:\\Users\\10041594B\\Documents\\Digital Solutions\\Python Folder\\TC Visualisation\\Clean_Tables\\Progress\"\n",
      "Renamed 002_03-April-2024_Progress.csv to 002_002_03-April-2024_Progress.csv in folder \"C:\\Users\\10041594B\\Documents\\Digital Solutions\\Python Folder\\TC Visualisation\\Clean_Tables\\Progress\"\n",
      "Renamed 003_04-April-2024_Progress.csv to 003_003_04-April-2024_Progress.csv in folder \"C:\\Users\\10041594B\\Documents\\Digital Solutions\\Python Folder\\TC Visualisation\\Clean_Tables\\Progress\"\n",
      "Renamed 004_05-April-2024_Progress.csv to 004_004_05-April-2024_Progress.csv in folder \"C:\\Users\\10041594B\\Documents\\Digital Solutions\\Python Folder\\TC Visualisation\\Clean_Tables\\Progress\"\n",
      "Renamed 005_06-April-2024_Progress.csv to 005_005_06-April-2024_Progress.csv in folder \"C:\\Users\\10041594B\\Documents\\Digital Solutions\\Python Folder\\TC Visualisation\\Clean_Tables\\Progress\"\n",
      "Renamed 006_09-April-2024_Progress.csv to 006_006_09-April-2024_Progress.csv in folder \"C:\\Users\\10041594B\\Documents\\Digital Solutions\\Python Folder\\TC Visualisation\\Clean_Tables\\Progress\"\n",
      "Renamed 007_12-April-2024_Progress.csv to 007_007_12-April-2024_Progress.csv in folder \"C:\\Users\\10041594B\\Documents\\Digital Solutions\\Python Folder\\TC Visualisation\\Clean_Tables\\Progress\"\n",
      "Renamed 008_15-April-2024_Progress.csv to 008_008_15-April-2024_Progress.csv in folder \"C:\\Users\\10041594B\\Documents\\Digital Solutions\\Python Folder\\TC Visualisation\\Clean_Tables\\Progress\"\n",
      "Renamed 009_18-April-2024_Progress.csv to 009_009_18-April-2024_Progress.csv in folder \"C:\\Users\\10041594B\\Documents\\Digital Solutions\\Python Folder\\TC Visualisation\\Clean_Tables\\Progress\"\n",
      "Renamed 010_22-April-2024_Progress.csv to 010_010_22-April-2024_Progress.csv in folder \"C:\\Users\\10041594B\\Documents\\Digital Solutions\\Python Folder\\TC Visualisation\\Clean_Tables\\Progress\"\n",
      "Renamed 011_23-April-2024_Progress.csv to 011_011_23-April-2024_Progress.csv in folder \"C:\\Users\\10041594B\\Documents\\Digital Solutions\\Python Folder\\TC Visualisation\\Clean_Tables\\Progress\"\n",
      "Renamed 012_24-April-2024_Progress.csv to 012_012_24-April-2024_Progress.csv in folder \"C:\\Users\\10041594B\\Documents\\Digital Solutions\\Python Folder\\TC Visualisation\\Clean_Tables\\Progress\"\n",
      "Renamed 013_25-April-2024_Progress.csv to 013_013_25-April-2024_Progress.csv in folder \"C:\\Users\\10041594B\\Documents\\Digital Solutions\\Python Folder\\TC Visualisation\\Clean_Tables\\Progress\"\n",
      "Renamed 014_29-April-2024_Progress.csv to 014_014_29-April-2024_Progress.csv in folder \"C:\\Users\\10041594B\\Documents\\Digital Solutions\\Python Folder\\TC Visualisation\\Clean_Tables\\Progress\"\n",
      "Renamed 015_30-April-2024_Progress.csv to 015_015_30-April-2024_Progress.csv in folder \"C:\\Users\\10041594B\\Documents\\Digital Solutions\\Python Folder\\TC Visualisation\\Clean_Tables\\Progress\"\n",
      "Renamed 016_02-May-2024_Progress.csv to 016_016_02-May-2024_Progress.csv in folder \"C:\\Users\\10041594B\\Documents\\Digital Solutions\\Python Folder\\TC Visualisation\\Clean_Tables\\Progress\"\n",
      "Renamed 017_05-May-2024_Progress.csv to 017_017_05-May-2024_Progress.csv in folder \"C:\\Users\\10041594B\\Documents\\Digital Solutions\\Python Folder\\TC Visualisation\\Clean_Tables\\Progress\"\n",
      "Renamed 018_06-May-2024_Progress.csv to 018_018_06-May-2024_Progress.csv in folder \"C:\\Users\\10041594B\\Documents\\Digital Solutions\\Python Folder\\TC Visualisation\\Clean_Tables\\Progress\"\n",
      "Renamed 019_07-May-2024_Progress.csv to 019_019_07-May-2024_Progress.csv in folder \"C:\\Users\\10041594B\\Documents\\Digital Solutions\\Python Folder\\TC Visualisation\\Clean_Tables\\Progress\"\n",
      "Renamed 020_08-May-2024_Progress.csv to 020_020_08-May-2024_Progress.csv in folder \"C:\\Users\\10041594B\\Documents\\Digital Solutions\\Python Folder\\TC Visualisation\\Clean_Tables\\Progress\"\n",
      "Renamed 021_09-May-2024_Progress.csv to 021_021_09-May-2024_Progress.csv in folder \"C:\\Users\\10041594B\\Documents\\Digital Solutions\\Python Folder\\TC Visualisation\\Clean_Tables\\Progress\"\n",
      "Renamed 022_10-May-2024_Progress.csv to 022_022_10-May-2024_Progress.csv in folder \"C:\\Users\\10041594B\\Documents\\Digital Solutions\\Python Folder\\TC Visualisation\\Clean_Tables\\Progress\"\n",
      "Sorted files by date : \n",
      " ['001_02-April-2024_TC_breakdown.csv', '002_03-April-2024_TC_breakdown.csv', '003_04-April-2024_TC_breakdown.csv', '004_05-April-2024_TC_breakdown.csv', '005_06-April-2024_TC_breakdown.csv', '006_09-April-2024_TC_breakdown.csv', '007_12-April-2024_TC_breakdown.csv', '008_15-April-2024_TC_breakdown.csv', '009_18-April-2024_TC_breakdown.csv', '010_22-April-2024_TC_breakdown.csv', '011_23-April-2024_TC_breakdown.csv', '012_24-April-2024_TC_breakdown.csv', '013_25-April-2024_TC_breakdown.csv', '014_29-April-2024_TC_breakdown.csv', '015_30-April-2024_TC_breakdown.csv', '016_02-May-2024_TC_breakdown.csv', '017_05-May-2024_TC_breakdown.csv', '018_06-May-2024_TC_breakdown.csv', '019_07-May-2024_TC_breakdown.csv', '020_08-May-2024_TC_breakdown.csv', '021_09-May-2024_TC_breakdown.csv', '022_10-May-2024_TC_breakdown.csv']\n",
      "Renamed 001_02-April-2024_TC_breakdown.csv to 001_001_02-April-2024_TC_breakdown.csv in folder \"C:\\Users\\10041594B\\Documents\\Digital Solutions\\Python Folder\\TC Visualisation\\Clean_Tables\\TC_breakdown\"\n",
      "Renamed 002_03-April-2024_TC_breakdown.csv to 002_002_03-April-2024_TC_breakdown.csv in folder \"C:\\Users\\10041594B\\Documents\\Digital Solutions\\Python Folder\\TC Visualisation\\Clean_Tables\\TC_breakdown\"\n",
      "Renamed 003_04-April-2024_TC_breakdown.csv to 003_003_04-April-2024_TC_breakdown.csv in folder \"C:\\Users\\10041594B\\Documents\\Digital Solutions\\Python Folder\\TC Visualisation\\Clean_Tables\\TC_breakdown\"\n",
      "Renamed 004_05-April-2024_TC_breakdown.csv to 004_004_05-April-2024_TC_breakdown.csv in folder \"C:\\Users\\10041594B\\Documents\\Digital Solutions\\Python Folder\\TC Visualisation\\Clean_Tables\\TC_breakdown\"\n",
      "Renamed 005_06-April-2024_TC_breakdown.csv to 005_005_06-April-2024_TC_breakdown.csv in folder \"C:\\Users\\10041594B\\Documents\\Digital Solutions\\Python Folder\\TC Visualisation\\Clean_Tables\\TC_breakdown\"\n",
      "Renamed 006_09-April-2024_TC_breakdown.csv to 006_006_09-April-2024_TC_breakdown.csv in folder \"C:\\Users\\10041594B\\Documents\\Digital Solutions\\Python Folder\\TC Visualisation\\Clean_Tables\\TC_breakdown\"\n",
      "Renamed 007_12-April-2024_TC_breakdown.csv to 007_007_12-April-2024_TC_breakdown.csv in folder \"C:\\Users\\10041594B\\Documents\\Digital Solutions\\Python Folder\\TC Visualisation\\Clean_Tables\\TC_breakdown\"\n",
      "Renamed 008_15-April-2024_TC_breakdown.csv to 008_008_15-April-2024_TC_breakdown.csv in folder \"C:\\Users\\10041594B\\Documents\\Digital Solutions\\Python Folder\\TC Visualisation\\Clean_Tables\\TC_breakdown\"\n",
      "Renamed 009_18-April-2024_TC_breakdown.csv to 009_009_18-April-2024_TC_breakdown.csv in folder \"C:\\Users\\10041594B\\Documents\\Digital Solutions\\Python Folder\\TC Visualisation\\Clean_Tables\\TC_breakdown\"\n",
      "Renamed 010_22-April-2024_TC_breakdown.csv to 010_010_22-April-2024_TC_breakdown.csv in folder \"C:\\Users\\10041594B\\Documents\\Digital Solutions\\Python Folder\\TC Visualisation\\Clean_Tables\\TC_breakdown\"\n",
      "Renamed 011_23-April-2024_TC_breakdown.csv to 011_011_23-April-2024_TC_breakdown.csv in folder \"C:\\Users\\10041594B\\Documents\\Digital Solutions\\Python Folder\\TC Visualisation\\Clean_Tables\\TC_breakdown\"\n",
      "Renamed 012_24-April-2024_TC_breakdown.csv to 012_012_24-April-2024_TC_breakdown.csv in folder \"C:\\Users\\10041594B\\Documents\\Digital Solutions\\Python Folder\\TC Visualisation\\Clean_Tables\\TC_breakdown\"\n",
      "Renamed 013_25-April-2024_TC_breakdown.csv to 013_013_25-April-2024_TC_breakdown.csv in folder \"C:\\Users\\10041594B\\Documents\\Digital Solutions\\Python Folder\\TC Visualisation\\Clean_Tables\\TC_breakdown\"\n",
      "Renamed 014_29-April-2024_TC_breakdown.csv to 014_014_29-April-2024_TC_breakdown.csv in folder \"C:\\Users\\10041594B\\Documents\\Digital Solutions\\Python Folder\\TC Visualisation\\Clean_Tables\\TC_breakdown\"\n",
      "Renamed 015_30-April-2024_TC_breakdown.csv to 015_015_30-April-2024_TC_breakdown.csv in folder \"C:\\Users\\10041594B\\Documents\\Digital Solutions\\Python Folder\\TC Visualisation\\Clean_Tables\\TC_breakdown\"\n",
      "Renamed 016_02-May-2024_TC_breakdown.csv to 016_016_02-May-2024_TC_breakdown.csv in folder \"C:\\Users\\10041594B\\Documents\\Digital Solutions\\Python Folder\\TC Visualisation\\Clean_Tables\\TC_breakdown\"\n",
      "Renamed 017_05-May-2024_TC_breakdown.csv to 017_017_05-May-2024_TC_breakdown.csv in folder \"C:\\Users\\10041594B\\Documents\\Digital Solutions\\Python Folder\\TC Visualisation\\Clean_Tables\\TC_breakdown\"\n",
      "Renamed 018_06-May-2024_TC_breakdown.csv to 018_018_06-May-2024_TC_breakdown.csv in folder \"C:\\Users\\10041594B\\Documents\\Digital Solutions\\Python Folder\\TC Visualisation\\Clean_Tables\\TC_breakdown\"\n",
      "Renamed 019_07-May-2024_TC_breakdown.csv to 019_019_07-May-2024_TC_breakdown.csv in folder \"C:\\Users\\10041594B\\Documents\\Digital Solutions\\Python Folder\\TC Visualisation\\Clean_Tables\\TC_breakdown\"\n",
      "Renamed 020_08-May-2024_TC_breakdown.csv to 020_020_08-May-2024_TC_breakdown.csv in folder \"C:\\Users\\10041594B\\Documents\\Digital Solutions\\Python Folder\\TC Visualisation\\Clean_Tables\\TC_breakdown\"\n",
      "Renamed 021_09-May-2024_TC_breakdown.csv to 021_021_09-May-2024_TC_breakdown.csv in folder \"C:\\Users\\10041594B\\Documents\\Digital Solutions\\Python Folder\\TC Visualisation\\Clean_Tables\\TC_breakdown\"\n",
      "Renamed 022_10-May-2024_TC_breakdown.csv to 022_022_10-May-2024_TC_breakdown.csv in folder \"C:\\Users\\10041594B\\Documents\\Digital Solutions\\Python Folder\\TC Visualisation\\Clean_Tables\\TC_breakdown\"\n"
     ]
    }
   ],
   "source": [
    "from datetime import datetime\n",
    "pattern=re.compile(r'(\\d{2})-([\\w]+)-(\\d{4})_[\\w]+\\.csv')\n",
    "def get_date_from_filename(filename):\n",
    "    \"\"\"\n",
    "    Parse the filename(string) to a datetime object. This is a dependent function .\n",
    "    \"\"\"\n",
    "    match = re.compile(pattern).search(filename)\n",
    "    if match:\n",
    "        day, month, year = match.groups()\n",
    "        return datetime.strptime(f\"{day}-{month}-{year}\", \"%d-%B-%Y\")\n",
    "    return None\n",
    "\n",
    "def sort_and_rename_files_in_directory(directory):\n",
    "    files = os.listdir(directory)\n",
    "    sorted_files = sorted([filename for filename in files if pattern.search(filename)], \\\n",
    "                          key=get_date_from_filename)\n",
    "    print('Sorted files by date : \\n', sorted_files)\n",
    "\n",
    "    # In order for Windows directory to be sorted, add a prefix to each file\n",
    "    for index, file in enumerate(sorted_files, start=1):\n",
    "        prefix = f'{index:03d}'\n",
    "        new_name = f\"{prefix}_{file}\" # Triple digit zero pad\n",
    "        old_path = os.path.join(directory, file)\n",
    "        new_path = os.path.join(directory, new_name)\n",
    "\n",
    "        # rename the file\n",
    "        os.rename(old_path, new_path)\n",
    "\n",
    "        print(f'Renamed {file} to {new_name} in folder \"{directory}\"')\n",
    "        \n",
    "# Sort the folders in tables_dir(./Clean_Tables)\n",
    "for (unique_path, folder_li, files_li) in list(os.walk(top=os.path.normpath(os.path.join(os.getcwd(), tables_dir))))[1:]: # Exclude ancestor path\n",
    "    sort_and_rename_files_in_directory(unique_path)"
   ]
  },
  {
   "cell_type": "code",
   "execution_count": 37,
   "id": "10b402a5-8d84-48e3-ac01-6a13f5fd407d",
   "metadata": {},
   "outputs": [
    {
     "name": "stdout",
     "output_type": "stream",
     "text": [
      "Dataframe shape has 7 rows and 8 columns \n",
      "\n"
     ]
    },
    {
     "data": {
      "text/html": [
       "<div>\n",
       "<style scoped>\n",
       "    .dataframe tbody tr th:only-of-type {\n",
       "        vertical-align: middle;\n",
       "    }\n",
       "\n",
       "    .dataframe tbody tr th {\n",
       "        vertical-align: top;\n",
       "    }\n",
       "\n",
       "    .dataframe thead th {\n",
       "        text-align: right;\n",
       "    }\n",
       "</style>\n",
       "<table border=\"1\" class=\"dataframe\">\n",
       "  <thead>\n",
       "    <tr style=\"text-align: right;\">\n",
       "      <th></th>\n",
       "      <th>Column Name</th>\n",
       "      <th>Datatype</th>\n",
       "      <th>Number of Nulls</th>\n",
       "      <th>Percentage Null</th>\n",
       "      <th>Worst Row</th>\n",
       "    </tr>\n",
       "  </thead>\n",
       "  <tbody>\n",
       "    <tr>\n",
       "      <th>0</th>\n",
       "      <td>Track</td>\n",
       "      <td>object</td>\n",
       "      <td>0</td>\n",
       "      <td>0.0</td>\n",
       "      <td>DataLake</td>\n",
       "    </tr>\n",
       "    <tr>\n",
       "      <th>1</th>\n",
       "      <td>Start Date</td>\n",
       "      <td>datetime64[ns]</td>\n",
       "      <td>0</td>\n",
       "      <td>0.0</td>\n",
       "      <td>2024-04-01 00:00:00</td>\n",
       "    </tr>\n",
       "    <tr>\n",
       "      <th>2</th>\n",
       "      <td>End Date</td>\n",
       "      <td>datetime64[ns]</td>\n",
       "      <td>0</td>\n",
       "      <td>0.0</td>\n",
       "      <td>2024-04-19 00:00:00</td>\n",
       "    </tr>\n",
       "    <tr>\n",
       "      <th>3</th>\n",
       "      <td>Plan Completion (%)</td>\n",
       "      <td>float64</td>\n",
       "      <td>0</td>\n",
       "      <td>0.0</td>\n",
       "      <td>100.0</td>\n",
       "    </tr>\n",
       "    <tr>\n",
       "      <th>4</th>\n",
       "      <td>Actual Completion (%)</td>\n",
       "      <td>float64</td>\n",
       "      <td>0</td>\n",
       "      <td>0.0</td>\n",
       "      <td>100.0</td>\n",
       "    </tr>\n",
       "    <tr>\n",
       "      <th>5</th>\n",
       "      <td>Passed Rate</td>\n",
       "      <td>float64</td>\n",
       "      <td>0</td>\n",
       "      <td>0.0</td>\n",
       "      <td>100.0</td>\n",
       "    </tr>\n",
       "    <tr>\n",
       "      <th>6</th>\n",
       "      <td>Failed Rate</td>\n",
       "      <td>float64</td>\n",
       "      <td>0</td>\n",
       "      <td>0.0</td>\n",
       "      <td>0.0</td>\n",
       "    </tr>\n",
       "    <tr>\n",
       "      <th>7</th>\n",
       "      <td>Remark</td>\n",
       "      <td>object</td>\n",
       "      <td>0</td>\n",
       "      <td>0.0</td>\n",
       "      <td>Completed. Pending Sign-Off</td>\n",
       "    </tr>\n",
       "  </tbody>\n",
       "</table>\n",
       "</div>"
      ],
      "text/plain": [
       "             Column Name        Datatype  Number of Nulls  Percentage Null  \\\n",
       "0                  Track          object                0              0.0   \n",
       "1             Start Date  datetime64[ns]                0              0.0   \n",
       "2               End Date  datetime64[ns]                0              0.0   \n",
       "3    Plan Completion (%)         float64                0              0.0   \n",
       "4  Actual Completion (%)         float64                0              0.0   \n",
       "5            Passed Rate         float64                0              0.0   \n",
       "6            Failed Rate         float64                0              0.0   \n",
       "7                 Remark          object                0              0.0   \n",
       "\n",
       "                     Worst Row  \n",
       "0                     DataLake  \n",
       "1          2024-04-01 00:00:00  \n",
       "2          2024-04-19 00:00:00  \n",
       "3                        100.0  \n",
       "4                        100.0  \n",
       "5                        100.0  \n",
       "6                          0.0  \n",
       "7  Completed. Pending Sign-Off  "
      ]
     },
     "execution_count": 37,
     "metadata": {},
     "output_type": "execute_result"
    }
   ],
   "source": [
    "analyse_dtypesANDnulls(dfs['09-May-2024_Progress'], sample_row='worst')"
   ]
  },
  {
   "cell_type": "markdown",
   "id": "f256823a-da71-45f2-b7ff-3776fa452475",
   "metadata": {},
   "source": [
    "## Visualisations"
   ]
  },
  {
   "cell_type": "code",
   "execution_count": 38,
   "id": "7e2d5f5e-e4cf-4361-aeaf-fb027544563b",
   "metadata": {},
   "outputs": [
    {
     "name": "stdout",
     "output_type": "stream",
     "text": [
      "['10-May-2024_Progress',\n",
      " '10-May-2024_TC_breakdown',\n",
      " '10-May-2024_Daily',\n",
      " '09-May-2024_Progress',\n",
      " '09-May-2024_TC_breakdown',\n",
      " '09-May-2024_Daily',\n",
      " '08-May-2024_Progress',\n",
      " '08-May-2024_TC_breakdown',\n",
      " '08-May-2024_Daily',\n",
      " '07-May-2024_Progress',\n",
      " '07-May-2024_TC_breakdown',\n",
      " '07-May-2024_Daily',\n",
      " '06-May-2024_Progress',\n",
      " '06-May-2024_TC_breakdown',\n",
      " '06-May-2024_Daily',\n",
      " '05-May-2024_Progress',\n",
      " '05-May-2024_TC_breakdown',\n",
      " '05-May-2024_Daily',\n",
      " '02-May-2024_Progress',\n",
      " '02-May-2024_TC_breakdown']\n"
     ]
    }
   ],
   "source": [
    "from pprint import pprint\n",
    "pprint(list(dfs.keys())[:20])"
   ]
  },
  {
   "cell_type": "code",
   "execution_count": 39,
   "id": "d2d13ea6-5b0d-44e0-ba55-bca9463cc0fd",
   "metadata": {},
   "outputs": [
    {
     "name": "stdout",
     "output_type": "stream",
     "text": [
      "02-May-2024_Progress\n"
     ]
    },
    {
     "data": {
      "text/html": [
       "<div>\n",
       "<style scoped>\n",
       "    .dataframe tbody tr th:only-of-type {\n",
       "        vertical-align: middle;\n",
       "    }\n",
       "\n",
       "    .dataframe tbody tr th {\n",
       "        vertical-align: top;\n",
       "    }\n",
       "\n",
       "    .dataframe thead th {\n",
       "        text-align: right;\n",
       "    }\n",
       "</style>\n",
       "<table border=\"1\" class=\"dataframe\">\n",
       "  <thead>\n",
       "    <tr style=\"text-align: right;\">\n",
       "      <th></th>\n",
       "      <th>Track</th>\n",
       "      <th>Start Date</th>\n",
       "      <th>End Date</th>\n",
       "      <th>Plan Completion (%)</th>\n",
       "      <th>Actual Completion (%)</th>\n",
       "      <th>Passed Rate</th>\n",
       "      <th>Failed Rate</th>\n",
       "      <th>Remark</th>\n",
       "    </tr>\n",
       "  </thead>\n",
       "  <tbody>\n",
       "    <tr>\n",
       "      <th>0</th>\n",
       "      <td>DataLake</td>\n",
       "      <td>2024-04-01</td>\n",
       "      <td>2024-04-19</td>\n",
       "      <td>100.0</td>\n",
       "      <td>100.00</td>\n",
       "      <td>100.0</td>\n",
       "      <td>0.0</td>\n",
       "      <td>Completed. Pending Sign-Off</td>\n",
       "    </tr>\n",
       "    <tr>\n",
       "      <th>1</th>\n",
       "      <td>DataQuality</td>\n",
       "      <td>2024-04-03</td>\n",
       "      <td>2024-04-19</td>\n",
       "      <td>100.0</td>\n",
       "      <td>100.00</td>\n",
       "      <td>100.0</td>\n",
       "      <td>0.0</td>\n",
       "      <td>Completed. Pending Sign-Off</td>\n",
       "    </tr>\n",
       "    <tr>\n",
       "      <th>2</th>\n",
       "      <td>DataSecurity</td>\n",
       "      <td>2024-04-05</td>\n",
       "      <td>2024-05-03</td>\n",
       "      <td>100.0</td>\n",
       "      <td>100.00</td>\n",
       "      <td>100.0</td>\n",
       "      <td>0.0</td>\n",
       "      <td>Started</td>\n",
       "    </tr>\n",
       "    <tr>\n",
       "      <th>3</th>\n",
       "      <td>MetadataManagement</td>\n",
       "      <td>2024-04-05</td>\n",
       "      <td>2024-04-30</td>\n",
       "      <td>100.0</td>\n",
       "      <td>100.00</td>\n",
       "      <td>100.0</td>\n",
       "      <td>0.0</td>\n",
       "      <td>Started</td>\n",
       "    </tr>\n",
       "    <tr>\n",
       "      <th>4</th>\n",
       "      <td>GCIF</td>\n",
       "      <td>2024-04-08</td>\n",
       "      <td>2024-05-06</td>\n",
       "      <td>100.0</td>\n",
       "      <td>82.12</td>\n",
       "      <td>100.0</td>\n",
       "      <td>0.0</td>\n",
       "      <td>Started</td>\n",
       "    </tr>\n",
       "    <tr>\n",
       "      <th>5</th>\n",
       "      <td>CDL</td>\n",
       "      <td>2024-05-07</td>\n",
       "      <td>2024-05-08</td>\n",
       "      <td>NaN</td>\n",
       "      <td>NaN</td>\n",
       "      <td>NaN</td>\n",
       "      <td>NaN</td>\n",
       "      <td>Not started</td>\n",
       "    </tr>\n",
       "    <tr>\n",
       "      <th>6</th>\n",
       "      <td>GCIF Dashboard</td>\n",
       "      <td>2024-04-15</td>\n",
       "      <td>2024-05-10</td>\n",
       "      <td>58.5</td>\n",
       "      <td>36.50</td>\n",
       "      <td>100.0</td>\n",
       "      <td>0.0</td>\n",
       "      <td>Started</td>\n",
       "    </tr>\n",
       "  </tbody>\n",
       "</table>\n",
       "</div>"
      ],
      "text/plain": [
       "                Track Start Date   End Date  Plan Completion (%)  \\\n",
       "0            DataLake 2024-04-01 2024-04-19                100.0   \n",
       "1         DataQuality 2024-04-03 2024-04-19                100.0   \n",
       "2        DataSecurity 2024-04-05 2024-05-03                100.0   \n",
       "3  MetadataManagement 2024-04-05 2024-04-30                100.0   \n",
       "4                GCIF 2024-04-08 2024-05-06                100.0   \n",
       "5                 CDL 2024-05-07 2024-05-08                  NaN   \n",
       "6      GCIF Dashboard 2024-04-15 2024-05-10                 58.5   \n",
       "\n",
       "   Actual Completion (%)  Passed Rate  Failed Rate  \\\n",
       "0                 100.00        100.0          0.0   \n",
       "1                 100.00        100.0          0.0   \n",
       "2                 100.00        100.0          0.0   \n",
       "3                 100.00        100.0          0.0   \n",
       "4                  82.12        100.0          0.0   \n",
       "5                    NaN          NaN          NaN   \n",
       "6                  36.50        100.0          0.0   \n",
       "\n",
       "                        Remark  \n",
       "0  Completed. Pending Sign-Off  \n",
       "1  Completed. Pending Sign-Off  \n",
       "2                      Started  \n",
       "3                      Started  \n",
       "4                      Started  \n",
       "5                  Not started  \n",
       "6                      Started  "
      ]
     },
     "execution_count": 39,
     "metadata": {},
     "output_type": "execute_result"
    }
   ],
   "source": [
    "## Test a dataframe\n",
    "random_key = random.choice(list(dfs.keys()))\n",
    "print(random_key)\n",
    "dfs[random_key]"
   ]
  },
  {
   "cell_type": "code",
   "execution_count": 40,
   "id": "f40ae5b8-a615-4445-94da-bf647c31865b",
   "metadata": {},
   "outputs": [
    {
     "data": {
      "application/vnd.plotly.v1+json": {
       "config": {
        "plotlyServerURL": "https://plot.ly"
       },
       "data": [
        {
         "base": [
          "2024-04-01T00:00:00.000000000",
          "2024-04-03T00:00:00.000000000",
          "2024-04-05T00:00:00.000000000",
          "2024-04-05T00:00:00.000000000",
          "2024-04-08T00:00:00.000000000",
          "2024-04-15T00:00:00.000000000"
         ],
         "hovertemplate": "Start Date=%{base}<br>End Date=%{x}<br>Track=%{y}<br>Actual Completion (%)=%{marker.color}<extra></extra>",
         "legendgroup": "",
         "marker": {
          "color": {
           "bdata": "ZmZmZmbWWEDNzMzMzPxXQClcj8L1OFZAAAAAAAAASUBSuB6F6/FFQAAAAAAAgDZA",
           "dtype": "f8"
          },
          "coloraxis": "coloraxis",
          "pattern": {
           "shape": ""
          }
         },
         "name": "",
         "orientation": "h",
         "showlegend": false,
         "text": {
          "bdata": "ZmZmZmbWWEDNzMzMzPxXQClcj8L1OFZAAAAAAAAASUBSuB6F6/FFQAAAAAAAgDZA",
          "dtype": "f8"
         },
         "textposition": "auto",
         "type": "bar",
         "x": [
          1555200000,
          1382400000,
          2160000000,
          2160000000,
          2160000000,
          2160000000
         ],
         "xaxis": "x",
         "y": [
          "DataLake",
          "DataQuality",
          "DataSecurity",
          "MetadataManagement",
          "GCIF + CDL",
          "GCIF Dashboard "
         ],
         "yaxis": "y"
        }
       ],
       "layout": {
        "barmode": "overlay",
        "coloraxis": {
         "cmax": 100,
         "cmin": 0,
         "colorbar": {
          "title": {
           "text": "Actual Completion (%)"
          }
         },
         "colorscale": [
          [
           0,
           "red"
          ],
          [
           0.5,
           "orange"
          ],
          [
           1,
           "green"
          ]
         ]
        },
        "legend": {
         "tracegroupgap": 0
        },
        "shapes": [
         {
          "line": {
           "color": "maroon",
           "dash": "dash",
           "width": 3
          },
          "type": "line",
          "x0": "2024-04-24T00:00:00",
          "x1": "2024-04-24T00:00:00",
          "xref": "x",
          "y0": 0,
          "y1": 1,
          "yref": "y domain"
         },
         {
          "fillcolor": "grey",
          "opacity": 0.2,
          "type": "rect",
          "x0": "2024-04-06",
          "x1": "2024-04-08",
          "xref": "x",
          "y0": 0,
          "y1": 1,
          "yref": "y domain"
         },
         {
          "fillcolor": "grey",
          "opacity": 0.2,
          "type": "rect",
          "x0": "2024-04-10",
          "x1": "2024-04-12",
          "xref": "x",
          "y0": 0,
          "y1": 1,
          "yref": "y domain"
         },
         {
          "fillcolor": "grey",
          "opacity": 0.2,
          "type": "rect",
          "x0": "2024-04-13",
          "x1": "2024-04-15",
          "xref": "x",
          "y0": 0,
          "y1": 1,
          "yref": "y domain"
         },
         {
          "fillcolor": "grey",
          "opacity": 0.2,
          "type": "rect",
          "x0": "2024-04-20",
          "x1": "2024-04-22",
          "xref": "x",
          "y0": 0,
          "y1": 1,
          "yref": "y domain"
         },
         {
          "fillcolor": "grey",
          "opacity": 0.2,
          "type": "rect",
          "x0": "2024-04-27",
          "x1": "2024-04-29",
          "xref": "x",
          "y0": 0,
          "y1": 1,
          "yref": "y domain"
         },
         {
          "fillcolor": "grey",
          "opacity": 0.2,
          "type": "rect",
          "x0": "2024-05-04",
          "x1": "2024-05-06",
          "xref": "x",
          "y0": 0,
          "y1": 1,
          "yref": "y domain"
         }
        ],
        "template": {
         "data": {
          "bar": [
           {
            "error_x": {
             "color": "#2a3f5f"
            },
            "error_y": {
             "color": "#2a3f5f"
            },
            "marker": {
             "line": {
              "color": "#E5ECF6",
              "width": 0.5
             },
             "pattern": {
              "fillmode": "overlay",
              "size": 10,
              "solidity": 0.2
             }
            },
            "type": "bar"
           }
          ],
          "barpolar": [
           {
            "marker": {
             "line": {
              "color": "#E5ECF6",
              "width": 0.5
             },
             "pattern": {
              "fillmode": "overlay",
              "size": 10,
              "solidity": 0.2
             }
            },
            "type": "barpolar"
           }
          ],
          "carpet": [
           {
            "aaxis": {
             "endlinecolor": "#2a3f5f",
             "gridcolor": "white",
             "linecolor": "white",
             "minorgridcolor": "white",
             "startlinecolor": "#2a3f5f"
            },
            "baxis": {
             "endlinecolor": "#2a3f5f",
             "gridcolor": "white",
             "linecolor": "white",
             "minorgridcolor": "white",
             "startlinecolor": "#2a3f5f"
            },
            "type": "carpet"
           }
          ],
          "choropleth": [
           {
            "colorbar": {
             "outlinewidth": 0,
             "ticks": ""
            },
            "type": "choropleth"
           }
          ],
          "contour": [
           {
            "colorbar": {
             "outlinewidth": 0,
             "ticks": ""
            },
            "colorscale": [
             [
              0,
              "#0d0887"
             ],
             [
              0.1111111111111111,
              "#46039f"
             ],
             [
              0.2222222222222222,
              "#7201a8"
             ],
             [
              0.3333333333333333,
              "#9c179e"
             ],
             [
              0.4444444444444444,
              "#bd3786"
             ],
             [
              0.5555555555555556,
              "#d8576b"
             ],
             [
              0.6666666666666666,
              "#ed7953"
             ],
             [
              0.7777777777777778,
              "#fb9f3a"
             ],
             [
              0.8888888888888888,
              "#fdca26"
             ],
             [
              1,
              "#f0f921"
             ]
            ],
            "type": "contour"
           }
          ],
          "contourcarpet": [
           {
            "colorbar": {
             "outlinewidth": 0,
             "ticks": ""
            },
            "type": "contourcarpet"
           }
          ],
          "heatmap": [
           {
            "colorbar": {
             "outlinewidth": 0,
             "ticks": ""
            },
            "colorscale": [
             [
              0,
              "#0d0887"
             ],
             [
              0.1111111111111111,
              "#46039f"
             ],
             [
              0.2222222222222222,
              "#7201a8"
             ],
             [
              0.3333333333333333,
              "#9c179e"
             ],
             [
              0.4444444444444444,
              "#bd3786"
             ],
             [
              0.5555555555555556,
              "#d8576b"
             ],
             [
              0.6666666666666666,
              "#ed7953"
             ],
             [
              0.7777777777777778,
              "#fb9f3a"
             ],
             [
              0.8888888888888888,
              "#fdca26"
             ],
             [
              1,
              "#f0f921"
             ]
            ],
            "type": "heatmap"
           }
          ],
          "histogram": [
           {
            "marker": {
             "pattern": {
              "fillmode": "overlay",
              "size": 10,
              "solidity": 0.2
             }
            },
            "type": "histogram"
           }
          ],
          "histogram2d": [
           {
            "colorbar": {
             "outlinewidth": 0,
             "ticks": ""
            },
            "colorscale": [
             [
              0,
              "#0d0887"
             ],
             [
              0.1111111111111111,
              "#46039f"
             ],
             [
              0.2222222222222222,
              "#7201a8"
             ],
             [
              0.3333333333333333,
              "#9c179e"
             ],
             [
              0.4444444444444444,
              "#bd3786"
             ],
             [
              0.5555555555555556,
              "#d8576b"
             ],
             [
              0.6666666666666666,
              "#ed7953"
             ],
             [
              0.7777777777777778,
              "#fb9f3a"
             ],
             [
              0.8888888888888888,
              "#fdca26"
             ],
             [
              1,
              "#f0f921"
             ]
            ],
            "type": "histogram2d"
           }
          ],
          "histogram2dcontour": [
           {
            "colorbar": {
             "outlinewidth": 0,
             "ticks": ""
            },
            "colorscale": [
             [
              0,
              "#0d0887"
             ],
             [
              0.1111111111111111,
              "#46039f"
             ],
             [
              0.2222222222222222,
              "#7201a8"
             ],
             [
              0.3333333333333333,
              "#9c179e"
             ],
             [
              0.4444444444444444,
              "#bd3786"
             ],
             [
              0.5555555555555556,
              "#d8576b"
             ],
             [
              0.6666666666666666,
              "#ed7953"
             ],
             [
              0.7777777777777778,
              "#fb9f3a"
             ],
             [
              0.8888888888888888,
              "#fdca26"
             ],
             [
              1,
              "#f0f921"
             ]
            ],
            "type": "histogram2dcontour"
           }
          ],
          "mesh3d": [
           {
            "colorbar": {
             "outlinewidth": 0,
             "ticks": ""
            },
            "type": "mesh3d"
           }
          ],
          "parcoords": [
           {
            "line": {
             "colorbar": {
              "outlinewidth": 0,
              "ticks": ""
             }
            },
            "type": "parcoords"
           }
          ],
          "pie": [
           {
            "automargin": true,
            "type": "pie"
           }
          ],
          "scatter": [
           {
            "fillpattern": {
             "fillmode": "overlay",
             "size": 10,
             "solidity": 0.2
            },
            "type": "scatter"
           }
          ],
          "scatter3d": [
           {
            "line": {
             "colorbar": {
              "outlinewidth": 0,
              "ticks": ""
             }
            },
            "marker": {
             "colorbar": {
              "outlinewidth": 0,
              "ticks": ""
             }
            },
            "type": "scatter3d"
           }
          ],
          "scattercarpet": [
           {
            "marker": {
             "colorbar": {
              "outlinewidth": 0,
              "ticks": ""
             }
            },
            "type": "scattercarpet"
           }
          ],
          "scattergeo": [
           {
            "marker": {
             "colorbar": {
              "outlinewidth": 0,
              "ticks": ""
             }
            },
            "type": "scattergeo"
           }
          ],
          "scattergl": [
           {
            "marker": {
             "colorbar": {
              "outlinewidth": 0,
              "ticks": ""
             }
            },
            "type": "scattergl"
           }
          ],
          "scattermap": [
           {
            "marker": {
             "colorbar": {
              "outlinewidth": 0,
              "ticks": ""
             }
            },
            "type": "scattermap"
           }
          ],
          "scattermapbox": [
           {
            "marker": {
             "colorbar": {
              "outlinewidth": 0,
              "ticks": ""
             }
            },
            "type": "scattermapbox"
           }
          ],
          "scatterpolar": [
           {
            "marker": {
             "colorbar": {
              "outlinewidth": 0,
              "ticks": ""
             }
            },
            "type": "scatterpolar"
           }
          ],
          "scatterpolargl": [
           {
            "marker": {
             "colorbar": {
              "outlinewidth": 0,
              "ticks": ""
             }
            },
            "type": "scatterpolargl"
           }
          ],
          "scatterternary": [
           {
            "marker": {
             "colorbar": {
              "outlinewidth": 0,
              "ticks": ""
             }
            },
            "type": "scatterternary"
           }
          ],
          "surface": [
           {
            "colorbar": {
             "outlinewidth": 0,
             "ticks": ""
            },
            "colorscale": [
             [
              0,
              "#0d0887"
             ],
             [
              0.1111111111111111,
              "#46039f"
             ],
             [
              0.2222222222222222,
              "#7201a8"
             ],
             [
              0.3333333333333333,
              "#9c179e"
             ],
             [
              0.4444444444444444,
              "#bd3786"
             ],
             [
              0.5555555555555556,
              "#d8576b"
             ],
             [
              0.6666666666666666,
              "#ed7953"
             ],
             [
              0.7777777777777778,
              "#fb9f3a"
             ],
             [
              0.8888888888888888,
              "#fdca26"
             ],
             [
              1,
              "#f0f921"
             ]
            ],
            "type": "surface"
           }
          ],
          "table": [
           {
            "cells": {
             "fill": {
              "color": "#EBF0F8"
             },
             "line": {
              "color": "white"
             }
            },
            "header": {
             "fill": {
              "color": "#C8D4E3"
             },
             "line": {
              "color": "white"
             }
            },
            "type": "table"
           }
          ]
         },
         "layout": {
          "annotationdefaults": {
           "arrowcolor": "#2a3f5f",
           "arrowhead": 0,
           "arrowwidth": 1
          },
          "autotypenumbers": "strict",
          "coloraxis": {
           "colorbar": {
            "outlinewidth": 0,
            "ticks": ""
           }
          },
          "colorscale": {
           "diverging": [
            [
             0,
             "#8e0152"
            ],
            [
             0.1,
             "#c51b7d"
            ],
            [
             0.2,
             "#de77ae"
            ],
            [
             0.3,
             "#f1b6da"
            ],
            [
             0.4,
             "#fde0ef"
            ],
            [
             0.5,
             "#f7f7f7"
            ],
            [
             0.6,
             "#e6f5d0"
            ],
            [
             0.7,
             "#b8e186"
            ],
            [
             0.8,
             "#7fbc41"
            ],
            [
             0.9,
             "#4d9221"
            ],
            [
             1,
             "#276419"
            ]
           ],
           "sequential": [
            [
             0,
             "#0d0887"
            ],
            [
             0.1111111111111111,
             "#46039f"
            ],
            [
             0.2222222222222222,
             "#7201a8"
            ],
            [
             0.3333333333333333,
             "#9c179e"
            ],
            [
             0.4444444444444444,
             "#bd3786"
            ],
            [
             0.5555555555555556,
             "#d8576b"
            ],
            [
             0.6666666666666666,
             "#ed7953"
            ],
            [
             0.7777777777777778,
             "#fb9f3a"
            ],
            [
             0.8888888888888888,
             "#fdca26"
            ],
            [
             1,
             "#f0f921"
            ]
           ],
           "sequentialminus": [
            [
             0,
             "#0d0887"
            ],
            [
             0.1111111111111111,
             "#46039f"
            ],
            [
             0.2222222222222222,
             "#7201a8"
            ],
            [
             0.3333333333333333,
             "#9c179e"
            ],
            [
             0.4444444444444444,
             "#bd3786"
            ],
            [
             0.5555555555555556,
             "#d8576b"
            ],
            [
             0.6666666666666666,
             "#ed7953"
            ],
            [
             0.7777777777777778,
             "#fb9f3a"
            ],
            [
             0.8888888888888888,
             "#fdca26"
            ],
            [
             1,
             "#f0f921"
            ]
           ]
          },
          "colorway": [
           "#636efa",
           "#EF553B",
           "#00cc96",
           "#ab63fa",
           "#FFA15A",
           "#19d3f3",
           "#FF6692",
           "#B6E880",
           "#FF97FF",
           "#FECB52"
          ],
          "font": {
           "color": "#2a3f5f"
          },
          "geo": {
           "bgcolor": "white",
           "lakecolor": "white",
           "landcolor": "#E5ECF6",
           "showlakes": true,
           "showland": true,
           "subunitcolor": "white"
          },
          "hoverlabel": {
           "align": "left"
          },
          "hovermode": "closest",
          "mapbox": {
           "style": "light"
          },
          "paper_bgcolor": "white",
          "plot_bgcolor": "#E5ECF6",
          "polar": {
           "angularaxis": {
            "gridcolor": "white",
            "linecolor": "white",
            "ticks": ""
           },
           "bgcolor": "#E5ECF6",
           "radialaxis": {
            "gridcolor": "white",
            "linecolor": "white",
            "ticks": ""
           }
          },
          "scene": {
           "xaxis": {
            "backgroundcolor": "#E5ECF6",
            "gridcolor": "white",
            "gridwidth": 2,
            "linecolor": "white",
            "showbackground": true,
            "ticks": "",
            "zerolinecolor": "white"
           },
           "yaxis": {
            "backgroundcolor": "#E5ECF6",
            "gridcolor": "white",
            "gridwidth": 2,
            "linecolor": "white",
            "showbackground": true,
            "ticks": "",
            "zerolinecolor": "white"
           },
           "zaxis": {
            "backgroundcolor": "#E5ECF6",
            "gridcolor": "white",
            "gridwidth": 2,
            "linecolor": "white",
            "showbackground": true,
            "ticks": "",
            "zerolinecolor": "white"
           }
          },
          "shapedefaults": {
           "line": {
            "color": "#2a3f5f"
           }
          },
          "ternary": {
           "aaxis": {
            "gridcolor": "white",
            "linecolor": "white",
            "ticks": ""
           },
           "baxis": {
            "gridcolor": "white",
            "linecolor": "white",
            "ticks": ""
           },
           "bgcolor": "#E5ECF6",
           "caxis": {
            "gridcolor": "white",
            "linecolor": "white",
            "ticks": ""
           }
          },
          "title": {
           "x": 0.05
          },
          "xaxis": {
           "automargin": true,
           "gridcolor": "white",
           "linecolor": "white",
           "ticks": "",
           "title": {
            "standoff": 15
           },
           "zerolinecolor": "white",
           "zerolinewidth": 2
          },
          "yaxis": {
           "automargin": true,
           "gridcolor": "white",
           "linecolor": "white",
           "ticks": "",
           "title": {
            "standoff": 15
           },
           "zerolinecolor": "white",
           "zerolinewidth": 2
          }
         }
        },
        "title": {
         "text": "Gantt Chart Track Progress Health Check as of 23-April-2024 EOD"
        },
        "xaxis": {
         "anchor": "y",
         "domain": [
          0,
          1
         ],
         "type": "date"
        },
        "yaxis": {
         "anchor": "x",
         "autorange": "reversed",
         "domain": [
          0,
          1
         ],
         "title": {
          "text": "Track"
         }
        }
       }
      }
     },
     "metadata": {},
     "output_type": "display_data"
    }
   ],
   "source": [
    "### date_progress\n",
    "import plotly.express as px\n",
    "import plotly.graph_objects as go\n",
    "import pandas as pd\n",
    "import datetime as dt\n",
    "import re\n",
    "import os\n",
    "\n",
    "dataframe_name = '23-April-2024_Progress' # Change date here \n",
    "\n",
    "get_date_re = re.search(pattern=r'(.*)_Progress$', string=dataframe_name)\n",
    "try: # Read memory\n",
    "    df = dfs[dataframe_name]\n",
    "except NameError: # Otherwise use csv\n",
    "    file = ''.join(list(filter(lambda x : re.search(dataframe_name, x), os.listdir(rf'./Clean_Tables/Progress'))))\n",
    "    df = pd.read_csv(rf'./Clean_Tables/Progress/{file}')\n",
    "    \n",
    "fig = px.timeline(df, x_start=\"Start Date\", x_end=\"End Date\", y=\"Track\", color=\"Actual Completion (%)\",\\\n",
    "                  text=\"Actual Completion (%)\",\n",
    "                  range_color=[0,100],\\\n",
    "                  color_continuous_scale=[(0, \"red\"), (0.5, \"orange\"), (1, \"green\")],\\\n",
    "                  title=f'Gantt Chart Track Progress Health Check as of {get_date_re.group(1)} EOD')\n",
    "                   \n",
    "fig.add_vline(x=dt.datetime.strptime(get_date_re.group(1), '%d-%B-%Y') + dt.timedelta(days=1),\\\n",
    "              line_width=3, line_dash=\"dash\", line_color='maroon')\n",
    "fig.add_vrect(x0=dt.date(2024, 4, 6), x1=dt.date(2024, 4, 8), opacity=0.2, fillcolor='grey')\n",
    "fig.add_vrect(x0=dt.date(2024, 4, 10), x1=dt.date(2024, 4, 12), opacity=0.2, fillcolor='grey')\n",
    "fig.add_vrect(x0=dt.date(2024, 4, 13), x1=dt.date(2024, 4, 15), opacity=0.2, fillcolor='grey')\n",
    "fig.add_vrect(x0=dt.date(2024, 4, 20), x1=dt.date(2024, 4, 22), opacity=0.2, fillcolor='grey')\n",
    "fig.add_vrect(x0=dt.date(2024, 4, 27), x1=dt.date(2024, 4, 29), opacity=0.2, fillcolor='grey')\n",
    "fig.add_vrect(x0=dt.date(2024, 5, 4), x1=dt.date(2024, 5, 6), opacity=0.2, fillcolor='grey')\n",
    "\n",
    "fig.update_yaxes(autorange=\"reversed\")\n",
    "fig.show()"
   ]
  },
  {
   "cell_type": "markdown",
   "id": "804f9cf8-43c4-44f6-8f9d-eb3b5bbcb9ec",
   "metadata": {},
   "source": [
    "This is decent, but we need to reserve color for another discreate column <br>\n",
    "We can showcase the 'Completion_Fraction' as progress bars."
   ]
  },
  {
   "cell_type": "code",
   "execution_count": 41,
   "id": "65bb263d-2c7e-459d-9032-0d5838da4679",
   "metadata": {},
   "outputs": [
    {
     "data": {
      "text/plain": [
       "'#809200'"
      ]
     },
     "execution_count": 41,
     "metadata": {},
     "output_type": "execute_result"
    }
   ],
   "source": [
    "from matplotlib import colors\n",
    "import numpy as np\n",
    "\n",
    "def interpolate_color(value, range_color, color_continuous_scale):\n",
    "    # Normalize the value to a 0-1 scale\n",
    "    min_val, max_val = range_color\n",
    "    norm_value = (value - min_val) / (max_val - min_val)\n",
    "    norm_value = np.clip(norm_value, 0, 1)\n",
    "\n",
    "    # Find the two scale points between which the normalized value lies\n",
    "    for i in range(len(color_continuous_scale) - 1):\n",
    "        left_pos, left_color = color_continuous_scale[i]\n",
    "        right_pos, right_color = color_continuous_scale[i + 1]\n",
    "        if left_pos <= norm_value <= right_pos:\n",
    "            factor = (norm_value - left_pos) / (right_pos - left_pos)\n",
    "            left_rgb = np.array(colors.to_rgb(left_color))\n",
    "            right_rgb = np.array(colors.to_rgb(right_color))\n",
    "            interp_rgb = left_rgb + (right_rgb - left_rgb) * factor\n",
    "            return colors.to_hex(interp_rgb)\n",
    "\n",
    "    # Return closest endpoint color if out of bounds\n",
    "    if norm_value < color_continuous_scale[0][0]:\n",
    "        return colors.to_hex(colors.to_rgb(color_continuous_scale[0][1]))\n",
    "    else:\n",
    "        return colors.to_hex(colors.to_rgb(color_continuous_scale[-1][1]))\n",
    "\n",
    "\n",
    "interpolate_color(value=75, range_color=[0,100], color_continuous_scale=[(0, \"red\"), (0.5, \"orange\"), (1, \"green\")])"
   ]
  },
  {
   "cell_type": "code",
   "execution_count": 42,
   "id": "22535e42-cac2-400d-b4d2-d3f37deb67c8",
   "metadata": {},
   "outputs": [
    {
     "name": "stdout",
     "output_type": "stream",
     "text": [
      "2024-04-17 06:10:56.639999999\n",
      "2024-04-18 03:13:32.160000\n",
      "2024-04-23 09:39:36\n",
      "2024-04-17 12:00:00\n",
      "2024-04-12 07:19:12\n",
      "2024-04-15 15:00:00\n"
     ]
    },
    {
     "data": {
      "application/vnd.plotly.v1+json": {
       "config": {
        "plotlyServerURL": "https://plot.ly"
       },
       "data": [
        {
         "base": [
          "2024-04-01T00:00:00.000000000",
          "2024-04-03T00:00:00.000000000",
          "2024-04-05T00:00:00.000000000",
          "2024-04-05T00:00:00.000000000",
          "2024-04-08T00:00:00.000000000",
          "2024-04-15T00:00:00.000000000"
         ],
         "hovertemplate": "Start Date=%{base}<br>End Date=%{x}<br>Track=%{y}<br>Actual Completion (%)=%{text}<extra></extra>",
         "legendgroup": "",
         "marker": {
          "color": "#3366CC",
          "opacity": 0.7,
          "pattern": {
           "shape": ""
          }
         },
         "name": "",
         "orientation": "h",
         "showlegend": false,
         "text": {
          "bdata": "FK5H4XqUVkD2KFyPwqVXQNejcD0KZ1JAAAAAAAAASUC4HoXrUTgxQAAAAAAAAARA",
          "dtype": "f8"
         },
         "textposition": "auto",
         "type": "bar",
         "x": [
          1555200000,
          1382400000,
          2160000000,
          2160000000,
          2160000000,
          2160000000
         ],
         "xaxis": "x",
         "y": [
          "DataLake",
          "DataQuality",
          "DataSecurity",
          "MetadataManagement",
          "GCIF + CDL",
          "GCIF Dashboard "
         ],
         "yaxis": "y"
        }
       ],
       "layout": {
        "barmode": "overlay",
        "legend": {
         "tracegroupgap": 0
        },
        "shapes": [
         {
          "fillcolor": "#318700",
          "line": {
           "color": "green",
           "width": 0
          },
          "opacity": 0.6,
          "type": "rect",
          "x0": "2024-04-01T00:00:00",
          "x1": "2024-04-17T06:10:56.639999999",
          "xref": "x",
          "y0": -0.4,
          "y1": 0.4,
          "yref": "y"
         },
         {
          "fillcolor": "#1c8400",
          "line": {
           "color": "green",
           "width": 0
          },
          "opacity": 0.6,
          "type": "rect",
          "x0": "2024-04-03T00:00:00",
          "x1": "2024-04-18T03:13:32.160000",
          "xref": "x",
          "y0": 0.6,
          "y1": 1.4,
          "yref": "y"
         },
         {
          "fillcolor": "#879400",
          "line": {
           "color": "green",
           "width": 0
          },
          "opacity": 0.6,
          "type": "rect",
          "x0": "2024-04-05T00:00:00",
          "x1": "2024-04-23T09:39:36",
          "xref": "x",
          "y0": 1.6,
          "y1": 2.4,
          "yref": "y"
         },
         {
          "fillcolor": "#ffa500",
          "line": {
           "color": "green",
           "width": 0
          },
          "opacity": 0.6,
          "type": "rect",
          "x0": "2024-04-05T00:00:00",
          "x1": "2024-04-17T12:00:00",
          "xref": "x",
          "y0": 2.6,
          "y1": 3.4,
          "yref": "y"
         },
         {
          "fillcolor": "#ff3900",
          "line": {
           "color": "green",
           "width": 0
          },
          "opacity": 0.6,
          "type": "rect",
          "x0": "2024-04-08T00:00:00",
          "x1": "2024-04-12T07:19:12",
          "xref": "x",
          "y0": 3.6,
          "y1": 4.4,
          "yref": "y"
         },
         {
          "fillcolor": "#ff0800",
          "line": {
           "color": "green",
           "width": 0
          },
          "opacity": 0.6,
          "type": "rect",
          "x0": "2024-04-15T00:00:00",
          "x1": "2024-04-15T15:00:00",
          "xref": "x",
          "y0": 4.6,
          "y1": 5.4,
          "yref": "y"
         },
         {
          "line": {
           "color": "maroon",
           "dash": "dash",
           "width": 3
          },
          "type": "line",
          "x0": "2024-04-16T00:00:00",
          "x1": "2024-04-16T00:00:00",
          "xref": "x",
          "y0": 0,
          "y1": 1,
          "yref": "y domain"
         },
         {
          "fillcolor": "grey",
          "opacity": 0.2,
          "type": "rect",
          "x0": "2024-04-06",
          "x1": "2024-04-08",
          "xref": "x",
          "y0": 0,
          "y1": 1,
          "yref": "y domain"
         },
         {
          "fillcolor": "grey",
          "opacity": 0.2,
          "type": "rect",
          "x0": "2024-04-10",
          "x1": "2024-04-12",
          "xref": "x",
          "y0": 0,
          "y1": 1,
          "yref": "y domain"
         },
         {
          "fillcolor": "grey",
          "opacity": 0.2,
          "type": "rect",
          "x0": "2024-04-13",
          "x1": "2024-04-15",
          "xref": "x",
          "y0": 0,
          "y1": 1,
          "yref": "y domain"
         },
         {
          "fillcolor": "grey",
          "opacity": 0.2,
          "type": "rect",
          "x0": "2024-04-20",
          "x1": "2024-04-22",
          "xref": "x",
          "y0": 0,
          "y1": 1,
          "yref": "y domain"
         },
         {
          "fillcolor": "grey",
          "opacity": 0.2,
          "type": "rect",
          "x0": "2024-04-27",
          "x1": "2024-04-29",
          "xref": "x",
          "y0": 0,
          "y1": 1,
          "yref": "y domain"
         },
         {
          "fillcolor": "grey",
          "opacity": 0.2,
          "type": "rect",
          "x0": "2024-05-04",
          "x1": "2024-05-06",
          "xref": "x",
          "y0": 0,
          "y1": 1,
          "yref": "y domain"
         }
        ],
        "template": {
         "data": {
          "bar": [
           {
            "error_x": {
             "color": "#2a3f5f"
            },
            "error_y": {
             "color": "#2a3f5f"
            },
            "marker": {
             "line": {
              "color": "#E5ECF6",
              "width": 0.5
             },
             "pattern": {
              "fillmode": "overlay",
              "size": 10,
              "solidity": 0.2
             }
            },
            "type": "bar"
           }
          ],
          "barpolar": [
           {
            "marker": {
             "line": {
              "color": "#E5ECF6",
              "width": 0.5
             },
             "pattern": {
              "fillmode": "overlay",
              "size": 10,
              "solidity": 0.2
             }
            },
            "type": "barpolar"
           }
          ],
          "carpet": [
           {
            "aaxis": {
             "endlinecolor": "#2a3f5f",
             "gridcolor": "white",
             "linecolor": "white",
             "minorgridcolor": "white",
             "startlinecolor": "#2a3f5f"
            },
            "baxis": {
             "endlinecolor": "#2a3f5f",
             "gridcolor": "white",
             "linecolor": "white",
             "minorgridcolor": "white",
             "startlinecolor": "#2a3f5f"
            },
            "type": "carpet"
           }
          ],
          "choropleth": [
           {
            "colorbar": {
             "outlinewidth": 0,
             "ticks": ""
            },
            "type": "choropleth"
           }
          ],
          "contour": [
           {
            "colorbar": {
             "outlinewidth": 0,
             "ticks": ""
            },
            "colorscale": [
             [
              0,
              "#0d0887"
             ],
             [
              0.1111111111111111,
              "#46039f"
             ],
             [
              0.2222222222222222,
              "#7201a8"
             ],
             [
              0.3333333333333333,
              "#9c179e"
             ],
             [
              0.4444444444444444,
              "#bd3786"
             ],
             [
              0.5555555555555556,
              "#d8576b"
             ],
             [
              0.6666666666666666,
              "#ed7953"
             ],
             [
              0.7777777777777778,
              "#fb9f3a"
             ],
             [
              0.8888888888888888,
              "#fdca26"
             ],
             [
              1,
              "#f0f921"
             ]
            ],
            "type": "contour"
           }
          ],
          "contourcarpet": [
           {
            "colorbar": {
             "outlinewidth": 0,
             "ticks": ""
            },
            "type": "contourcarpet"
           }
          ],
          "heatmap": [
           {
            "colorbar": {
             "outlinewidth": 0,
             "ticks": ""
            },
            "colorscale": [
             [
              0,
              "#0d0887"
             ],
             [
              0.1111111111111111,
              "#46039f"
             ],
             [
              0.2222222222222222,
              "#7201a8"
             ],
             [
              0.3333333333333333,
              "#9c179e"
             ],
             [
              0.4444444444444444,
              "#bd3786"
             ],
             [
              0.5555555555555556,
              "#d8576b"
             ],
             [
              0.6666666666666666,
              "#ed7953"
             ],
             [
              0.7777777777777778,
              "#fb9f3a"
             ],
             [
              0.8888888888888888,
              "#fdca26"
             ],
             [
              1,
              "#f0f921"
             ]
            ],
            "type": "heatmap"
           }
          ],
          "histogram": [
           {
            "marker": {
             "pattern": {
              "fillmode": "overlay",
              "size": 10,
              "solidity": 0.2
             }
            },
            "type": "histogram"
           }
          ],
          "histogram2d": [
           {
            "colorbar": {
             "outlinewidth": 0,
             "ticks": ""
            },
            "colorscale": [
             [
              0,
              "#0d0887"
             ],
             [
              0.1111111111111111,
              "#46039f"
             ],
             [
              0.2222222222222222,
              "#7201a8"
             ],
             [
              0.3333333333333333,
              "#9c179e"
             ],
             [
              0.4444444444444444,
              "#bd3786"
             ],
             [
              0.5555555555555556,
              "#d8576b"
             ],
             [
              0.6666666666666666,
              "#ed7953"
             ],
             [
              0.7777777777777778,
              "#fb9f3a"
             ],
             [
              0.8888888888888888,
              "#fdca26"
             ],
             [
              1,
              "#f0f921"
             ]
            ],
            "type": "histogram2d"
           }
          ],
          "histogram2dcontour": [
           {
            "colorbar": {
             "outlinewidth": 0,
             "ticks": ""
            },
            "colorscale": [
             [
              0,
              "#0d0887"
             ],
             [
              0.1111111111111111,
              "#46039f"
             ],
             [
              0.2222222222222222,
              "#7201a8"
             ],
             [
              0.3333333333333333,
              "#9c179e"
             ],
             [
              0.4444444444444444,
              "#bd3786"
             ],
             [
              0.5555555555555556,
              "#d8576b"
             ],
             [
              0.6666666666666666,
              "#ed7953"
             ],
             [
              0.7777777777777778,
              "#fb9f3a"
             ],
             [
              0.8888888888888888,
              "#fdca26"
             ],
             [
              1,
              "#f0f921"
             ]
            ],
            "type": "histogram2dcontour"
           }
          ],
          "mesh3d": [
           {
            "colorbar": {
             "outlinewidth": 0,
             "ticks": ""
            },
            "type": "mesh3d"
           }
          ],
          "parcoords": [
           {
            "line": {
             "colorbar": {
              "outlinewidth": 0,
              "ticks": ""
             }
            },
            "type": "parcoords"
           }
          ],
          "pie": [
           {
            "automargin": true,
            "type": "pie"
           }
          ],
          "scatter": [
           {
            "fillpattern": {
             "fillmode": "overlay",
             "size": 10,
             "solidity": 0.2
            },
            "type": "scatter"
           }
          ],
          "scatter3d": [
           {
            "line": {
             "colorbar": {
              "outlinewidth": 0,
              "ticks": ""
             }
            },
            "marker": {
             "colorbar": {
              "outlinewidth": 0,
              "ticks": ""
             }
            },
            "type": "scatter3d"
           }
          ],
          "scattercarpet": [
           {
            "marker": {
             "colorbar": {
              "outlinewidth": 0,
              "ticks": ""
             }
            },
            "type": "scattercarpet"
           }
          ],
          "scattergeo": [
           {
            "marker": {
             "colorbar": {
              "outlinewidth": 0,
              "ticks": ""
             }
            },
            "type": "scattergeo"
           }
          ],
          "scattergl": [
           {
            "marker": {
             "colorbar": {
              "outlinewidth": 0,
              "ticks": ""
             }
            },
            "type": "scattergl"
           }
          ],
          "scattermap": [
           {
            "marker": {
             "colorbar": {
              "outlinewidth": 0,
              "ticks": ""
             }
            },
            "type": "scattermap"
           }
          ],
          "scattermapbox": [
           {
            "marker": {
             "colorbar": {
              "outlinewidth": 0,
              "ticks": ""
             }
            },
            "type": "scattermapbox"
           }
          ],
          "scatterpolar": [
           {
            "marker": {
             "colorbar": {
              "outlinewidth": 0,
              "ticks": ""
             }
            },
            "type": "scatterpolar"
           }
          ],
          "scatterpolargl": [
           {
            "marker": {
             "colorbar": {
              "outlinewidth": 0,
              "ticks": ""
             }
            },
            "type": "scatterpolargl"
           }
          ],
          "scatterternary": [
           {
            "marker": {
             "colorbar": {
              "outlinewidth": 0,
              "ticks": ""
             }
            },
            "type": "scatterternary"
           }
          ],
          "surface": [
           {
            "colorbar": {
             "outlinewidth": 0,
             "ticks": ""
            },
            "colorscale": [
             [
              0,
              "#0d0887"
             ],
             [
              0.1111111111111111,
              "#46039f"
             ],
             [
              0.2222222222222222,
              "#7201a8"
             ],
             [
              0.3333333333333333,
              "#9c179e"
             ],
             [
              0.4444444444444444,
              "#bd3786"
             ],
             [
              0.5555555555555556,
              "#d8576b"
             ],
             [
              0.6666666666666666,
              "#ed7953"
             ],
             [
              0.7777777777777778,
              "#fb9f3a"
             ],
             [
              0.8888888888888888,
              "#fdca26"
             ],
             [
              1,
              "#f0f921"
             ]
            ],
            "type": "surface"
           }
          ],
          "table": [
           {
            "cells": {
             "fill": {
              "color": "#EBF0F8"
             },
             "line": {
              "color": "white"
             }
            },
            "header": {
             "fill": {
              "color": "#C8D4E3"
             },
             "line": {
              "color": "white"
             }
            },
            "type": "table"
           }
          ]
         },
         "layout": {
          "annotationdefaults": {
           "arrowcolor": "#2a3f5f",
           "arrowhead": 0,
           "arrowwidth": 1
          },
          "autotypenumbers": "strict",
          "coloraxis": {
           "colorbar": {
            "outlinewidth": 0,
            "ticks": ""
           }
          },
          "colorscale": {
           "diverging": [
            [
             0,
             "#8e0152"
            ],
            [
             0.1,
             "#c51b7d"
            ],
            [
             0.2,
             "#de77ae"
            ],
            [
             0.3,
             "#f1b6da"
            ],
            [
             0.4,
             "#fde0ef"
            ],
            [
             0.5,
             "#f7f7f7"
            ],
            [
             0.6,
             "#e6f5d0"
            ],
            [
             0.7,
             "#b8e186"
            ],
            [
             0.8,
             "#7fbc41"
            ],
            [
             0.9,
             "#4d9221"
            ],
            [
             1,
             "#276419"
            ]
           ],
           "sequential": [
            [
             0,
             "#0d0887"
            ],
            [
             0.1111111111111111,
             "#46039f"
            ],
            [
             0.2222222222222222,
             "#7201a8"
            ],
            [
             0.3333333333333333,
             "#9c179e"
            ],
            [
             0.4444444444444444,
             "#bd3786"
            ],
            [
             0.5555555555555556,
             "#d8576b"
            ],
            [
             0.6666666666666666,
             "#ed7953"
            ],
            [
             0.7777777777777778,
             "#fb9f3a"
            ],
            [
             0.8888888888888888,
             "#fdca26"
            ],
            [
             1,
             "#f0f921"
            ]
           ],
           "sequentialminus": [
            [
             0,
             "#0d0887"
            ],
            [
             0.1111111111111111,
             "#46039f"
            ],
            [
             0.2222222222222222,
             "#7201a8"
            ],
            [
             0.3333333333333333,
             "#9c179e"
            ],
            [
             0.4444444444444444,
             "#bd3786"
            ],
            [
             0.5555555555555556,
             "#d8576b"
            ],
            [
             0.6666666666666666,
             "#ed7953"
            ],
            [
             0.7777777777777778,
             "#fb9f3a"
            ],
            [
             0.8888888888888888,
             "#fdca26"
            ],
            [
             1,
             "#f0f921"
            ]
           ]
          },
          "colorway": [
           "#636efa",
           "#EF553B",
           "#00cc96",
           "#ab63fa",
           "#FFA15A",
           "#19d3f3",
           "#FF6692",
           "#B6E880",
           "#FF97FF",
           "#FECB52"
          ],
          "font": {
           "color": "#2a3f5f"
          },
          "geo": {
           "bgcolor": "white",
           "lakecolor": "white",
           "landcolor": "#E5ECF6",
           "showlakes": true,
           "showland": true,
           "subunitcolor": "white"
          },
          "hoverlabel": {
           "align": "left"
          },
          "hovermode": "closest",
          "mapbox": {
           "style": "light"
          },
          "paper_bgcolor": "white",
          "plot_bgcolor": "#E5ECF6",
          "polar": {
           "angularaxis": {
            "gridcolor": "white",
            "linecolor": "white",
            "ticks": ""
           },
           "bgcolor": "#E5ECF6",
           "radialaxis": {
            "gridcolor": "white",
            "linecolor": "white",
            "ticks": ""
           }
          },
          "scene": {
           "xaxis": {
            "backgroundcolor": "#E5ECF6",
            "gridcolor": "white",
            "gridwidth": 2,
            "linecolor": "white",
            "showbackground": true,
            "ticks": "",
            "zerolinecolor": "white"
           },
           "yaxis": {
            "backgroundcolor": "#E5ECF6",
            "gridcolor": "white",
            "gridwidth": 2,
            "linecolor": "white",
            "showbackground": true,
            "ticks": "",
            "zerolinecolor": "white"
           },
           "zaxis": {
            "backgroundcolor": "#E5ECF6",
            "gridcolor": "white",
            "gridwidth": 2,
            "linecolor": "white",
            "showbackground": true,
            "ticks": "",
            "zerolinecolor": "white"
           }
          },
          "shapedefaults": {
           "line": {
            "color": "#2a3f5f"
           }
          },
          "ternary": {
           "aaxis": {
            "gridcolor": "white",
            "linecolor": "white",
            "ticks": ""
           },
           "baxis": {
            "gridcolor": "white",
            "linecolor": "white",
            "ticks": ""
           },
           "bgcolor": "#E5ECF6",
           "caxis": {
            "gridcolor": "white",
            "linecolor": "white",
            "ticks": ""
           }
          },
          "title": {
           "x": 0.05
          },
          "xaxis": {
           "automargin": true,
           "gridcolor": "white",
           "linecolor": "white",
           "ticks": "",
           "title": {
            "standoff": 15
           },
           "zerolinecolor": "white",
           "zerolinewidth": 2
          },
          "yaxis": {
           "automargin": true,
           "gridcolor": "white",
           "linecolor": "white",
           "ticks": "",
           "title": {
            "standoff": 15
           },
           "zerolinecolor": "white",
           "zerolinewidth": 2
          }
         }
        },
        "title": {
         "text": "Gantt Chart Track Progress Health Check as of Monday, 15-April-2024 EOD"
        },
        "xaxis": {
         "anchor": "y",
         "domain": [
          0,
          1
         ],
         "type": "date"
        },
        "yaxis": {
         "anchor": "x",
         "autorange": "reversed",
         "domain": [
          0,
          1
         ],
         "title": {
          "text": "Track"
         }
        }
       }
      }
     },
     "metadata": {},
     "output_type": "display_data"
    }
   ],
   "source": [
    "### date_progress\n",
    "import plotly.express as px\n",
    "import plotly.graph_objects as go\n",
    "import pandas as pd\n",
    "import datetime as dt\n",
    "import calendar\n",
    "\n",
    "\n",
    "dataframe_name = '15-April-2024_Progress' # Change date here \n",
    "\n",
    "\n",
    "try: # Read memory\n",
    "    df = dfs[dataframe_name]\n",
    "except NameError: # Otherwise use csv\n",
    "    file = ''.join(list(filter(lambda x : re.search(dataframe_name, x), os.listdir(rf'./Clean_Tables/Progress'))))\n",
    "    df = pd.read_csv(rf'./Clean_Tables/Progress/{file}',  parse_dates=[\"Start Date\", \"End Date\"])\n",
    "\n",
    "get_date_re = re.search(pattern=r'(.*)_Progress$', string=dataframe_name)\n",
    "date_from_dataframe = dt.datetime.strptime(get_date_re.group(1), '%d-%B-%Y')\n",
    "dayofweek = date_from_dataframe.strftime('%A')\n",
    "# print(calendar.day_name[date_from_dataframe.weekday()])\n",
    "\n",
    "# Omit color argument to get blue rectangles\n",
    "fig = px.timeline(df, x_start=\"Start Date\", x_end=\"End Date\", y=\"Track\",\n",
    "                  # color=\"Remark\",\\\n",
    "                  text=\"Actual Completion (%)\",\n",
    "                  opacity=0.7,\n",
    "                  range_color=[0,100],\\\n",
    "                  color_continuous_scale=[(0, \"red\"), (0.5, \"orange\"), (1, \"green\")],\\\n",
    "                  color_discrete_sequence=px.colors.qualitative.G10,\n",
    "                  title=f'Gantt Chart Track Progress Health Check as of {dayofweek}, {get_date_re.group(1)} EOD')\n",
    "    \n",
    "                   \n",
    "\n",
    "# Add bars to represent progress from CV\n",
    "progress_bars = []\n",
    "for index, row in df.iterrows():\n",
    "    if pd.isna(row['Actual Completion (%)']):\n",
    "        continue\n",
    "    else:\n",
    "        x1 = row['Start Date'] + pd.to_timedelta(row['Actual Completion (%)']/100 * (row['End Date']-row['Start Date']))\n",
    "        print(x1)\n",
    "        progress_bar = dict(type='rect',\n",
    "                        xref='x',\n",
    "                        yref='y',\n",
    "                        x0=row['Start Date'],\n",
    "                        x1=x1,\n",
    "                        y0=index-0.4,\n",
    "                        y1=index+0.4,\n",
    "                        line=dict(color='green', width=0),\n",
    "                        fillcolor=interpolate_color(value=row['Actual Completion (%)'], range_color=[0,100], color_continuous_scale=[(0, \"red\"), (0.5, \"orange\"), (1, \"green\")]),\n",
    "                        opacity=0.6)\n",
    "        fig.add_shape(progress_bar)\n",
    "\n",
    "## --------------Defining the present------------------\n",
    "fig.add_vline(x=dt.datetime.strptime(get_date_re.group(1), '%d-%B-%Y') + dt.timedelta(days=1),\\\n",
    "              line_width=3, line_dash=\"dash\", line_color='maroon')\n",
    "# Alternatively\n",
    "# fig.add_vline(x=dt.datetime.today(), line_width=3, line_dash='dash', line_color='maroon')\n",
    "#---------------Defining the present------------------\n",
    "\n",
    "fig.add_vrect(x0=dt.date(2024, 4, 6), x1=dt.date(2024, 4, 8), opacity=0.2, fillcolor='grey')\n",
    "fig.add_vrect(x0=dt.date(2024, 4, 10), x1=dt.date(2024, 4, 12), opacity=0.2, fillcolor='grey')\n",
    "fig.add_vrect(x0=dt.date(2024, 4, 13), x1=dt.date(2024, 4, 15), opacity=0.2, fillcolor='grey')\n",
    "fig.add_vrect(x0=dt.date(2024, 4, 20), x1=dt.date(2024, 4, 22), opacity=0.2, fillcolor='grey')\n",
    "fig.add_vrect(x0=dt.date(2024, 4, 27), x1=dt.date(2024, 4, 29), opacity=0.2, fillcolor='grey')\n",
    "fig.add_vrect(x0=dt.date(2024, 5, 4), x1=dt.date(2024, 5, 6), opacity=0.2, fillcolor='grey')\n",
    "\n",
    "# Don't need fig.update_layout because already using fig.add_shape()\n",
    "# fig.update_layout(xaxis_title=\"Timeline\", yaxis_title='Tasks')\n",
    "fig.update_yaxes(autorange=\"reversed\")\n",
    "fig.show()"
   ]
  },
  {
   "cell_type": "code",
   "execution_count": 43,
   "id": "078bb439-214c-4ddc-bc08-fca597ef28cb",
   "metadata": {},
   "outputs": [
    {
     "data": {
      "application/vnd.plotly.v1+json": {
       "config": {
        "plotlyServerURL": "https://plot.ly"
       },
       "data": [
        {
         "base": [
          "2025-07-01T00:00:00.000000000",
          "2025-07-05T00:00:00.000000000"
         ],
         "customdata": [
          [
           "Alice",
           "Done"
          ],
          [
           "Bob",
           "In Progress"
          ]
         ],
         "hovertemplate": "<b>%{y}</b><br>                    Start: %{x}<br>                    Owner: %{customdata[0]}<br>                    Status: %{customdata[1]}                    <extra></extra>",
         "legendgroup": "",
         "marker": {
          "color": "#636efa",
          "pattern": {
           "shape": ""
          }
         },
         "name": "",
         "orientation": "h",
         "showlegend": false,
         "textposition": "auto",
         "type": "bar",
         "x": {
          "bdata": "ALhMCgDMvxk=",
          "dtype": "i4"
         },
         "xaxis": "x",
         "y": [
          "Task A",
          "Task B"
         ],
         "yaxis": "y"
        }
       ],
       "layout": {
        "barmode": "overlay",
        "legend": {
         "tracegroupgap": 0
        },
        "margin": {
         "t": 60
        },
        "template": {
         "data": {
          "bar": [
           {
            "error_x": {
             "color": "#2a3f5f"
            },
            "error_y": {
             "color": "#2a3f5f"
            },
            "marker": {
             "line": {
              "color": "#E5ECF6",
              "width": 0.5
             },
             "pattern": {
              "fillmode": "overlay",
              "size": 10,
              "solidity": 0.2
             }
            },
            "type": "bar"
           }
          ],
          "barpolar": [
           {
            "marker": {
             "line": {
              "color": "#E5ECF6",
              "width": 0.5
             },
             "pattern": {
              "fillmode": "overlay",
              "size": 10,
              "solidity": 0.2
             }
            },
            "type": "barpolar"
           }
          ],
          "carpet": [
           {
            "aaxis": {
             "endlinecolor": "#2a3f5f",
             "gridcolor": "white",
             "linecolor": "white",
             "minorgridcolor": "white",
             "startlinecolor": "#2a3f5f"
            },
            "baxis": {
             "endlinecolor": "#2a3f5f",
             "gridcolor": "white",
             "linecolor": "white",
             "minorgridcolor": "white",
             "startlinecolor": "#2a3f5f"
            },
            "type": "carpet"
           }
          ],
          "choropleth": [
           {
            "colorbar": {
             "outlinewidth": 0,
             "ticks": ""
            },
            "type": "choropleth"
           }
          ],
          "contour": [
           {
            "colorbar": {
             "outlinewidth": 0,
             "ticks": ""
            },
            "colorscale": [
             [
              0,
              "#0d0887"
             ],
             [
              0.1111111111111111,
              "#46039f"
             ],
             [
              0.2222222222222222,
              "#7201a8"
             ],
             [
              0.3333333333333333,
              "#9c179e"
             ],
             [
              0.4444444444444444,
              "#bd3786"
             ],
             [
              0.5555555555555556,
              "#d8576b"
             ],
             [
              0.6666666666666666,
              "#ed7953"
             ],
             [
              0.7777777777777778,
              "#fb9f3a"
             ],
             [
              0.8888888888888888,
              "#fdca26"
             ],
             [
              1,
              "#f0f921"
             ]
            ],
            "type": "contour"
           }
          ],
          "contourcarpet": [
           {
            "colorbar": {
             "outlinewidth": 0,
             "ticks": ""
            },
            "type": "contourcarpet"
           }
          ],
          "heatmap": [
           {
            "colorbar": {
             "outlinewidth": 0,
             "ticks": ""
            },
            "colorscale": [
             [
              0,
              "#0d0887"
             ],
             [
              0.1111111111111111,
              "#46039f"
             ],
             [
              0.2222222222222222,
              "#7201a8"
             ],
             [
              0.3333333333333333,
              "#9c179e"
             ],
             [
              0.4444444444444444,
              "#bd3786"
             ],
             [
              0.5555555555555556,
              "#d8576b"
             ],
             [
              0.6666666666666666,
              "#ed7953"
             ],
             [
              0.7777777777777778,
              "#fb9f3a"
             ],
             [
              0.8888888888888888,
              "#fdca26"
             ],
             [
              1,
              "#f0f921"
             ]
            ],
            "type": "heatmap"
           }
          ],
          "histogram": [
           {
            "marker": {
             "pattern": {
              "fillmode": "overlay",
              "size": 10,
              "solidity": 0.2
             }
            },
            "type": "histogram"
           }
          ],
          "histogram2d": [
           {
            "colorbar": {
             "outlinewidth": 0,
             "ticks": ""
            },
            "colorscale": [
             [
              0,
              "#0d0887"
             ],
             [
              0.1111111111111111,
              "#46039f"
             ],
             [
              0.2222222222222222,
              "#7201a8"
             ],
             [
              0.3333333333333333,
              "#9c179e"
             ],
             [
              0.4444444444444444,
              "#bd3786"
             ],
             [
              0.5555555555555556,
              "#d8576b"
             ],
             [
              0.6666666666666666,
              "#ed7953"
             ],
             [
              0.7777777777777778,
              "#fb9f3a"
             ],
             [
              0.8888888888888888,
              "#fdca26"
             ],
             [
              1,
              "#f0f921"
             ]
            ],
            "type": "histogram2d"
           }
          ],
          "histogram2dcontour": [
           {
            "colorbar": {
             "outlinewidth": 0,
             "ticks": ""
            },
            "colorscale": [
             [
              0,
              "#0d0887"
             ],
             [
              0.1111111111111111,
              "#46039f"
             ],
             [
              0.2222222222222222,
              "#7201a8"
             ],
             [
              0.3333333333333333,
              "#9c179e"
             ],
             [
              0.4444444444444444,
              "#bd3786"
             ],
             [
              0.5555555555555556,
              "#d8576b"
             ],
             [
              0.6666666666666666,
              "#ed7953"
             ],
             [
              0.7777777777777778,
              "#fb9f3a"
             ],
             [
              0.8888888888888888,
              "#fdca26"
             ],
             [
              1,
              "#f0f921"
             ]
            ],
            "type": "histogram2dcontour"
           }
          ],
          "mesh3d": [
           {
            "colorbar": {
             "outlinewidth": 0,
             "ticks": ""
            },
            "type": "mesh3d"
           }
          ],
          "parcoords": [
           {
            "line": {
             "colorbar": {
              "outlinewidth": 0,
              "ticks": ""
             }
            },
            "type": "parcoords"
           }
          ],
          "pie": [
           {
            "automargin": true,
            "type": "pie"
           }
          ],
          "scatter": [
           {
            "fillpattern": {
             "fillmode": "overlay",
             "size": 10,
             "solidity": 0.2
            },
            "type": "scatter"
           }
          ],
          "scatter3d": [
           {
            "line": {
             "colorbar": {
              "outlinewidth": 0,
              "ticks": ""
             }
            },
            "marker": {
             "colorbar": {
              "outlinewidth": 0,
              "ticks": ""
             }
            },
            "type": "scatter3d"
           }
          ],
          "scattercarpet": [
           {
            "marker": {
             "colorbar": {
              "outlinewidth": 0,
              "ticks": ""
             }
            },
            "type": "scattercarpet"
           }
          ],
          "scattergeo": [
           {
            "marker": {
             "colorbar": {
              "outlinewidth": 0,
              "ticks": ""
             }
            },
            "type": "scattergeo"
           }
          ],
          "scattergl": [
           {
            "marker": {
             "colorbar": {
              "outlinewidth": 0,
              "ticks": ""
             }
            },
            "type": "scattergl"
           }
          ],
          "scattermap": [
           {
            "marker": {
             "colorbar": {
              "outlinewidth": 0,
              "ticks": ""
             }
            },
            "type": "scattermap"
           }
          ],
          "scattermapbox": [
           {
            "marker": {
             "colorbar": {
              "outlinewidth": 0,
              "ticks": ""
             }
            },
            "type": "scattermapbox"
           }
          ],
          "scatterpolar": [
           {
            "marker": {
             "colorbar": {
              "outlinewidth": 0,
              "ticks": ""
             }
            },
            "type": "scatterpolar"
           }
          ],
          "scatterpolargl": [
           {
            "marker": {
             "colorbar": {
              "outlinewidth": 0,
              "ticks": ""
             }
            },
            "type": "scatterpolargl"
           }
          ],
          "scatterternary": [
           {
            "marker": {
             "colorbar": {
              "outlinewidth": 0,
              "ticks": ""
             }
            },
            "type": "scatterternary"
           }
          ],
          "surface": [
           {
            "colorbar": {
             "outlinewidth": 0,
             "ticks": ""
            },
            "colorscale": [
             [
              0,
              "#0d0887"
             ],
             [
              0.1111111111111111,
              "#46039f"
             ],
             [
              0.2222222222222222,
              "#7201a8"
             ],
             [
              0.3333333333333333,
              "#9c179e"
             ],
             [
              0.4444444444444444,
              "#bd3786"
             ],
             [
              0.5555555555555556,
              "#d8576b"
             ],
             [
              0.6666666666666666,
              "#ed7953"
             ],
             [
              0.7777777777777778,
              "#fb9f3a"
             ],
             [
              0.8888888888888888,
              "#fdca26"
             ],
             [
              1,
              "#f0f921"
             ]
            ],
            "type": "surface"
           }
          ],
          "table": [
           {
            "cells": {
             "fill": {
              "color": "#EBF0F8"
             },
             "line": {
              "color": "white"
             }
            },
            "header": {
             "fill": {
              "color": "#C8D4E3"
             },
             "line": {
              "color": "white"
             }
            },
            "type": "table"
           }
          ]
         },
         "layout": {
          "annotationdefaults": {
           "arrowcolor": "#2a3f5f",
           "arrowhead": 0,
           "arrowwidth": 1
          },
          "autotypenumbers": "strict",
          "coloraxis": {
           "colorbar": {
            "outlinewidth": 0,
            "ticks": ""
           }
          },
          "colorscale": {
           "diverging": [
            [
             0,
             "#8e0152"
            ],
            [
             0.1,
             "#c51b7d"
            ],
            [
             0.2,
             "#de77ae"
            ],
            [
             0.3,
             "#f1b6da"
            ],
            [
             0.4,
             "#fde0ef"
            ],
            [
             0.5,
             "#f7f7f7"
            ],
            [
             0.6,
             "#e6f5d0"
            ],
            [
             0.7,
             "#b8e186"
            ],
            [
             0.8,
             "#7fbc41"
            ],
            [
             0.9,
             "#4d9221"
            ],
            [
             1,
             "#276419"
            ]
           ],
           "sequential": [
            [
             0,
             "#0d0887"
            ],
            [
             0.1111111111111111,
             "#46039f"
            ],
            [
             0.2222222222222222,
             "#7201a8"
            ],
            [
             0.3333333333333333,
             "#9c179e"
            ],
            [
             0.4444444444444444,
             "#bd3786"
            ],
            [
             0.5555555555555556,
             "#d8576b"
            ],
            [
             0.6666666666666666,
             "#ed7953"
            ],
            [
             0.7777777777777778,
             "#fb9f3a"
            ],
            [
             0.8888888888888888,
             "#fdca26"
            ],
            [
             1,
             "#f0f921"
            ]
           ],
           "sequentialminus": [
            [
             0,
             "#0d0887"
            ],
            [
             0.1111111111111111,
             "#46039f"
            ],
            [
             0.2222222222222222,
             "#7201a8"
            ],
            [
             0.3333333333333333,
             "#9c179e"
            ],
            [
             0.4444444444444444,
             "#bd3786"
            ],
            [
             0.5555555555555556,
             "#d8576b"
            ],
            [
             0.6666666666666666,
             "#ed7953"
            ],
            [
             0.7777777777777778,
             "#fb9f3a"
            ],
            [
             0.8888888888888888,
             "#fdca26"
            ],
            [
             1,
             "#f0f921"
            ]
           ]
          },
          "colorway": [
           "#636efa",
           "#EF553B",
           "#00cc96",
           "#ab63fa",
           "#FFA15A",
           "#19d3f3",
           "#FF6692",
           "#B6E880",
           "#FF97FF",
           "#FECB52"
          ],
          "font": {
           "color": "#2a3f5f"
          },
          "geo": {
           "bgcolor": "white",
           "lakecolor": "white",
           "landcolor": "#E5ECF6",
           "showlakes": true,
           "showland": true,
           "subunitcolor": "white"
          },
          "hoverlabel": {
           "align": "left"
          },
          "hovermode": "closest",
          "mapbox": {
           "style": "light"
          },
          "paper_bgcolor": "white",
          "plot_bgcolor": "#E5ECF6",
          "polar": {
           "angularaxis": {
            "gridcolor": "white",
            "linecolor": "white",
            "ticks": ""
           },
           "bgcolor": "#E5ECF6",
           "radialaxis": {
            "gridcolor": "white",
            "linecolor": "white",
            "ticks": ""
           }
          },
          "scene": {
           "xaxis": {
            "backgroundcolor": "#E5ECF6",
            "gridcolor": "white",
            "gridwidth": 2,
            "linecolor": "white",
            "showbackground": true,
            "ticks": "",
            "zerolinecolor": "white"
           },
           "yaxis": {
            "backgroundcolor": "#E5ECF6",
            "gridcolor": "white",
            "gridwidth": 2,
            "linecolor": "white",
            "showbackground": true,
            "ticks": "",
            "zerolinecolor": "white"
           },
           "zaxis": {
            "backgroundcolor": "#E5ECF6",
            "gridcolor": "white",
            "gridwidth": 2,
            "linecolor": "white",
            "showbackground": true,
            "ticks": "",
            "zerolinecolor": "white"
           }
          },
          "shapedefaults": {
           "line": {
            "color": "#2a3f5f"
           }
          },
          "ternary": {
           "aaxis": {
            "gridcolor": "white",
            "linecolor": "white",
            "ticks": ""
           },
           "baxis": {
            "gridcolor": "white",
            "linecolor": "white",
            "ticks": ""
           },
           "bgcolor": "#E5ECF6",
           "caxis": {
            "gridcolor": "white",
            "linecolor": "white",
            "ticks": ""
           }
          },
          "title": {
           "x": 0.05
          },
          "xaxis": {
           "automargin": true,
           "gridcolor": "white",
           "linecolor": "white",
           "ticks": "",
           "title": {
            "standoff": 15
           },
           "zerolinecolor": "white",
           "zerolinewidth": 2
          },
          "yaxis": {
           "automargin": true,
           "gridcolor": "white",
           "linecolor": "white",
           "ticks": "",
           "title": {
            "standoff": 15
           },
           "zerolinecolor": "white",
           "zerolinewidth": 2
          }
         }
        },
        "xaxis": {
         "anchor": "y",
         "domain": [
          0,
          1
         ],
         "type": "date"
        },
        "yaxis": {
         "anchor": "x",
         "domain": [
          0,
          1
         ],
         "title": {
          "text": "task"
         }
        }
       }
      }
     },
     "metadata": {},
     "output_type": "display_data"
    }
   ],
   "source": [
    "import plotly.express as px\n",
    "import pandas as pd\n",
    "\n",
    "df = pd.DataFrame({\n",
    "    \"task\": [\"Task A\", \"Task B\"],\n",
    "    \"start\": [\"2025-07-01\", \"2025-07-05\"],\n",
    "    \"end\": [\"2025-07-03\", \"2025-07-10\"],\n",
    "    \"owner\": [\"Alice\", \"Bob\"],\n",
    "    \"status\": [\"Done\", \"In Progress\"]\n",
    "})\n",
    "\n",
    "fig = px.timeline(df, x_start=\"start\", x_end=\"end\", y=\"task\", custom_data=[\"owner\", \"status\"])\n",
    "fig.update_traces(\n",
    "    hovertemplate=\"<b>%{y}</b><br> \\\n",
    "                   Start: %{x}<br> \\\n",
    "                   Owner: %{customdata[0]}<br> \\\n",
    "                   Status: %{customdata[1]} \\\n",
    "                   <extra></extra>\"\n",
    ")\n",
    "fig.show()\n"
   ]
  },
  {
   "cell_type": "markdown",
   "id": "c78113a4-886b-4939-82e4-4e13f71efe00",
   "metadata": {},
   "source": [
    "## Add TC review"
   ]
  },
  {
   "cell_type": "code",
   "execution_count": 44,
   "id": "9d90ca81-dfbf-4961-8c1c-d15d55ad7abf",
   "metadata": {},
   "outputs": [
    {
     "data": {
      "text/html": [
       "<div>\n",
       "<style scoped>\n",
       "    .dataframe tbody tr th:only-of-type {\n",
       "        vertical-align: middle;\n",
       "    }\n",
       "\n",
       "    .dataframe tbody tr th {\n",
       "        vertical-align: top;\n",
       "    }\n",
       "\n",
       "    .dataframe thead th {\n",
       "        text-align: right;\n",
       "    }\n",
       "</style>\n",
       "<table border=\"1\" class=\"dataframe\">\n",
       "  <thead>\n",
       "    <tr style=\"text-align: right;\">\n",
       "      <th></th>\n",
       "      <th>Track_Long</th>\n",
       "      <th>Track_Short</th>\n",
       "      <th>Tickets Done</th>\n",
       "    </tr>\n",
       "  </thead>\n",
       "  <tbody>\n",
       "    <tr>\n",
       "      <th>0</th>\n",
       "      <td>DataLake</td>\n",
       "      <td>DL</td>\n",
       "      <td>152</td>\n",
       "    </tr>\n",
       "    <tr>\n",
       "      <th>1</th>\n",
       "      <td>DataQuality</td>\n",
       "      <td>DQ</td>\n",
       "      <td>69</td>\n",
       "    </tr>\n",
       "    <tr>\n",
       "      <th>2</th>\n",
       "      <td>DataSecurity</td>\n",
       "      <td>DS</td>\n",
       "      <td>25</td>\n",
       "    </tr>\n",
       "    <tr>\n",
       "      <th>3</th>\n",
       "      <td>MetadataManagement</td>\n",
       "      <td>MM</td>\n",
       "      <td>9</td>\n",
       "    </tr>\n",
       "    <tr>\n",
       "      <th>4</th>\n",
       "      <td>GCIF + CDL</td>\n",
       "      <td>GCIF</td>\n",
       "      <td>0</td>\n",
       "    </tr>\n",
       "    <tr>\n",
       "      <th>5</th>\n",
       "      <td>GCIF Dashboard</td>\n",
       "      <td>GCIF Dashboard + CDL</td>\n",
       "      <td>0</td>\n",
       "    </tr>\n",
       "    <tr>\n",
       "      <th>6</th>\n",
       "      <td>CDL</td>\n",
       "      <td>CDL</td>\n",
       "      <td>3</td>\n",
       "    </tr>\n",
       "  </tbody>\n",
       "</table>\n",
       "</div>"
      ],
      "text/plain": [
       "           Track_Long           Track_Short  Tickets Done\n",
       "0            DataLake                    DL           152\n",
       "1         DataQuality                    DQ            69\n",
       "2        DataSecurity                    DS            25\n",
       "3  MetadataManagement                    MM             9\n",
       "4          GCIF + CDL                  GCIF             0\n",
       "5      GCIF Dashboard  GCIF Dashboard + CDL             0\n",
       "6                 CDL                   CDL             3"
      ]
     },
     "execution_count": 44,
     "metadata": {},
     "output_type": "execute_result"
    }
   ],
   "source": [
    "## Adding our progress, that is TC review - which is a manual overwritten document, it was true on the 18th of April 2024.\n",
    "TC_review = pd.read_excel(r'.\\TC Review Data\\Tally.xlsx')\n",
    "TC_review"
   ]
  },
  {
   "cell_type": "code",
   "execution_count": 45,
   "id": "5d85ad0a-4ee0-4f04-a51d-0ae14018490d",
   "metadata": {},
   "outputs": [
    {
     "data": {
      "text/html": [
       "<div>\n",
       "<style scoped>\n",
       "    .dataframe tbody tr th:only-of-type {\n",
       "        vertical-align: middle;\n",
       "    }\n",
       "\n",
       "    .dataframe tbody tr th {\n",
       "        vertical-align: top;\n",
       "    }\n",
       "\n",
       "    .dataframe thead th {\n",
       "        text-align: right;\n",
       "    }\n",
       "</style>\n",
       "<table border=\"1\" class=\"dataframe\">\n",
       "  <thead>\n",
       "    <tr style=\"text-align: right;\">\n",
       "      <th></th>\n",
       "      <th>Tracks</th>\n",
       "      <th>Total TC</th>\n",
       "      <th>Total Executed</th>\n",
       "      <th>Balance / Catch Up</th>\n",
       "      <th>Total Executed - Passed</th>\n",
       "      <th>Total Executed - Failed</th>\n",
       "      <th>Total Defects</th>\n",
       "      <th>Blocked by Defect</th>\n",
       "      <th>Backlog (catchup)</th>\n",
       "      <th>Yet to execute</th>\n",
       "      <th>NA</th>\n",
       "    </tr>\n",
       "  </thead>\n",
       "  <tbody>\n",
       "    <tr>\n",
       "      <th>0</th>\n",
       "      <td>DL</td>\n",
       "      <td>155.0</td>\n",
       "      <td>155.0</td>\n",
       "      <td>0.0</td>\n",
       "      <td>155.0</td>\n",
       "      <td>0.0</td>\n",
       "      <td>0.0</td>\n",
       "      <td>0.0</td>\n",
       "      <td>0.0</td>\n",
       "      <td>0.0</td>\n",
       "      <td>0.0</td>\n",
       "    </tr>\n",
       "    <tr>\n",
       "      <th>1</th>\n",
       "      <td>DQ</td>\n",
       "      <td>74.0</td>\n",
       "      <td>74.0</td>\n",
       "      <td>0.0</td>\n",
       "      <td>74.0</td>\n",
       "      <td>0.0</td>\n",
       "      <td>0.0</td>\n",
       "      <td>0.0</td>\n",
       "      <td>0.0</td>\n",
       "      <td>0.0</td>\n",
       "      <td>0.0</td>\n",
       "    </tr>\n",
       "    <tr>\n",
       "      <th>2</th>\n",
       "      <td>DS</td>\n",
       "      <td>72.0</td>\n",
       "      <td>72.0</td>\n",
       "      <td>0.0</td>\n",
       "      <td>72.0</td>\n",
       "      <td>0.0</td>\n",
       "      <td>0.0</td>\n",
       "      <td>0.0</td>\n",
       "      <td>0.0</td>\n",
       "      <td>0.0</td>\n",
       "      <td>0.0</td>\n",
       "    </tr>\n",
       "    <tr>\n",
       "      <th>3</th>\n",
       "      <td>MM</td>\n",
       "      <td>18.0</td>\n",
       "      <td>18.0</td>\n",
       "      <td>0.0</td>\n",
       "      <td>18.0</td>\n",
       "      <td>0.0</td>\n",
       "      <td>0.0</td>\n",
       "      <td>0.0</td>\n",
       "      <td>0.0</td>\n",
       "      <td>0.0</td>\n",
       "      <td>0.0</td>\n",
       "    </tr>\n",
       "    <tr>\n",
       "      <th>4</th>\n",
       "      <td>GCIF</td>\n",
       "      <td>151.0</td>\n",
       "      <td>124.0</td>\n",
       "      <td>27.0</td>\n",
       "      <td>124.0</td>\n",
       "      <td>0.0</td>\n",
       "      <td>0.0</td>\n",
       "      <td>0.0</td>\n",
       "      <td>27.0</td>\n",
       "      <td>0.0</td>\n",
       "      <td>0.0</td>\n",
       "    </tr>\n",
       "    <tr>\n",
       "      <th>5</th>\n",
       "      <td>CDL</td>\n",
       "      <td>29.0</td>\n",
       "      <td>NaN</td>\n",
       "      <td>NaN</td>\n",
       "      <td>NaN</td>\n",
       "      <td>NaN</td>\n",
       "      <td>NaN</td>\n",
       "      <td>NaN</td>\n",
       "      <td>NaN</td>\n",
       "      <td>NaN</td>\n",
       "      <td>NaN</td>\n",
       "    </tr>\n",
       "    <tr>\n",
       "      <th>6</th>\n",
       "      <td>GCIF Dashboard</td>\n",
       "      <td>200.0</td>\n",
       "      <td>73.0</td>\n",
       "      <td>127.0</td>\n",
       "      <td>73.0</td>\n",
       "      <td>0.0</td>\n",
       "      <td>0.0</td>\n",
       "      <td>0.0</td>\n",
       "      <td>44.0</td>\n",
       "      <td>83.0</td>\n",
       "      <td>0.0</td>\n",
       "    </tr>\n",
       "    <tr>\n",
       "      <th>7</th>\n",
       "      <td>Total</td>\n",
       "      <td>699.0</td>\n",
       "      <td>516.0</td>\n",
       "      <td>154.0</td>\n",
       "      <td>516.0</td>\n",
       "      <td>0.0</td>\n",
       "      <td>0.0</td>\n",
       "      <td>0.0</td>\n",
       "      <td>71.0</td>\n",
       "      <td>83.0</td>\n",
       "      <td>0.0</td>\n",
       "    </tr>\n",
       "  </tbody>\n",
       "</table>\n",
       "</div>"
      ],
      "text/plain": [
       "           Tracks  Total TC  Total Executed  Balance / Catch Up  \\\n",
       "0              DL     155.0           155.0                 0.0   \n",
       "1              DQ      74.0            74.0                 0.0   \n",
       "2              DS      72.0            72.0                 0.0   \n",
       "3              MM      18.0            18.0                 0.0   \n",
       "4            GCIF     151.0           124.0                27.0   \n",
       "5             CDL      29.0             NaN                 NaN   \n",
       "6  GCIF Dashboard     200.0            73.0               127.0   \n",
       "7           Total     699.0           516.0               154.0   \n",
       "\n",
       "   Total Executed - Passed  Total Executed - Failed  Total Defects  \\\n",
       "0                    155.0                      0.0            0.0   \n",
       "1                     74.0                      0.0            0.0   \n",
       "2                     72.0                      0.0            0.0   \n",
       "3                     18.0                      0.0            0.0   \n",
       "4                    124.0                      0.0            0.0   \n",
       "5                      NaN                      NaN            NaN   \n",
       "6                     73.0                      0.0            0.0   \n",
       "7                    516.0                      0.0            0.0   \n",
       "\n",
       "   Blocked by Defect  Backlog (catchup)  Yet to execute   NA  \n",
       "0                0.0                0.0             0.0  0.0  \n",
       "1                0.0                0.0             0.0  0.0  \n",
       "2                0.0                0.0             0.0  0.0  \n",
       "3                0.0                0.0             0.0  0.0  \n",
       "4                0.0               27.0             0.0  0.0  \n",
       "5                NaN                NaN             NaN  NaN  \n",
       "6                0.0               44.0            83.0  0.0  \n",
       "7                0.0               71.0            83.0  0.0  "
      ]
     },
     "metadata": {},
     "output_type": "display_data"
    }
   ],
   "source": [
    "date_name = '02-May-2024' # Change date here \n",
    "\n",
    "# Strip merge columns so the joins are aligned\n",
    "dfs[f'{date_name}_TC_breakdown']['Tracks'] = dfs[f'{date_name}_TC_breakdown']['Tracks'].str.strip()\n",
    "TC_review['Track_Short'] = TC_review['Track_Short'].str.strip()\n",
    "\n",
    "display(dfs[f'{date_name}_TC_breakdown'])\n",
    "# Merge on two different right_on columns, then concatenate \n",
    "# We are adding our TC review data\n",
    "inner_1 = pd.merge(left=dfs[f'{date_name}_TC_breakdown'], right=TC_review, left_on='Tracks', right_on='Track_Short', how='inner')\n",
    "inner_2 = pd.merge(left=dfs[f'{date_name}_TC_breakdown'], right=TC_review, left_on='Tracks', right_on='Track_Long', how='inner')"
   ]
  },
  {
   "cell_type": "code",
   "execution_count": 46,
   "id": "df358cad-e6b1-44d4-be99-649bdec03fc6",
   "metadata": {},
   "outputs": [
    {
     "data": {
      "text/html": [
       "<div>\n",
       "<style scoped>\n",
       "    .dataframe tbody tr th:only-of-type {\n",
       "        vertical-align: middle;\n",
       "    }\n",
       "\n",
       "    .dataframe tbody tr th {\n",
       "        vertical-align: top;\n",
       "    }\n",
       "\n",
       "    .dataframe thead th {\n",
       "        text-align: right;\n",
       "    }\n",
       "</style>\n",
       "<table border=\"1\" class=\"dataframe\">\n",
       "  <thead>\n",
       "    <tr style=\"text-align: right;\">\n",
       "      <th></th>\n",
       "      <th>Tracks</th>\n",
       "      <th>Total TC</th>\n",
       "      <th>Total Executed</th>\n",
       "      <th>Balance / Catch Up</th>\n",
       "      <th>Total Executed - Passed</th>\n",
       "      <th>Total Executed - Failed</th>\n",
       "      <th>Total Defects</th>\n",
       "      <th>Blocked by Defect</th>\n",
       "      <th>Backlog (catchup)</th>\n",
       "      <th>Yet to execute</th>\n",
       "      <th>NA</th>\n",
       "      <th>Track_Long</th>\n",
       "      <th>Track_Short</th>\n",
       "      <th>Tickets Done</th>\n",
       "    </tr>\n",
       "  </thead>\n",
       "  <tbody>\n",
       "    <tr>\n",
       "      <th>0</th>\n",
       "      <td>DL</td>\n",
       "      <td>155.0</td>\n",
       "      <td>155.0</td>\n",
       "      <td>0.0</td>\n",
       "      <td>155.0</td>\n",
       "      <td>0.0</td>\n",
       "      <td>0.0</td>\n",
       "      <td>0.0</td>\n",
       "      <td>0.0</td>\n",
       "      <td>0.0</td>\n",
       "      <td>0.0</td>\n",
       "      <td>DataLake</td>\n",
       "      <td>DL</td>\n",
       "      <td>152</td>\n",
       "    </tr>\n",
       "    <tr>\n",
       "      <th>1</th>\n",
       "      <td>DQ</td>\n",
       "      <td>74.0</td>\n",
       "      <td>74.0</td>\n",
       "      <td>0.0</td>\n",
       "      <td>74.0</td>\n",
       "      <td>0.0</td>\n",
       "      <td>0.0</td>\n",
       "      <td>0.0</td>\n",
       "      <td>0.0</td>\n",
       "      <td>0.0</td>\n",
       "      <td>0.0</td>\n",
       "      <td>DataQuality</td>\n",
       "      <td>DQ</td>\n",
       "      <td>69</td>\n",
       "    </tr>\n",
       "    <tr>\n",
       "      <th>2</th>\n",
       "      <td>DS</td>\n",
       "      <td>72.0</td>\n",
       "      <td>72.0</td>\n",
       "      <td>0.0</td>\n",
       "      <td>72.0</td>\n",
       "      <td>0.0</td>\n",
       "      <td>0.0</td>\n",
       "      <td>0.0</td>\n",
       "      <td>0.0</td>\n",
       "      <td>0.0</td>\n",
       "      <td>0.0</td>\n",
       "      <td>DataSecurity</td>\n",
       "      <td>DS</td>\n",
       "      <td>25</td>\n",
       "    </tr>\n",
       "    <tr>\n",
       "      <th>3</th>\n",
       "      <td>MM</td>\n",
       "      <td>18.0</td>\n",
       "      <td>18.0</td>\n",
       "      <td>0.0</td>\n",
       "      <td>18.0</td>\n",
       "      <td>0.0</td>\n",
       "      <td>0.0</td>\n",
       "      <td>0.0</td>\n",
       "      <td>0.0</td>\n",
       "      <td>0.0</td>\n",
       "      <td>0.0</td>\n",
       "      <td>MetadataManagement</td>\n",
       "      <td>MM</td>\n",
       "      <td>9</td>\n",
       "    </tr>\n",
       "    <tr>\n",
       "      <th>4</th>\n",
       "      <td>GCIF</td>\n",
       "      <td>151.0</td>\n",
       "      <td>124.0</td>\n",
       "      <td>27.0</td>\n",
       "      <td>124.0</td>\n",
       "      <td>0.0</td>\n",
       "      <td>0.0</td>\n",
       "      <td>0.0</td>\n",
       "      <td>27.0</td>\n",
       "      <td>0.0</td>\n",
       "      <td>0.0</td>\n",
       "      <td>GCIF + CDL</td>\n",
       "      <td>GCIF</td>\n",
       "      <td>0</td>\n",
       "    </tr>\n",
       "    <tr>\n",
       "      <th>5</th>\n",
       "      <td>CDL</td>\n",
       "      <td>29.0</td>\n",
       "      <td>NaN</td>\n",
       "      <td>NaN</td>\n",
       "      <td>NaN</td>\n",
       "      <td>NaN</td>\n",
       "      <td>NaN</td>\n",
       "      <td>NaN</td>\n",
       "      <td>NaN</td>\n",
       "      <td>NaN</td>\n",
       "      <td>NaN</td>\n",
       "      <td>CDL</td>\n",
       "      <td>CDL</td>\n",
       "      <td>3</td>\n",
       "    </tr>\n",
       "  </tbody>\n",
       "</table>\n",
       "</div>"
      ],
      "text/plain": [
       "  Tracks  Total TC  Total Executed  Balance / Catch Up  \\\n",
       "0     DL     155.0           155.0                 0.0   \n",
       "1     DQ      74.0            74.0                 0.0   \n",
       "2     DS      72.0            72.0                 0.0   \n",
       "3     MM      18.0            18.0                 0.0   \n",
       "4   GCIF     151.0           124.0                27.0   \n",
       "5    CDL      29.0             NaN                 NaN   \n",
       "\n",
       "   Total Executed - Passed  Total Executed - Failed  Total Defects  \\\n",
       "0                    155.0                      0.0            0.0   \n",
       "1                     74.0                      0.0            0.0   \n",
       "2                     72.0                      0.0            0.0   \n",
       "3                     18.0                      0.0            0.0   \n",
       "4                    124.0                      0.0            0.0   \n",
       "5                      NaN                      NaN            NaN   \n",
       "\n",
       "   Blocked by Defect  Backlog (catchup)  Yet to execute   NA  \\\n",
       "0                0.0                0.0             0.0  0.0   \n",
       "1                0.0                0.0             0.0  0.0   \n",
       "2                0.0                0.0             0.0  0.0   \n",
       "3                0.0                0.0             0.0  0.0   \n",
       "4                0.0               27.0             0.0  0.0   \n",
       "5                NaN                NaN             NaN  NaN   \n",
       "\n",
       "           Track_Long Track_Short  Tickets Done  \n",
       "0            DataLake          DL           152  \n",
       "1         DataQuality          DQ            69  \n",
       "2        DataSecurity          DS            25  \n",
       "3  MetadataManagement          MM             9  \n",
       "4          GCIF + CDL        GCIF             0  \n",
       "5                 CDL         CDL             3  "
      ]
     },
     "execution_count": 46,
     "metadata": {},
     "output_type": "execute_result"
    }
   ],
   "source": [
    "inner_1"
   ]
  },
  {
   "cell_type": "code",
   "execution_count": 47,
   "id": "264dae35-8b00-4bdd-887f-877e52f81427",
   "metadata": {},
   "outputs": [
    {
     "data": {
      "text/html": [
       "<div>\n",
       "<style scoped>\n",
       "    .dataframe tbody tr th:only-of-type {\n",
       "        vertical-align: middle;\n",
       "    }\n",
       "\n",
       "    .dataframe tbody tr th {\n",
       "        vertical-align: top;\n",
       "    }\n",
       "\n",
       "    .dataframe thead th {\n",
       "        text-align: right;\n",
       "    }\n",
       "</style>\n",
       "<table border=\"1\" class=\"dataframe\">\n",
       "  <thead>\n",
       "    <tr style=\"text-align: right;\">\n",
       "      <th></th>\n",
       "      <th>Tracks</th>\n",
       "      <th>Total TC</th>\n",
       "      <th>Total Executed</th>\n",
       "      <th>Balance / Catch Up</th>\n",
       "      <th>Total Executed - Passed</th>\n",
       "      <th>Total Executed - Failed</th>\n",
       "      <th>Total Defects</th>\n",
       "      <th>Blocked by Defect</th>\n",
       "      <th>Backlog (catchup)</th>\n",
       "      <th>Yet to execute</th>\n",
       "      <th>NA</th>\n",
       "      <th>Track_Long</th>\n",
       "      <th>Track_Short</th>\n",
       "      <th>Tickets Done</th>\n",
       "    </tr>\n",
       "  </thead>\n",
       "  <tbody>\n",
       "    <tr>\n",
       "      <th>0</th>\n",
       "      <td>CDL</td>\n",
       "      <td>29.0</td>\n",
       "      <td>NaN</td>\n",
       "      <td>NaN</td>\n",
       "      <td>NaN</td>\n",
       "      <td>NaN</td>\n",
       "      <td>NaN</td>\n",
       "      <td>NaN</td>\n",
       "      <td>NaN</td>\n",
       "      <td>NaN</td>\n",
       "      <td>NaN</td>\n",
       "      <td>CDL</td>\n",
       "      <td>CDL</td>\n",
       "      <td>3</td>\n",
       "    </tr>\n",
       "    <tr>\n",
       "      <th>1</th>\n",
       "      <td>GCIF Dashboard</td>\n",
       "      <td>200.0</td>\n",
       "      <td>73.0</td>\n",
       "      <td>127.0</td>\n",
       "      <td>73.0</td>\n",
       "      <td>0.0</td>\n",
       "      <td>0.0</td>\n",
       "      <td>0.0</td>\n",
       "      <td>44.0</td>\n",
       "      <td>83.0</td>\n",
       "      <td>0.0</td>\n",
       "      <td>GCIF Dashboard</td>\n",
       "      <td>GCIF Dashboard + CDL</td>\n",
       "      <td>0</td>\n",
       "    </tr>\n",
       "  </tbody>\n",
       "</table>\n",
       "</div>"
      ],
      "text/plain": [
       "           Tracks  Total TC  Total Executed  Balance / Catch Up  \\\n",
       "0             CDL      29.0             NaN                 NaN   \n",
       "1  GCIF Dashboard     200.0            73.0               127.0   \n",
       "\n",
       "   Total Executed - Passed  Total Executed - Failed  Total Defects  \\\n",
       "0                      NaN                      NaN            NaN   \n",
       "1                     73.0                      0.0            0.0   \n",
       "\n",
       "   Blocked by Defect  Backlog (catchup)  Yet to execute   NA      Track_Long  \\\n",
       "0                NaN                NaN             NaN  NaN             CDL   \n",
       "1                0.0               44.0            83.0  0.0  GCIF Dashboard   \n",
       "\n",
       "            Track_Short  Tickets Done  \n",
       "0                   CDL             3  \n",
       "1  GCIF Dashboard + CDL             0  "
      ]
     },
     "execution_count": 47,
     "metadata": {},
     "output_type": "execute_result"
    }
   ],
   "source": [
    "inner_2"
   ]
  },
  {
   "cell_type": "code",
   "execution_count": 48,
   "id": "5747de8c-25fb-4215-907c-688c4ccf905d",
   "metadata": {},
   "outputs": [
    {
     "data": {
      "text/html": [
       "<div>\n",
       "<style scoped>\n",
       "    .dataframe tbody tr th:only-of-type {\n",
       "        vertical-align: middle;\n",
       "    }\n",
       "\n",
       "    .dataframe tbody tr th {\n",
       "        vertical-align: top;\n",
       "    }\n",
       "\n",
       "    .dataframe thead th {\n",
       "        text-align: right;\n",
       "    }\n",
       "</style>\n",
       "<table border=\"1\" class=\"dataframe\">\n",
       "  <thead>\n",
       "    <tr style=\"text-align: right;\">\n",
       "      <th></th>\n",
       "      <th>Tracks</th>\n",
       "      <th>Total TC</th>\n",
       "      <th>Total Executed</th>\n",
       "      <th>Balance / Catch Up</th>\n",
       "      <th>Total Executed - Passed</th>\n",
       "      <th>Total Executed - Failed</th>\n",
       "      <th>Total Defects</th>\n",
       "      <th>Blocked by Defect</th>\n",
       "      <th>Backlog (catchup)</th>\n",
       "      <th>Yet to execute</th>\n",
       "      <th>NA</th>\n",
       "      <th>Track_Long</th>\n",
       "      <th>Track_Short</th>\n",
       "      <th>Tickets Done</th>\n",
       "    </tr>\n",
       "  </thead>\n",
       "  <tbody>\n",
       "    <tr>\n",
       "      <th>0</th>\n",
       "      <td>DL</td>\n",
       "      <td>155.0</td>\n",
       "      <td>155.0</td>\n",
       "      <td>0.0</td>\n",
       "      <td>155.0</td>\n",
       "      <td>0.0</td>\n",
       "      <td>0.0</td>\n",
       "      <td>0.0</td>\n",
       "      <td>0.0</td>\n",
       "      <td>0.0</td>\n",
       "      <td>0.0</td>\n",
       "      <td>DataLake</td>\n",
       "      <td>DL</td>\n",
       "      <td>152</td>\n",
       "    </tr>\n",
       "    <tr>\n",
       "      <th>1</th>\n",
       "      <td>DQ</td>\n",
       "      <td>74.0</td>\n",
       "      <td>74.0</td>\n",
       "      <td>0.0</td>\n",
       "      <td>74.0</td>\n",
       "      <td>0.0</td>\n",
       "      <td>0.0</td>\n",
       "      <td>0.0</td>\n",
       "      <td>0.0</td>\n",
       "      <td>0.0</td>\n",
       "      <td>0.0</td>\n",
       "      <td>DataQuality</td>\n",
       "      <td>DQ</td>\n",
       "      <td>69</td>\n",
       "    </tr>\n",
       "    <tr>\n",
       "      <th>2</th>\n",
       "      <td>DS</td>\n",
       "      <td>72.0</td>\n",
       "      <td>72.0</td>\n",
       "      <td>0.0</td>\n",
       "      <td>72.0</td>\n",
       "      <td>0.0</td>\n",
       "      <td>0.0</td>\n",
       "      <td>0.0</td>\n",
       "      <td>0.0</td>\n",
       "      <td>0.0</td>\n",
       "      <td>0.0</td>\n",
       "      <td>DataSecurity</td>\n",
       "      <td>DS</td>\n",
       "      <td>25</td>\n",
       "    </tr>\n",
       "    <tr>\n",
       "      <th>3</th>\n",
       "      <td>MM</td>\n",
       "      <td>18.0</td>\n",
       "      <td>18.0</td>\n",
       "      <td>0.0</td>\n",
       "      <td>18.0</td>\n",
       "      <td>0.0</td>\n",
       "      <td>0.0</td>\n",
       "      <td>0.0</td>\n",
       "      <td>0.0</td>\n",
       "      <td>0.0</td>\n",
       "      <td>0.0</td>\n",
       "      <td>MetadataManagement</td>\n",
       "      <td>MM</td>\n",
       "      <td>9</td>\n",
       "    </tr>\n",
       "    <tr>\n",
       "      <th>4</th>\n",
       "      <td>GCIF</td>\n",
       "      <td>151.0</td>\n",
       "      <td>124.0</td>\n",
       "      <td>27.0</td>\n",
       "      <td>124.0</td>\n",
       "      <td>0.0</td>\n",
       "      <td>0.0</td>\n",
       "      <td>0.0</td>\n",
       "      <td>27.0</td>\n",
       "      <td>0.0</td>\n",
       "      <td>0.0</td>\n",
       "      <td>GCIF + CDL</td>\n",
       "      <td>GCIF</td>\n",
       "      <td>0</td>\n",
       "    </tr>\n",
       "    <tr>\n",
       "      <th>5</th>\n",
       "      <td>CDL</td>\n",
       "      <td>29.0</td>\n",
       "      <td>NaN</td>\n",
       "      <td>NaN</td>\n",
       "      <td>NaN</td>\n",
       "      <td>NaN</td>\n",
       "      <td>NaN</td>\n",
       "      <td>NaN</td>\n",
       "      <td>NaN</td>\n",
       "      <td>NaN</td>\n",
       "      <td>NaN</td>\n",
       "      <td>CDL</td>\n",
       "      <td>CDL</td>\n",
       "      <td>3</td>\n",
       "    </tr>\n",
       "    <tr>\n",
       "      <th>7</th>\n",
       "      <td>GCIF Dashboard</td>\n",
       "      <td>200.0</td>\n",
       "      <td>73.0</td>\n",
       "      <td>127.0</td>\n",
       "      <td>73.0</td>\n",
       "      <td>0.0</td>\n",
       "      <td>0.0</td>\n",
       "      <td>0.0</td>\n",
       "      <td>44.0</td>\n",
       "      <td>83.0</td>\n",
       "      <td>0.0</td>\n",
       "      <td>GCIF Dashboard</td>\n",
       "      <td>GCIF Dashboard + CDL</td>\n",
       "      <td>0</td>\n",
       "    </tr>\n",
       "  </tbody>\n",
       "</table>\n",
       "</div>"
      ],
      "text/plain": [
       "           Tracks  Total TC  Total Executed  Balance / Catch Up  \\\n",
       "0              DL     155.0           155.0                 0.0   \n",
       "1              DQ      74.0            74.0                 0.0   \n",
       "2              DS      72.0            72.0                 0.0   \n",
       "3              MM      18.0            18.0                 0.0   \n",
       "4            GCIF     151.0           124.0                27.0   \n",
       "5             CDL      29.0             NaN                 NaN   \n",
       "7  GCIF Dashboard     200.0            73.0               127.0   \n",
       "\n",
       "   Total Executed - Passed  Total Executed - Failed  Total Defects  \\\n",
       "0                    155.0                      0.0            0.0   \n",
       "1                     74.0                      0.0            0.0   \n",
       "2                     72.0                      0.0            0.0   \n",
       "3                     18.0                      0.0            0.0   \n",
       "4                    124.0                      0.0            0.0   \n",
       "5                      NaN                      NaN            NaN   \n",
       "7                     73.0                      0.0            0.0   \n",
       "\n",
       "   Blocked by Defect  Backlog (catchup)  Yet to execute   NA  \\\n",
       "0                0.0                0.0             0.0  0.0   \n",
       "1                0.0                0.0             0.0  0.0   \n",
       "2                0.0                0.0             0.0  0.0   \n",
       "3                0.0                0.0             0.0  0.0   \n",
       "4                0.0               27.0             0.0  0.0   \n",
       "5                NaN                NaN             NaN  NaN   \n",
       "7                0.0               44.0            83.0  0.0   \n",
       "\n",
       "           Track_Long           Track_Short  Tickets Done  \n",
       "0            DataLake                    DL           152  \n",
       "1         DataQuality                    DQ            69  \n",
       "2        DataSecurity                    DS            25  \n",
       "3  MetadataManagement                    MM             9  \n",
       "4          GCIF + CDL                  GCIF             0  \n",
       "5                 CDL                   CDL             3  \n",
       "7      GCIF Dashboard  GCIF Dashboard + CDL             0  "
      ]
     },
     "execution_count": 48,
     "metadata": {},
     "output_type": "execute_result"
    }
   ],
   "source": [
    "combined_df = pd.concat([inner_1, inner_2], axis=0, ignore_index=True)\n",
    "combined_df.drop_duplicates(subset=['Tracks'], keep='first', inplace=True)\n",
    "combined_df"
   ]
  },
  {
   "cell_type": "code",
   "execution_count": 49,
   "id": "4e9cfdb8-c67f-43e8-9beb-272d37f103e3",
   "metadata": {},
   "outputs": [
    {
     "data": {
      "text/html": [
       "<div>\n",
       "<style scoped>\n",
       "    .dataframe tbody tr th:only-of-type {\n",
       "        vertical-align: middle;\n",
       "    }\n",
       "\n",
       "    .dataframe tbody tr th {\n",
       "        vertical-align: top;\n",
       "    }\n",
       "\n",
       "    .dataframe thead th {\n",
       "        text-align: right;\n",
       "    }\n",
       "</style>\n",
       "<table border=\"1\" class=\"dataframe\">\n",
       "  <thead>\n",
       "    <tr style=\"text-align: right;\">\n",
       "      <th></th>\n",
       "      <th>Track</th>\n",
       "      <th>Start Date</th>\n",
       "      <th>End Date</th>\n",
       "      <th>Plan Completion (%)</th>\n",
       "      <th>Actual Completion (%)</th>\n",
       "      <th>Passed Rate</th>\n",
       "      <th>Failed Rate</th>\n",
       "      <th>Remark</th>\n",
       "    </tr>\n",
       "  </thead>\n",
       "  <tbody>\n",
       "    <tr>\n",
       "      <th>0</th>\n",
       "      <td>DataLake</td>\n",
       "      <td>2024-04-01</td>\n",
       "      <td>2024-04-19</td>\n",
       "      <td>100.0</td>\n",
       "      <td>100.00</td>\n",
       "      <td>100.0</td>\n",
       "      <td>0.0</td>\n",
       "      <td>Completed. Pending Sign-Off</td>\n",
       "    </tr>\n",
       "    <tr>\n",
       "      <th>1</th>\n",
       "      <td>DataQuality</td>\n",
       "      <td>2024-04-03</td>\n",
       "      <td>2024-04-19</td>\n",
       "      <td>100.0</td>\n",
       "      <td>100.00</td>\n",
       "      <td>100.0</td>\n",
       "      <td>0.0</td>\n",
       "      <td>Completed. Pending Sign-Off</td>\n",
       "    </tr>\n",
       "    <tr>\n",
       "      <th>2</th>\n",
       "      <td>DataSecurity</td>\n",
       "      <td>2024-04-05</td>\n",
       "      <td>2024-05-03</td>\n",
       "      <td>100.0</td>\n",
       "      <td>100.00</td>\n",
       "      <td>100.0</td>\n",
       "      <td>0.0</td>\n",
       "      <td>Started</td>\n",
       "    </tr>\n",
       "    <tr>\n",
       "      <th>3</th>\n",
       "      <td>MetadataManagement</td>\n",
       "      <td>2024-04-05</td>\n",
       "      <td>2024-04-30</td>\n",
       "      <td>100.0</td>\n",
       "      <td>100.00</td>\n",
       "      <td>100.0</td>\n",
       "      <td>0.0</td>\n",
       "      <td>Started</td>\n",
       "    </tr>\n",
       "    <tr>\n",
       "      <th>4</th>\n",
       "      <td>GCIF</td>\n",
       "      <td>2024-04-08</td>\n",
       "      <td>2024-05-06</td>\n",
       "      <td>100.0</td>\n",
       "      <td>82.12</td>\n",
       "      <td>100.0</td>\n",
       "      <td>0.0</td>\n",
       "      <td>Started</td>\n",
       "    </tr>\n",
       "    <tr>\n",
       "      <th>5</th>\n",
       "      <td>CDL</td>\n",
       "      <td>2024-05-07</td>\n",
       "      <td>2024-05-08</td>\n",
       "      <td>NaN</td>\n",
       "      <td>NaN</td>\n",
       "      <td>NaN</td>\n",
       "      <td>NaN</td>\n",
       "      <td>Not started</td>\n",
       "    </tr>\n",
       "    <tr>\n",
       "      <th>6</th>\n",
       "      <td>GCIF Dashboard</td>\n",
       "      <td>2024-04-15</td>\n",
       "      <td>2024-05-10</td>\n",
       "      <td>58.5</td>\n",
       "      <td>36.50</td>\n",
       "      <td>100.0</td>\n",
       "      <td>0.0</td>\n",
       "      <td>Started</td>\n",
       "    </tr>\n",
       "  </tbody>\n",
       "</table>\n",
       "</div>"
      ],
      "text/plain": [
       "                Track Start Date   End Date  Plan Completion (%)  \\\n",
       "0            DataLake 2024-04-01 2024-04-19                100.0   \n",
       "1         DataQuality 2024-04-03 2024-04-19                100.0   \n",
       "2        DataSecurity 2024-04-05 2024-05-03                100.0   \n",
       "3  MetadataManagement 2024-04-05 2024-04-30                100.0   \n",
       "4                GCIF 2024-04-08 2024-05-06                100.0   \n",
       "5                 CDL 2024-05-07 2024-05-08                  NaN   \n",
       "6      GCIF Dashboard 2024-04-15 2024-05-10                 58.5   \n",
       "\n",
       "   Actual Completion (%)  Passed Rate  Failed Rate  \\\n",
       "0                 100.00        100.0          0.0   \n",
       "1                 100.00        100.0          0.0   \n",
       "2                 100.00        100.0          0.0   \n",
       "3                 100.00        100.0          0.0   \n",
       "4                  82.12        100.0          0.0   \n",
       "5                    NaN          NaN          NaN   \n",
       "6                  36.50        100.0          0.0   \n",
       "\n",
       "                        Remark  \n",
       "0  Completed. Pending Sign-Off  \n",
       "1  Completed. Pending Sign-Off  \n",
       "2                      Started  \n",
       "3                      Started  \n",
       "4                      Started  \n",
       "5                  Not started  \n",
       "6                      Started  "
      ]
     },
     "execution_count": 49,
     "metadata": {},
     "output_type": "execute_result"
    }
   ],
   "source": [
    "dfs[f'{date_name}_Progress']"
   ]
  },
  {
   "cell_type": "code",
   "execution_count": 50,
   "id": "d11d9a7b-1782-4264-a214-65241bcffc4e",
   "metadata": {},
   "outputs": [],
   "source": [
    "# Strip merge columns so the joins are aligned\n",
    "combined_df['Track_Long'] = combined_df['Track_Long'].str.strip()\n",
    "dfs[f'{date_name}_Progress']['Track'] = dfs[f'{date_name}_Progress']['Track'].str.strip()\n",
    "\n",
    "# Combine with the progress data\n",
    "my_merge_2 = pd.merge(left=combined_df, right=dfs[f'{date_name}_Progress'],\\\n",
    "                      left_on='Track_Long', right_on='Track', how='left') # inner, outer yields the same result."
   ]
  },
  {
   "cell_type": "code",
   "execution_count": 51,
   "id": "7d492740-6403-405a-b501-d03884e1a1a8",
   "metadata": {},
   "outputs": [],
   "source": [
    "my_merge_2.insert(loc=my_merge_2.columns.get_loc('Tickets Done')+1,\n",
    "                  column='Percentage Reviewed',\n",
    "                  value=round(my_merge_2['Tickets Done']/my_merge_2['Total TC']*100,2))"
   ]
  },
  {
   "cell_type": "code",
   "execution_count": 52,
   "id": "f1262a96-4028-44f0-a621-d944f939b471",
   "metadata": {},
   "outputs": [
    {
     "data": {
      "text/html": [
       "<div>\n",
       "<style scoped>\n",
       "    .dataframe tbody tr th:only-of-type {\n",
       "        vertical-align: middle;\n",
       "    }\n",
       "\n",
       "    .dataframe tbody tr th {\n",
       "        vertical-align: top;\n",
       "    }\n",
       "\n",
       "    .dataframe thead th {\n",
       "        text-align: right;\n",
       "    }\n",
       "</style>\n",
       "<table border=\"1\" class=\"dataframe\">\n",
       "  <thead>\n",
       "    <tr style=\"text-align: right;\">\n",
       "      <th></th>\n",
       "      <th>Tracks</th>\n",
       "      <th>Total TC</th>\n",
       "      <th>Total Executed</th>\n",
       "      <th>Balance / Catch Up</th>\n",
       "      <th>Total Executed - Passed</th>\n",
       "      <th>Total Executed - Failed</th>\n",
       "      <th>Total Defects</th>\n",
       "      <th>Blocked by Defect</th>\n",
       "      <th>Backlog (catchup)</th>\n",
       "      <th>Yet to execute</th>\n",
       "      <th>NA</th>\n",
       "      <th>Track_Long</th>\n",
       "      <th>Track_Short</th>\n",
       "      <th>Tickets Done</th>\n",
       "      <th>Percentage Reviewed</th>\n",
       "      <th>Track</th>\n",
       "      <th>Start Date</th>\n",
       "      <th>End Date</th>\n",
       "      <th>Plan Completion (%)</th>\n",
       "      <th>Actual Completion (%)</th>\n",
       "      <th>Passed Rate</th>\n",
       "      <th>Failed Rate</th>\n",
       "      <th>Remark</th>\n",
       "    </tr>\n",
       "  </thead>\n",
       "  <tbody>\n",
       "    <tr>\n",
       "      <th>0</th>\n",
       "      <td>DL</td>\n",
       "      <td>155.0</td>\n",
       "      <td>155.0</td>\n",
       "      <td>0.0</td>\n",
       "      <td>155.0</td>\n",
       "      <td>0.0</td>\n",
       "      <td>0.0</td>\n",
       "      <td>0.0</td>\n",
       "      <td>0.0</td>\n",
       "      <td>0.0</td>\n",
       "      <td>0.0</td>\n",
       "      <td>DataLake</td>\n",
       "      <td>DL</td>\n",
       "      <td>152</td>\n",
       "      <td>98.06</td>\n",
       "      <td>DataLake</td>\n",
       "      <td>2024-04-01</td>\n",
       "      <td>2024-04-19</td>\n",
       "      <td>100.0</td>\n",
       "      <td>100.0</td>\n",
       "      <td>100.0</td>\n",
       "      <td>0.0</td>\n",
       "      <td>Completed. Pending Sign-Off</td>\n",
       "    </tr>\n",
       "    <tr>\n",
       "      <th>1</th>\n",
       "      <td>DQ</td>\n",
       "      <td>74.0</td>\n",
       "      <td>74.0</td>\n",
       "      <td>0.0</td>\n",
       "      <td>74.0</td>\n",
       "      <td>0.0</td>\n",
       "      <td>0.0</td>\n",
       "      <td>0.0</td>\n",
       "      <td>0.0</td>\n",
       "      <td>0.0</td>\n",
       "      <td>0.0</td>\n",
       "      <td>DataQuality</td>\n",
       "      <td>DQ</td>\n",
       "      <td>69</td>\n",
       "      <td>93.24</td>\n",
       "      <td>DataQuality</td>\n",
       "      <td>2024-04-03</td>\n",
       "      <td>2024-04-19</td>\n",
       "      <td>100.0</td>\n",
       "      <td>100.0</td>\n",
       "      <td>100.0</td>\n",
       "      <td>0.0</td>\n",
       "      <td>Completed. Pending Sign-Off</td>\n",
       "    </tr>\n",
       "    <tr>\n",
       "      <th>2</th>\n",
       "      <td>DS</td>\n",
       "      <td>72.0</td>\n",
       "      <td>72.0</td>\n",
       "      <td>0.0</td>\n",
       "      <td>72.0</td>\n",
       "      <td>0.0</td>\n",
       "      <td>0.0</td>\n",
       "      <td>0.0</td>\n",
       "      <td>0.0</td>\n",
       "      <td>0.0</td>\n",
       "      <td>0.0</td>\n",
       "      <td>DataSecurity</td>\n",
       "      <td>DS</td>\n",
       "      <td>25</td>\n",
       "      <td>34.72</td>\n",
       "      <td>DataSecurity</td>\n",
       "      <td>2024-04-05</td>\n",
       "      <td>2024-05-03</td>\n",
       "      <td>100.0</td>\n",
       "      <td>100.0</td>\n",
       "      <td>100.0</td>\n",
       "      <td>0.0</td>\n",
       "      <td>Started</td>\n",
       "    </tr>\n",
       "    <tr>\n",
       "      <th>3</th>\n",
       "      <td>MM</td>\n",
       "      <td>18.0</td>\n",
       "      <td>18.0</td>\n",
       "      <td>0.0</td>\n",
       "      <td>18.0</td>\n",
       "      <td>0.0</td>\n",
       "      <td>0.0</td>\n",
       "      <td>0.0</td>\n",
       "      <td>0.0</td>\n",
       "      <td>0.0</td>\n",
       "      <td>0.0</td>\n",
       "      <td>MetadataManagement</td>\n",
       "      <td>MM</td>\n",
       "      <td>9</td>\n",
       "      <td>50.00</td>\n",
       "      <td>MetadataManagement</td>\n",
       "      <td>2024-04-05</td>\n",
       "      <td>2024-04-30</td>\n",
       "      <td>100.0</td>\n",
       "      <td>100.0</td>\n",
       "      <td>100.0</td>\n",
       "      <td>0.0</td>\n",
       "      <td>Started</td>\n",
       "    </tr>\n",
       "    <tr>\n",
       "      <th>4</th>\n",
       "      <td>CDL</td>\n",
       "      <td>29.0</td>\n",
       "      <td>NaN</td>\n",
       "      <td>NaN</td>\n",
       "      <td>NaN</td>\n",
       "      <td>NaN</td>\n",
       "      <td>NaN</td>\n",
       "      <td>NaN</td>\n",
       "      <td>NaN</td>\n",
       "      <td>NaN</td>\n",
       "      <td>NaN</td>\n",
       "      <td>CDL</td>\n",
       "      <td>CDL</td>\n",
       "      <td>3</td>\n",
       "      <td>10.34</td>\n",
       "      <td>CDL</td>\n",
       "      <td>2024-05-07</td>\n",
       "      <td>2024-05-08</td>\n",
       "      <td>NaN</td>\n",
       "      <td>NaN</td>\n",
       "      <td>NaN</td>\n",
       "      <td>NaN</td>\n",
       "      <td>Not started</td>\n",
       "    </tr>\n",
       "    <tr>\n",
       "      <th>5</th>\n",
       "      <td>GCIF Dashboard</td>\n",
       "      <td>200.0</td>\n",
       "      <td>73.0</td>\n",
       "      <td>127.0</td>\n",
       "      <td>73.0</td>\n",
       "      <td>0.0</td>\n",
       "      <td>0.0</td>\n",
       "      <td>0.0</td>\n",
       "      <td>44.0</td>\n",
       "      <td>83.0</td>\n",
       "      <td>0.0</td>\n",
       "      <td>GCIF Dashboard</td>\n",
       "      <td>GCIF Dashboard + CDL</td>\n",
       "      <td>0</td>\n",
       "      <td>0.00</td>\n",
       "      <td>GCIF Dashboard</td>\n",
       "      <td>2024-04-15</td>\n",
       "      <td>2024-05-10</td>\n",
       "      <td>58.5</td>\n",
       "      <td>36.5</td>\n",
       "      <td>100.0</td>\n",
       "      <td>0.0</td>\n",
       "      <td>Started</td>\n",
       "    </tr>\n",
       "  </tbody>\n",
       "</table>\n",
       "</div>"
      ],
      "text/plain": [
       "           Tracks  Total TC  Total Executed  Balance / Catch Up  \\\n",
       "0              DL     155.0           155.0                 0.0   \n",
       "1              DQ      74.0            74.0                 0.0   \n",
       "2              DS      72.0            72.0                 0.0   \n",
       "3              MM      18.0            18.0                 0.0   \n",
       "4             CDL      29.0             NaN                 NaN   \n",
       "5  GCIF Dashboard     200.0            73.0               127.0   \n",
       "\n",
       "   Total Executed - Passed  Total Executed - Failed  Total Defects  \\\n",
       "0                    155.0                      0.0            0.0   \n",
       "1                     74.0                      0.0            0.0   \n",
       "2                     72.0                      0.0            0.0   \n",
       "3                     18.0                      0.0            0.0   \n",
       "4                      NaN                      NaN            NaN   \n",
       "5                     73.0                      0.0            0.0   \n",
       "\n",
       "   Blocked by Defect  Backlog (catchup)  Yet to execute   NA  \\\n",
       "0                0.0                0.0             0.0  0.0   \n",
       "1                0.0                0.0             0.0  0.0   \n",
       "2                0.0                0.0             0.0  0.0   \n",
       "3                0.0                0.0             0.0  0.0   \n",
       "4                NaN                NaN             NaN  NaN   \n",
       "5                0.0               44.0            83.0  0.0   \n",
       "\n",
       "           Track_Long           Track_Short  Tickets Done  \\\n",
       "0            DataLake                    DL           152   \n",
       "1         DataQuality                    DQ            69   \n",
       "2        DataSecurity                    DS            25   \n",
       "3  MetadataManagement                    MM             9   \n",
       "4                 CDL                   CDL             3   \n",
       "5      GCIF Dashboard  GCIF Dashboard + CDL             0   \n",
       "\n",
       "   Percentage Reviewed               Track Start Date   End Date  \\\n",
       "0                98.06            DataLake 2024-04-01 2024-04-19   \n",
       "1                93.24         DataQuality 2024-04-03 2024-04-19   \n",
       "2                34.72        DataSecurity 2024-04-05 2024-05-03   \n",
       "3                50.00  MetadataManagement 2024-04-05 2024-04-30   \n",
       "4                10.34                 CDL 2024-05-07 2024-05-08   \n",
       "5                 0.00      GCIF Dashboard 2024-04-15 2024-05-10   \n",
       "\n",
       "   Plan Completion (%)  Actual Completion (%)  Passed Rate  Failed Rate  \\\n",
       "0                100.0                  100.0        100.0          0.0   \n",
       "1                100.0                  100.0        100.0          0.0   \n",
       "2                100.0                  100.0        100.0          0.0   \n",
       "3                100.0                  100.0        100.0          0.0   \n",
       "4                  NaN                    NaN          NaN          NaN   \n",
       "5                 58.5                   36.5        100.0          0.0   \n",
       "\n",
       "                        Remark  \n",
       "0  Completed. Pending Sign-Off  \n",
       "1  Completed. Pending Sign-Off  \n",
       "2                      Started  \n",
       "3                      Started  \n",
       "4                  Not started  \n",
       "5                      Started  "
      ]
     },
     "execution_count": 52,
     "metadata": {},
     "output_type": "execute_result"
    }
   ],
   "source": [
    "my_merge_2.dropna(axis='index', subset=['Track'], inplace=True, ignore_index=True)\n",
    "my_merge_2"
   ]
  },
  {
   "cell_type": "markdown",
   "id": "cd6655cb-2ccf-4186-986f-a092505c0ec1",
   "metadata": {},
   "source": [
    "## Final viz"
   ]
  },
  {
   "cell_type": "code",
   "execution_count": 53,
   "id": "db9ae460-0c85-437a-89b8-2c5cbce4cdfc",
   "metadata": {},
   "outputs": [
    {
     "data": {
      "application/vnd.plotly.v1+json": {
       "config": {
        "plotlyServerURL": "https://plot.ly"
       },
       "data": [
        {
         "base": [
          "2024-04-01T00:00:00.000000000",
          "2024-04-03T00:00:00.000000000",
          "2024-04-05T00:00:00.000000000",
          "2024-04-08T00:00:00.000000000",
          "2024-04-15T00:00:00.000000000",
          "2024-04-05T00:00:00.000000000"
         ],
         "customdata": [
          [
           "Started (test case DL125 for MHPS only can proceed after 24-Apr)",
           98.06
          ],
          [
           "Started (test case DQ052 and DQ053 for MHPS only can proceed after 24-Apr)",
           93.24
          ],
          [
           "Started",
           34.72
          ],
          [
           "Started",
           0
          ],
          [
           "Started ",
           0
          ],
          [
           "Started",
           50
          ]
         ],
         "hovertemplate": "<b>%{hovertext}</b><br><br>Start Date=%{base}<br>End Date=%{x}<br>Actual Completion (%)=%{text}<br>Percentage Reviewed=%{customdata[1]:.1f}<extra></extra>",
         "hovertext": [
          "DataLake",
          "DataQuality",
          "DataSecurity",
          "GCIF + CDL",
          "GCIF Dashboard",
          "MetadataManagement"
         ],
         "legendgroup": "",
         "marker": {
          "color": "#3366CC",
          "opacity": 0.7,
          "pattern": {
           "shape": ""
          }
         },
         "name": "",
         "orientation": "h",
         "showlegend": false,
         "text": {
          "bdata": "ZmZmZmbWWEDNzMzMzPxXQClcj8L1OFZAUrgehevxRUAAAAAAAIAxQAAAAAAAAElA",
          "dtype": "f8"
         },
         "textposition": "auto",
         "type": "bar",
         "x": [
          1555200000,
          1382400000,
          2160000000,
          2160000000,
          2160000000,
          2160000000
         ],
         "xaxis": "x",
         "y": [
          "DataLake",
          "DataQuality",
          "DataSecurity",
          "GCIF + CDL",
          "GCIF Dashboard",
          "MetadataManagement"
         ],
         "yaxis": "y"
        }
       ],
       "layout": {
        "barmode": "overlay",
        "legend": {
         "tracegroupgap": 0
        },
        "shapes": [
         {
          "fillcolor": "#038000",
          "line": {
           "color": "green",
           "width": 0
          },
          "opacity": 0.6,
          "type": "rect",
          "x0": "2024-04-01T00:00:00",
          "x1": "2024-04-18T21:11:31.200000",
          "xref": "x",
          "y0": -0.4,
          "y1": 0.4,
          "yref": "y"
         },
         {
          "fillcolor": "#158300",
          "line": {
           "color": "green",
           "width": 0
          },
          "opacity": 0.6,
          "type": "rect",
          "x0": "2024-04-03T00:00:00",
          "x1": "2024-04-18T08:26:52.800000",
          "xref": "x",
          "y0": 0.6,
          "y1": 1.4,
          "yref": "y"
         },
         {
          "fillcolor": "#398800",
          "line": {
           "color": "green",
           "width": 0
          },
          "opacity": 0.6,
          "type": "rect",
          "x0": "2024-04-05T00:00:00",
          "x1": "2024-04-27T05:20:24",
          "xref": "x",
          "y0": 1.6,
          "y1": 2.4,
          "yref": "y"
         },
         {
          "fillcolor": "#ff9100",
          "line": {
           "color": "green",
           "width": 0
          },
          "opacity": 0.6,
          "type": "rect",
          "x0": "2024-04-08T00:00:00",
          "x1": "2024-04-18T23:20:24",
          "xref": "x",
          "y0": 2.6,
          "y1": 3.4,
          "yref": "y"
         },
         {
          "fillcolor": "#ff3a00",
          "line": {
           "color": "green",
           "width": 0
          },
          "opacity": 0.6,
          "type": "rect",
          "x0": "2024-04-15T00:00:00",
          "x1": "2024-04-19T09:00:00",
          "xref": "x",
          "y0": 3.6,
          "y1": 4.4,
          "yref": "y"
         },
         {
          "fillcolor": "#ffa500",
          "line": {
           "color": "green",
           "width": 0
          },
          "opacity": 0.6,
          "type": "rect",
          "x0": "2024-04-05T00:00:00",
          "x1": "2024-04-17T12:00:00",
          "xref": "x",
          "y0": 4.6,
          "y1": 5.4,
          "yref": "y"
         },
         {
          "fillcolor": "purple",
          "line": {
           "color": "purple",
           "width": 0
          },
          "opacity": 0.9,
          "type": "rect",
          "x0": "2024-04-01T00:00:00",
          "x1": "2024-04-18T15:37:09.120000",
          "xref": "x",
          "y0": -0.4,
          "y1": 0.4,
          "yref": "y"
         },
         {
          "fillcolor": "purple",
          "line": {
           "color": "purple",
           "width": 0
          },
          "opacity": 0.9,
          "type": "rect",
          "x0": "2024-04-03T00:00:00",
          "x1": "2024-04-17T22:02:29.759999999",
          "xref": "x",
          "y0": 0.6,
          "y1": 1.4,
          "yref": "y"
         },
         {
          "fillcolor": "purple",
          "line": {
           "color": "purple",
           "width": 0
          },
          "opacity": 0.9,
          "type": "rect",
          "x0": "2024-04-05T00:00:00",
          "x1": "2024-04-13T16:19:12",
          "xref": "x",
          "y0": 1.6,
          "y1": 2.4,
          "yref": "y"
         },
         {
          "fillcolor": "purple",
          "line": {
           "color": "purple",
           "width": 0
          },
          "opacity": 0.9,
          "type": "rect",
          "x0": "2024-04-08T00:00:00",
          "x1": "2024-04-08T00:00:00",
          "xref": "x",
          "y0": 2.6,
          "y1": 3.4,
          "yref": "y"
         },
         {
          "fillcolor": "purple",
          "line": {
           "color": "purple",
           "width": 0
          },
          "opacity": 0.9,
          "type": "rect",
          "x0": "2024-04-15T00:00:00",
          "x1": "2024-04-15T00:00:00",
          "xref": "x",
          "y0": 3.6,
          "y1": 4.4,
          "yref": "y"
         },
         {
          "fillcolor": "purple",
          "line": {
           "color": "purple",
           "width": 0
          },
          "opacity": 0.9,
          "type": "rect",
          "x0": "2024-04-05T00:00:00",
          "x1": "2024-04-17T12:00:00",
          "xref": "x",
          "y0": 4.6,
          "y1": 5.4,
          "yref": "y"
         },
         {
          "line": {
           "color": "maroon",
           "dash": "dash",
           "width": 3
          },
          "type": "line",
          "x0": "2024-04-23T00:00:00",
          "x1": "2024-04-23T00:00:00",
          "xref": "x",
          "y0": 0,
          "y1": 1,
          "yref": "y domain"
         },
         {
          "fillcolor": "grey",
          "opacity": 0.2,
          "type": "rect",
          "x0": "2024-04-06",
          "x1": "2024-04-08",
          "xref": "x",
          "y0": 0,
          "y1": 1,
          "yref": "y domain"
         },
         {
          "fillcolor": "grey",
          "opacity": 0.2,
          "type": "rect",
          "x0": "2024-04-10",
          "x1": "2024-04-12",
          "xref": "x",
          "y0": 0,
          "y1": 1,
          "yref": "y domain"
         },
         {
          "fillcolor": "grey",
          "opacity": 0.2,
          "type": "rect",
          "x0": "2024-04-13",
          "x1": "2024-04-15",
          "xref": "x",
          "y0": 0,
          "y1": 1,
          "yref": "y domain"
         },
         {
          "fillcolor": "grey",
          "opacity": 0.2,
          "type": "rect",
          "x0": "2024-04-20",
          "x1": "2024-04-22",
          "xref": "x",
          "y0": 0,
          "y1": 1,
          "yref": "y domain"
         },
         {
          "fillcolor": "grey",
          "opacity": 0.2,
          "type": "rect",
          "x0": "2024-04-27",
          "x1": "2024-04-29",
          "xref": "x",
          "y0": 0,
          "y1": 1,
          "yref": "y domain"
         },
         {
          "fillcolor": "grey",
          "opacity": 0.2,
          "type": "rect",
          "x0": "2024-05-04",
          "x1": "2024-05-06",
          "xref": "x",
          "y0": 0,
          "y1": 1,
          "yref": "y domain"
         }
        ],
        "template": {
         "data": {
          "bar": [
           {
            "error_x": {
             "color": "#2a3f5f"
            },
            "error_y": {
             "color": "#2a3f5f"
            },
            "marker": {
             "line": {
              "color": "#E5ECF6",
              "width": 0.5
             },
             "pattern": {
              "fillmode": "overlay",
              "size": 10,
              "solidity": 0.2
             }
            },
            "type": "bar"
           }
          ],
          "barpolar": [
           {
            "marker": {
             "line": {
              "color": "#E5ECF6",
              "width": 0.5
             },
             "pattern": {
              "fillmode": "overlay",
              "size": 10,
              "solidity": 0.2
             }
            },
            "type": "barpolar"
           }
          ],
          "carpet": [
           {
            "aaxis": {
             "endlinecolor": "#2a3f5f",
             "gridcolor": "white",
             "linecolor": "white",
             "minorgridcolor": "white",
             "startlinecolor": "#2a3f5f"
            },
            "baxis": {
             "endlinecolor": "#2a3f5f",
             "gridcolor": "white",
             "linecolor": "white",
             "minorgridcolor": "white",
             "startlinecolor": "#2a3f5f"
            },
            "type": "carpet"
           }
          ],
          "choropleth": [
           {
            "colorbar": {
             "outlinewidth": 0,
             "ticks": ""
            },
            "type": "choropleth"
           }
          ],
          "contour": [
           {
            "colorbar": {
             "outlinewidth": 0,
             "ticks": ""
            },
            "colorscale": [
             [
              0,
              "#0d0887"
             ],
             [
              0.1111111111111111,
              "#46039f"
             ],
             [
              0.2222222222222222,
              "#7201a8"
             ],
             [
              0.3333333333333333,
              "#9c179e"
             ],
             [
              0.4444444444444444,
              "#bd3786"
             ],
             [
              0.5555555555555556,
              "#d8576b"
             ],
             [
              0.6666666666666666,
              "#ed7953"
             ],
             [
              0.7777777777777778,
              "#fb9f3a"
             ],
             [
              0.8888888888888888,
              "#fdca26"
             ],
             [
              1,
              "#f0f921"
             ]
            ],
            "type": "contour"
           }
          ],
          "contourcarpet": [
           {
            "colorbar": {
             "outlinewidth": 0,
             "ticks": ""
            },
            "type": "contourcarpet"
           }
          ],
          "heatmap": [
           {
            "colorbar": {
             "outlinewidth": 0,
             "ticks": ""
            },
            "colorscale": [
             [
              0,
              "#0d0887"
             ],
             [
              0.1111111111111111,
              "#46039f"
             ],
             [
              0.2222222222222222,
              "#7201a8"
             ],
             [
              0.3333333333333333,
              "#9c179e"
             ],
             [
              0.4444444444444444,
              "#bd3786"
             ],
             [
              0.5555555555555556,
              "#d8576b"
             ],
             [
              0.6666666666666666,
              "#ed7953"
             ],
             [
              0.7777777777777778,
              "#fb9f3a"
             ],
             [
              0.8888888888888888,
              "#fdca26"
             ],
             [
              1,
              "#f0f921"
             ]
            ],
            "type": "heatmap"
           }
          ],
          "histogram": [
           {
            "marker": {
             "pattern": {
              "fillmode": "overlay",
              "size": 10,
              "solidity": 0.2
             }
            },
            "type": "histogram"
           }
          ],
          "histogram2d": [
           {
            "colorbar": {
             "outlinewidth": 0,
             "ticks": ""
            },
            "colorscale": [
             [
              0,
              "#0d0887"
             ],
             [
              0.1111111111111111,
              "#46039f"
             ],
             [
              0.2222222222222222,
              "#7201a8"
             ],
             [
              0.3333333333333333,
              "#9c179e"
             ],
             [
              0.4444444444444444,
              "#bd3786"
             ],
             [
              0.5555555555555556,
              "#d8576b"
             ],
             [
              0.6666666666666666,
              "#ed7953"
             ],
             [
              0.7777777777777778,
              "#fb9f3a"
             ],
             [
              0.8888888888888888,
              "#fdca26"
             ],
             [
              1,
              "#f0f921"
             ]
            ],
            "type": "histogram2d"
           }
          ],
          "histogram2dcontour": [
           {
            "colorbar": {
             "outlinewidth": 0,
             "ticks": ""
            },
            "colorscale": [
             [
              0,
              "#0d0887"
             ],
             [
              0.1111111111111111,
              "#46039f"
             ],
             [
              0.2222222222222222,
              "#7201a8"
             ],
             [
              0.3333333333333333,
              "#9c179e"
             ],
             [
              0.4444444444444444,
              "#bd3786"
             ],
             [
              0.5555555555555556,
              "#d8576b"
             ],
             [
              0.6666666666666666,
              "#ed7953"
             ],
             [
              0.7777777777777778,
              "#fb9f3a"
             ],
             [
              0.8888888888888888,
              "#fdca26"
             ],
             [
              1,
              "#f0f921"
             ]
            ],
            "type": "histogram2dcontour"
           }
          ],
          "mesh3d": [
           {
            "colorbar": {
             "outlinewidth": 0,
             "ticks": ""
            },
            "type": "mesh3d"
           }
          ],
          "parcoords": [
           {
            "line": {
             "colorbar": {
              "outlinewidth": 0,
              "ticks": ""
             }
            },
            "type": "parcoords"
           }
          ],
          "pie": [
           {
            "automargin": true,
            "type": "pie"
           }
          ],
          "scatter": [
           {
            "fillpattern": {
             "fillmode": "overlay",
             "size": 10,
             "solidity": 0.2
            },
            "type": "scatter"
           }
          ],
          "scatter3d": [
           {
            "line": {
             "colorbar": {
              "outlinewidth": 0,
              "ticks": ""
             }
            },
            "marker": {
             "colorbar": {
              "outlinewidth": 0,
              "ticks": ""
             }
            },
            "type": "scatter3d"
           }
          ],
          "scattercarpet": [
           {
            "marker": {
             "colorbar": {
              "outlinewidth": 0,
              "ticks": ""
             }
            },
            "type": "scattercarpet"
           }
          ],
          "scattergeo": [
           {
            "marker": {
             "colorbar": {
              "outlinewidth": 0,
              "ticks": ""
             }
            },
            "type": "scattergeo"
           }
          ],
          "scattergl": [
           {
            "marker": {
             "colorbar": {
              "outlinewidth": 0,
              "ticks": ""
             }
            },
            "type": "scattergl"
           }
          ],
          "scattermap": [
           {
            "marker": {
             "colorbar": {
              "outlinewidth": 0,
              "ticks": ""
             }
            },
            "type": "scattermap"
           }
          ],
          "scattermapbox": [
           {
            "marker": {
             "colorbar": {
              "outlinewidth": 0,
              "ticks": ""
             }
            },
            "type": "scattermapbox"
           }
          ],
          "scatterpolar": [
           {
            "marker": {
             "colorbar": {
              "outlinewidth": 0,
              "ticks": ""
             }
            },
            "type": "scatterpolar"
           }
          ],
          "scatterpolargl": [
           {
            "marker": {
             "colorbar": {
              "outlinewidth": 0,
              "ticks": ""
             }
            },
            "type": "scatterpolargl"
           }
          ],
          "scatterternary": [
           {
            "marker": {
             "colorbar": {
              "outlinewidth": 0,
              "ticks": ""
             }
            },
            "type": "scatterternary"
           }
          ],
          "surface": [
           {
            "colorbar": {
             "outlinewidth": 0,
             "ticks": ""
            },
            "colorscale": [
             [
              0,
              "#0d0887"
             ],
             [
              0.1111111111111111,
              "#46039f"
             ],
             [
              0.2222222222222222,
              "#7201a8"
             ],
             [
              0.3333333333333333,
              "#9c179e"
             ],
             [
              0.4444444444444444,
              "#bd3786"
             ],
             [
              0.5555555555555556,
              "#d8576b"
             ],
             [
              0.6666666666666666,
              "#ed7953"
             ],
             [
              0.7777777777777778,
              "#fb9f3a"
             ],
             [
              0.8888888888888888,
              "#fdca26"
             ],
             [
              1,
              "#f0f921"
             ]
            ],
            "type": "surface"
           }
          ],
          "table": [
           {
            "cells": {
             "fill": {
              "color": "#EBF0F8"
             },
             "line": {
              "color": "white"
             }
            },
            "header": {
             "fill": {
              "color": "#C8D4E3"
             },
             "line": {
              "color": "white"
             }
            },
            "type": "table"
           }
          ]
         },
         "layout": {
          "annotationdefaults": {
           "arrowcolor": "#2a3f5f",
           "arrowhead": 0,
           "arrowwidth": 1
          },
          "autotypenumbers": "strict",
          "coloraxis": {
           "colorbar": {
            "outlinewidth": 0,
            "ticks": ""
           }
          },
          "colorscale": {
           "diverging": [
            [
             0,
             "#8e0152"
            ],
            [
             0.1,
             "#c51b7d"
            ],
            [
             0.2,
             "#de77ae"
            ],
            [
             0.3,
             "#f1b6da"
            ],
            [
             0.4,
             "#fde0ef"
            ],
            [
             0.5,
             "#f7f7f7"
            ],
            [
             0.6,
             "#e6f5d0"
            ],
            [
             0.7,
             "#b8e186"
            ],
            [
             0.8,
             "#7fbc41"
            ],
            [
             0.9,
             "#4d9221"
            ],
            [
             1,
             "#276419"
            ]
           ],
           "sequential": [
            [
             0,
             "#0d0887"
            ],
            [
             0.1111111111111111,
             "#46039f"
            ],
            [
             0.2222222222222222,
             "#7201a8"
            ],
            [
             0.3333333333333333,
             "#9c179e"
            ],
            [
             0.4444444444444444,
             "#bd3786"
            ],
            [
             0.5555555555555556,
             "#d8576b"
            ],
            [
             0.6666666666666666,
             "#ed7953"
            ],
            [
             0.7777777777777778,
             "#fb9f3a"
            ],
            [
             0.8888888888888888,
             "#fdca26"
            ],
            [
             1,
             "#f0f921"
            ]
           ],
           "sequentialminus": [
            [
             0,
             "#0d0887"
            ],
            [
             0.1111111111111111,
             "#46039f"
            ],
            [
             0.2222222222222222,
             "#7201a8"
            ],
            [
             0.3333333333333333,
             "#9c179e"
            ],
            [
             0.4444444444444444,
             "#bd3786"
            ],
            [
             0.5555555555555556,
             "#d8576b"
            ],
            [
             0.6666666666666666,
             "#ed7953"
            ],
            [
             0.7777777777777778,
             "#fb9f3a"
            ],
            [
             0.8888888888888888,
             "#fdca26"
            ],
            [
             1,
             "#f0f921"
            ]
           ]
          },
          "colorway": [
           "#636efa",
           "#EF553B",
           "#00cc96",
           "#ab63fa",
           "#FFA15A",
           "#19d3f3",
           "#FF6692",
           "#B6E880",
           "#FF97FF",
           "#FECB52"
          ],
          "font": {
           "color": "#2a3f5f"
          },
          "geo": {
           "bgcolor": "white",
           "lakecolor": "white",
           "landcolor": "#E5ECF6",
           "showlakes": true,
           "showland": true,
           "subunitcolor": "white"
          },
          "hoverlabel": {
           "align": "left"
          },
          "hovermode": "closest",
          "mapbox": {
           "style": "light"
          },
          "paper_bgcolor": "white",
          "plot_bgcolor": "#E5ECF6",
          "polar": {
           "angularaxis": {
            "gridcolor": "white",
            "linecolor": "white",
            "ticks": ""
           },
           "bgcolor": "#E5ECF6",
           "radialaxis": {
            "gridcolor": "white",
            "linecolor": "white",
            "ticks": ""
           }
          },
          "scene": {
           "xaxis": {
            "backgroundcolor": "#E5ECF6",
            "gridcolor": "white",
            "gridwidth": 2,
            "linecolor": "white",
            "showbackground": true,
            "ticks": "",
            "zerolinecolor": "white"
           },
           "yaxis": {
            "backgroundcolor": "#E5ECF6",
            "gridcolor": "white",
            "gridwidth": 2,
            "linecolor": "white",
            "showbackground": true,
            "ticks": "",
            "zerolinecolor": "white"
           },
           "zaxis": {
            "backgroundcolor": "#E5ECF6",
            "gridcolor": "white",
            "gridwidth": 2,
            "linecolor": "white",
            "showbackground": true,
            "ticks": "",
            "zerolinecolor": "white"
           }
          },
          "shapedefaults": {
           "line": {
            "color": "#2a3f5f"
           }
          },
          "ternary": {
           "aaxis": {
            "gridcolor": "white",
            "linecolor": "white",
            "ticks": ""
           },
           "baxis": {
            "gridcolor": "white",
            "linecolor": "white",
            "ticks": ""
           },
           "bgcolor": "#E5ECF6",
           "caxis": {
            "gridcolor": "white",
            "linecolor": "white",
            "ticks": ""
           }
          },
          "title": {
           "x": 0.05
          },
          "xaxis": {
           "automargin": true,
           "gridcolor": "white",
           "linecolor": "white",
           "ticks": "",
           "title": {
            "standoff": 15
           },
           "zerolinecolor": "white",
           "zerolinewidth": 2
          },
          "yaxis": {
           "automargin": true,
           "gridcolor": "white",
           "linecolor": "white",
           "ticks": "",
           "title": {
            "standoff": 15
           },
           "zerolinecolor": "white",
           "zerolinewidth": 2
          }
         }
        },
        "title": {
         "text": "Gantt Chart Track Progress Health Check as of Monday, 22-April-2024 EOD"
        },
        "xaxis": {
         "anchor": "y",
         "domain": [
          0,
          1
         ],
         "type": "date"
        },
        "yaxis": {
         "anchor": "x",
         "autorange": "reversed",
         "domain": [
          0,
          1
         ],
         "title": {
          "text": "Track"
         }
        }
       }
      },
      "image/png": "[encoded data removed]"
     },
     "metadata": {},
     "output_type": "display_data"
    }
   ],
   "source": [
    "### date_progress\n",
    "import plotly.express as px\n",
    "import plotly.graph_objects as go\n",
    "import pandas as pd\n",
    "import datetime as dt\n",
    "import calendar\n",
    "\n",
    "\n",
    "# dataframe_name = '29-April-2024_Progress' # Change date here \n",
    "# get_date_re = re.search(pattern=r'(.*)_Progress$', string=dataframe_name)\n",
    "# datetime_value = dt.datetime.strptime(get_date_re.group(1), '%d-%B-%Y')\n",
    "# dayofweek = datetime_value.strftime('%A')\n",
    "\n",
    "############################## START of DATA PREP ##########################\n",
    "date_name = '22-April-2024' # Change date here use date >= 18th April\n",
    "datetime_value = dt.datetime.strptime(date_name, '%d-%B-%Y')\n",
    "dayofweek = datetime_value.strftime('%A')\n",
    "\n",
    "TC_review = pd.read_excel(r'.\\TC Review Data\\Tally.xlsx') # Hardcoded file - can make this dynamic later\n",
    "# Strip merge columns so the joins are aligned\n",
    "dfs[f'{date_name}_TC_breakdown']['Tracks'] = dfs[f'{date_name}_TC_breakdown']['Tracks'].str.strip()\n",
    "TC_review['Track_Short'] = TC_review['Track_Short'].str.strip()\n",
    "\n",
    "# We are adding our TC review data\n",
    "inner_1 = pd.merge(left=dfs[f'{date_name}_TC_breakdown'], right=TC_review, left_on='Tracks', right_on='Track_Short', how='inner')\n",
    "inner_2 = pd.merge(left=dfs[f'{date_name}_TC_breakdown'], right=TC_review, left_on='Tracks', right_on='Track_Long', how='inner')\n",
    "\n",
    "combined_df = pd.concat([inner_1, inner_2], axis=0, ignore_index=True)\n",
    "combined_df.drop_duplicates(subset=['Tracks'], keep='first', inplace=True)\n",
    "\n",
    "# Strip merge columns so the joins are aligned\n",
    "combined_df['Track_Long'] = combined_df['Track_Long'] .str.strip()\n",
    "dfs[f'{date_name}_Progress']['Track'] = dfs[f'{date_name}_Progress']['Track'].str.strip()\n",
    "\n",
    "# Combine with the progress data\n",
    "my_merge_2 = pd.merge(left=combined_df, right=dfs[f'{date_name}_Progress'],\\\n",
    "                      left_on='Track_Long', right_on='Track', how='outer') # inner, outer yields the same result.\n",
    "\n",
    "# Insert \n",
    "my_merge_2.insert(loc=my_merge_2.columns.get_loc('Tickets Done')+1,\n",
    "                  column='Percentage Reviewed',\n",
    "                  value=round(my_merge_2['Tickets Done']/my_merge_2['Total TC']*100,2))\n",
    "\n",
    "# Must ensure Track is non-null\n",
    "my_merge_2.dropna(axis='index', subset=['Track'], inplace=True, ignore_index=True)\n",
    "############################## END of DATA PREP ##########################\n",
    "\n",
    "fig = px.timeline(my_merge_2, x_start=\"Start Date\", x_end=\"End Date\", y=\"Track\",\\\n",
    "                  text=\"Actual Completion (%)\", opacity=0.7,\n",
    "                  color_discrete_sequence=px.colors.qualitative.G10,\n",
    "                  # color=\"Remark\",\n",
    "                  title=f'Gantt Chart Track Progress Health Check as of {dayofweek}, {date_name} EOD',\n",
    "                  hover_name='Track',\n",
    "                  hover_data={\n",
    "                              'Remark':False,\n",
    "                              'Track':False,\n",
    "                              'Percentage Reviewed':':.1f'\n",
    "                  }\n",
    "                  )\n",
    "                   \n",
    "# Add bars to represent progress from CV - traffic lights\n",
    "progress_bars = []\n",
    "for index, row in my_merge_2.to_dict(orient='index').items():\n",
    "    if pd.isna(row['Actual Completion (%)']):\n",
    "        continue\n",
    "    else:\n",
    "        progress_bar = dict(type='rect',\n",
    "                        xref='x',\n",
    "                        yref='y',\n",
    "                        x0=row['Start Date'],\n",
    "                        x1=row['Start Date'] + pd.to_timedelta(row['Actual Completion (%)']/100 * (row['End Date']-row['Start Date'])),\n",
    "                        y0=index-0.4,\n",
    "                        y1=index+0.4,\n",
    "                        line=dict(color='green', width=0),\n",
    "                        fillcolor=interpolate_color(value=row['Actual Completion (%)'], range_color=[0,100], color_continuous_scale=[(0, \"red\"), (0.5, \"orange\"), (1, \"green\")]),\n",
    "                        opacity=0.6)\n",
    "    fig.add_shape(progress_bar)\n",
    "\n",
    "# Add bars to show TC_review progress - purple\n",
    "review_bars = []\n",
    "for index, row in my_merge_2.to_dict(orient='index').items():\n",
    "    if pd.isna(row['Total Executed']):\n",
    "        continue\n",
    "    else:\n",
    "        review_bar =  dict(type='rect',\n",
    "                            xref='x',\n",
    "                            yref='y',\n",
    "                            x0=row['Start Date'],\n",
    "                            x1=row['Start Date'] + pd.to_timedelta(row['Percentage Reviewed']/100 * (row['End Date']-row['Start Date'])),\n",
    "                            y0=index-0.4,\n",
    "                            y1=index+0.4,\n",
    "                            line=dict(color='purple', width=0),\n",
    "                            fillcolor='purple',\n",
    "                            opacity=0.9)\n",
    "    fig.add_shape(review_bar)\n",
    "data = []\n",
    "\n",
    "## --------------Defining the present------------------\n",
    "fig.add_vline(x=dt.datetime.strptime(date_name, '%d-%B-%Y') + dt.timedelta(days=1),\\\n",
    "              line_width=3, line_dash=\"dash\", line_color='maroon')\n",
    "# Alternatively\n",
    "# fig.add_vline(x=dt.datetime.today(), line_width=3, line_dash='dash', line_color='maroon')\n",
    "#---------------Defining the present------------------\n",
    "\n",
    "fig.add_vrect(x0=dt.date(2024, 4, 6), x1=dt.date(2024, 4, 8), opacity=0.2, fillcolor='grey')\n",
    "fig.add_vrect(x0=dt.date(2024, 4, 10), x1=dt.date(2024, 4, 12), opacity=0.2, fillcolor='grey')\n",
    "fig.add_vrect(x0=dt.date(2024, 4, 13), x1=dt.date(2024, 4, 15), opacity=0.2, fillcolor='grey')\n",
    "fig.add_vrect(x0=dt.date(2024, 4, 20), x1=dt.date(2024, 4, 22), opacity=0.2, fillcolor='grey')\n",
    "fig.add_vrect(x0=dt.date(2024, 4, 27), x1=dt.date(2024, 4, 29), opacity=0.2, fillcolor='grey')\n",
    "fig.add_vrect(x0=dt.date(2024, 5, 4), x1=dt.date(2024, 5, 6), opacity=0.2, fillcolor='grey')\n",
    "\n",
    "# Don't need fig.update_layout because already using fig.add_shape()\n",
    "# fig.update_layout(xaxis_title=\"Timeline\", yaxis_title='Tasks')\n",
    "fig.update_yaxes(autorange=\"reversed\")\n",
    "\n",
    "fig.show()"
   ]
  },
  {
   "cell_type": "markdown",
   "id": "0504e8dd-57ad-4358-8917-9642aa214278",
   "metadata": {},
   "source": [
    "## Appendix"
   ]
  },
  {
   "cell_type": "code",
   "execution_count": 82,
   "id": "d70929f9-a72e-4aa0-a9b8-fe9071f4b767",
   "metadata": {},
   "outputs": [
    {
     "data": {
      "text/html": [
       "        <script type=\"text/javascript\">\n",
       "        window.PlotlyConfig = {MathJaxConfig: 'local'};\n",
       "        if (window.MathJax && window.MathJax.Hub && window.MathJax.Hub.Config) {window.MathJax.Hub.Config({SVG: {font: \"STIX-Web\"}});}\n",
       "        </script>\n",
       "        <script type=\"module\">import \"https://cdn.plot.ly/plotly-3.0.1.min\"</script>\n",
       "        "
      ]
     },
     "metadata": {},
     "output_type": "display_data"
    },
    {
     "data": {
      "application/vnd.plotly.v1+json": {
       "config": {
        "linkText": "Export to plot.ly",
        "plotlyServerURL": "https://plot.ly",
        "showLink": false
       },
       "data": [
        {
         "legendgroup": "stock",
         "name": "AAPL",
         "type": "scatter",
         "x": [
          "2018-01-01T00:00:00.000000000",
          "2018-01-02T00:00:00.000000000",
          "2018-01-03T00:00:00.000000000",
          "2018-01-04T00:00:00.000000000",
          "2018-01-05T00:00:00.000000000"
         ],
         "y": {
          "bdata": "ZAB4AIIAeACWAA==",
          "dtype": "i2"
         }
        },
        {
         "hoverinfo": "text",
         "legendgroup": "Buy",
         "marker": {
          "color": "green",
          "size": 10
         },
         "mode": "markers",
         "name": "Buy",
         "showlegend": false,
         "text": [
          "Amount 2"
         ],
         "type": "scatter",
         "x": [
          "2018-01-02T00:00:00.000000000"
         ],
         "y": {
          "bdata": "eA==",
          "dtype": "i1"
         }
        },
        {
         "hoverinfo": "text",
         "legendgroup": "Sell",
         "marker": {
          "color": "red",
          "size": 10
         },
         "mode": "markers",
         "name": "Sell",
         "showlegend": false,
         "text": [
          "Amount 1"
         ],
         "type": "scatter",
         "x": [
          "2018-01-05T00:00:00.000000000"
         ],
         "y": {
          "bdata": "lgA=",
          "dtype": "i2"
         }
        },
        {
         "legendgroup": "stock",
         "name": "MSFT",
         "type": "scatter",
         "x": [
          "2018-01-01T00:00:00.000000000",
          "2018-01-02T00:00:00.000000000",
          "2018-01-03T00:00:00.000000000",
          "2018-01-04T00:00:00.000000000",
          "2018-01-05T00:00:00.000000000"
         ],
         "y": {
          "bdata": "UEZaZGM=",
          "dtype": "i1"
         }
        },
        {
         "hoverinfo": "text",
         "legendgroup": "Buy",
         "marker": {
          "color": "green",
          "size": 10
         },
         "mode": "markers",
         "name": "Buy",
         "showlegend": false,
         "text": [
          "Amount 3"
         ],
         "type": "scatter",
         "x": [
          "2018-01-02T00:00:00.000000000"
         ],
         "y": {
          "bdata": "Rg==",
          "dtype": "i1"
         }
        },
        {
         "hoverinfo": "text",
         "legendgroup": "Sell",
         "marker": {
          "color": "red",
          "size": 10
         },
         "mode": "markers",
         "name": "Sell",
         "showlegend": false,
         "text": [
          "Amount 1"
         ],
         "type": "scatter",
         "x": [
          "2018-01-04T00:00:00.000000000"
         ],
         "y": {
          "bdata": "ZA==",
          "dtype": "i1"
         }
        },
        {
         "legendgroup": "Buy",
         "marker": {
          "color": "green",
          "size": 10
         },
         "mode": "markers",
         "name": "Buy",
         "showlegend": true,
         "type": "scatter",
         "x": [
          null
         ],
         "y": [
          null
         ]
        },
        {
         "legendgroup": "Sell",
         "marker": {
          "color": "red",
          "size": 10
         },
         "mode": "markers",
         "name": "Sell",
         "showlegend": true,
         "type": "scatter",
         "x": [
          null
         ],
         "y": [
          null
         ]
        }
       ],
       "layout": {
        "showlegend": true,
        "template": {
         "data": {
          "bar": [
           {
            "error_x": {
             "color": "#2a3f5f"
            },
            "error_y": {
             "color": "#2a3f5f"
            },
            "marker": {
             "line": {
              "color": "#E5ECF6",
              "width": 0.5
             },
             "pattern": {
              "fillmode": "overlay",
              "size": 10,
              "solidity": 0.2
             }
            },
            "type": "bar"
           }
          ],
          "barpolar": [
           {
            "marker": {
             "line": {
              "color": "#E5ECF6",
              "width": 0.5
             },
             "pattern": {
              "fillmode": "overlay",
              "size": 10,
              "solidity": 0.2
             }
            },
            "type": "barpolar"
           }
          ],
          "carpet": [
           {
            "aaxis": {
             "endlinecolor": "#2a3f5f",
             "gridcolor": "white",
             "linecolor": "white",
             "minorgridcolor": "white",
             "startlinecolor": "#2a3f5f"
            },
            "baxis": {
             "endlinecolor": "#2a3f5f",
             "gridcolor": "white",
             "linecolor": "white",
             "minorgridcolor": "white",
             "startlinecolor": "#2a3f5f"
            },
            "type": "carpet"
           }
          ],
          "choropleth": [
           {
            "colorbar": {
             "outlinewidth": 0,
             "ticks": ""
            },
            "type": "choropleth"
           }
          ],
          "contour": [
           {
            "colorbar": {
             "outlinewidth": 0,
             "ticks": ""
            },
            "colorscale": [
             [
              0,
              "#0d0887"
             ],
             [
              0.1111111111111111,
              "#46039f"
             ],
             [
              0.2222222222222222,
              "#7201a8"
             ],
             [
              0.3333333333333333,
              "#9c179e"
             ],
             [
              0.4444444444444444,
              "#bd3786"
             ],
             [
              0.5555555555555556,
              "#d8576b"
             ],
             [
              0.6666666666666666,
              "#ed7953"
             ],
             [
              0.7777777777777778,
              "#fb9f3a"
             ],
             [
              0.8888888888888888,
              "#fdca26"
             ],
             [
              1,
              "#f0f921"
             ]
            ],
            "type": "contour"
           }
          ],
          "contourcarpet": [
           {
            "colorbar": {
             "outlinewidth": 0,
             "ticks": ""
            },
            "type": "contourcarpet"
           }
          ],
          "heatmap": [
           {
            "colorbar": {
             "outlinewidth": 0,
             "ticks": ""
            },
            "colorscale": [
             [
              0,
              "#0d0887"
             ],
             [
              0.1111111111111111,
              "#46039f"
             ],
             [
              0.2222222222222222,
              "#7201a8"
             ],
             [
              0.3333333333333333,
              "#9c179e"
             ],
             [
              0.4444444444444444,
              "#bd3786"
             ],
             [
              0.5555555555555556,
              "#d8576b"
             ],
             [
              0.6666666666666666,
              "#ed7953"
             ],
             [
              0.7777777777777778,
              "#fb9f3a"
             ],
             [
              0.8888888888888888,
              "#fdca26"
             ],
             [
              1,
              "#f0f921"
             ]
            ],
            "type": "heatmap"
           }
          ],
          "histogram": [
           {
            "marker": {
             "pattern": {
              "fillmode": "overlay",
              "size": 10,
              "solidity": 0.2
             }
            },
            "type": "histogram"
           }
          ],
          "histogram2d": [
           {
            "colorbar": {
             "outlinewidth": 0,
             "ticks": ""
            },
            "colorscale": [
             [
              0,
              "#0d0887"
             ],
             [
              0.1111111111111111,
              "#46039f"
             ],
             [
              0.2222222222222222,
              "#7201a8"
             ],
             [
              0.3333333333333333,
              "#9c179e"
             ],
             [
              0.4444444444444444,
              "#bd3786"
             ],
             [
              0.5555555555555556,
              "#d8576b"
             ],
             [
              0.6666666666666666,
              "#ed7953"
             ],
             [
              0.7777777777777778,
              "#fb9f3a"
             ],
             [
              0.8888888888888888,
              "#fdca26"
             ],
             [
              1,
              "#f0f921"
             ]
            ],
            "type": "histogram2d"
           }
          ],
          "histogram2dcontour": [
           {
            "colorbar": {
             "outlinewidth": 0,
             "ticks": ""
            },
            "colorscale": [
             [
              0,
              "#0d0887"
             ],
             [
              0.1111111111111111,
              "#46039f"
             ],
             [
              0.2222222222222222,
              "#7201a8"
             ],
             [
              0.3333333333333333,
              "#9c179e"
             ],
             [
              0.4444444444444444,
              "#bd3786"
             ],
             [
              0.5555555555555556,
              "#d8576b"
             ],
             [
              0.6666666666666666,
              "#ed7953"
             ],
             [
              0.7777777777777778,
              "#fb9f3a"
             ],
             [
              0.8888888888888888,
              "#fdca26"
             ],
             [
              1,
              "#f0f921"
             ]
            ],
            "type": "histogram2dcontour"
           }
          ],
          "mesh3d": [
           {
            "colorbar": {
             "outlinewidth": 0,
             "ticks": ""
            },
            "type": "mesh3d"
           }
          ],
          "parcoords": [
           {
            "line": {
             "colorbar": {
              "outlinewidth": 0,
              "ticks": ""
             }
            },
            "type": "parcoords"
           }
          ],
          "pie": [
           {
            "automargin": true,
            "type": "pie"
           }
          ],
          "scatter": [
           {
            "fillpattern": {
             "fillmode": "overlay",
             "size": 10,
             "solidity": 0.2
            },
            "type": "scatter"
           }
          ],
          "scatter3d": [
           {
            "line": {
             "colorbar": {
              "outlinewidth": 0,
              "ticks": ""
             }
            },
            "marker": {
             "colorbar": {
              "outlinewidth": 0,
              "ticks": ""
             }
            },
            "type": "scatter3d"
           }
          ],
          "scattercarpet": [
           {
            "marker": {
             "colorbar": {
              "outlinewidth": 0,
              "ticks": ""
             }
            },
            "type": "scattercarpet"
           }
          ],
          "scattergeo": [
           {
            "marker": {
             "colorbar": {
              "outlinewidth": 0,
              "ticks": ""
             }
            },
            "type": "scattergeo"
           }
          ],
          "scattergl": [
           {
            "marker": {
             "colorbar": {
              "outlinewidth": 0,
              "ticks": ""
             }
            },
            "type": "scattergl"
           }
          ],
          "scattermap": [
           {
            "marker": {
             "colorbar": {
              "outlinewidth": 0,
              "ticks": ""
             }
            },
            "type": "scattermap"
           }
          ],
          "scattermapbox": [
           {
            "marker": {
             "colorbar": {
              "outlinewidth": 0,
              "ticks": ""
             }
            },
            "type": "scattermapbox"
           }
          ],
          "scatterpolar": [
           {
            "marker": {
             "colorbar": {
              "outlinewidth": 0,
              "ticks": ""
             }
            },
            "type": "scatterpolar"
           }
          ],
          "scatterpolargl": [
           {
            "marker": {
             "colorbar": {
              "outlinewidth": 0,
              "ticks": ""
             }
            },
            "type": "scatterpolargl"
           }
          ],
          "scatterternary": [
           {
            "marker": {
             "colorbar": {
              "outlinewidth": 0,
              "ticks": ""
             }
            },
            "type": "scatterternary"
           }
          ],
          "surface": [
           {
            "colorbar": {
             "outlinewidth": 0,
             "ticks": ""
            },
            "colorscale": [
             [
              0,
              "#0d0887"
             ],
             [
              0.1111111111111111,
              "#46039f"
             ],
             [
              0.2222222222222222,
              "#7201a8"
             ],
             [
              0.3333333333333333,
              "#9c179e"
             ],
             [
              0.4444444444444444,
              "#bd3786"
             ],
             [
              0.5555555555555556,
              "#d8576b"
             ],
             [
              0.6666666666666666,
              "#ed7953"
             ],
             [
              0.7777777777777778,
              "#fb9f3a"
             ],
             [
              0.8888888888888888,
              "#fdca26"
             ],
             [
              1,
              "#f0f921"
             ]
            ],
            "type": "surface"
           }
          ],
          "table": [
           {
            "cells": {
             "fill": {
              "color": "#EBF0F8"
             },
             "line": {
              "color": "white"
             }
            },
            "header": {
             "fill": {
              "color": "#C8D4E3"
             },
             "line": {
              "color": "white"
             }
            },
            "type": "table"
           }
          ]
         },
         "layout": {
          "annotationdefaults": {
           "arrowcolor": "#2a3f5f",
           "arrowhead": 0,
           "arrowwidth": 1
          },
          "autotypenumbers": "strict",
          "coloraxis": {
           "colorbar": {
            "outlinewidth": 0,
            "ticks": ""
           }
          },
          "colorscale": {
           "diverging": [
            [
             0,
             "#8e0152"
            ],
            [
             0.1,
             "#c51b7d"
            ],
            [
             0.2,
             "#de77ae"
            ],
            [
             0.3,
             "#f1b6da"
            ],
            [
             0.4,
             "#fde0ef"
            ],
            [
             0.5,
             "#f7f7f7"
            ],
            [
             0.6,
             "#e6f5d0"
            ],
            [
             0.7,
             "#b8e186"
            ],
            [
             0.8,
             "#7fbc41"
            ],
            [
             0.9,
             "#4d9221"
            ],
            [
             1,
             "#276419"
            ]
           ],
           "sequential": [
            [
             0,
             "#0d0887"
            ],
            [
             0.1111111111111111,
             "#46039f"
            ],
            [
             0.2222222222222222,
             "#7201a8"
            ],
            [
             0.3333333333333333,
             "#9c179e"
            ],
            [
             0.4444444444444444,
             "#bd3786"
            ],
            [
             0.5555555555555556,
             "#d8576b"
            ],
            [
             0.6666666666666666,
             "#ed7953"
            ],
            [
             0.7777777777777778,
             "#fb9f3a"
            ],
            [
             0.8888888888888888,
             "#fdca26"
            ],
            [
             1,
             "#f0f921"
            ]
           ],
           "sequentialminus": [
            [
             0,
             "#0d0887"
            ],
            [
             0.1111111111111111,
             "#46039f"
            ],
            [
             0.2222222222222222,
             "#7201a8"
            ],
            [
             0.3333333333333333,
             "#9c179e"
            ],
            [
             0.4444444444444444,
             "#bd3786"
            ],
            [
             0.5555555555555556,
             "#d8576b"
            ],
            [
             0.6666666666666666,
             "#ed7953"
            ],
            [
             0.7777777777777778,
             "#fb9f3a"
            ],
            [
             0.8888888888888888,
             "#fdca26"
            ],
            [
             1,
             "#f0f921"
            ]
           ]
          },
          "colorway": [
           "#636efa",
           "#EF553B",
           "#00cc96",
           "#ab63fa",
           "#FFA15A",
           "#19d3f3",
           "#FF6692",
           "#B6E880",
           "#FF97FF",
           "#FECB52"
          ],
          "font": {
           "color": "#2a3f5f"
          },
          "geo": {
           "bgcolor": "white",
           "lakecolor": "white",
           "landcolor": "#E5ECF6",
           "showlakes": true,
           "showland": true,
           "subunitcolor": "white"
          },
          "hoverlabel": {
           "align": "left"
          },
          "hovermode": "closest",
          "mapbox": {
           "style": "light"
          },
          "paper_bgcolor": "white",
          "plot_bgcolor": "#E5ECF6",
          "polar": {
           "angularaxis": {
            "gridcolor": "white",
            "linecolor": "white",
            "ticks": ""
           },
           "bgcolor": "#E5ECF6",
           "radialaxis": {
            "gridcolor": "white",
            "linecolor": "white",
            "ticks": ""
           }
          },
          "scene": {
           "xaxis": {
            "backgroundcolor": "#E5ECF6",
            "gridcolor": "white",
            "gridwidth": 2,
            "linecolor": "white",
            "showbackground": true,
            "ticks": "",
            "zerolinecolor": "white"
           },
           "yaxis": {
            "backgroundcolor": "#E5ECF6",
            "gridcolor": "white",
            "gridwidth": 2,
            "linecolor": "white",
            "showbackground": true,
            "ticks": "",
            "zerolinecolor": "white"
           },
           "zaxis": {
            "backgroundcolor": "#E5ECF6",
            "gridcolor": "white",
            "gridwidth": 2,
            "linecolor": "white",
            "showbackground": true,
            "ticks": "",
            "zerolinecolor": "white"
           }
          },
          "shapedefaults": {
           "line": {
            "color": "#2a3f5f"
           }
          },
          "ternary": {
           "aaxis": {
            "gridcolor": "white",
            "linecolor": "white",
            "ticks": ""
           },
           "baxis": {
            "gridcolor": "white",
            "linecolor": "white",
            "ticks": ""
           },
           "bgcolor": "#E5ECF6",
           "caxis": {
            "gridcolor": "white",
            "linecolor": "white",
            "ticks": ""
           }
          },
          "title": {
           "x": 0.05
          },
          "xaxis": {
           "automargin": true,
           "gridcolor": "white",
           "linecolor": "white",
           "ticks": "",
           "title": {
            "standoff": 15
           },
           "zerolinecolor": "white",
           "zerolinewidth": 2
          },
          "yaxis": {
           "automargin": true,
           "gridcolor": "white",
           "linecolor": "white",
           "ticks": "",
           "title": {
            "standoff": 15
           },
           "zerolinecolor": "white",
           "zerolinewidth": 2
          }
         }
        },
        "title": {
         "text": "Feed"
        },
        "updatemenus": [
         {
          "active": -1,
          "buttons": [
           {
            "args": [
             {
              "visible": [
               true
              ]
             },
             {
              "title": "all"
             }
            ],
            "label": "All",
            "method": "update"
           },
           {
            "args": [
             {
              "visible": [
               true,
               true,
               true,
               false,
               false,
               false,
               true,
               true
              ]
             },
             {
              "title": "titleAAPL"
             }
            ],
            "label": "AAPL",
            "method": "update"
           },
           {
            "args": [
             {
              "visible": [
               false,
               false,
               false,
               true,
               true,
               true,
               true,
               true
              ]
             },
             {
              "title": "titleMSFT"
             }
            ],
            "label": "MSFT",
            "method": "update"
           }
          ]
         }
        ]
       }
      },
      "image/png": "[encoded data removed]",
      "text/html": [
       "<div>            <script src=\"https://cdnjs.cloudflare.com/ajax/libs/mathjax/2.7.5/MathJax.js?config=TeX-AMS-MML_SVG\"></script><script type=\"text/javascript\">if (window.MathJax && window.MathJax.Hub && window.MathJax.Hub.Config) {window.MathJax.Hub.Config({SVG: {font: \"STIX-Web\"}});}</script>                <script type=\"text/javascript\">window.PlotlyConfig = {MathJaxConfig: 'local'};</script>\n",
       "        <script charset=\"utf-8\" src=\"https://cdn.plot.ly/plotly-3.0.1.min.js\" integrity=\"sha256-oy6Be7Eh6eiQFs5M7oXuPxxm9qbJXEtTpfSI93dW16Q=\" crossorigin=\"anonymous\"></script>                <div id=\"5fefac4d-c35b-4aa0-b5c2-5b27c3f67350\" class=\"plotly-graph-div\" style=\"height:525px; width:100%;\"></div>            <script type=\"text/javascript\">                window.PLOTLYENV=window.PLOTLYENV || {};                                if (document.getElementById(\"5fefac4d-c35b-4aa0-b5c2-5b27c3f67350\")) {                    Plotly.newPlot(                        \"5fefac4d-c35b-4aa0-b5c2-5b27c3f67350\",                        [{\"legendgroup\":\"stock\",\"name\":\"AAPL\",\"x\":[\"2018-01-01T00:00:00.000000000\",\"2018-01-02T00:00:00.000000000\",\"2018-01-03T00:00:00.000000000\",\"2018-01-04T00:00:00.000000000\",\"2018-01-05T00:00:00.000000000\"],\"y\":{\"dtype\":\"i2\",\"bdata\":\"ZAB4AIIAeACWAA==\"},\"type\":\"scatter\"},{\"hoverinfo\":\"text\",\"legendgroup\":\"Buy\",\"marker\":{\"color\":\"green\",\"size\":10},\"mode\":\"markers\",\"name\":\"Buy\",\"showlegend\":false,\"text\":[\"Amount 2\"],\"x\":[\"2018-01-02T00:00:00.000000000\"],\"y\":{\"dtype\":\"i1\",\"bdata\":\"eA==\"},\"type\":\"scatter\"},{\"hoverinfo\":\"text\",\"legendgroup\":\"Sell\",\"marker\":{\"color\":\"red\",\"size\":10},\"mode\":\"markers\",\"name\":\"Sell\",\"showlegend\":false,\"text\":[\"Amount 1\"],\"x\":[\"2018-01-05T00:00:00.000000000\"],\"y\":{\"dtype\":\"i2\",\"bdata\":\"lgA=\"},\"type\":\"scatter\"},{\"legendgroup\":\"stock\",\"name\":\"MSFT\",\"x\":[\"2018-01-01T00:00:00.000000000\",\"2018-01-02T00:00:00.000000000\",\"2018-01-03T00:00:00.000000000\",\"2018-01-04T00:00:00.000000000\",\"2018-01-05T00:00:00.000000000\"],\"y\":{\"dtype\":\"i1\",\"bdata\":\"UEZaZGM=\"},\"type\":\"scatter\"},{\"hoverinfo\":\"text\",\"legendgroup\":\"Buy\",\"marker\":{\"color\":\"green\",\"size\":10},\"mode\":\"markers\",\"name\":\"Buy\",\"showlegend\":false,\"text\":[\"Amount 3\"],\"x\":[\"2018-01-02T00:00:00.000000000\"],\"y\":{\"dtype\":\"i1\",\"bdata\":\"Rg==\"},\"type\":\"scatter\"},{\"hoverinfo\":\"text\",\"legendgroup\":\"Sell\",\"marker\":{\"color\":\"red\",\"size\":10},\"mode\":\"markers\",\"name\":\"Sell\",\"showlegend\":false,\"text\":[\"Amount 1\"],\"x\":[\"2018-01-04T00:00:00.000000000\"],\"y\":{\"dtype\":\"i1\",\"bdata\":\"ZA==\"},\"type\":\"scatter\"},{\"legendgroup\":\"Buy\",\"marker\":{\"color\":\"green\",\"size\":10},\"mode\":\"markers\",\"name\":\"Buy\",\"showlegend\":true,\"x\":[null],\"y\":[null],\"type\":\"scatter\"},{\"legendgroup\":\"Sell\",\"marker\":{\"color\":\"red\",\"size\":10},\"mode\":\"markers\",\"name\":\"Sell\",\"showlegend\":true,\"x\":[null],\"y\":[null],\"type\":\"scatter\"}],                        {\"showlegend\":true,\"template\":{\"data\":{\"barpolar\":[{\"marker\":{\"line\":{\"color\":\"#E5ECF6\",\"width\":0.5},\"pattern\":{\"fillmode\":\"overlay\",\"size\":10,\"solidity\":0.2}},\"type\":\"barpolar\"}],\"bar\":[{\"error_x\":{\"color\":\"#2a3f5f\"},\"error_y\":{\"color\":\"#2a3f5f\"},\"marker\":{\"line\":{\"color\":\"#E5ECF6\",\"width\":0.5},\"pattern\":{\"fillmode\":\"overlay\",\"size\":10,\"solidity\":0.2}},\"type\":\"bar\"}],\"carpet\":[{\"aaxis\":{\"endlinecolor\":\"#2a3f5f\",\"gridcolor\":\"white\",\"linecolor\":\"white\",\"minorgridcolor\":\"white\",\"startlinecolor\":\"#2a3f5f\"},\"baxis\":{\"endlinecolor\":\"#2a3f5f\",\"gridcolor\":\"white\",\"linecolor\":\"white\",\"minorgridcolor\":\"white\",\"startlinecolor\":\"#2a3f5f\"},\"type\":\"carpet\"}],\"choropleth\":[{\"colorbar\":{\"outlinewidth\":0,\"ticks\":\"\"},\"type\":\"choropleth\"}],\"contourcarpet\":[{\"colorbar\":{\"outlinewidth\":0,\"ticks\":\"\"},\"type\":\"contourcarpet\"}],\"contour\":[{\"colorbar\":{\"outlinewidth\":0,\"ticks\":\"\"},\"colorscale\":[[0.0,\"#0d0887\"],[0.1111111111111111,\"#46039f\"],[0.2222222222222222,\"#7201a8\"],[0.3333333333333333,\"#9c179e\"],[0.4444444444444444,\"#bd3786\"],[0.5555555555555556,\"#d8576b\"],[0.6666666666666666,\"#ed7953\"],[0.7777777777777778,\"#fb9f3a\"],[0.8888888888888888,\"#fdca26\"],[1.0,\"#f0f921\"]],\"type\":\"contour\"}],\"heatmap\":[{\"colorbar\":{\"outlinewidth\":0,\"ticks\":\"\"},\"colorscale\":[[0.0,\"#0d0887\"],[0.1111111111111111,\"#46039f\"],[0.2222222222222222,\"#7201a8\"],[0.3333333333333333,\"#9c179e\"],[0.4444444444444444,\"#bd3786\"],[0.5555555555555556,\"#d8576b\"],[0.6666666666666666,\"#ed7953\"],[0.7777777777777778,\"#fb9f3a\"],[0.8888888888888888,\"#fdca26\"],[1.0,\"#f0f921\"]],\"type\":\"heatmap\"}],\"histogram2dcontour\":[{\"colorbar\":{\"outlinewidth\":0,\"ticks\":\"\"},\"colorscale\":[[0.0,\"#0d0887\"],[0.1111111111111111,\"#46039f\"],[0.2222222222222222,\"#7201a8\"],[0.3333333333333333,\"#9c179e\"],[0.4444444444444444,\"#bd3786\"],[0.5555555555555556,\"#d8576b\"],[0.6666666666666666,\"#ed7953\"],[0.7777777777777778,\"#fb9f3a\"],[0.8888888888888888,\"#fdca26\"],[1.0,\"#f0f921\"]],\"type\":\"histogram2dcontour\"}],\"histogram2d\":[{\"colorbar\":{\"outlinewidth\":0,\"ticks\":\"\"},\"colorscale\":[[0.0,\"#0d0887\"],[0.1111111111111111,\"#46039f\"],[0.2222222222222222,\"#7201a8\"],[0.3333333333333333,\"#9c179e\"],[0.4444444444444444,\"#bd3786\"],[0.5555555555555556,\"#d8576b\"],[0.6666666666666666,\"#ed7953\"],[0.7777777777777778,\"#fb9f3a\"],[0.8888888888888888,\"#fdca26\"],[1.0,\"#f0f921\"]],\"type\":\"histogram2d\"}],\"histogram\":[{\"marker\":{\"pattern\":{\"fillmode\":\"overlay\",\"size\":10,\"solidity\":0.2}},\"type\":\"histogram\"}],\"mesh3d\":[{\"colorbar\":{\"outlinewidth\":0,\"ticks\":\"\"},\"type\":\"mesh3d\"}],\"parcoords\":[{\"line\":{\"colorbar\":{\"outlinewidth\":0,\"ticks\":\"\"}},\"type\":\"parcoords\"}],\"pie\":[{\"automargin\":true,\"type\":\"pie\"}],\"scatter3d\":[{\"line\":{\"colorbar\":{\"outlinewidth\":0,\"ticks\":\"\"}},\"marker\":{\"colorbar\":{\"outlinewidth\":0,\"ticks\":\"\"}},\"type\":\"scatter3d\"}],\"scattercarpet\":[{\"marker\":{\"colorbar\":{\"outlinewidth\":0,\"ticks\":\"\"}},\"type\":\"scattercarpet\"}],\"scattergeo\":[{\"marker\":{\"colorbar\":{\"outlinewidth\":0,\"ticks\":\"\"}},\"type\":\"scattergeo\"}],\"scattergl\":[{\"marker\":{\"colorbar\":{\"outlinewidth\":0,\"ticks\":\"\"}},\"type\":\"scattergl\"}],\"scattermapbox\":[{\"marker\":{\"colorbar\":{\"outlinewidth\":0,\"ticks\":\"\"}},\"type\":\"scattermapbox\"}],\"scattermap\":[{\"marker\":{\"colorbar\":{\"outlinewidth\":0,\"ticks\":\"\"}},\"type\":\"scattermap\"}],\"scatterpolargl\":[{\"marker\":{\"colorbar\":{\"outlinewidth\":0,\"ticks\":\"\"}},\"type\":\"scatterpolargl\"}],\"scatterpolar\":[{\"marker\":{\"colorbar\":{\"outlinewidth\":0,\"ticks\":\"\"}},\"type\":\"scatterpolar\"}],\"scatter\":[{\"fillpattern\":{\"fillmode\":\"overlay\",\"size\":10,\"solidity\":0.2},\"type\":\"scatter\"}],\"scatterternary\":[{\"marker\":{\"colorbar\":{\"outlinewidth\":0,\"ticks\":\"\"}},\"type\":\"scatterternary\"}],\"surface\":[{\"colorbar\":{\"outlinewidth\":0,\"ticks\":\"\"},\"colorscale\":[[0.0,\"#0d0887\"],[0.1111111111111111,\"#46039f\"],[0.2222222222222222,\"#7201a8\"],[0.3333333333333333,\"#9c179e\"],[0.4444444444444444,\"#bd3786\"],[0.5555555555555556,\"#d8576b\"],[0.6666666666666666,\"#ed7953\"],[0.7777777777777778,\"#fb9f3a\"],[0.8888888888888888,\"#fdca26\"],[1.0,\"#f0f921\"]],\"type\":\"surface\"}],\"table\":[{\"cells\":{\"fill\":{\"color\":\"#EBF0F8\"},\"line\":{\"color\":\"white\"}},\"header\":{\"fill\":{\"color\":\"#C8D4E3\"},\"line\":{\"color\":\"white\"}},\"type\":\"table\"}]},\"layout\":{\"annotationdefaults\":{\"arrowcolor\":\"#2a3f5f\",\"arrowhead\":0,\"arrowwidth\":1},\"autotypenumbers\":\"strict\",\"coloraxis\":{\"colorbar\":{\"outlinewidth\":0,\"ticks\":\"\"}},\"colorscale\":{\"diverging\":[[0,\"#8e0152\"],[0.1,\"#c51b7d\"],[0.2,\"#de77ae\"],[0.3,\"#f1b6da\"],[0.4,\"#fde0ef\"],[0.5,\"#f7f7f7\"],[0.6,\"#e6f5d0\"],[0.7,\"#b8e186\"],[0.8,\"#7fbc41\"],[0.9,\"#4d9221\"],[1,\"#276419\"]],\"sequential\":[[0.0,\"#0d0887\"],[0.1111111111111111,\"#46039f\"],[0.2222222222222222,\"#7201a8\"],[0.3333333333333333,\"#9c179e\"],[0.4444444444444444,\"#bd3786\"],[0.5555555555555556,\"#d8576b\"],[0.6666666666666666,\"#ed7953\"],[0.7777777777777778,\"#fb9f3a\"],[0.8888888888888888,\"#fdca26\"],[1.0,\"#f0f921\"]],\"sequentialminus\":[[0.0,\"#0d0887\"],[0.1111111111111111,\"#46039f\"],[0.2222222222222222,\"#7201a8\"],[0.3333333333333333,\"#9c179e\"],[0.4444444444444444,\"#bd3786\"],[0.5555555555555556,\"#d8576b\"],[0.6666666666666666,\"#ed7953\"],[0.7777777777777778,\"#fb9f3a\"],[0.8888888888888888,\"#fdca26\"],[1.0,\"#f0f921\"]]},\"colorway\":[\"#636efa\",\"#EF553B\",\"#00cc96\",\"#ab63fa\",\"#FFA15A\",\"#19d3f3\",\"#FF6692\",\"#B6E880\",\"#FF97FF\",\"#FECB52\"],\"font\":{\"color\":\"#2a3f5f\"},\"geo\":{\"bgcolor\":\"white\",\"lakecolor\":\"white\",\"landcolor\":\"#E5ECF6\",\"showlakes\":true,\"showland\":true,\"subunitcolor\":\"white\"},\"hoverlabel\":{\"align\":\"left\"},\"hovermode\":\"closest\",\"mapbox\":{\"style\":\"light\"},\"paper_bgcolor\":\"white\",\"plot_bgcolor\":\"#E5ECF6\",\"polar\":{\"angularaxis\":{\"gridcolor\":\"white\",\"linecolor\":\"white\",\"ticks\":\"\"},\"bgcolor\":\"#E5ECF6\",\"radialaxis\":{\"gridcolor\":\"white\",\"linecolor\":\"white\",\"ticks\":\"\"}},\"scene\":{\"xaxis\":{\"backgroundcolor\":\"#E5ECF6\",\"gridcolor\":\"white\",\"gridwidth\":2,\"linecolor\":\"white\",\"showbackground\":true,\"ticks\":\"\",\"zerolinecolor\":\"white\"},\"yaxis\":{\"backgroundcolor\":\"#E5ECF6\",\"gridcolor\":\"white\",\"gridwidth\":2,\"linecolor\":\"white\",\"showbackground\":true,\"ticks\":\"\",\"zerolinecolor\":\"white\"},\"zaxis\":{\"backgroundcolor\":\"#E5ECF6\",\"gridcolor\":\"white\",\"gridwidth\":2,\"linecolor\":\"white\",\"showbackground\":true,\"ticks\":\"\",\"zerolinecolor\":\"white\"}},\"shapedefaults\":{\"line\":{\"color\":\"#2a3f5f\"}},\"ternary\":{\"aaxis\":{\"gridcolor\":\"white\",\"linecolor\":\"white\",\"ticks\":\"\"},\"baxis\":{\"gridcolor\":\"white\",\"linecolor\":\"white\",\"ticks\":\"\"},\"bgcolor\":\"#E5ECF6\",\"caxis\":{\"gridcolor\":\"white\",\"linecolor\":\"white\",\"ticks\":\"\"}},\"title\":{\"x\":0.05},\"xaxis\":{\"automargin\":true,\"gridcolor\":\"white\",\"linecolor\":\"white\",\"ticks\":\"\",\"title\":{\"standoff\":15},\"zerolinecolor\":\"white\",\"zerolinewidth\":2},\"yaxis\":{\"automargin\":true,\"gridcolor\":\"white\",\"linecolor\":\"white\",\"ticks\":\"\",\"title\":{\"standoff\":15},\"zerolinecolor\":\"white\",\"zerolinewidth\":2}}},\"title\":{\"text\":\"Feed\"},\"updatemenus\":[{\"active\":-1,\"buttons\":[{\"args\":[{\"visible\":[true]},{\"title\":\"all\"}],\"label\":\"All\",\"method\":\"update\"},{\"args\":[{\"visible\":[true,true,true,false,false,false,true,true]},{\"title\":\"titleAAPL\"}],\"label\":\"AAPL\",\"method\":\"update\"},{\"args\":[{\"visible\":[false,false,false,true,true,true,true,true]},{\"title\":\"titleMSFT\"}],\"label\":\"MSFT\",\"method\":\"update\"}]}]},                        {\"responsive\": true}                    ).then(function(){\n",
       "                            \n",
       "var gd = document.getElementById('5fefac4d-c35b-4aa0-b5c2-5b27c3f67350');\n",
       "var x = new MutationObserver(function (mutations, observer) {{\n",
       "        var display = window.getComputedStyle(gd).display;\n",
       "        if (!display || display === 'none') {{\n",
       "            console.log([gd, 'removed!']);\n",
       "            Plotly.purge(gd);\n",
       "            observer.disconnect();\n",
       "        }}\n",
       "}});\n",
       "\n",
       "// Listen for the removal of the full notebook cells\n",
       "var notebookContainer = gd.closest('#notebook-container');\n",
       "if (notebookContainer) {{\n",
       "    x.observe(notebookContainer, {childList: true});\n",
       "}}\n",
       "\n",
       "// Listen for the clearing of the current output cell\n",
       "var outputEl = gd.closest('.output');\n",
       "if (outputEl) {{\n",
       "    x.observe(outputEl, {childList: true});\n",
       "}}\n",
       "\n",
       "                        })                };            </script>        </div>"
      ]
     },
     "metadata": {},
     "output_type": "display_data"
    }
   ],
   "source": [
    "from plotly.offline import download_plotlyjs, init_notebook_mode, plot, iplot\n",
    "import plotly.graph_objs as go\n",
    "import pandas as pd\n",
    "init_notebook_mode(connected=True)\n",
    "\n",
    "feed = pd.DataFrame({'AAPL': [100, 120, 130, 120, 150],\n",
    "                     'MSFT': [80, 70, 90, 100, 99]}, index = pd.date_range('2018-01-01', '2018-01-05'))\n",
    "\n",
    "trans = pd.DataFrame({'Symbol': ['AAPL', 'AAPL', 'MSFT', 'MSFT'],\n",
    "                        'Amount': [2, 1, 3, 1],\n",
    "                        'Action': ['buy', 'sell', 'buy', 'sell'],\n",
    "                        'Price': [120, 150, 70, 100],\n",
    "                        'Date': [pd.to_datetime(i) for i in ['2018-01-02', '2018-01-05', '2018-01-02', '2018-01-04']]\n",
    "                       })\n",
    "\n",
    "data = []\n",
    "\n",
    "# Add \"All\" button\n",
    "all_but = dict(label = 'All',\n",
    "               method = 'update',\n",
    "                  args = [{'visible': [True]},\n",
    "                          {'title': 'all'}\n",
    "                           ])\n",
    "\n",
    "buttonlist = [all_but]\n",
    "for i, col in enumerate(feed.columns.tolist()):\n",
    "    stock = go.Scatter(x=feed.index,\n",
    "                       y=feed.loc[:, col],\n",
    "                       name=col,\n",
    "                       legendgroup='stock'\n",
    "                      )\n",
    "    # actions\n",
    "    success = trans.loc[trans.Symbol == col]\n",
    "    \n",
    "    # Buy\n",
    "    success_buy = success[success.Action == 'buy']\n",
    "    action_buy = go.Scatter(x=success_buy.Date,\n",
    "                         y=success_buy.Price,\n",
    "                         name='Buy',\n",
    "                         mode = 'markers',\n",
    "                         text = ['Amount ' + str(amount) for amount in success_buy.Amount],\n",
    "                         hoverinfo = 'text',\n",
    "                         showlegend=False,\n",
    "                         marker = dict(\n",
    "                             size=10,\n",
    "                             color = 'green'\n",
    "                         ),\n",
    "                         legendgroup='Buy',\n",
    "                        )\n",
    "    \n",
    "    # Sell\n",
    "    success_sell = success[success.Action == 'sell']\n",
    "    action_sell = go.Scatter(x=success_sell.Date,\n",
    "                         y=success_sell.Price,\n",
    "                         name='Sell',\n",
    "                         mode = 'markers',\n",
    "                         text = ['Amount ' + str(amount) for amount in success_sell.Amount],\n",
    "                         hoverinfo = 'text',\n",
    "                         showlegend=False,\n",
    "                         marker = dict(\n",
    "                             size=10,\n",
    "                             color = 'red'\n",
    "                         ),\n",
    "                         legendgroup='Sell',\n",
    "                        )\n",
    "    data.append(stock)\n",
    "    data.append(action_buy)\n",
    "    data.append(action_sell)\n",
    "    button = dict(label = col,\n",
    "                  method = 'update',\n",
    "                  args = [{'visible': [col == i for i in feed.columns.tolist() for _ in range(3)] + [True, True]},\n",
    "                          {'title': 'title' + col}\n",
    "                           ])\n",
    "    buttonlist.append(button)\n",
    "\n",
    "# Add single buy and sell traces for legend\n",
    "data.append(go.Scatter(x=[None], y=[None], mode='markers',\n",
    "                       marker=dict(size=10, color='green'),\n",
    "                       legendgroup='Buy', showlegend=True, name='Buy'))\n",
    "\n",
    "data.append(go.Scatter(x=[None], y=[None], mode='markers',\n",
    "                       marker=dict(size=10, color='red'),\n",
    "                       legendgroup='Sell', showlegend=True, name='Sell'))\n",
    "    \n",
    "updatemenus = list([\n",
    "    dict(active=-1,\n",
    "         buttons=buttonlist,\n",
    "    )\n",
    "])\n",
    "layout = dict(title='Feed', showlegend=True,\n",
    "              updatemenus=updatemenus)\n",
    "\n",
    "fig = dict(data=data, layout=layout)\n",
    "iplot(fig)"
   ]
  },
  {
   "cell_type": "markdown",
   "id": "d49ae9e7-ff25-489e-b4ac-48a81f2d13e8",
   "metadata": {},
   "source": [
    "---"
   ]
  }
 ],
 "metadata": {
  "kernelspec": {
   "display_name": "Python 3 (ipykernel)",
   "language": "python",
   "name": "python3"
  },
  "language_info": {
   "codemirror_mode": {
    "name": "ipython",
    "version": 3
   },
   "file_extension": ".py",
   "mimetype": "text/x-python",
   "name": "python",
   "nbconvert_exporter": "python",
   "pygments_lexer": "ipython3",
   "version": "3.10.10"
  }
 },
 "nbformat": 4,
 "nbformat_minor": 5
}
